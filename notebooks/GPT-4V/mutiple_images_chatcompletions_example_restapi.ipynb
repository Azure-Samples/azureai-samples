{
 "cells": [
  {
   "cell_type": "markdown",
   "id": "759f9ec0",
   "metadata": {},
   "source": [
    "<h1 align =\"center\"> REST API Mutiple Image Samples</h1>\n",
    "<hr>\n",
    "   \n",
    "# Chat Completions"
   ]
  },
  {
   "cell_type": "code",
   "execution_count": null,
   "id": "f4b3d21a",
   "metadata": {},
   "outputs": [],
   "source": [
    "import base64\n",
    "from IPython.display import Image, display\n",
    "from pathlib import Path\n",
    "from shared_functions import call_GPT4V_image"
   ]
  },
  {
   "cell_type": "code",
   "execution_count": null,
   "id": "aef62557",
   "metadata": {},
   "outputs": [],
   "source": [
    "# Defect Detector\n",
    "reference_image_file_path = \"images/DefectDetectorReference.jpg\"\n",
    "with Path(reference_image_file_path).open(\"rb\") as image_file:\n",
    "    encoded_reference_image = base64.b64encode(image_file.read()).decode(\"utf-8\")\n",
    "\n",
    "test_image_file_path = \"images/DefectDetectorTest.jpg\"\n",
    "with Path(test_image_file_path).open(\"rb\") as image_file:\n",
    "    encoded_test_image = base64.b64encode(image_file.read()).decode(\"utf-8\")\n",
    "\n",
    "sys_message = \"\"\"\n",
    "You're a professional defect detector.\n",
    "Your job is to compare the test image with reference image, please answer the question with \"No defect detected\" or \"Defect detected\", \n",
    "also explain your decision as detail as possible.\"\n",
    "\"\"\"\n",
    "\n",
    "messages = [\n",
    "    {\"role\": \"system\", \"content\": [{\"type\": \"text\", \"text\": sys_message}]},\n",
    "    {\n",
    "        \"role\": \"user\",\n",
    "        \"content\": [\n",
    "            {\n",
    "                \"type\": \"text\",\n",
    "                \"text\": \"Here is the reference image\",  # Pass the prompt\n",
    "            },\n",
    "            {\n",
    "                \"type\": \"image_url\",\n",
    "                \"image_url\": {\n",
    "                    \"url\": f\"data:image/jpeg;base64,{encoded_reference_image}\"  # Pass the encoded reference image\n",
    "                },\n",
    "            },\n",
    "            {\n",
    "                \"type\": \"text\",\n",
    "                \"text\": \"Here is the test image\",  # Pass the prompt\n",
    "            },\n",
    "            {\n",
    "                \"type\": \"image_url\",\n",
    "                \"image_url\": {\"url\": f\"data:image/jpeg;base64,{encoded_test_image}\"},  # Pass the encoded test image\n",
    "            },\n",
    "        ],\n",
    "    },\n",
    "]\n",
    "\n",
    "try:\n",
    "    response_content = call_GPT4V_image(messages)\n",
    "    print(\"Reference image:\")\n",
    "    display(Image(reference_image_file_path))\n",
    "    print(\"Test image:\")\n",
    "    display(Image(test_image_file_path))\n",
    "    print(response_content[\"choices\"][0][\"message\"][\"content\"])  # Print the content of the response\n",
    "except Exception as e:\n",
    "    print(f\"Failed to call GPT-4V API. Error: {e}\")"
   ]
  }
 ],
 "metadata": {
  "kernelspec": {
   "display_name": "Python 3 (ipykernel)",
   "language": "python",
   "name": "python3"
  },
  "language_info": {
   "codemirror_mode": {
    "name": "ipython",
    "version": 3
   },
   "file_extension": ".py",
   "mimetype": "text/x-python",
   "name": "python",
   "nbconvert_exporter": "python",
   "pygments_lexer": "ipython3"
  }
 },
 "nbformat": 4,
 "nbformat_minor": 5
}
