{
 "cells": [
  {
   "cell_type": "markdown",
   "metadata": {},
   "source": [
    "# Assistants function calling with Bing Search\n",
    "In this notebook, we'll show how you can use the [Bing Search APIs](https://www.microsoft.com/bing/apis/llm) and [function calling](https://learn.microsoft.com/azure/ai-services/openai/how-to/function-calling?tabs=python) to ground Azure OpenAI models on data from the web. This is a great way to give the model access to up to date data from the web.\n",
    "\n",
    "You'll need to create a [Bing Search resouce](https://learn.microsoft.com/en-us/bing/search-apis/bing-web-search/create-bing-search-service-resource) before you begin."
   ]
  },
  {
   "cell_type": "markdown",
   "metadata": {},
   "source": [
    "### Time\n",
    "\n",
    "You should expect to spend 10 minutes running this sample."
   ]
  },
  {
   "cell_type": "markdown",
   "metadata": {},
   "source": [
    "### Before you begin\n",
    "#### Installation\n",
    "The following packages are required to execute this notebook."
   ]
  },
  {
   "cell_type": "code",
   "execution_count": 40,
   "metadata": {},
   "outputs": [
    {
     "name": "stdout",
     "output_type": "stream",
     "text": [
      "Requirement already satisfied: requests in c:\\users\\hakesava\\appdata\\local\\anaconda3\\envs\\trial\\lib\\site-packages (2.31.0)\n",
      "Requirement already satisfied: openai in c:\\users\\hakesava\\appdata\\local\\anaconda3\\envs\\trial\\lib\\site-packages (1.10.0)\n",
      "Requirement already satisfied: charset-normalizer<4,>=2 in c:\\users\\hakesava\\appdata\\local\\anaconda3\\envs\\trial\\lib\\site-packages (from requests) (3.3.2)\n",
      "Requirement already satisfied: idna<4,>=2.5 in c:\\users\\hakesava\\appdata\\local\\anaconda3\\envs\\trial\\lib\\site-packages (from requests) (3.6)\n",
      "Requirement already satisfied: urllib3<3,>=1.21.1 in c:\\users\\hakesava\\appdata\\local\\anaconda3\\envs\\trial\\lib\\site-packages (from requests) (2.2.0)\n",
      "Requirement already satisfied: certifi>=2017.4.17 in c:\\users\\hakesava\\appdata\\local\\anaconda3\\envs\\trial\\lib\\site-packages (from requests) (2023.11.17)\n",
      "Requirement already satisfied: anyio<5,>=3.5.0 in c:\\users\\hakesava\\appdata\\local\\anaconda3\\envs\\trial\\lib\\site-packages (from openai) (4.2.0)\n",
      "Requirement already satisfied: distro<2,>=1.7.0 in c:\\users\\hakesava\\appdata\\local\\anaconda3\\envs\\trial\\lib\\site-packages (from openai) (1.9.0)\n",
      "Requirement already satisfied: httpx<1,>=0.23.0 in c:\\users\\hakesava\\appdata\\local\\anaconda3\\envs\\trial\\lib\\site-packages (from openai) (0.26.0)\n",
      "Requirement already satisfied: pydantic<3,>=1.9.0 in c:\\users\\hakesava\\appdata\\local\\anaconda3\\envs\\trial\\lib\\site-packages (from openai) (2.6.0)\n",
      "Requirement already satisfied: sniffio in c:\\users\\hakesava\\appdata\\local\\anaconda3\\envs\\trial\\lib\\site-packages (from openai) (1.3.0)\n",
      "Requirement already satisfied: tqdm>4 in c:\\users\\hakesava\\appdata\\local\\anaconda3\\envs\\trial\\lib\\site-packages (from openai) (4.66.1)\n",
      "Requirement already satisfied: typing-extensions<5,>=4.7 in c:\\users\\hakesava\\appdata\\local\\anaconda3\\envs\\trial\\lib\\site-packages (from openai) (4.9.0)\n",
      "Requirement already satisfied: httpcore==1.* in c:\\users\\hakesava\\appdata\\local\\anaconda3\\envs\\trial\\lib\\site-packages (from httpx<1,>=0.23.0->openai) (1.0.2)\n",
      "Requirement already satisfied: h11<0.15,>=0.13 in c:\\users\\hakesava\\appdata\\local\\anaconda3\\envs\\trial\\lib\\site-packages (from httpcore==1.*->httpx<1,>=0.23.0->openai) (0.14.0)\n",
      "Requirement already satisfied: annotated-types>=0.4.0 in c:\\users\\hakesava\\appdata\\local\\anaconda3\\envs\\trial\\lib\\site-packages (from pydantic<3,>=1.9.0->openai) (0.6.0)\n",
      "Requirement already satisfied: pydantic-core==2.16.1 in c:\\users\\hakesava\\appdata\\local\\anaconda3\\envs\\trial\\lib\\site-packages (from pydantic<3,>=1.9.0->openai) (2.16.1)\n",
      "Requirement already satisfied: colorama in c:\\users\\hakesava\\appdata\\local\\anaconda3\\envs\\trial\\lib\\site-packages (from tqdm>4->openai) (0.4.6)\n",
      "Note: you may need to restart the kernel to use updated packages.\n"
     ]
    }
   ],
   "source": [
    "#Install the packages\\\n",
    "%pip install requests openai"
   ]
  },
  {
   "cell_type": "markdown",
   "metadata": {},
   "source": [
    "### Resource config setup\n",
    "Update the following config to include details of your Azure OpenAI and Bing Search resources"
   ]
  },
  {
   "cell_type": "code",
   "execution_count": 41,
   "metadata": {},
   "outputs": [],
   "source": [
    "config = {\n",
    "    \"DEPLOYMENT_NAME\":\"<DEPLOYMENT_NAME>\",\n",
    "    \"AOAI_API_BASE\":\"https://<YOUR_RESOURCE_NAME>.openai.azure.com\",\n",
    "    \"AOAI_API_VERSION\":\"2024-02-15-preview\",\n",
    "\n",
    "    \"AOAI_API_KEY\":\"<AOAI_RESOURCE_API_KEY>\",\n",
    "    \"BING_SEARCH_SUBSCRIPTION_KEY\": \"<BING_SEARCH_SUBSCRIPTION_KEY>\"\n",
    "}"
   ]
  },
  {
   "cell_type": "code",
   "execution_count": 42,
   "metadata": {},
   "outputs": [],
   "source": [
    "import requests\n",
    "import json\n",
    "import time \n",
    "\n",
    "from openai import AzureOpenAI\n",
    "\n",
    "azure_endpoint = config[\"AOAI_API_BASE\"]\n",
    "api_version = config[\"AOAI_API_VERSION\"]\n",
    "aoai_api_key= config[\"AOAI_API_KEY\"] \n",
    "deployment_name = config['DEPLOYMENT_NAME']  \n",
    "\n",
    "bing_search_subscription_key = config['BING_SEARCH_SUBSCRIPTION_KEY']\n",
    "bing_search_url = \"https://api.bing.microsoft.com/v7.0/search\""
   ]
  },
  {
   "cell_type": "markdown",
   "metadata": {},
   "source": [
    "### Define a function to call the Bing Search APIs\n",
    "To learn more about using the Bing Search APIs with Azure OpenAI, see [Bing Search APIs, with your LLM](https://learn.microsoft.com/bing/search-apis/bing-web-search/use-display-requirements-llm)."
   ]
  },
  {
   "cell_type": "code",
   "execution_count": 43,
   "metadata": {},
   "outputs": [],
   "source": [
    "def search(query):\n",
    "    headers = {\"Ocp-Apim-Subscription-Key\": bing_search_subscription_key}\n",
    "    params = {\"q\": query, \"textDecorations\": False }\n",
    "    response = requests.get(bing_search_url, headers=headers, params=params)\n",
    "    response.raise_for_status()\n",
    "    search_results = response.json()\n",
    "\n",
    "    output = []\n",
    "\n",
    "    for result in search_results['webPages']['value']:\n",
    "        output.append({\n",
    "            'title': result['name'],\n",
    "            'link': result['url'],\n",
    "            'snippet': result['snippet']\n",
    "        })\n",
    "\n",
    "    return json.dumps(output)"
   ]
  },
  {
   "cell_type": "code",
   "execution_count": 44,
   "metadata": {},
   "outputs": [
    {
     "data": {
      "text/plain": [
       "'[{\"title\": \"2032 Summer Olympics - Wikipedia\", \"link\": \"https://en.wikipedia.org/wiki/2032_Summer_Olympics\", \"snippet\": \"The 2032 Summer Olympics, officially known as the Games of the XXXV Olympiad and also known as Brisbane 2032 is an upcoming international multi-sport event scheduled to take place between 23 July to 8 August 2032, in Brisbane, Queensland, Australia. [1]\"}, {\"title\": \"Brisbane 2032 Summer Olympics - Olympic Games, Medals, Results & Latest ...\", \"link\": \"https://olympics.com/en/olympic-games/brisbane-2032\", \"snippet\": \"Brisbane 2032 23 July - 8 August 3103 days Australia Official website Brisbane 2032 Annual Report 2022-23 Brisbane 2032 | Olympic Games Countdown Begins: Brisbane Celebrates Nine-Year Mark to 2032 Summer Olympics Brisbane 2032 | Olympic Games 01:01 Brisbane 2032 Olympics Marks Nine-Year Milestone with Grand Celebrations\"}, {\"title\": \"Brisbane 2032 Olympic venues announced | Austadiums\", \"link\": \"https://www.austadiums.com/news/921/brisbane-2032-olympic-games-venues-revealed\", \"snippet\": \"The Brisbane 2032 Masterplan includes 32 venues within South-East Queensland for the 28 Olympic sports, located in three primary zones. Not only will Brisbane\\\\u2019s Olympics expand to the entire south-east Queensland, football will also be played in North Queensland as well as Sydney and Melbourne.\"}, {\"title\": \"The Next Olympics Location: Every Host City Through 2032 | TIME\", \"link\": \"https://time.com/5063566/next-olympics-location/\", \"snippet\": \"Mountain events will take place at two locations about 50 and 100 miles outside of Beijing, with natural snowfall topping out at one of them at only five centimeters on average. 2024 Summer...\"}, {\"title\": \"Venues of the 2032 Summer Olympics and Paralympics - Wikipedia\", \"link\": \"https://en.wikipedia.org/wiki/Venues_of_the_2032_Summer_Olympics_and_Paralympics\", \"snippet\": \"Sporting venues The Gabba Brisbane Convention & Exhibition Centre South Bank Piazza Anna Meares Velodrome Sleeman BMX SuperCross Track Brisbane Aquatics Centre Barrambin / Victoria Park Brisbane Showgrounds Brisbane Entertainment Centre Brisbane Stadium Manly Boat Harbour Queensland Tennis Centre Wyaralong Flatwater Centre\"}, {\"title\": \"Brisbane 2032\", \"link\": \"https://olympics.com/ioc/brisbane-2032\", \"snippet\": \"Discover what goes into hosting the largest sporting celebration \\\\u2013 the Olympic Games. Find the latest news, host elections, Olympic legacy and more. ... Brisbane celebrates nine-year mark to Olympic Games 2032. 25 Jul 2023. Brisbane 2032. Olympic rings debut in Queensland as Brisbane 2032 marks nine years to go. 21 Jul 2023.\"}, {\"title\": \"BBC Sport - BBC - Homepage\", \"link\": \"https://www.bbc.com/sport/olympics/57912026\", \"snippet\": \"The decision means the IOC has now secured hosts for the next three Summer Games with Paris in France staging the 2024 Games and Los Angeles in the United States to host the 2028 Olympics and ...\"}, {\"title\": \"Brisbane announced as 2032 Olympic Games host city at IOC meeting in ...\", \"link\": \"https://www.abc.net.au/news/2021-07-21/brisbane-queensland-announced-as-2032-olympic-games-host-city/100311320\", \"snippet\": \"IOC president Thomas Bach confirms Brisbane will host the 2032 Olympic and Paralympic Games abc.net.au/news/brisbane-queensland-announced-as-2032-olympic-games-host-city/100311320 Brisbane has won the right to host the Olympic and Paralympic Games in 2032. Key points: IOC delegates voted 72 to five in favour of Brisbane hosting the 2032 Games\"}, {\"title\": \"Brisbane 2032 uniquely positioned to deliver the next generation of ...\", \"link\": \"https://olympics.com/ioc/news/brisbane-2032-positioned-to-deliver-the-next-olympic-and-paralympic-games\", \"snippet\": \"The Olympic Games Brisbane 2032 are scheduled to take place between 23 July and 8 August, with the Paralympic Games to be held between 24 August and 5 September. The International Olympic Committee is a not-for-profit, civil, non-governmental, international organisation made up of volunteers which is committed to building a better world through ...\"}]'"
      ]
     },
     "execution_count": 44,
     "metadata": {},
     "output_type": "execute_result"
    }
   ],
   "source": [
    "search(\"where will the 2032 olympics be held?\")"
   ]
  },
  {
   "cell_type": "markdown",
   "metadata": {},
   "source": [
    "### Get things running end to end\n",
    "In the following cells, we will define some functions essential for assistants with function calling. All these functions come together in our final cell, where we will define a new web search assistant, give it instructions on its functionality and ask a question."
   ]
  },
  {
   "cell_type": "code",
   "execution_count": 45,
   "metadata": {},
   "outputs": [],
   "source": [
    "def poll_run_till_completion(client, thread_id, run_id, available_functions, max_steps=10, wait=3, verbose=True):\n",
    "    '''\n",
    "    Poll a run until it is completed or failed or exceeds a certain number of iterations (MAX_STEPS)\n",
    "    with a preset wait in between polls\n",
    "    \n",
    "    @param client: OpenAI client\n",
    "    @param thread_id: Thread ID\n",
    "    @param run_id: Run ID\n",
    "    @param assistant_id: Assistant ID\n",
    "    @param max_steps: Maximum number of steps to poll\n",
    "    @param wait: Wait time in seconds between polls\n",
    "    @param verbose: Print verbose output\n",
    "    @return: Run object\n",
    "\n",
    "    '''\n",
    "    \n",
    "    if client is None and thread_id is None or run_id is None:\n",
    "        print(\"Client, Thread ID and Run ID are required.\")\n",
    "        return None\n",
    "    try:\n",
    "        cnt = 0\n",
    "        while cnt < max_steps:\n",
    "            run = client.beta.threads.runs.retrieve(thread_id=thread_id, run_id=run_id)\n",
    "            print(\"Poll {}: {}\".format(cnt, run.status))\n",
    "            cnt += 1\n",
    "            if run.status == \"requires_action\":\n",
    "                tool_responses = []\n",
    "                if run.required_action.type == \"submit_tool_outputs\" and run.required_action.submit_tool_outputs.tool_calls is not None:\n",
    "                    tool_calls = run.required_action.submit_tool_outputs.tool_calls\n",
    "\n",
    "                    for call in tool_calls:\n",
    "                        if call.type == \"function\":\n",
    "                            if call.function.name not in available_functions:\n",
    "                                raise Exception(\"Function requested by the model does not exist\")\n",
    "                            function_to_call = available_functions[call.function.name]\n",
    "                            tool_response = function_to_call(**json.loads(call.function.arguments))\n",
    "                            tool_responses.append({\n",
    "                                \"tool_call_id\": call.id,\n",
    "                                \"output\": tool_response\n",
    "                            })\n",
    "\n",
    "                run = client.beta.threads.runs.submit_tool_outputs(\n",
    "                    thread_id=thread_id,\n",
    "                    run_id=run.id,\n",
    "                    tool_outputs=tool_responses\n",
    "                )\n",
    "            if run.status == \"failed\":\n",
    "                print(\"Run failed.\")\n",
    "                break\n",
    "            if run.status == \"completed\":\n",
    "                break\n",
    "            time.sleep(wait)\n",
    "\n",
    "        return run\n",
    "    except Exception as e:\n",
    "        print(e)\n",
    "        return None"
   ]
  },
  {
   "cell_type": "code",
   "execution_count": 46,
   "metadata": {},
   "outputs": [],
   "source": [
    "def create_message(client=None,\n",
    "                   thread_id=None,\n",
    "                   role=\"\",\n",
    "                   content=\"\",\n",
    "                   file_ids=[],\n",
    "                   metadata={},\n",
    "                   message_id=None):\n",
    "    '''\n",
    "    Create a message in a thread using the client.\n",
    "\n",
    "    @param client: OpenAI client\n",
    "    @param thread_id: Thread ID\n",
    "    @param role: Message role (user or assistant)\n",
    "    @param content: Message content\n",
    "    @param file_ids: Message file IDs\n",
    "    @param metadata: Message metadata\n",
    "    @param message_id: Message ID\n",
    "    @return: Message object\n",
    "\n",
    "    '''\n",
    "    if client is None:\n",
    "        print(\"Client parameter is required.\")\n",
    "        return None\n",
    "    try:\n",
    "        if thread_id is not None:\n",
    "            if message_id is not None:\n",
    "                return client.beta.threads.messages.retrieve(thread_id=thread_id, message_id=message_id)\n",
    "            else:\n",
    "                if file_ids is not None and len(file_ids) > 0:\n",
    "                    return client.beta.threads.messages.create(thread_id=thread_id, role=role, content=content, file_ids=file_ids)\n",
    "                elif metadata is not None and len(metadata) > 0:\n",
    "                    return client.beta.threads.messages.create(thread_id=thread_id, role=role, content=content, metadata=metadata)\n",
    "                elif file_ids is not None and len(file_ids) > 0 and metadata is not None and len(metadata) > 0:\n",
    "                    return client.beta.threads.messages.create(thread_id=thread_id, role=role, content=content, file_ids=file_ids, metadata=metadata)\n",
    "\n",
    "                return client.beta.threads.messages.create(thread_id=thread_id, role=role, content=content)\n",
    "        else:\n",
    "            print(\"Thread ID is required.\")\n",
    "            return None\n",
    "    except Exception as e:\n",
    "        print(e)\n",
    "        return None"
   ]
  },
  {
   "cell_type": "code",
   "execution_count": 47,
   "metadata": {},
   "outputs": [],
   "source": [
    "def retrieve_and_print_messages(client, thread_id, out_dir=None, verbose=True):\n",
    "    '''\n",
    "    Retrieve a list of messages in a thread and print it out with the query and response\n",
    "\n",
    "    @param client: OpenAI client\n",
    "    @param thread_id: Thread ID\n",
    "    @param out_dir: Output directory to save images\n",
    "    @return: Messages object\n",
    "\n",
    "    '''\n",
    "\n",
    "    if client is None and thread_id is None:\n",
    "        print(\"Client and Thread ID are required.\")\n",
    "        return None\n",
    "    try:\n",
    "        messages = client.beta.threads.messages.list(thread_id=thread_id)\n",
    "        display_role = {'user': 'User query', 'assistant': 'Assistant response'}\n",
    "\n",
    "        prev_role = None\n",
    "        print(\"\\n\\nCONVERSATION:\")\n",
    "        for md in reversed(messages.data):\n",
    "            if prev_role == 'assistant' and md.role == 'user' and verbose:\n",
    "                print(\"------ \\n\")\n",
    "\n",
    "            for mc in md.content:\n",
    "                # Check if valid text field is present in the mc object\n",
    "                if mc.type == 'text':\n",
    "                    txt_val = mc.text.value\n",
    "                # Check if valid image field is present in the mc object\n",
    "                elif mc.type == 'image_file':\n",
    "                    image_data = client.files.content(mc.image_file.file_id)\n",
    "\n",
    "                    if out_dir is not None and os.path.exists(out_dir):\n",
    "                        with open(os.path.join(out_dir, mc.image_file.file_id+\".png\"), \"wb\") as f:\n",
    "                            f.write(image_data.read()) \n",
    "                \n",
    "                if verbose:\n",
    "                    if prev_role == md.role:\n",
    "                        print(txt_val)\n",
    "                    else:\n",
    "                        print(\"{}:\\n{}\".format(display_role[md.role], txt_val))\n",
    "            prev_role = md.role\n",
    "        return messages\n",
    "    except Exception as e:\n",
    "        print(e)\n",
    "        return None"
   ]
  },
  {
   "cell_type": "code",
   "execution_count": 48,
   "metadata": {},
   "outputs": [
    {
     "name": "stdout",
     "output_type": "stream",
     "text": [
      "Poll 0: queued\n",
      "Poll 1: requires_action\n",
      "Poll 2: completed\n",
      "\n",
      "\n",
      "CONVERSATION:\n",
      "User query:\n",
      "How tall is mount rainier?\n",
      "Assistant response:\n",
      "Mount Rainier is 14,410 feet (4,392 meters) tall.\n"
     ]
    }
   ],
   "source": [
    "name = \"websearch-assistant\"\n",
    "instructions = \"\"\"You are an assistant designed to help people answer questions.\n",
    "\n",
    "You have access to query the web using Bing Search. You should call bing search whenever a question requires up to date information or could benefit from web data.\n",
    "\"\"\"\n",
    "\n",
    "message = {\"role\": \"user\", \"content\": \"How tall is mount rainier?\"}\n",
    "\n",
    "                \n",
    "tools = [  \n",
    "    {\n",
    "        \"type\": \"function\",\n",
    "        \"function\" :\n",
    "        {\n",
    "            \"name\": \"search_bing\",\n",
    "            \"description\": \"Searches bing to get up-to-date information from the web.\",\n",
    "            \"parameters\": {\n",
    "                \"type\": \"object\",\n",
    "                \"properties\": {\n",
    "                    \"query\": {\n",
    "                        \"type\": \"string\",\n",
    "                        \"description\": \"The search query\",\n",
    "                    }\n",
    "                },\n",
    "                \"required\": [\"query\"],\n",
    "            }\n",
    "        }\n",
    "    }\n",
    "]\n",
    "\n",
    "available_functions = {'search_bing': search}\n",
    "\n",
    "client = AzureOpenAI(api_key=aoai_api_key, api_version=api_version, azure_endpoint=azure_endpoint)\n",
    "\n",
    "assistant = client.beta.assistants.create(\n",
    "                name=name,\n",
    "                description=\"\",\n",
    "                instructions=instructions,\n",
    "                tools=tools,\n",
    "                model=deployment_name\n",
    "            )\n",
    "\n",
    "thread = client.beta.threads.create()\n",
    "create_message(client, thread.id, message[\"role\"], message[\"content\"])\n",
    "\n",
    "\n",
    "run = client.beta.threads.runs.create(thread_id=thread.id, assistant_id=assistant.id, instructions=instructions)\n",
    "poll_run_till_completion(client, thread.id, run.id, available_functions)\n",
    "messages = retrieve_and_print_messages(client, thread.id)\n",
    "\n"
   ]
  }
 ],
 "metadata": {
  "kernelspec": {
   "display_name": "base",
   "language": "python",
   "name": "python3"
  },
  "language_info": {
   "codemirror_mode": {
    "name": "ipython",
    "version": 3
   },
   "file_extension": ".py",
   "mimetype": "text/x-python",
   "name": "python",
   "nbconvert_exporter": "python",
   "pygments_lexer": "ipython3",
   "version": "3.11.0"
  }
 },
 "nbformat": 4,
 "nbformat_minor": 2
}
