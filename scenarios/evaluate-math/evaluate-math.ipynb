{
 "cells": [
  {
   "cell_type": "markdown",
   "metadata": {},
   "source": [
    "# Evaluate with math evaluators\n",
    "\n",
    "## Objective\n",
    "This notebook demonstrates how to use math-based evaluators to assess the quality of generated text by comparing it to reference text. By the end of this tutorial, you'll be able to:\n",
    " - Understand different math evaluators such as `BleuScoreEvaluator`, `GleuScoreEvaluator`, `MeteorScoreEvaluator`, and `RougeScoreEvaluator`.\n",
    " - Evaluate dataset using these evaluators.\n",
    "\n",
    "## Time\n",
    "You should expect to spend about 10 minutes running this notebook.\n",
    "\n",
    "## Before you begin\n",
    "\n",
    "### Installation\n",
    "Install the following packages required to execute this notebook."
   ]
  },
  {
   "cell_type": "code",
   "execution_count": null,
   "metadata": {},
   "outputs": [],
   "source": [
    "# Install the packages\n",
    "%pip install azure-ai-evaluation"
   ]
  },
  {
   "cell_type": "markdown",
   "metadata": {},
   "source": [
    "Set the following environment variables for use in this notebook:"
   ]
  },
  {
   "cell_type": "code",
   "execution_count": 1,
   "metadata": {},
   "outputs": [],
   "source": [
    "import os\n",
    "\n",
    "os.environ[\"AZURE_SUBSCRIPTION_ID\"] = \"\"\n",
    "os.environ[\"AZURE_RESOURCE_GROUP\"] = \"\"\n",
    "os.environ[\"AZURE_PROJECT_NAME\"] = \"\""
   ]
  },
  {
   "cell_type": "markdown",
   "metadata": {},
   "source": [
    "## Math Evaluators"
   ]
  },
  {
   "cell_type": "markdown",
   "metadata": {},
   "source": [
    "### BleuScoreEvaluator\n",
    "\n",
    "BLEU (Bilingual Evaluation Understudy) score is commonly used in natural language processing (NLP) and machine\n",
    "translation. It is widely used in text summarization and text generation use cases. It evaluates how closely the\n",
    "generated text matches the reference text. The BLEU score ranges from 0 to 1, with higher scores indicating\n",
    "better quality."
   ]
  },
  {
   "cell_type": "code",
   "execution_count": 1,
   "metadata": {},
   "outputs": [
    {
     "name": "stderr",
     "output_type": "stream",
     "text": [
      "[2024-09-23 12:35:33 -0700][promptflow][DEBUG] - preparing home directory with default value.\n"
     ]
    }
   ],
   "source": [
    "from azure.ai.evaluation import BleuScoreEvaluator\n",
    "\n",
    "bleu = BleuScoreEvaluator()"
   ]
  },
  {
   "cell_type": "code",
   "execution_count": null,
   "metadata": {},
   "outputs": [],
   "source": [
    "result = bleu(\n",
    "    response=\"Tokyo is the capital of Japan.\",\n",
    "    ground_truth=\"The capital of Japan is Tokyo.\")\n",
    "\n",
    "print(result)"
   ]
  },
  {
   "cell_type": "markdown",
   "metadata": {},
   "source": [
    "### GleuScoreEvaluator\n",
    "\n",
    "The GLEU (Google-BLEU) score evaluator measures the similarity between generated and reference texts by\n",
    "evaluating n-gram overlap, considering both precision and recall. This balanced evaluation, designed for\n",
    "sentence-level assessment, makes it ideal for detailed analysis of translation quality. GLEU is well-suited for\n",
    "use cases such as machine translation, text summarization, and text generation."
   ]
  },
  {
   "cell_type": "code",
   "execution_count": 2,
   "metadata": {},
   "outputs": [],
   "source": [
    "from azure.ai.evaluation import GleuScoreEvaluator\n",
    "\n",
    "gleu = GleuScoreEvaluator()"
   ]
  },
  {
   "cell_type": "code",
   "execution_count": null,
   "metadata": {},
   "outputs": [],
   "source": [
    "result = gleu(\n",
    "    response=\"Tokyo is the capital of Japan.\",\n",
    "    ground_truth=\"The capital of Japan is Tokyo.\")\n",
    "\n",
    "print(result)"
   ]
  },
  {
   "cell_type": "markdown",
   "metadata": {},
   "source": [
    "### MeteorScoreEvaluator\n",
    "\n",
    "The METEOR (Metric for Evaluation of Translation with Explicit Ordering) score grader evaluates generated text by\n",
    "comparing it to reference texts, focusing on precision, recall, and content alignment. It addresses limitations of\n",
    "other metrics like BLEU by considering synonyms, stemming, and paraphrasing. METEOR score considers synonyms and\n",
    "word stems to more accurately capture meaning and language variations. In addition to machine translation and\n",
    "text summarization, paraphrase detection is an optimal use case for the METEOR score."
   ]
  },
  {
   "cell_type": "code",
   "execution_count": 3,
   "metadata": {},
   "outputs": [],
   "source": [
    "from azure.ai.evaluation import MeteorScoreEvaluator\n",
    "\n",
    "meteor = MeteorScoreEvaluator(\n",
    "    alpha=0.9,\n",
    "    beta=3.0,\n",
    "    gamma=0.5\n",
    ")"
   ]
  },
  {
   "cell_type": "code",
   "execution_count": null,
   "metadata": {},
   "outputs": [],
   "source": [
    "result = meteor(\n",
    "    response=\"Tokyo is the capital of Japan.\",\n",
    "    ground_truth=\"The capital of Japan is Tokyo.\")\n",
    "\n",
    "print(result)"
   ]
  },
  {
   "cell_type": "markdown",
   "metadata": {},
   "source": [
    "### RougeScoreEvaluator\n",
    "\n",
    "ROUGE (Recall-Oriented Understudy for Gisting Evaluation) is a set of metrics used to evaluate automatic\n",
    "summarization and machine translation. It measures the overlap between generated text and reference summaries.\n",
    "ROUGE focuses on recall-oriented measures to assess how well the generated text covers the reference text. Text\n",
    "summarization and document comparison are among optimal use cases for ROUGE, particularly in scenarios where text\n",
    "coherence and relevance are critical.\n"
   ]
  },
  {
   "cell_type": "code",
   "execution_count": 4,
   "metadata": {},
   "outputs": [],
   "source": [
    "from azure.ai.evaluation import RougeScoreEvaluator, RougeType\n",
    "\n",
    "rouge = RougeScoreEvaluator(rouge_type=RougeType.ROUGE_1)"
   ]
  },
  {
   "cell_type": "code",
   "execution_count": null,
   "metadata": {},
   "outputs": [],
   "source": [
    "result = rouge(\n",
    "    response=\"Tokyo is the capital of Japan.\",\n",
    "    ground_truth=\"The capital of Japan is Tokyo.\")\n",
    "\n",
    "print(result)"
   ]
  },
  {
   "cell_type": "markdown",
   "metadata": {},
   "source": [
    "## Evaluate using math evaluators on a dataset\n",
    "\n",
    "The following code runs Evaluate API and uses BLEU, GLEU, METEOR and ROUGE evaluators to evaluate results on a dataset."
   ]
  },
  {
   "cell_type": "code",
   "execution_count": 6,
   "metadata": {},
   "outputs": [
    {
     "name": "stderr",
     "output_type": "stream",
     "text": [
      "[2024-09-23 12:36:02 -0700][promptflow][DEBUG] - PFClient init with kwargs: {'config': None, 'user_agent': 'azure-ai-evaluation/1.0.0b2'}\n",
      "[2024-09-23 12:36:02 -0700][promptflow][INFO] - pf.config.trace.destination: None\n",
      "[2024-09-23 12:36:02 -0700][promptflow][DEBUG] - trace destination does not need to be resolved, directly return...\n",
      "[2024-09-23 12:36:02 -0700][promptflow][DEBUG] - flow entry <azure.ai.evaluation._evaluators._bleu._bleu._AsyncBleuScoreEvaluator object at 0x00000260A4BF8CD0> is a callable.\n",
      "[2024-09-23 12:36:02 -0700][promptflow][DEBUG] - flow entry <azure.ai.evaluation._evaluators._gleu._gleu._AsyncGleuScoreEvaluator object at 0x00000260E2141270> is a callable.\n",
      "[2024-09-23 12:36:02 -0700][promptflow][DEBUG] - flow entry <azure.ai.evaluation._evaluators._meteor._meteor._AsyncMeteorScoreEvaluator object at 0x00000260E2141750> is a callable.\n",
      "[2024-09-23 12:36:02 -0700][promptflow][INFO] - Create temporary entry for flex flow.\n",
      "[2024-09-23 12:36:02 -0700][promptflow][DEBUG] - flow entry <azure.ai.evaluation._evaluators._rouge._rouge._AsyncRougeScoreEvaluator object at 0x00000260E2141DB0> is a callable.\n",
      "[2024-09-23 12:36:02 -0700][promptflow][INFO] - Create temporary entry for flex flow.\n",
      "[2024-09-23 12:36:02 -0700][promptflow][INFO] - Create temporary entry for flex flow.\n",
      "[2024-09-23 12:36:02 -0700][promptflow][DEBUG] - PF_FLOW_ENTRY_IN_TMP is set to true, its snapshot will be empty.\n",
      "[2024-09-23 12:36:02 -0700][promptflow][INFO] - Create temporary entry for flex flow.\n",
      "[2024-09-23 12:36:02 -0700][promptflow][DEBUG] - PF_FLOW_ENTRY_IN_TMP is set to true, its snapshot will be empty.\n",
      "[2024-09-23 12:36:02 -0700][promptflow][DEBUG] - PF_FLOW_ENTRY_IN_TMP is set to true, its snapshot will be empty.\n",
      "[2024-09-23 12:36:02 -0700][promptflow][DEBUG] - PF_FLOW_ENTRY_IN_TMP is set to true, its snapshot will be empty.\n",
      "[2024-09-23 12:36:02 -0700][promptflow._utils.flow_utils][DEBUG] - Got lineage id 215893810571086/C:/Users/ninhu/AppData/Local/Temp/azure_ai_evaluation_evaluators_bleu_bleu_asyncbleuscoreevaluator__s3as2b6 from local since failed to get git info.\n",
      "[2024-09-23 12:36:02 -0700][promptflow._utils.flow_utils][DEBUG] - Got lineage id 215893810571086/C:/Users/ninhu/AppData/Local/Temp/azure_ai_evaluation_evaluators_gleu_gleu_asyncgleuscoreevaluator_vmu8ya57 from local since failed to get git info.\n",
      "[2024-09-23 12:36:02 -0700][promptflow._utils.flow_utils][DEBUG] - Got lineage id 215893810571086/C:/Users/ninhu/AppData/Local/Temp/azure_ai_evaluation_evaluators_rouge_rouge_asyncrougescoreevaluator_93wi4ccd from local since failed to get git info.\n",
      "[2024-09-23 12:36:02 -0700][promptflow._utils.flow_utils][DEBUG] - Got lineage id 215893810571086/C:/Users/ninhu/AppData/Local/Temp/azure_ai_evaluation_evaluators_meteor_meteor_asyncmeteorscoreevaluator_ddb39bi4 from local since failed to get git info.\n",
      "[2024-09-23 12:36:02 -0700][promptflow][INFO] - pf.config.trace.destination: None\n",
      "[2024-09-23 12:36:02 -0700][promptflow][INFO] - pf.config.trace.destination: None\n",
      "[2024-09-23 12:36:02 -0700][promptflow][DEBUG] - trace destination does not need to be resolved, directly return...\n",
      "[2024-09-23 12:36:02 -0700][promptflow][DEBUG] - trace destination does not need to be resolved, directly return...\n",
      "[2024-09-23 12:36:02 -0700][promptflow._sdk._orchestrator.run_submitter][DEBUG] - start trace for flow run...\n",
      "[2024-09-23 12:36:02 -0700][promptflow._sdk._orchestrator.run_submitter][DEBUG] - start trace for flow run...\n",
      "[2024-09-23 12:36:02 -0700][promptflow][INFO] - pf.config.trace.destination: None\n",
      "[2024-09-23 12:36:02 -0700][promptflow._sdk._orchestrator.run_submitter][DEBUG] - flow path for run.start_trace: C:\\Users\\ninhu\\AppData\\Local\\Temp\\azure_ai_evaluation_evaluators_rouge_rouge_asyncrougescoreevaluator_93wi4ccd\n",
      "[2024-09-23 12:36:02 -0700][promptflow][DEBUG] - trace destination does not need to be resolved, directly return...\n",
      "[2024-09-23 12:36:02 -0700][promptflow._sdk._orchestrator.run_submitter][DEBUG] - flow path for run.start_trace: C:\\Users\\ninhu\\AppData\\Local\\Temp\\azure_ai_evaluation_evaluators_bleu_bleu_asyncbleuscoreevaluator__s3as2b6\n",
      "[2024-09-23 12:36:02 -0700][promptflow._sdk._orchestrator.run_submitter][DEBUG] - trace collection is writeable, will use flow name as collection...\n",
      "[2024-09-23 12:36:02 -0700][promptflow._sdk._orchestrator.run_submitter][DEBUG] - start trace for flow run...\n",
      "[2024-09-23 12:36:02 -0700][promptflow][INFO] - pf.config.trace.destination: None\n",
      "[2024-09-23 12:36:02 -0700][promptflow._sdk._orchestrator.run_submitter][DEBUG] - trace collection is writeable, will use flow name as collection...\n",
      "[2024-09-23 12:36:02 -0700][promptflow][DEBUG] - trace destination does not need to be resolved, directly return...\n",
      "[2024-09-23 12:36:02 -0700][promptflow._sdk._orchestrator.run_submitter][DEBUG] - collection for run: azure_ai_evaluation_evaluators_rouge_rouge_asyncrougescoreevaluator_93wi4ccd\n",
      "[2024-09-23 12:36:02 -0700][promptflow._sdk._orchestrator.run_submitter][DEBUG] - collection for run: azure_ai_evaluation_evaluators_bleu_bleu_asyncbleuscoreevaluator__s3as2b6\n",
      "[2024-09-23 12:36:02 -0700][promptflow._sdk._orchestrator.run_submitter][DEBUG] - start trace for flow run...\n",
      "[2024-09-23 12:36:02 -0700][promptflow._sdk._orchestrator.run_submitter][DEBUG] - flow path for run.start_trace: C:\\Users\\ninhu\\AppData\\Local\\Temp\\azure_ai_evaluation_evaluators_gleu_gleu_asyncgleuscoreevaluator_vmu8ya57\n",
      "[2024-09-23 12:36:02 -0700][promptflow][DEBUG] - collection: azure_ai_evaluation_evaluators_rouge_rouge_asyncrougescoreevaluator_93wi4ccd\n",
      "[2024-09-23 12:36:02 -0700][promptflow._sdk._orchestrator.run_submitter][DEBUG] - trace collection is writeable, will use flow name as collection...\n",
      "[2024-09-23 12:36:02 -0700][promptflow][DEBUG] - kwargs: {'attributes': {}, 'run': <promptflow._sdk.entities._run.Run object at 0x00000260E2142EF0>, '_collection': 'azure_ai_evaluation_evaluators_rouge_rouge_asyncrougescoreevaluator_93wi4ccd', 'path': WindowsPath('C:/Users/ninhu/AppData/Local/Temp/azure_ai_evaluation_evaluators_rouge_rouge_asyncrougescoreevaluator_93wi4ccd')}\n",
      "[2024-09-23 12:36:02 -0700][promptflow._sdk._orchestrator.run_submitter][DEBUG] - flow path for run.start_trace: C:\\Users\\ninhu\\AppData\\Local\\Temp\\azure_ai_evaluation_evaluators_meteor_meteor_asyncmeteorscoreevaluator_ddb39bi4\n",
      "[2024-09-23 12:36:02 -0700][promptflow][DEBUG] - collection: azure_ai_evaluation_evaluators_bleu_bleu_asyncbleuscoreevaluator__s3as2b6\n",
      "[2024-09-23 12:36:02 -0700][promptflow._sdk._orchestrator.run_submitter][DEBUG] - collection for run: azure_ai_evaluation_evaluators_gleu_gleu_asyncgleuscoreevaluator_vmu8ya57\n",
      "[2024-09-23 12:36:02 -0700][promptflow._sdk._orchestrator.run_submitter][DEBUG] - trace collection is writeable, will use flow name as collection...\n",
      "[2024-09-23 12:36:02 -0700][promptflow][DEBUG] - kwargs: {'attributes': {}, 'run': <promptflow._sdk.entities._run.Run object at 0x00000260E2744310>, '_collection': 'azure_ai_evaluation_evaluators_bleu_bleu_asyncbleuscoreevaluator__s3as2b6', 'path': WindowsPath('C:/Users/ninhu/AppData/Local/Temp/azure_ai_evaluation_evaluators_bleu_bleu_asyncbleuscoreevaluator__s3as2b6')}\n",
      "[2024-09-23 12:36:02 -0700][promptflow._sdk._orchestrator.run_submitter][DEBUG] - collection for run: azure_ai_evaluation_evaluators_meteor_meteor_asyncmeteorscoreevaluator_ddb39bi4\n",
      "[2024-09-23 12:36:02 -0700][promptflow][DEBUG] - read tracing context from environment: None\n",
      "[2024-09-23 12:36:02 -0700][promptflow][DEBUG] - operation context OTel attributes: {}\n",
      "[2024-09-23 12:36:02 -0700][promptflow][DEBUG] - start_trace_with_devkit.path(from kwargs): C:\\Users\\ninhu\\AppData\\Local\\Temp\\azure_ai_evaluation_evaluators_rouge_rouge_asyncrougescoreevaluator_93wi4ccd\n",
      "[2024-09-23 12:36:02 -0700][promptflow][DEBUG] - collection: azure_ai_evaluation_evaluators_gleu_gleu_asyncgleuscoreevaluator_vmu8ya57\n",
      "[2024-09-23 12:36:02 -0700][promptflow][INFO] - pf.config.trace.destination: None\n",
      "[2024-09-23 12:36:02 -0700][promptflow][DEBUG] - read tracing context from environment: None\n",
      "[2024-09-23 12:36:02 -0700][promptflow][DEBUG] - kwargs: {'attributes': {}, 'run': <promptflow._sdk.entities._run.Run object at 0x00000260E21431C0>, '_collection': 'azure_ai_evaluation_evaluators_gleu_gleu_asyncgleuscoreevaluator_vmu8ya57', 'path': WindowsPath('C:/Users/ninhu/AppData/Local/Temp/azure_ai_evaluation_evaluators_gleu_gleu_asyncgleuscoreevaluator_vmu8ya57')}\n",
      "[2024-09-23 12:36:02 -0700][promptflow][DEBUG] - trace destination does not need to be resolved, directly return...\n",
      "[2024-09-23 12:36:02 -0700][promptflow][DEBUG] - collection: azure_ai_evaluation_evaluators_meteor_meteor_asyncmeteorscoreevaluator_ddb39bi4\n",
      "[2024-09-23 12:36:02 -0700][promptflow][DEBUG] - operation context OTel attributes: {}\n",
      "[2024-09-23 12:36:02 -0700][promptflow][INFO] - resolved tracing.trace.destination: None\n",
      "[2024-09-23 12:36:02 -0700][promptflow][DEBUG] - kwargs: {'attributes': {}, 'run': <promptflow._sdk.entities._run.Run object at 0x00000260E252B490>, '_collection': 'azure_ai_evaluation_evaluators_meteor_meteor_asyncmeteorscoreevaluator_ddb39bi4', 'path': WindowsPath('C:/Users/ninhu/AppData/Local/Temp/azure_ai_evaluation_evaluators_meteor_meteor_asyncmeteorscoreevaluator_ddb39bi4')}\n",
      "[2024-09-23 12:36:02 -0700][promptflow][DEBUG] - read tracing context from environment: None\n",
      "[2024-09-23 12:36:02 -0700][promptflow][DEBUG] - start_trace_with_devkit.path(from kwargs): C:\\Users\\ninhu\\AppData\\Local\\Temp\\azure_ai_evaluation_evaluators_bleu_bleu_asyncbleuscoreevaluator__s3as2b6\n",
      "[2024-09-23 12:36:02 -0700][promptflow][DEBUG] - operation context OTel attributes: {}\n",
      "[2024-09-23 12:36:03 -0700][promptflow][INFO] - pf.config.trace.destination: None\n",
      "[2024-09-23 12:36:03 -0700][promptflow][DEBUG] - resolved service.host: 127.0.0.1\n",
      "[2024-09-23 12:36:03 -0700][promptflow][DEBUG] - read tracing context from environment: None\n",
      "[2024-09-23 12:36:03 -0700][promptflow][DEBUG] - start_trace_with_devkit.path(from kwargs): C:\\Users\\ninhu\\AppData\\Local\\Temp\\azure_ai_evaluation_evaluators_gleu_gleu_asyncgleuscoreevaluator_vmu8ya57\n",
      "[2024-09-23 12:36:03 -0700][promptflow][DEBUG] - trace destination does not need to be resolved, directly return...\n",
      "[2024-09-23 12:36:03 -0700][promptflow][DEBUG] - operation context OTel attributes: {}\n",
      "[2024-09-23 12:36:03 -0700][promptflow][INFO] - pf.config.trace.destination: None\n",
      "[2024-09-23 12:36:03 -0700][promptflow][INFO] - resolved tracing.trace.destination: None\n",
      "[2024-09-23 12:36:03 -0700][promptflow][DEBUG] - start_trace_with_devkit.path(from kwargs): C:\\Users\\ninhu\\AppData\\Local\\Temp\\azure_ai_evaluation_evaluators_meteor_meteor_asyncmeteorscoreevaluator_ddb39bi4\n",
      "[2024-09-23 12:36:03 -0700][promptflow][DEBUG] - trace destination does not need to be resolved, directly return...\n",
      "[2024-09-23 12:36:03 -0700][promptflow][DEBUG] - Prompt flow service is already running on 127.0.0.1:23334, {\"promptflow\":\"1.16.0.dev0\"}\n",
      "\n",
      "[2024-09-23 12:36:03 -0700][promptflow][INFO] - pf.config.trace.destination: None\n",
      "[2024-09-23 12:36:03 -0700][promptflow][INFO] - resolved tracing.trace.destination: None\n",
      "[2024-09-23 12:36:03 -0700][promptflow][DEBUG] - resolved service.host: 127.0.0.1\n",
      "[2024-09-23 12:36:03 -0700][promptflow][DEBUG] - trace destination does not need to be resolved, directly return...\n",
      "[2024-09-23 12:36:03 -0700][promptflow][INFO] - resolved tracing.trace.destination: None\n",
      "[2024-09-23 12:36:03 -0700][promptflow][DEBUG] - Prompt flow service is already running on 127.0.0.1:23334, {\"promptflow\":\"1.16.0.dev0\"}\n",
      "\n",
      "[2024-09-23 12:36:03 -0700][promptflow][DEBUG] - set collection to environ: azure_ai_evaluation_evaluators_rouge_rouge_asyncrougescoreevaluator_93wi4ccd\n",
      "[2024-09-23 12:36:03 -0700][promptflow][DEBUG] - set OTLP traces endpoint to environ: http://127.0.0.1:23334/v1/traces\n",
      "[2024-09-23 12:36:03 -0700][promptflow][DEBUG] - resolved service.host: 127.0.0.1\n",
      "[2024-09-23 12:36:03 -0700][promptflow][DEBUG] - start setup exporter to prompt flow service...\n",
      "[2024-09-23 12:36:03 -0700][promptflow][DEBUG] - resolved service.host: 127.0.0.1\n",
      "[2024-09-23 12:36:03 -0700][promptflow][DEBUG] - collection from environ: azure_ai_evaluation_evaluators_rouge_rouge_asyncrougescoreevaluator_93wi4ccd\n",
      "[2024-09-23 12:36:03 -0700][promptflow][DEBUG] - Prompt flow service is already running on 127.0.0.1:23334, {\"promptflow\":\"1.16.0.dev0\"}\n",
      "\n",
      "[2024-09-23 12:36:03 -0700][promptflow][DEBUG] - collection_id from environ: None\n",
      "[2024-09-23 12:36:03 -0700][promptflow][DEBUG] - experiment from environ: None\n",
      "[2024-09-23 12:36:03 -0700][promptflow][DEBUG] - resource attributes: {'collection': 'azure_ai_evaluation_evaluators_rouge_rouge_asyncrougescoreevaluator_93wi4ccd', 'service.name': 'promptflow'}\n",
      "[2024-09-23 12:36:03 -0700][promptflow][INFO] - tracer provider is already set, will merge the resource attributes...\n",
      "[2024-09-23 12:36:03 -0700][promptflow][DEBUG] - current resource: {'service.name': 'promptflow', 'collection': 'azure_ai_evaluation_evaluators_meteor_meteor_asyncmeteorscoreevaluator_ddb39bi4'}\n",
      "[2024-09-23 12:36:03 -0700][promptflow][INFO] - tracer provider is updated with resource attributes: {'service.name': 'promptflow', 'collection': 'azure_ai_evaluation_evaluators_rouge_rouge_asyncrougescoreevaluator_93wi4ccd'}\n",
      "[2024-09-23 12:36:03 -0700][promptflow][DEBUG] - environ OTEL_EXPORTER_OTLP_ENDPOINT: None\n",
      "[2024-09-23 12:36:03 -0700][promptflow][DEBUG] - Prompt flow service is already running on 127.0.0.1:23334, {\"promptflow\":\"1.16.0.dev0\"}\n",
      "\n",
      "[2024-09-23 12:36:03 -0700][promptflow][DEBUG] - environ OTEL_EXPORTER_OTLP_TRACES_ENDPOINT: http://127.0.0.1:23334/v1/traces\n",
      "[2024-09-23 12:36:03 -0700][promptflow][DEBUG] - Prompt flow service is already running on 127.0.0.1:23334, {\"promptflow\":\"1.16.0.dev0\"}\n",
      "\n",
      "[2024-09-23 12:36:03 -0700][promptflow][DEBUG] - Prompt flow service is already running on 127.0.0.1:23334, {\"promptflow\":\"1.16.0.dev0\"}\n",
      "\n",
      "[2024-09-23 12:36:03 -0700][promptflow][INFO] - have not set exporter to prompt flow service, will set it...\n",
      "[2024-09-23 12:36:03 -0700][promptflow][DEBUG] - Prompt flow service is already running on 127.0.0.1:23334, {\"promptflow\":\"1.16.0.dev0\"}\n",
      "\n",
      "[2024-09-23 12:36:03 -0700][promptflow][DEBUG] - set collection to environ: azure_ai_evaluation_evaluators_bleu_bleu_asyncbleuscoreevaluator__s3as2b6\n",
      "[2024-09-23 12:36:03 -0700][promptflow][DEBUG] - Prompt flow service is already running on 127.0.0.1:23334, {\"promptflow\":\"1.16.0.dev0\"}\n",
      "\n",
      "[2024-09-23 12:36:03 -0700][promptflow][DEBUG] - finish setup exporter to prompt flow service.\n",
      "[2024-09-23 12:36:03 -0700][promptflow][DEBUG] - set collection to environ: azure_ai_evaluation_evaluators_gleu_gleu_asyncgleuscoreevaluator_vmu8ya57\n",
      "[2024-09-23 12:36:03 -0700][promptflow][DEBUG] - start setup exporter to prompt flow service...\n",
      "[2024-09-23 12:36:03 -0700][promptflow][DEBUG] - set collection to environ: azure_ai_evaluation_evaluators_meteor_meteor_asyncmeteorscoreevaluator_ddb39bi4\n",
      "[2024-09-23 12:36:03 -0700][promptflow][DEBUG] - start setup exporter to prompt flow service...\n",
      "[2024-09-23 12:36:03 -0700][promptflow][DEBUG] - collection from environ: azure_ai_evaluation_evaluators_gleu_gleu_asyncgleuscoreevaluator_vmu8ya57\n",
      "[2024-09-23 12:36:03 -0700][promptflow][DEBUG] - start setup exporter to prompt flow service...\n",
      "[2024-09-23 12:36:03 -0700][promptflow][DEBUG] - collection from environ: azure_ai_evaluation_evaluators_meteor_meteor_asyncmeteorscoreevaluator_ddb39bi4\n",
      "[2024-09-23 12:36:03 -0700][promptflow][DEBUG] - collection_id from environ: None\n",
      "[2024-09-23 12:36:03 -0700][promptflow][DEBUG] - collection from environ: azure_ai_evaluation_evaluators_meteor_meteor_asyncmeteorscoreevaluator_ddb39bi4\n",
      "[2024-09-23 12:36:03 -0700][promptflow][DEBUG] - collection_id from environ: None\n",
      "[2024-09-23 12:36:03 -0700][promptflow][DEBUG] - experiment from environ: None\n",
      "[2024-09-23 12:36:03 -0700][promptflow][DEBUG] - collection_id from environ: None\n",
      "[2024-09-23 12:36:03 -0700][promptflow][DEBUG] - experiment from environ: None\n",
      "[2024-09-23 12:36:03 -0700][promptflow][DEBUG] - resource attributes: {'collection': 'azure_ai_evaluation_evaluators_gleu_gleu_asyncgleuscoreevaluator_vmu8ya57', 'service.name': 'promptflow'}\n",
      "[2024-09-23 12:36:03 -0700][promptflow][DEBUG] - experiment from environ: None\n",
      "[2024-09-23 12:36:03 -0700][promptflow][DEBUG] - resource attributes: {'collection': 'azure_ai_evaluation_evaluators_meteor_meteor_asyncmeteorscoreevaluator_ddb39bi4', 'service.name': 'promptflow'}\n",
      "[2024-09-23 12:36:03 -0700][promptflow][INFO] - tracer provider is already set, will merge the resource attributes...\n",
      "[2024-09-23 12:36:03 -0700][promptflow][DEBUG] - resource attributes: {'collection': 'azure_ai_evaluation_evaluators_meteor_meteor_asyncmeteorscoreevaluator_ddb39bi4', 'service.name': 'promptflow'}\n",
      "[2024-09-23 12:36:03 -0700][promptflow][INFO] - tracer provider is already set, will merge the resource attributes...\n",
      "[2024-09-23 12:36:03 -0700][promptflow][DEBUG] - current resource: {'service.name': 'promptflow', 'collection': 'azure_ai_evaluation_evaluators_rouge_rouge_asyncrougescoreevaluator_93wi4ccd'}\n",
      "[2024-09-23 12:36:03 -0700][promptflow][INFO] - tracer provider is already set, will merge the resource attributes...\n",
      "[2024-09-23 12:36:03 -0700][promptflow][DEBUG] - current resource: {'service.name': 'promptflow', 'collection': 'azure_ai_evaluation_evaluators_rouge_rouge_asyncrougescoreevaluator_93wi4ccd'}\n",
      "[2024-09-23 12:36:03 -0700][promptflow][INFO] - tracer provider is updated with resource attributes: {'service.name': 'promptflow', 'collection': 'azure_ai_evaluation_evaluators_gleu_gleu_asyncgleuscoreevaluator_vmu8ya57'}\n",
      "[2024-09-23 12:36:03 -0700][promptflow][DEBUG] - current resource: {'service.name': 'promptflow', 'collection': 'azure_ai_evaluation_evaluators_gleu_gleu_asyncgleuscoreevaluator_vmu8ya57'}\n",
      "[2024-09-23 12:36:03 -0700][promptflow._core.entry_meta_generator][WARNING] - Generate meta in current process and timeout won't take effect. Please handle timeout manually outside current process.\n",
      "[2024-09-23 12:36:03 -0700][promptflow][INFO] - tracer provider is updated with resource attributes: {'service.name': 'promptflow', 'collection': 'azure_ai_evaluation_evaluators_meteor_meteor_asyncmeteorscoreevaluator_ddb39bi4'}\n",
      "[2024-09-23 12:36:03 -0700][promptflow][DEBUG] - environ OTEL_EXPORTER_OTLP_ENDPOINT: None\n",
      "[2024-09-23 12:36:03 -0700][promptflow][INFO] - tracer provider is updated with resource attributes: {'service.name': 'promptflow', 'collection': 'azure_ai_evaluation_evaluators_meteor_meteor_asyncmeteorscoreevaluator_ddb39bi4'}\n",
      "[2024-09-23 12:36:03 -0700][promptflow][DEBUG] - environ OTEL_EXPORTER_OTLP_ENDPOINT: None\n",
      "[2024-09-23 12:36:03 -0700][promptflow][DEBUG] - environ OTEL_EXPORTER_OTLP_TRACES_ENDPOINT: http://127.0.0.1:23334/v1/traces\n",
      "[2024-09-23 12:36:03 -0700][promptflow][DEBUG] - environ OTEL_EXPORTER_OTLP_ENDPOINT: None\n",
      "[2024-09-23 12:36:03 -0700][promptflow][DEBUG] - environ OTEL_EXPORTER_OTLP_TRACES_ENDPOINT: http://127.0.0.1:23334/v1/traces\n",
      "[2024-09-23 12:36:03 -0700][promptflow][INFO] - exporter to prompt flow service is already set, no action needed.\n",
      "[2024-09-23 12:36:03 -0700][promptflow][DEBUG] - environ OTEL_EXPORTER_OTLP_TRACES_ENDPOINT: http://127.0.0.1:23334/v1/traces\n",
      "[2024-09-23 12:36:03 -0700][promptflow][INFO] - exporter to prompt flow service is already set, no action needed.\n",
      "[2024-09-23 12:36:03 -0700][promptflow._sdk._orchestrator.run_submitter][INFO] - Submitting run azure_ai_evaluation_evaluators_rouge_rouge_asyncrougescoreevaluator_93wi4ccd_20240923_123602_609257, log path: C:\\Users\\ninhu\\.promptflow\\.runs\\azure_ai_evaluation_evaluators_rouge_rouge_asyncrougescoreevaluator_93wi4ccd_20240923_123602_609257\\logs.txt\n",
      "[2024-09-23 12:36:03 -0700][promptflow][DEBUG] - finish setup exporter to prompt flow service.\n",
      "[2024-09-23 12:36:03 -0700][promptflow][INFO] - exporter to prompt flow service is already set, no action needed.\n",
      "[2024-09-23 12:36:03 -0700][promptflow._sdk._orchestrator.run_submitter][DEBUG] - Resolving connections for flow C:\\Users\\ninhu\\AppData\\Local\\Temp\\tmpzus0e7te\\flow.flex.yaml with environment variables {}.\n",
      "[2024-09-23 12:36:03 -0700][promptflow][DEBUG] - finish setup exporter to prompt flow service.\n",
      "[2024-09-23 12:36:03 -0700][promptflow][DEBUG] - finish setup exporter to prompt flow service.\n",
      "[2024-09-23 12:36:03 -0700][promptflow][DEBUG] - PFClient init with kwargs: {}\n",
      "[2024-09-23 12:36:03 -0700][promptflow][DEBUG] - PFClient init with kwargs: {}\n"
     ]
    },
    {
     "name": "stdout",
     "output_type": "stream",
     "text": [
      "Prompt flow service has started...\n",
      "Prompt flow service has started...\n",
      "Prompt flow service has started...\n",
      "Prompt flow service has started...\n",
      "You can view the traces in local from http://127.0.0.1:23334/v1.0/ui/traces/?#run=azure_ai_evaluation_evaluators_rouge_rouge_asyncrougescoreevaluator_93wi4ccd_20240923_123602_609257\n",
      "You can view the traces in local from http://127.0.0.1:23334/v1.0/ui/traces/?#run=azure_ai_evaluation_evaluators_bleu_bleu_asyncbleuscoreevaluator_s3as2b6_20240923_123602_609257\n",
      "You can view the traces in local from http://127.0.0.1:23334/v1.0/ui/traces/?#run=azure_ai_evaluation_evaluators_gleu_gleu_asyncgleuscoreevaluator_vmu8ya57_20240923_123602_609257\n",
      "You can view the traces in local from http://127.0.0.1:23334/v1.0/ui/traces/?#run=azure_ai_evaluation_evaluators_meteor_meteor_asyncmeteorscoreevaluator_ddb39bi4_20240923_123602_609257\n"
     ]
    },
    {
     "name": "stderr",
     "output_type": "stream",
     "text": [
      "[2024-09-23 12:36:03 -0700][promptflow._core.entry_meta_generator][WARNING] - Generate meta in current process and timeout won't take effect. Please handle timeout manually outside current process.\n",
      "[2024-09-23 12:36:03 -0700][promptflow._core.entry_meta_generator][WARNING] - Generate meta in current process and timeout won't take effect. Please handle timeout manually outside current process.\n",
      "[2024-09-23 12:36:03 -0700][promptflow._core.entry_meta_generator][WARNING] - Generate meta in current process and timeout won't take effect. Please handle timeout manually outside current process.\n",
      "[2024-09-23 12:36:03 -0700][promptflow._sdk._orchestrator.run_submitter][INFO] - Submitting run azure_ai_evaluation_evaluators_meteor_meteor_asyncmeteorscoreevaluator_ddb39bi4_20240923_123602_609257, log path: C:\\Users\\ninhu\\.promptflow\\.runs\\azure_ai_evaluation_evaluators_meteor_meteor_asyncmeteorscoreevaluator_ddb39bi4_20240923_123602_609257\\logs.txt\n",
      "[2024-09-23 12:36:03 -0700][promptflow._sdk._orchestrator.run_submitter][INFO] - Submitting run azure_ai_evaluation_evaluators_gleu_gleu_asyncgleuscoreevaluator_vmu8ya57_20240923_123602_609257, log path: C:\\Users\\ninhu\\.promptflow\\.runs\\azure_ai_evaluation_evaluators_gleu_gleu_asyncgleuscoreevaluator_vmu8ya57_20240923_123602_609257\\logs.txt\n",
      "[2024-09-23 12:36:03 -0700][promptflow._sdk._orchestrator.run_submitter][DEBUG] - Resolving connections for flow C:\\Users\\ninhu\\AppData\\Local\\Temp\\tmpiwykshpu\\flow.flex.yaml with environment variables {}.\n",
      "[2024-09-23 12:36:03 -0700][promptflow][DEBUG] - PFClient init with kwargs: {}\n",
      "[2024-09-23 12:36:03 -0700][promptflow._sdk._orchestrator.run_submitter][DEBUG] - Resolving connections for flow C:\\Users\\ninhu\\AppData\\Local\\Temp\\tmpvx2wauj8\\flow.flex.yaml with environment variables {}.\n",
      "[2024-09-23 12:36:03 -0700][promptflow][DEBUG] - PFClient init with kwargs: {}\n",
      "[2024-09-23 12:36:03 -0700][promptflow._sdk._orchestrator.run_submitter][INFO] - Submitting run azure_ai_evaluation_evaluators_bleu_bleu_asyncbleuscoreevaluator_s3as2b6_20240923_123602_609257, log path: C:\\Users\\ninhu\\.promptflow\\.runs\\azure_ai_evaluation_evaluators_bleu_bleu_asyncbleuscoreevaluator_s3as2b6_20240923_123602_609257\\logs.txt\n",
      "[2024-09-23 12:36:03 -0700][promptflow._sdk._orchestrator.run_submitter][DEBUG] - Resolving connections for flow C:\\Users\\ninhu\\AppData\\Local\\Temp\\tmp7xg0229z\\flow.flex.yaml with environment variables {}.\n",
      "[2024-09-23 12:36:03 -0700][promptflow][DEBUG] - PFClient init with kwargs: {}\n",
      "[2024-09-23 12:36:03 -0700][promptflow][DEBUG] - PFClient init with kwargs: {}\n",
      "[2024-09-23 12:36:03 -0700][promptflow][DEBUG] - PFClient init with kwargs: {}\n",
      "[2024-09-23 12:36:03 -0700][promptflow][DEBUG] - PFClient init with kwargs: {}\n",
      "[2024-09-23 12:36:03 -0700][promptflow][DEBUG] - start setup exporter to prompt flow service...\n",
      "[2024-09-23 12:36:03 -0700][promptflow][DEBUG] - collection from environ: azure_ai_evaluation_evaluators_meteor_meteor_asyncmeteorscoreevaluator_ddb39bi4\n",
      "[2024-09-23 12:36:03 -0700][promptflow][DEBUG] - collection_id from environ: None\n",
      "[2024-09-23 12:36:03 -0700][promptflow][DEBUG] - experiment from environ: None\n",
      "[2024-09-23 12:36:03 -0700][promptflow][DEBUG] - resource attributes: {'collection': 'azure_ai_evaluation_evaluators_meteor_meteor_asyncmeteorscoreevaluator_ddb39bi4', 'service.name': 'promptflow'}\n",
      "[2024-09-23 12:36:03 -0700][promptflow][INFO] - tracer provider is already set, will merge the resource attributes...\n",
      "[2024-09-23 12:36:03 -0700][promptflow][DEBUG] - current resource: {'service.name': 'promptflow', 'collection': 'azure_ai_evaluation_evaluators_meteor_meteor_asyncmeteorscoreevaluator_ddb39bi4'}\n",
      "[2024-09-23 12:36:03 -0700][promptflow][INFO] - tracer provider is updated with resource attributes: {'service.name': 'promptflow', 'collection': 'azure_ai_evaluation_evaluators_meteor_meteor_asyncmeteorscoreevaluator_ddb39bi4'}\n",
      "[2024-09-23 12:36:03 -0700][promptflow][DEBUG] - environ OTEL_EXPORTER_OTLP_ENDPOINT: None\n",
      "[2024-09-23 12:36:03 -0700][promptflow][DEBUG] - environ OTEL_EXPORTER_OTLP_TRACES_ENDPOINT: http://127.0.0.1:23334/v1/traces\n",
      "[2024-09-23 12:36:03 -0700][promptflow][INFO] - exporter to prompt flow service is already set, no action needed.\n",
      "[2024-09-23 12:36:03 -0700][promptflow][DEBUG] - finish setup exporter to prompt flow service.\n",
      "[2024-09-23 12:36:03 -0700][promptflow][DEBUG] - start setup exporter to prompt flow service...\n",
      "[2024-09-23 12:36:03 -0700][promptflow][DEBUG] - collection from environ: azure_ai_evaluation_evaluators_meteor_meteor_asyncmeteorscoreevaluator_ddb39bi4\n",
      "[2024-09-23 12:36:03 -0700][promptflow][DEBUG] - collection_id from environ: None\n",
      "[2024-09-23 12:36:03 -0700][promptflow][DEBUG] - experiment from environ: None\n",
      "[2024-09-23 12:36:03 -0700][promptflow][DEBUG] - resource attributes: {'collection': 'azure_ai_evaluation_evaluators_meteor_meteor_asyncmeteorscoreevaluator_ddb39bi4', 'service.name': 'promptflow'}\n",
      "[2024-09-23 12:36:03 -0700][promptflow][INFO] - tracer provider is already set, will merge the resource attributes...\n",
      "[2024-09-23 12:36:03 -0700][promptflow][INFO] - Line run is not terminated, skip persisting line run record.\n",
      "[2024-09-23 12:36:03 -0700][promptflow][DEBUG] - current resource: {'service.name': 'promptflow', 'collection': 'azure_ai_evaluation_evaluators_meteor_meteor_asyncmeteorscoreevaluator_ddb39bi4'}\n",
      "[2024-09-23 12:36:03 -0700][promptflow][INFO] - tracer provider is updated with resource attributes: {'service.name': 'promptflow', 'collection': 'azure_ai_evaluation_evaluators_meteor_meteor_asyncmeteorscoreevaluator_ddb39bi4'}\n",
      "[2024-09-23 12:36:03 -0700][promptflow][DEBUG] - environ OTEL_EXPORTER_OTLP_ENDPOINT: None\n",
      "[2024-09-23 12:36:03 -0700][promptflow][DEBUG] - environ OTEL_EXPORTER_OTLP_TRACES_ENDPOINT: http://127.0.0.1:23334/v1/traces\n",
      "[2024-09-23 12:36:03 -0700][promptflow][INFO] - exporter to prompt flow service is already set, no action needed.\n",
      "[2024-09-23 12:36:03 -0700][promptflow][DEBUG] - finish setup exporter to prompt flow service.\n",
      "[2024-09-23 12:36:03 -0700][promptflow][DEBUG] - start setup exporter to prompt flow service...\n",
      "[2024-09-23 12:36:03 -0700][promptflow][DEBUG] - start setup exporter to prompt flow service...\n",
      "[2024-09-23 12:36:03 -0700][promptflow][DEBUG] - collection from environ: azure_ai_evaluation_evaluators_meteor_meteor_asyncmeteorscoreevaluator_ddb39bi4\n",
      "[2024-09-23 12:36:03 -0700][promptflow][DEBUG] - collection from environ: azure_ai_evaluation_evaluators_meteor_meteor_asyncmeteorscoreevaluator_ddb39bi4\n",
      "[2024-09-23 12:36:03 -0700][promptflow][DEBUG] - collection_id from environ: None\n",
      "[2024-09-23 12:36:03 -0700][promptflow][DEBUG] - collection_id from environ: None\n",
      "[2024-09-23 12:36:03 -0700][promptflow][INFO] - Line run is not terminated, skip persisting line run record.\n",
      "[2024-09-23 12:36:03 -0700][promptflow][DEBUG] - experiment from environ: None\n",
      "[2024-09-23 12:36:03 -0700][promptflow][DEBUG] - experiment from environ: None\n",
      "[2024-09-23 12:36:03 -0700][promptflow][DEBUG] - resource attributes: {'collection': 'azure_ai_evaluation_evaluators_meteor_meteor_asyncmeteorscoreevaluator_ddb39bi4', 'service.name': 'promptflow'}\n",
      "[2024-09-23 12:36:03 -0700][promptflow][DEBUG] - resource attributes: {'collection': 'azure_ai_evaluation_evaluators_meteor_meteor_asyncmeteorscoreevaluator_ddb39bi4', 'service.name': 'promptflow'}\n",
      "[2024-09-23 12:36:03 -0700][promptflow][INFO] - tracer provider is already set, will merge the resource attributes...\n",
      "[2024-09-23 12:36:03 -0700][promptflow][INFO] - tracer provider is already set, will merge the resource attributes...\n",
      "[2024-09-23 12:36:03 -0700][promptflow][DEBUG] - current resource: {'service.name': 'promptflow', 'collection': 'azure_ai_evaluation_evaluators_meteor_meteor_asyncmeteorscoreevaluator_ddb39bi4'}\n",
      "[2024-09-23 12:36:03 -0700][promptflow][DEBUG] - current resource: {'service.name': 'promptflow', 'collection': 'azure_ai_evaluation_evaluators_meteor_meteor_asyncmeteorscoreevaluator_ddb39bi4'}\n",
      "[2024-09-23 12:36:03 -0700][promptflow][INFO] - tracer provider is updated with resource attributes: {'service.name': 'promptflow', 'collection': 'azure_ai_evaluation_evaluators_meteor_meteor_asyncmeteorscoreevaluator_ddb39bi4'}\n",
      "[2024-09-23 12:36:03 -0700][promptflow][INFO] - tracer provider is updated with resource attributes: {'service.name': 'promptflow', 'collection': 'azure_ai_evaluation_evaluators_meteor_meteor_asyncmeteorscoreevaluator_ddb39bi4'}\n",
      "[2024-09-23 12:36:03 -0700][promptflow][DEBUG] - environ OTEL_EXPORTER_OTLP_ENDPOINT: None\n",
      "[2024-09-23 12:36:03 -0700][promptflow][DEBUG] - environ OTEL_EXPORTER_OTLP_ENDPOINT: None\n",
      "[2024-09-23 12:36:03 -0700][promptflow][DEBUG] - environ OTEL_EXPORTER_OTLP_TRACES_ENDPOINT: http://127.0.0.1:23334/v1/traces\n",
      "[2024-09-23 12:36:03 -0700][promptflow][INFO] - Line run is not terminated, skip persisting line run record.\n",
      "[2024-09-23 12:36:03 -0700][promptflow][DEBUG] - environ OTEL_EXPORTER_OTLP_TRACES_ENDPOINT: http://127.0.0.1:23334/v1/traces\n",
      "[2024-09-23 12:36:03 -0700][promptflow][INFO] - Line run is not terminated, skip persisting line run record.\n",
      "[2024-09-23 12:36:03 -0700][promptflow][INFO] - exporter to prompt flow service is already set, no action needed.\n",
      "[2024-09-23 12:36:03 -0700][promptflow][INFO] - exporter to prompt flow service is already set, no action needed.\n",
      "[2024-09-23 12:36:03 -0700][promptflow][INFO] - Line run is not terminated, skip persisting line run record.\n",
      "[2024-09-23 12:36:03 -0700][promptflow][INFO] - Line run is not terminated, skip persisting line run record.\n",
      "[2024-09-23 12:36:03 -0700][promptflow][DEBUG] - finish setup exporter to prompt flow service.\n",
      "[2024-09-23 12:36:03 -0700][promptflow][DEBUG] - finish setup exporter to prompt flow service.\n",
      "[2024-09-23 12:36:03 -0700][promptflow][INFO] - Line run is not terminated, skip persisting line run record.\n",
      "[2024-09-23 12:36:03 -0700][promptflow][INFO] - Line run is not terminated, skip persisting line run record.\n",
      "[2024-09-23 12:36:03 -0700][promptflow][INFO] - Line run is not terminated, skip persisting line run record.\n",
      "[2024-09-23 12:36:03 -0700][promptflow][INFO] - Line run is not terminated, skip persisting line run record.\n",
      "[2024-09-23 12:36:05 -0700][promptflow._utils.flow_utils][DEBUG] - Got lineage id 215893810571086/C:/Users/ninhu/AppData/Local/Temp/azure_ai_evaluation_evaluators_gleu_gleu_asyncgleuscoreevaluator_vmu8ya57 from local since failed to get git info.\n",
      "[2024-09-23 12:36:05 -0700][promptflow._utils.flow_utils][DEBUG] - Got lineage id 215893810571086/C:/Users/ninhu/AppData/Local/Temp/azure_ai_evaluation_evaluators_rouge_rouge_asyncrougescoreevaluator_93wi4ccd from local since failed to get git info.\n",
      "[2024-09-23 12:36:05 -0700][promptflow._utils.flow_utils][DEBUG] - Got lineage id 215893810571086/C:/Users/ninhu/AppData/Local/Temp/azure_ai_evaluation_evaluators_gleu_gleu_asyncgleuscoreevaluator_vmu8ya57 from local since failed to get git info.\n",
      "[2024-09-23 12:36:05 -0700][promptflow._utils.flow_utils][DEBUG] - Got lineage id 215893810571086/C:/Users/ninhu/AppData/Local/Temp/azure_ai_evaluation_evaluators_rouge_rouge_asyncrougescoreevaluator_93wi4ccd from local since failed to get git info.\n",
      "[2024-09-23 12:36:05 -0700][promptflow._utils.flow_utils][DEBUG] - Got lineage id 215893810571086/C:/Users/ninhu/AppData/Local/Temp/azure_ai_evaluation_evaluators_gleu_gleu_asyncgleuscoreevaluator_vmu8ya57 from local since failed to get git info.\n",
      "[2024-09-23 12:36:05 -0700][promptflow._utils.flow_utils][DEBUG] - Got lineage id 215893810571086/C:/Users/ninhu/AppData/Local/Temp/azure_ai_evaluation_evaluators_rouge_rouge_asyncrougescoreevaluator_93wi4ccd from local since failed to get git info.\n",
      "[2024-09-23 12:36:06 -0700][promptflow._utils.flow_utils][DEBUG] - Got lineage id 215893810571086/C:/Users/ninhu/AppData/Local/Temp/azure_ai_evaluation_evaluators_gleu_gleu_asyncgleuscoreevaluator_vmu8ya57 from local since failed to get git info.\n",
      "[2024-09-23 12:36:06 -0700][promptflow._utils.flow_utils][DEBUG] - Got lineage id 215893810571086/C:/Users/ninhu/AppData/Local/Temp/azure_ai_evaluation_evaluators_bleu_bleu_asyncbleuscoreevaluator__s3as2b6 from local since failed to get git info.\n",
      "[2024-09-23 12:36:06 -0700][promptflow._utils.flow_utils][DEBUG] - Got lineage id 215893810571086/C:/Users/ninhu/AppData/Local/Temp/azure_ai_evaluation_evaluators_rouge_rouge_asyncrougescoreevaluator_93wi4ccd from local since failed to get git info.\n"
     ]
    },
    {
     "name": "stdout",
     "output_type": "stream",
     "text": [
      "2024-09-23 12:36:03 -0700   35848 execution          DEBUG    Start initializing the executor with <azure.ai.evaluation._evaluators._gleu._gleu._AsyncGleuScoreEvaluator object at 0x00000260E2141270>.\n",
      "2024-09-23 12:36:03 -0700   35848 execution          DEBUG    Init params for script executor: None\n",
      "2024-09-23 12:36:03 -0700   35848 execution          DEBUG    Failed to load flow from file <azure.ai.evaluation._evaluators._gleu._gleu._AsyncGleuScoreEvaluator object at 0x00000260E2141270> with error: join() argument must be str, bytes, or os.PathLike object, not '_AsyncGleuScoreEvaluator'\n",
      "2024-09-23 12:36:03 -0700   35848 execution.bulk     INFO     Current thread is not main thread, skip signal handler registration in BatchEngine.\n",
      "2024-09-23 12:36:03 -0700   35848 execution          WARNING  Starting run without column mapping may lead to unexpected results. Please consult the following documentation for more information: https://aka.ms/pf/column-mapping\n",
      "2024-09-23 12:36:03 -0700   35848 execution.bulk     INFO     Finished 3 / 3 lines.\n",
      "2024-09-23 12:36:03 -0700   35848 execution.bulk     INFO     Average execution time for completed lines: 0.17 seconds. Estimated time for incomplete lines: 0.0 seconds.\n",
      "======= Run Summary =======\n",
      "\n",
      "Run name: \"azure_ai_evaluation_evaluators_gleu_gleu_asyncgleuscoreevaluator_vmu8ya57_20240923_123602_609257\"\n",
      "Run status: \"Completed\"\n",
      "Start time: \"2024-09-23 12:36:02.592259-07:00\"\n",
      "Duration: \"0:00:02.872101\"\n",
      "Output path: \"C:\\Users\\ninhu\\.promptflow\\.runs\\azure_ai_evaluation_evaluators_gleu_gleu_asyncgleuscoreevaluator_vmu8ya57_20240923_123602_609257\"\n",
      "\n"
     ]
    },
    {
     "name": "stderr",
     "output_type": "stream",
     "text": [
      "[2024-09-23 12:36:06 -0700][promptflow._utils.flow_utils][DEBUG] - Got lineage id 215893810571086/C:/Users/ninhu/AppData/Local/Temp/azure_ai_evaluation_evaluators_bleu_bleu_asyncbleuscoreevaluator__s3as2b6 from local since failed to get git info.\n"
     ]
    },
    {
     "name": "stdout",
     "output_type": "stream",
     "text": [
      "2024-09-23 12:36:03 -0700   35848 execution          DEBUG    Start initializing the executor with <azure.ai.evaluation._evaluators._rouge._rouge._AsyncRougeScoreEvaluator object at 0x00000260E2141DB0>.\n",
      "2024-09-23 12:36:03 -0700   35848 execution          DEBUG    Init params for script executor: None\n",
      "2024-09-23 12:36:03 -0700   35848 execution          DEBUG    Failed to load flow from file <azure.ai.evaluation._evaluators._rouge._rouge._AsyncRougeScoreEvaluator object at 0x00000260E2141DB0> with error: join() argument must be str, bytes, or os.PathLike object, not '_AsyncRougeScoreEvaluator'\n",
      "2024-09-23 12:36:03 -0700   35848 execution.bulk     INFO     Current thread is not main thread, skip signal handler registration in BatchEngine.\n",
      "2024-09-23 12:36:03 -0700   35848 execution          WARNING  Starting run without column mapping may lead to unexpected results. Please consult the following documentation for more information: https://aka.ms/pf/column-mapping\n",
      "2024-09-23 12:36:04 -0700   35848 execution.bulk     INFO     Finished 3 / 3 lines.\n",
      "2024-09-23 12:36:04 -0700   35848 execution.bulk     INFO     Average execution time for completed lines: 0.22 seconds. Estimated time for incomplete lines: 0.0 seconds.\n",
      "======= Run Summary =======\n",
      "\n",
      "Run name: \"azure_ai_evaluation_evaluators_rouge_rouge_asyncrougescoreevaluator_93wi4ccd_20240923_123602_609257\"\n",
      "Run status: \"Completed\"\n",
      "Start time: \"2024-09-23 12:36:02.609257-07:00\"\n",
      "Duration: \"0:00:02.887430\"\n",
      "Output path: \"C:\\Users\\ninhu\\.promptflow\\.runs\\azure_ai_evaluation_evaluators_rouge_rouge_asyncrougescoreevaluator_93wi4ccd_20240923_123602_609257\"\n",
      "\n"
     ]
    },
    {
     "name": "stderr",
     "output_type": "stream",
     "text": [
      "[2024-09-23 12:36:08 -0700][promptflow._utils.flow_utils][DEBUG] - Got lineage id 215893810571086/C:/Users/ninhu/AppData/Local/Temp/azure_ai_evaluation_evaluators_bleu_bleu_asyncbleuscoreevaluator__s3as2b6 from local since failed to get git info.\n",
      "[2024-09-23 12:36:08 -0700][promptflow][INFO] - Line run is not terminated, skip persisting line run record.\n",
      "[2024-09-23 12:36:08 -0700][promptflow._utils.flow_utils][DEBUG] - Got lineage id 215893810571086/C:/Users/ninhu/AppData/Local/Temp/azure_ai_evaluation_evaluators_bleu_bleu_asyncbleuscoreevaluator__s3as2b6 from local since failed to get git info.\n",
      "[2024-09-23 12:36:08 -0700][promptflow][INFO] - Line run is not terminated, skip persisting line run record.\n",
      "[2024-09-23 12:36:08 -0700][promptflow._utils.flow_utils][DEBUG] - Got lineage id 215893810571086/C:/Users/ninhu/AppData/Local/Temp/azure_ai_evaluation_evaluators_bleu_bleu_asyncbleuscoreevaluator__s3as2b6 from local since failed to get git info.\n"
     ]
    },
    {
     "name": "stdout",
     "output_type": "stream",
     "text": [
      "2024-09-23 12:36:03 -0700   35848 execution          DEBUG    Start initializing the executor with <azure.ai.evaluation._evaluators._bleu._bleu._AsyncBleuScoreEvaluator object at 0x00000260A4BF8CD0>.\n",
      "2024-09-23 12:36:03 -0700   35848 execution          DEBUG    Init params for script executor: None\n",
      "2024-09-23 12:36:03 -0700   35848 execution          DEBUG    Failed to load flow from file <azure.ai.evaluation._evaluators._bleu._bleu._AsyncBleuScoreEvaluator object at 0x00000260A4BF8CD0> with error: join() argument must be str, bytes, or os.PathLike object, not '_AsyncBleuScoreEvaluator'\n",
      "2024-09-23 12:36:03 -0700   35848 execution.bulk     INFO     Current thread is not main thread, skip signal handler registration in BatchEngine.\n",
      "2024-09-23 12:36:03 -0700   35848 execution          WARNING  Starting run without column mapping may lead to unexpected results. Please consult the following documentation for more information: https://aka.ms/pf/column-mapping\n",
      "2024-09-23 12:36:03 -0700   35848 execution.bulk     INFO     Finished 3 / 3 lines.\n",
      "2024-09-23 12:36:03 -0700   35848 execution.bulk     INFO     Average execution time for completed lines: 0.17 seconds. Estimated time for incomplete lines: 0.0 seconds.\n",
      "======= Run Summary =======\n",
      "\n",
      "Run name: \"azure_ai_evaluation_evaluators_bleu_bleu_asyncbleuscoreevaluator_s3as2b6_20240923_123602_609257\"\n",
      "Run status: \"Completed\"\n",
      "Start time: \"2024-09-23 12:36:02.592259-07:00\"\n",
      "Duration: \"0:00:02.888161\"\n",
      "Output path: \"C:\\Users\\ninhu\\.promptflow\\.runs\\azure_ai_evaluation_evaluators_bleu_bleu_asyncbleuscoreevaluator_s3as2b6_20240923_123602_609257\"\n",
      "\n",
      "2024-09-23 12:36:08 -0700   35848 execution.bulk     INFO     Finished 3 / 3 lines.\n",
      "2024-09-23 12:36:08 -0700   35848 execution.bulk     INFO     Average execution time for completed lines: 1.74 seconds. Estimated time for incomplete lines: 0.0 seconds.\n"
     ]
    },
    {
     "name": "stderr",
     "output_type": "stream",
     "text": [
      "[2024-09-23 12:36:08 -0700][promptflow._utils.flow_utils][DEBUG] - Got lineage id 215893810571086/C:/Users/ninhu/AppData/Local/Temp/azure_ai_evaluation_evaluators_bleu_bleu_asyncbleuscoreevaluator__s3as2b6 from local since failed to get git info.\n",
      "[2024-09-23 12:36:08 -0700][promptflow._utils.flow_utils][DEBUG] - Got lineage id 215893810571086/C:/Users/ninhu/AppData/Local/Temp/azure_ai_evaluation_evaluators_gleu_gleu_asyncgleuscoreevaluator_vmu8ya57 from local since failed to get git info.\n",
      "[2024-09-23 12:36:08 -0700][promptflow._utils.flow_utils][DEBUG] - Got lineage id 215893810571086/C:/Users/ninhu/AppData/Local/Temp/azure_ai_evaluation_evaluators_gleu_gleu_asyncgleuscoreevaluator_vmu8ya57 from local since failed to get git info.\n",
      "[2024-09-23 12:36:08 -0700][promptflow._utils.flow_utils][DEBUG] - Got lineage id 215893810571086/C:/Users/ninhu/AppData/Local/Temp/azure_ai_evaluation_evaluators_meteor_meteor_asyncmeteorscoreevaluator_ddb39bi4 from local since failed to get git info.\n",
      "[2024-09-23 12:36:08 -0700][promptflow._utils.flow_utils][DEBUG] - Got lineage id 215893810571086/C:/Users/ninhu/AppData/Local/Temp/azure_ai_evaluation_evaluators_meteor_meteor_asyncmeteorscoreevaluator_ddb39bi4 from local since failed to get git info.\n",
      "[2024-09-23 12:36:08 -0700][promptflow._utils.flow_utils][DEBUG] - Got lineage id 215893810571086/C:/Users/ninhu/AppData/Local/Temp/azure_ai_evaluation_evaluators_meteor_meteor_asyncmeteorscoreevaluator_ddb39bi4 from local since failed to get git info.\n",
      "[2024-09-23 12:36:08 -0700][promptflow._utils.flow_utils][DEBUG] - Got lineage id 215893810571086/C:/Users/ninhu/AppData/Local/Temp/azure_ai_evaluation_evaluators_meteor_meteor_asyncmeteorscoreevaluator_ddb39bi4 from local since failed to get git info.\n",
      "[2024-09-23 12:36:08 -0700][promptflow._utils.flow_utils][DEBUG] - Got lineage id 215893810571086/C:/Users/ninhu/AppData/Local/Temp/azure_ai_evaluation_evaluators_meteor_meteor_asyncmeteorscoreevaluator_ddb39bi4 from local since failed to get git info.\n"
     ]
    },
    {
     "name": "stdout",
     "output_type": "stream",
     "text": [
      "2024-09-23 12:36:03 -0700   35848 execution          DEBUG    Start initializing the executor with <azure.ai.evaluation._evaluators._meteor._meteor._AsyncMeteorScoreEvaluator object at 0x00000260E2141750>.\n",
      "2024-09-23 12:36:03 -0700   35848 execution          DEBUG    Init params for script executor: None\n",
      "2024-09-23 12:36:03 -0700   35848 execution          DEBUG    Failed to load flow from file <azure.ai.evaluation._evaluators._meteor._meteor._AsyncMeteorScoreEvaluator object at 0x00000260E2141750> with error: join() argument must be str, bytes, or os.PathLike object, not '_AsyncMeteorScoreEvaluator'\n",
      "2024-09-23 12:36:03 -0700   35848 execution.bulk     INFO     Current thread is not main thread, skip signal handler registration in BatchEngine.\n",
      "2024-09-23 12:36:03 -0700   35848 execution          WARNING  Starting run without column mapping may lead to unexpected results. Please consult the following documentation for more information: https://aka.ms/pf/column-mapping\n",
      "2024-09-23 12:36:08 -0700   35848 execution.bulk     INFO     Finished 3 / 3 lines.\n",
      "2024-09-23 12:36:08 -0700   35848 execution.bulk     INFO     Average execution time for completed lines: 1.74 seconds. Estimated time for incomplete lines: 0.0 seconds.\n",
      "======= Run Summary =======\n",
      "\n",
      "Run name: \"azure_ai_evaluation_evaluators_meteor_meteor_asyncmeteorscoreevaluator_ddb39bi4_20240923_123602_609257\"\n",
      "Run status: \"Completed\"\n",
      "Start time: \"2024-09-23 12:36:02.609257-07:00\"\n",
      "Duration: \"0:00:06.111973\"\n",
      "Output path: \"C:\\Users\\ninhu\\.promptflow\\.runs\\azure_ai_evaluation_evaluators_meteor_meteor_asyncmeteorscoreevaluator_ddb39bi4_20240923_123602_609257\"\n",
      "\n"
     ]
    },
    {
     "name": "stderr",
     "output_type": "stream",
     "text": [
      "[2024-09-23 12:36:08 -0700][promptflow._utils.flow_utils][DEBUG] - Got lineage id 215893810571086/C:/Users/ninhu/AppData/Local/Temp/azure_ai_evaluation_evaluators_meteor_meteor_asyncmeteorscoreevaluator_ddb39bi4 from local since failed to get git info.\n",
      "[2024-09-23 12:36:08 -0700][promptflow._utils.flow_utils][DEBUG] - Got lineage id 215893810571086/C:/Users/ninhu/AppData/Local/Temp/azure_ai_evaluation_evaluators_rouge_rouge_asyncrougescoreevaluator_93wi4ccd from local since failed to get git info.\n",
      "[2024-09-23 12:36:08 -0700][promptflow._utils.flow_utils][DEBUG] - Got lineage id 215893810571086/C:/Users/ninhu/AppData/Local/Temp/azure_ai_evaluation_evaluators_rouge_rouge_asyncrougescoreevaluator_93wi4ccd from local since failed to get git info.\n",
      "ERROR:azure.ai.evaluation._evaluate._utils:Unable to log traces as trace destination was not defined.\n"
     ]
    }
   ],
   "source": [
    "import os\n",
    "from azure.ai.evaluation import evaluate\n",
    "\n",
    "azure_ai_project = {\n",
    "    \"subscription_id\": os.environ.get(\"AZURE_SUBSCRIPTION_ID\"),\n",
    "    \"resource_group_name\": os.environ.get(\"AZURE_RESOURCE_GROUP\"),\n",
    "    \"project_name\": os.environ.get(\"AZURE_PROJECT_NAME\"),\n",
    "}\n",
    "\n",
    "result = evaluate(\n",
    "    data=\"data.jsonl\",\n",
    "    evaluators={\n",
    "        \"bleu\": bleu,\n",
    "        \"gleu\": gleu,\n",
    "        \"meteor\": meteor,\n",
    "        \"rouge\": rouge,\n",
    "    },\n",
    "    # Optionally provide your AI Studio project information to track your evaluation results in your Azure AI Studio project\n",
    "    azure_ai_project=azure_ai_project\n",
    ")"
   ]
  },
  {
   "cell_type": "markdown",
   "metadata": {},
   "source": [
    "View the results"
   ]
  },
  {
   "cell_type": "code",
   "execution_count": 7,
   "metadata": {},
   "outputs": [
    {
     "name": "stdout",
     "output_type": "stream",
     "text": [
      "{'metrics': {'bleu.bleu_score': 0.27619794053333335,\n",
      "             'gleu.gleu_score': 0.34843304843333334,\n",
      "             'meteor.meteor_score': 0.7349908339666668,\n",
      "             'rouge.rouge_f1_score': 0.5913715913666667,\n",
      "             'rouge.rouge_precision': 0.6666666666666666,\n",
      "             'rouge.rouge_recall': 0.5321428571333334},\n",
      " 'rows': [{'inputs.ground_truth': 'A cat is sitting on the mat.',\n",
      "           'inputs.response': 'The cat sits on the mat.',\n",
      "           'outputs.bleu.bleu_score': 0.37684991640000004,\n",
      "           'outputs.gleu.gleu_score': 0.4230769231,\n",
      "           'outputs.meteor.meteor_score': 0.7454289733,\n",
      "           'outputs.rouge.rouge_f1_score': 0.6153846154,\n",
      "           'outputs.rouge.rouge_precision': 0.6666666667000001,\n",
      "           'outputs.rouge.rouge_recall': 0.5714285714},\n",
      "          {'inputs.ground_truth': 'She loves to read books.',\n",
      "           'inputs.response': 'She enjoys reading books.',\n",
      "           'outputs.bleu.bleu_score': 0.1098261402,\n",
      "           'outputs.gleu.gleu_score': 0.2222222222,\n",
      "           'outputs.meteor.meteor_score': 0.8203389831000001,\n",
      "           'outputs.rouge.rouge_f1_score': 0.4444444444,\n",
      "           'outputs.rouge.rouge_precision': 0.5,\n",
      "           'outputs.rouge.rouge_recall': 0.4},\n",
      "          {'inputs.ground_truth': 'He ran to the store in a hurry.',\n",
      "           'inputs.response': 'He quickly ran to the store.',\n",
      "           'outputs.bleu.bleu_score': 0.34191776500000004,\n",
      "           'outputs.gleu.gleu_score': 0.4,\n",
      "           'outputs.meteor.meteor_score': 0.6392045455,\n",
      "           'outputs.rouge.rouge_f1_score': 0.7142857143,\n",
      "           'outputs.rouge.rouge_precision': 0.8333333333,\n",
      "           'outputs.rouge.rouge_recall': 0.625}],\n",
      " 'studio_url': None}\n"
     ]
    }
   ],
   "source": [
    "from pprint import pprint\n",
    "pprint(result)"
   ]
  }
 ],
 "metadata": {
  "kernelspec": {
   "display_name": "env",
   "language": "python",
   "name": "python3"
  },
  "language_info": {
   "codemirror_mode": {
    "name": "ipython",
    "version": 3
   },
   "file_extension": ".py",
   "mimetype": "text/x-python",
   "name": "python",
   "nbconvert_exporter": "python",
   "pygments_lexer": "ipython3",
   "version": "3.10.11"
  }
 },
 "nbformat": 4,
 "nbformat_minor": 2
}
