{
 "cells": [
  {
   "cell_type": "markdown",
   "metadata": {},
   "source": [
    "# Evaluate AI agents (Azure AI Agent Service) in Azure AI Foundry"
   ]
  },
  {
   "cell_type": "markdown",
   "metadata": {},
   "source": [
    "## Objective\n",
    "\n",
    "\n",
    "This sample demonstrates how to evaluate an AI agent (Azure AI Agent Service) on these important aspects of your agentic workflow:\n",
    "\n",
    "- Intent Resolution: Measures how well the agent identifies the user’s request, including how well it scopes the user’s intent, asks clarifying questions, and reminds end users of its scope of capabilities.\n",
    "- Tool Call Accuracy: Evaluates the agent's ability to select the appropriate tools, and process correct parameters from previous steps.\n",
    "- Task Adherence: Measures how well the agent’s response adheres to its assigned tasks, according to its system message and prior steps.\n",
    "\n",
    "For AI agents outside of Azure AI Agent Service, you can still provide th agent data in the two formats (either simple data or agent messages) specified in the individual evaluator samples:\n",
    "- [Intent resolution](https://aka.ms/intentresolution-sample)\n",
    "- [Tool call accuracy](https://aka.ms/toolcallaccuracy-sample)\n",
    "- [Task adherence](https://aka.ms/taskadherence-sample)\n",
    "- [Response Completeness](https://aka.ms/rescompleteness-sample)\n",
    "\n",
    "\n",
    "\n",
    "## Time \n",
    "\n",
    "You should expect to spend about 20 minutes running this notebook. \n",
    "\n",
    "## Before you begin\n",
    "Creating an agent using Azure AI agent service requires an Azure AI Foundry project and a deployed, supported model. See more details in [Create a new agent](https://learn.microsoft.com/azure/ai-services/agents/quickstart?pivots=ai-foundry-portal).\n",
    "\n",
    "For quality evaluation, you need to deploy a `gpt` model supporting JSON mode. We recommend a model `gpt-4o` or `gpt-4o-mini` for their strong reasoning capabilities.    \n",
    "\n",
    "Important: Make sure to authenticate to Azure using `az login` in your terminal before running this notebook.\n",
    "\n",
    "### Prerequisite\n",
    "\n",
    "Before running the sample:\n",
    "```bash\n",
    "pip install azure-ai-projects azure-identity azure-ai-evaluation\n",
    "```\n",
    "Set these environment variables with your own values:\n",
    "1) **PROJECT_CONNECTION_STRING** - The project connection string, as found in the overview page of your Azure AI Foundry project.\n",
    "2) **MODEL_DEPLOYMENT_NAME** - The deployment name of the model for AI-assisted evaluators, as found under the \"Name\" column in the \"Models + endpoints\" tab in your Azure AI Foundry project.\n",
    "3) **AZURE_OPENAI_ENDPOINT** - Azure Open AI Endpoint to be used for evaluation.\n",
    "4) **AZURE_OPENAI_API_KEY** - Azure Open AI Key to be used for evaluation.\n",
    "5) **AZURE_OPENAI_API_VERSION** - Azure Open AI Api version to be used for evaluation.\n",
    "6) **AZURE_SUBSCRIPTION_ID** - Azure Subscription Id of Azure AI Project\n",
    "7) **PROJECT_NAME** - Azure AI Project Name\n",
    "8) **RESOURCE_GROUP_NAME** - Azure AI Project Resource Group Name\n",
    "9) **AGENT_MODEL_DEPLOYMENT_NAME** - The deployment name of the model for your Azure AI agent, as found under the \"Name\" column in the \"Models + endpoints\" tab in your Azure AI Foundry project."
   ]
  },
  {
   "cell_type": "code",
   "execution_count": 1,
   "metadata": {},
   "outputs": [
    {
     "name": "stdout",
     "output_type": "stream",
     "text": [
      "Requirement already satisfied: azure-ai-projects in /Users/cv/Documents/Projects/azureai-samples/.venv/lib/python3.13/site-packages (1.0.0b11)\n",
      "Requirement already satisfied: azure-identity in /Users/cv/Documents/Projects/azureai-samples/.venv/lib/python3.13/site-packages (1.23.0)\n",
      "Requirement already satisfied: azure-ai-evaluation in /Users/cv/Documents/Projects/azureai-samples/.venv/lib/python3.13/site-packages (1.8.0)\n",
      "Requirement already satisfied: python-dotenv in /Users/cv/Documents/Projects/azureai-samples/.venv/lib/python3.13/site-packages (1.1.0)\n",
      "Requirement already satisfied: isodate>=0.6.1 in /Users/cv/Documents/Projects/azureai-samples/.venv/lib/python3.13/site-packages (from azure-ai-projects) (0.7.2)\n",
      "Requirement already satisfied: azure-core>=1.30.0 in /Users/cv/Documents/Projects/azureai-samples/.venv/lib/python3.13/site-packages (from azure-ai-projects) (1.34.0)\n",
      "Requirement already satisfied: typing-extensions>=4.12.2 in /Users/cv/Documents/Projects/azureai-samples/.venv/lib/python3.13/site-packages (from azure-ai-projects) (4.14.0)\n",
      "Requirement already satisfied: azure-storage-blob>=12.15.0 in /Users/cv/Documents/Projects/azureai-samples/.venv/lib/python3.13/site-packages (from azure-ai-projects) (12.25.1)\n",
      "Requirement already satisfied: azure-ai-agents>=1.0.0b1 in /Users/cv/Documents/Projects/azureai-samples/.venv/lib/python3.13/site-packages (from azure-ai-projects) (1.1.0b1)\n",
      "Requirement already satisfied: cryptography>=2.5 in /Users/cv/Documents/Projects/azureai-samples/.venv/lib/python3.13/site-packages (from azure-identity) (45.0.3)\n",
      "Requirement already satisfied: msal>=1.30.0 in /Users/cv/Documents/Projects/azureai-samples/.venv/lib/python3.13/site-packages (from azure-identity) (1.32.3)\n",
      "Requirement already satisfied: msal-extensions>=1.2.0 in /Users/cv/Documents/Projects/azureai-samples/.venv/lib/python3.13/site-packages (from azure-identity) (1.3.1)\n",
      "Requirement already satisfied: promptflow-devkit>=1.17.1 in /Users/cv/Documents/Projects/azureai-samples/.venv/lib/python3.13/site-packages (from azure-ai-evaluation) (1.18.0)\n",
      "Requirement already satisfied: promptflow-core>=1.17.1 in /Users/cv/Documents/Projects/azureai-samples/.venv/lib/python3.13/site-packages (from azure-ai-evaluation) (1.18.0)\n",
      "Requirement already satisfied: pyjwt>=2.8.0 in /Users/cv/Documents/Projects/azureai-samples/.venv/lib/python3.13/site-packages (from azure-ai-evaluation) (2.10.1)\n",
      "Requirement already satisfied: nltk>=3.9.1 in /Users/cv/Documents/Projects/azureai-samples/.venv/lib/python3.13/site-packages (from azure-ai-evaluation) (3.9.1)\n",
      "Requirement already satisfied: httpx>=0.25.1 in /Users/cv/Documents/Projects/azureai-samples/.venv/lib/python3.13/site-packages (from azure-ai-evaluation) (0.28.1)\n",
      "Requirement already satisfied: pandas<3.0.0,>=2.1.2 in /Users/cv/Documents/Projects/azureai-samples/.venv/lib/python3.13/site-packages (from azure-ai-evaluation) (2.2.3)\n",
      "Requirement already satisfied: openai>=1.78.0 in /Users/cv/Documents/Projects/azureai-samples/.venv/lib/python3.13/site-packages (from azure-ai-evaluation) (1.84.0)\n",
      "Requirement already satisfied: ruamel.yaml<1.0.0,>=0.17.10 in /Users/cv/Documents/Projects/azureai-samples/.venv/lib/python3.13/site-packages (from azure-ai-evaluation) (0.18.12)\n",
      "Requirement already satisfied: msrest>=0.6.21 in /Users/cv/Documents/Projects/azureai-samples/.venv/lib/python3.13/site-packages (from azure-ai-evaluation) (0.7.1)\n",
      "Requirement already satisfied: Jinja2>=3.1.6 in /Users/cv/Documents/Projects/azureai-samples/.venv/lib/python3.13/site-packages (from azure-ai-evaluation) (3.1.6)\n",
      "Requirement already satisfied: aiohttp>=3.0 in /Users/cv/Documents/Projects/azureai-samples/.venv/lib/python3.13/site-packages (from azure-ai-evaluation) (3.12.7)\n",
      "Requirement already satisfied: numpy>=1.26.0 in /Users/cv/Documents/Projects/azureai-samples/.venv/lib/python3.13/site-packages (from pandas<3.0.0,>=2.1.2->azure-ai-evaluation) (2.2.6)\n",
      "Requirement already satisfied: python-dateutil>=2.8.2 in /Users/cv/Documents/Projects/azureai-samples/.venv/lib/python3.13/site-packages (from pandas<3.0.0,>=2.1.2->azure-ai-evaluation) (2.9.0.post0)\n",
      "Requirement already satisfied: pytz>=2020.1 in /Users/cv/Documents/Projects/azureai-samples/.venv/lib/python3.13/site-packages (from pandas<3.0.0,>=2.1.2->azure-ai-evaluation) (2025.2)\n",
      "Requirement already satisfied: tzdata>=2022.7 in /Users/cv/Documents/Projects/azureai-samples/.venv/lib/python3.13/site-packages (from pandas<3.0.0,>=2.1.2->azure-ai-evaluation) (2025.2)\n",
      "Requirement already satisfied: ruamel.yaml.clib>=0.2.7 in /Users/cv/Documents/Projects/azureai-samples/.venv/lib/python3.13/site-packages (from ruamel.yaml<1.0.0,>=0.17.10->azure-ai-evaluation) (0.2.12)\n",
      "Requirement already satisfied: aiohappyeyeballs>=2.5.0 in /Users/cv/Documents/Projects/azureai-samples/.venv/lib/python3.13/site-packages (from aiohttp>=3.0->azure-ai-evaluation) (2.6.1)\n",
      "Requirement already satisfied: aiosignal>=1.1.2 in /Users/cv/Documents/Projects/azureai-samples/.venv/lib/python3.13/site-packages (from aiohttp>=3.0->azure-ai-evaluation) (1.3.2)\n",
      "Requirement already satisfied: attrs>=17.3.0 in /Users/cv/Documents/Projects/azureai-samples/.venv/lib/python3.13/site-packages (from aiohttp>=3.0->azure-ai-evaluation) (25.3.0)\n",
      "Requirement already satisfied: frozenlist>=1.1.1 in /Users/cv/Documents/Projects/azureai-samples/.venv/lib/python3.13/site-packages (from aiohttp>=3.0->azure-ai-evaluation) (1.6.0)\n",
      "Requirement already satisfied: multidict<7.0,>=4.5 in /Users/cv/Documents/Projects/azureai-samples/.venv/lib/python3.13/site-packages (from aiohttp>=3.0->azure-ai-evaluation) (6.4.4)\n",
      "Requirement already satisfied: propcache>=0.2.0 in /Users/cv/Documents/Projects/azureai-samples/.venv/lib/python3.13/site-packages (from aiohttp>=3.0->azure-ai-evaluation) (0.3.1)\n",
      "Requirement already satisfied: yarl<2.0,>=1.17.0 in /Users/cv/Documents/Projects/azureai-samples/.venv/lib/python3.13/site-packages (from aiohttp>=3.0->azure-ai-evaluation) (1.20.0)\n",
      "Requirement already satisfied: idna>=2.0 in /Users/cv/Documents/Projects/azureai-samples/.venv/lib/python3.13/site-packages (from yarl<2.0,>=1.17.0->aiohttp>=3.0->azure-ai-evaluation) (3.10)\n",
      "Requirement already satisfied: requests>=2.21.0 in /Users/cv/Documents/Projects/azureai-samples/.venv/lib/python3.13/site-packages (from azure-core>=1.30.0->azure-ai-projects) (2.32.3)\n",
      "Requirement already satisfied: six>=1.11.0 in /Users/cv/Documents/Projects/azureai-samples/.venv/lib/python3.13/site-packages (from azure-core>=1.30.0->azure-ai-projects) (1.17.0)\n",
      "Requirement already satisfied: cffi>=1.14 in /Users/cv/Documents/Projects/azureai-samples/.venv/lib/python3.13/site-packages (from cryptography>=2.5->azure-identity) (1.17.1)\n",
      "Requirement already satisfied: pycparser in /Users/cv/Documents/Projects/azureai-samples/.venv/lib/python3.13/site-packages (from cffi>=1.14->cryptography>=2.5->azure-identity) (2.22)\n",
      "Requirement already satisfied: anyio in /Users/cv/Documents/Projects/azureai-samples/.venv/lib/python3.13/site-packages (from httpx>=0.25.1->azure-ai-evaluation) (4.9.0)\n",
      "Requirement already satisfied: certifi in /Users/cv/Documents/Projects/azureai-samples/.venv/lib/python3.13/site-packages (from httpx>=0.25.1->azure-ai-evaluation) (2025.4.26)\n",
      "Requirement already satisfied: httpcore==1.* in /Users/cv/Documents/Projects/azureai-samples/.venv/lib/python3.13/site-packages (from httpx>=0.25.1->azure-ai-evaluation) (1.0.9)\n",
      "Requirement already satisfied: h11>=0.16 in /Users/cv/Documents/Projects/azureai-samples/.venv/lib/python3.13/site-packages (from httpcore==1.*->httpx>=0.25.1->azure-ai-evaluation) (0.16.0)\n",
      "Requirement already satisfied: MarkupSafe>=2.0 in /Users/cv/Documents/Projects/azureai-samples/.venv/lib/python3.13/site-packages (from Jinja2>=3.1.6->azure-ai-evaluation) (3.0.2)\n",
      "Requirement already satisfied: charset-normalizer<4,>=2 in /Users/cv/Documents/Projects/azureai-samples/.venv/lib/python3.13/site-packages (from requests>=2.21.0->azure-core>=1.30.0->azure-ai-projects) (3.4.2)\n",
      "Requirement already satisfied: urllib3<3,>=1.21.1 in /Users/cv/Documents/Projects/azureai-samples/.venv/lib/python3.13/site-packages (from requests>=2.21.0->azure-core>=1.30.0->azure-ai-projects) (2.4.0)\n",
      "Requirement already satisfied: requests-oauthlib>=0.5.0 in /Users/cv/Documents/Projects/azureai-samples/.venv/lib/python3.13/site-packages (from msrest>=0.6.21->azure-ai-evaluation) (2.0.0)\n",
      "Requirement already satisfied: click in /Users/cv/Documents/Projects/azureai-samples/.venv/lib/python3.13/site-packages (from nltk>=3.9.1->azure-ai-evaluation) (8.2.1)\n",
      "Requirement already satisfied: joblib in /Users/cv/Documents/Projects/azureai-samples/.venv/lib/python3.13/site-packages (from nltk>=3.9.1->azure-ai-evaluation) (1.5.1)\n",
      "Requirement already satisfied: regex>=2021.8.3 in /Users/cv/Documents/Projects/azureai-samples/.venv/lib/python3.13/site-packages (from nltk>=3.9.1->azure-ai-evaluation) (2024.11.6)\n",
      "Requirement already satisfied: tqdm in /Users/cv/Documents/Projects/azureai-samples/.venv/lib/python3.13/site-packages (from nltk>=3.9.1->azure-ai-evaluation) (4.67.1)\n",
      "Requirement already satisfied: distro<2,>=1.7.0 in /Users/cv/Documents/Projects/azureai-samples/.venv/lib/python3.13/site-packages (from openai>=1.78.0->azure-ai-evaluation) (1.9.0)\n",
      "Requirement already satisfied: jiter<1,>=0.4.0 in /Users/cv/Documents/Projects/azureai-samples/.venv/lib/python3.13/site-packages (from openai>=1.78.0->azure-ai-evaluation) (0.10.0)\n",
      "Requirement already satisfied: pydantic<3,>=1.9.0 in /Users/cv/Documents/Projects/azureai-samples/.venv/lib/python3.13/site-packages (from openai>=1.78.0->azure-ai-evaluation) (2.11.5)\n",
      "Requirement already satisfied: sniffio in /Users/cv/Documents/Projects/azureai-samples/.venv/lib/python3.13/site-packages (from openai>=1.78.0->azure-ai-evaluation) (1.3.1)\n",
      "Requirement already satisfied: annotated-types>=0.6.0 in /Users/cv/Documents/Projects/azureai-samples/.venv/lib/python3.13/site-packages (from pydantic<3,>=1.9.0->openai>=1.78.0->azure-ai-evaluation) (0.7.0)\n",
      "Requirement already satisfied: pydantic-core==2.33.2 in /Users/cv/Documents/Projects/azureai-samples/.venv/lib/python3.13/site-packages (from pydantic<3,>=1.9.0->openai>=1.78.0->azure-ai-evaluation) (2.33.2)\n",
      "Requirement already satisfied: typing-inspection>=0.4.0 in /Users/cv/Documents/Projects/azureai-samples/.venv/lib/python3.13/site-packages (from pydantic<3,>=1.9.0->openai>=1.78.0->azure-ai-evaluation) (0.4.1)\n",
      "Requirement already satisfied: docstring_parser in /Users/cv/Documents/Projects/azureai-samples/.venv/lib/python3.13/site-packages (from promptflow-core>=1.17.1->azure-ai-evaluation) (0.16)\n",
      "Requirement already satisfied: fastapi<1.0.0,>=0.109.0 in /Users/cv/Documents/Projects/azureai-samples/.venv/lib/python3.13/site-packages (from promptflow-core>=1.17.1->azure-ai-evaluation) (0.115.12)\n",
      "Requirement already satisfied: filetype>=1.2.0 in /Users/cv/Documents/Projects/azureai-samples/.venv/lib/python3.13/site-packages (from promptflow-core>=1.17.1->azure-ai-evaluation) (1.2.0)\n",
      "Requirement already satisfied: flask<4.0.0,>=2.2.3 in /Users/cv/Documents/Projects/azureai-samples/.venv/lib/python3.13/site-packages (from promptflow-core>=1.17.1->azure-ai-evaluation) (3.1.1)\n",
      "Requirement already satisfied: jsonschema<5.0.0,>=4.0.0 in /Users/cv/Documents/Projects/azureai-samples/.venv/lib/python3.13/site-packages (from promptflow-core>=1.17.1->azure-ai-evaluation) (4.24.0)\n",
      "Requirement already satisfied: promptflow-tracing==1.18.0 in /Users/cv/Documents/Projects/azureai-samples/.venv/lib/python3.13/site-packages (from promptflow-core>=1.17.1->azure-ai-evaluation) (1.18.0)\n",
      "Requirement already satisfied: psutil in /Users/cv/Documents/Projects/azureai-samples/.venv/lib/python3.13/site-packages (from promptflow-core>=1.17.1->azure-ai-evaluation) (7.0.0)\n",
      "Requirement already satisfied: opentelemetry-sdk<2.0.0,>=1.22.0 in /Users/cv/Documents/Projects/azureai-samples/.venv/lib/python3.13/site-packages (from promptflow-tracing==1.18.0->promptflow-core>=1.17.1->azure-ai-evaluation) (1.33.1)\n",
      "Requirement already satisfied: tiktoken>=0.4.0 in /Users/cv/Documents/Projects/azureai-samples/.venv/lib/python3.13/site-packages (from promptflow-tracing==1.18.0->promptflow-core>=1.17.1->azure-ai-evaluation) (0.9.0)\n",
      "Requirement already satisfied: starlette<0.47.0,>=0.40.0 in /Users/cv/Documents/Projects/azureai-samples/.venv/lib/python3.13/site-packages (from fastapi<1.0.0,>=0.109.0->promptflow-core>=1.17.1->azure-ai-evaluation) (0.46.2)\n",
      "Requirement already satisfied: blinker>=1.9.0 in /Users/cv/Documents/Projects/azureai-samples/.venv/lib/python3.13/site-packages (from flask<4.0.0,>=2.2.3->promptflow-core>=1.17.1->azure-ai-evaluation) (1.9.0)\n",
      "Requirement already satisfied: itsdangerous>=2.2.0 in /Users/cv/Documents/Projects/azureai-samples/.venv/lib/python3.13/site-packages (from flask<4.0.0,>=2.2.3->promptflow-core>=1.17.1->azure-ai-evaluation) (2.2.0)\n",
      "Requirement already satisfied: werkzeug>=3.1.0 in /Users/cv/Documents/Projects/azureai-samples/.venv/lib/python3.13/site-packages (from flask<4.0.0,>=2.2.3->promptflow-core>=1.17.1->azure-ai-evaluation) (3.1.3)\n",
      "Requirement already satisfied: jsonschema-specifications>=2023.03.6 in /Users/cv/Documents/Projects/azureai-samples/.venv/lib/python3.13/site-packages (from jsonschema<5.0.0,>=4.0.0->promptflow-core>=1.17.1->azure-ai-evaluation) (2025.4.1)\n",
      "Requirement already satisfied: referencing>=0.28.4 in /Users/cv/Documents/Projects/azureai-samples/.venv/lib/python3.13/site-packages (from jsonschema<5.0.0,>=4.0.0->promptflow-core>=1.17.1->azure-ai-evaluation) (0.36.2)\n",
      "Requirement already satisfied: rpds-py>=0.7.1 in /Users/cv/Documents/Projects/azureai-samples/.venv/lib/python3.13/site-packages (from jsonschema<5.0.0,>=4.0.0->promptflow-core>=1.17.1->azure-ai-evaluation) (0.25.1)\n",
      "Requirement already satisfied: opentelemetry-api==1.33.1 in /Users/cv/Documents/Projects/azureai-samples/.venv/lib/python3.13/site-packages (from opentelemetry-sdk<2.0.0,>=1.22.0->promptflow-tracing==1.18.0->promptflow-core>=1.17.1->azure-ai-evaluation) (1.33.1)\n",
      "Requirement already satisfied: opentelemetry-semantic-conventions==0.54b1 in /Users/cv/Documents/Projects/azureai-samples/.venv/lib/python3.13/site-packages (from opentelemetry-sdk<2.0.0,>=1.22.0->promptflow-tracing==1.18.0->promptflow-core>=1.17.1->azure-ai-evaluation) (0.54b1)\n",
      "Requirement already satisfied: deprecated>=1.2.6 in /Users/cv/Documents/Projects/azureai-samples/.venv/lib/python3.13/site-packages (from opentelemetry-api==1.33.1->opentelemetry-sdk<2.0.0,>=1.22.0->promptflow-tracing==1.18.0->promptflow-core>=1.17.1->azure-ai-evaluation) (1.2.18)\n",
      "Requirement already satisfied: importlib-metadata<8.7.0,>=6.0 in /Users/cv/Documents/Projects/azureai-samples/.venv/lib/python3.13/site-packages (from opentelemetry-api==1.33.1->opentelemetry-sdk<2.0.0,>=1.22.0->promptflow-tracing==1.18.0->promptflow-core>=1.17.1->azure-ai-evaluation) (8.6.1)\n",
      "Requirement already satisfied: zipp>=3.20 in /Users/cv/Documents/Projects/azureai-samples/.venv/lib/python3.13/site-packages (from importlib-metadata<8.7.0,>=6.0->opentelemetry-api==1.33.1->opentelemetry-sdk<2.0.0,>=1.22.0->promptflow-tracing==1.18.0->promptflow-core>=1.17.1->azure-ai-evaluation) (3.22.0)\n",
      "Requirement already satisfied: wrapt<2,>=1.10 in /Users/cv/Documents/Projects/azureai-samples/.venv/lib/python3.13/site-packages (from deprecated>=1.2.6->opentelemetry-api==1.33.1->opentelemetry-sdk<2.0.0,>=1.22.0->promptflow-tracing==1.18.0->promptflow-core>=1.17.1->azure-ai-evaluation) (1.17.2)\n",
      "Requirement already satisfied: argcomplete>=3.2.3 in /Users/cv/Documents/Projects/azureai-samples/.venv/lib/python3.13/site-packages (from promptflow-devkit>=1.17.1->azure-ai-evaluation) (3.6.2)\n",
      "Requirement already satisfied: azure-monitor-opentelemetry-exporter<2.0.0,>=1.0.0b21 in /Users/cv/Documents/Projects/azureai-samples/.venv/lib/python3.13/site-packages (from promptflow-devkit>=1.17.1->azure-ai-evaluation) (1.0.0b37)\n",
      "Requirement already satisfied: colorama<0.5.0,>=0.4.6 in /Users/cv/Documents/Projects/azureai-samples/.venv/lib/python3.13/site-packages (from promptflow-devkit>=1.17.1->azure-ai-evaluation) (0.4.6)\n",
      "Requirement already satisfied: filelock<4.0.0,>=3.4.0 in /Users/cv/Documents/Projects/azureai-samples/.venv/lib/python3.13/site-packages (from promptflow-devkit>=1.17.1->azure-ai-evaluation) (3.18.0)\n",
      "Requirement already satisfied: flask-cors<6.0.0,>=5.0.0 in /Users/cv/Documents/Projects/azureai-samples/.venv/lib/python3.13/site-packages (from promptflow-devkit>=1.17.1->azure-ai-evaluation) (5.0.1)\n",
      "Requirement already satisfied: flask-restx<2.0.0,>=1.2.0 in /Users/cv/Documents/Projects/azureai-samples/.venv/lib/python3.13/site-packages (from promptflow-devkit>=1.17.1->azure-ai-evaluation) (1.3.0)\n",
      "Requirement already satisfied: gitpython<4.0.0,>=3.1.24 in /Users/cv/Documents/Projects/azureai-samples/.venv/lib/python3.13/site-packages (from promptflow-devkit>=1.17.1->azure-ai-evaluation) (3.1.44)\n",
      "Requirement already satisfied: keyring<25.0.0,>=24.2.0 in /Users/cv/Documents/Projects/azureai-samples/.venv/lib/python3.13/site-packages (from promptflow-devkit>=1.17.1->azure-ai-evaluation) (24.3.1)\n",
      "Requirement already satisfied: marshmallow<4.0.0,>=3.5 in /Users/cv/Documents/Projects/azureai-samples/.venv/lib/python3.13/site-packages (from promptflow-devkit>=1.17.1->azure-ai-evaluation) (3.26.1)\n",
      "Requirement already satisfied: opentelemetry-exporter-otlp-proto-http<2.0.0,>=1.22.0 in /Users/cv/Documents/Projects/azureai-samples/.venv/lib/python3.13/site-packages (from promptflow-devkit>=1.17.1->azure-ai-evaluation) (1.33.1)\n",
      "Requirement already satisfied: pillow<11.1.0,>=10.1.0 in /Users/cv/Documents/Projects/azureai-samples/.venv/lib/python3.13/site-packages (from promptflow-devkit>=1.17.1->azure-ai-evaluation) (11.0.0)\n",
      "Requirement already satisfied: pydash<8.0.0,>=6.0.0 in /Users/cv/Documents/Projects/azureai-samples/.venv/lib/python3.13/site-packages (from promptflow-devkit>=1.17.1->azure-ai-evaluation) (7.0.7)\n",
      "Requirement already satisfied: sqlalchemy<3.0.0,>=1.4.48 in /Users/cv/Documents/Projects/azureai-samples/.venv/lib/python3.13/site-packages (from promptflow-devkit>=1.17.1->azure-ai-evaluation) (2.0.41)\n",
      "Requirement already satisfied: strictyaml<2.0.0,>=1.5.0 in /Users/cv/Documents/Projects/azureai-samples/.venv/lib/python3.13/site-packages (from promptflow-devkit>=1.17.1->azure-ai-evaluation) (1.7.3)\n",
      "Requirement already satisfied: tabulate<1.0.0,>=0.9.0 in /Users/cv/Documents/Projects/azureai-samples/.venv/lib/python3.13/site-packages (from promptflow-devkit>=1.17.1->azure-ai-evaluation) (0.9.0)\n",
      "Requirement already satisfied: waitress<4.0.0,>=3.0.0 in /Users/cv/Documents/Projects/azureai-samples/.venv/lib/python3.13/site-packages (from promptflow-devkit>=1.17.1->azure-ai-evaluation) (3.0.2)\n",
      "Requirement already satisfied: fixedint==0.1.6 in /Users/cv/Documents/Projects/azureai-samples/.venv/lib/python3.13/site-packages (from azure-monitor-opentelemetry-exporter<2.0.0,>=1.0.0b21->promptflow-devkit>=1.17.1->azure-ai-evaluation) (0.1.6)\n",
      "Requirement already satisfied: aniso8601>=0.82 in /Users/cv/Documents/Projects/azureai-samples/.venv/lib/python3.13/site-packages (from flask-restx<2.0.0,>=1.2.0->promptflow-devkit>=1.17.1->azure-ai-evaluation) (10.0.1)\n",
      "Requirement already satisfied: importlib-resources in /Users/cv/Documents/Projects/azureai-samples/.venv/lib/python3.13/site-packages (from flask-restx<2.0.0,>=1.2.0->promptflow-devkit>=1.17.1->azure-ai-evaluation) (6.5.2)\n",
      "Requirement already satisfied: gitdb<5,>=4.0.1 in /Users/cv/Documents/Projects/azureai-samples/.venv/lib/python3.13/site-packages (from gitpython<4.0.0,>=3.1.24->promptflow-devkit>=1.17.1->azure-ai-evaluation) (4.0.12)\n",
      "Requirement already satisfied: smmap<6,>=3.0.1 in /Users/cv/Documents/Projects/azureai-samples/.venv/lib/python3.13/site-packages (from gitdb<5,>=4.0.1->gitpython<4.0.0,>=3.1.24->promptflow-devkit>=1.17.1->azure-ai-evaluation) (5.0.2)\n",
      "Requirement already satisfied: jaraco.classes in /Users/cv/Documents/Projects/azureai-samples/.venv/lib/python3.13/site-packages (from keyring<25.0.0,>=24.2.0->promptflow-devkit>=1.17.1->azure-ai-evaluation) (3.4.0)\n",
      "Requirement already satisfied: packaging>=17.0 in /Users/cv/Documents/Projects/azureai-samples/.venv/lib/python3.13/site-packages (from marshmallow<4.0.0,>=3.5->promptflow-devkit>=1.17.1->azure-ai-evaluation) (25.0)\n",
      "Requirement already satisfied: googleapis-common-protos~=1.52 in /Users/cv/Documents/Projects/azureai-samples/.venv/lib/python3.13/site-packages (from opentelemetry-exporter-otlp-proto-http<2.0.0,>=1.22.0->promptflow-devkit>=1.17.1->azure-ai-evaluation) (1.70.0)\n",
      "Requirement already satisfied: opentelemetry-exporter-otlp-proto-common==1.33.1 in /Users/cv/Documents/Projects/azureai-samples/.venv/lib/python3.13/site-packages (from opentelemetry-exporter-otlp-proto-http<2.0.0,>=1.22.0->promptflow-devkit>=1.17.1->azure-ai-evaluation) (1.33.1)\n",
      "Requirement already satisfied: opentelemetry-proto==1.33.1 in /Users/cv/Documents/Projects/azureai-samples/.venv/lib/python3.13/site-packages (from opentelemetry-exporter-otlp-proto-http<2.0.0,>=1.22.0->promptflow-devkit>=1.17.1->azure-ai-evaluation) (1.33.1)\n",
      "Requirement already satisfied: protobuf<6.0,>=5.0 in /Users/cv/Documents/Projects/azureai-samples/.venv/lib/python3.13/site-packages (from opentelemetry-proto==1.33.1->opentelemetry-exporter-otlp-proto-http<2.0.0,>=1.22.0->promptflow-devkit>=1.17.1->azure-ai-evaluation) (5.29.5)\n",
      "Requirement already satisfied: oauthlib>=3.0.0 in /Users/cv/Documents/Projects/azureai-samples/.venv/lib/python3.13/site-packages (from requests-oauthlib>=0.5.0->msrest>=0.6.21->azure-ai-evaluation) (3.2.2)\n",
      "Requirement already satisfied: more-itertools in /Users/cv/Documents/Projects/azureai-samples/.venv/lib/python3.13/site-packages (from jaraco.classes->keyring<25.0.0,>=24.2.0->promptflow-devkit>=1.17.1->azure-ai-evaluation) (10.7.0)\n",
      "Note: you may need to restart the kernel to use updated packages.\n"
     ]
    }
   ],
   "source": [
    "%pip install azure-ai-projects azure-identity azure-ai-evaluation python-dotenv"
   ]
  },
  {
   "cell_type": "code",
   "execution_count": 2,
   "metadata": {},
   "outputs": [
    {
     "data": {
      "text/plain": [
       "True"
      ]
     },
     "execution_count": 2,
     "metadata": {},
     "output_type": "execute_result"
    }
   ],
   "source": [
    "from dotenv import load_dotenv, find_dotenv\n",
    "load_dotenv(verbose=True, dotenv_path=find_dotenv(\".env.1rp.swedencentral\"))"
   ]
  },
  {
   "cell_type": "markdown",
   "metadata": {},
   "source": [
    "### Initializing Project Client"
   ]
  },
  {
   "cell_type": "code",
   "execution_count": 3,
   "metadata": {},
   "outputs": [],
   "source": [
    "import os\n",
    "from azure.ai.projects import AIProjectClient\n",
    "from azure.identity import DefaultAzureCredential\n",
    "from azure.ai.agents.models import FunctionTool, ToolSet, ListSortOrder\n",
    "\n",
    "# Import your custom functions to be used as Tools for the Agent\n",
    "from user_functions import user_functions\n",
    "\n",
    "project_client = AIProjectClient(\n",
    "    credential=DefaultAzureCredential(),\n",
    "    endpoint=os.environ[\"AZURE_AI_PROJECT\"],\n",
    ")\n",
    "\n",
    "AGENT_NAME = \"Seattle Tourist Assistant\"\n",
    "\n",
    "# Add Tools to be used by Agent\n",
    "functions = FunctionTool(user_functions)\n",
    "\n",
    "toolset = ToolSet()\n",
    "toolset.add(functions)\n",
    "\n",
    "# To enable tool calls executed automatically\n",
    "project_client.agents.enable_auto_function_calls(toolset)"
   ]
  },
  {
   "cell_type": "markdown",
   "metadata": {},
   "source": [
    "### Create an AI agent (Azure AI Agent Service)"
   ]
  },
  {
   "cell_type": "code",
   "execution_count": 4,
   "metadata": {},
   "outputs": [
    {
     "name": "stdout",
     "output_type": "stream",
     "text": [
      "Created agent, ID: asst_4plunuKy4SZ0qOUdtUgiBn0e\n"
     ]
    }
   ],
   "source": [
    "agent = project_client.agents.create_agent(\n",
    "    model=os.environ[\"AGENT_MODEL_DEPLOYMENT_NAME\"],\n",
    "    name=AGENT_NAME,\n",
    "    instructions=\"You are a helpful assistant\",\n",
    "    toolset=toolset,\n",
    ")\n",
    "\n",
    "print(f\"Created agent, ID: {agent.id}\")"
   ]
  },
  {
   "cell_type": "markdown",
   "metadata": {},
   "source": [
    "### Create Thread"
   ]
  },
  {
   "cell_type": "code",
   "execution_count": 5,
   "metadata": {},
   "outputs": [
    {
     "name": "stdout",
     "output_type": "stream",
     "text": [
      "Created thread, ID: thread_WXoBU8sMCJqpH5OXwOKIV3Ac\n"
     ]
    }
   ],
   "source": [
    "thread = project_client.agents.threads.create()\n",
    "print(f\"Created thread, ID: {thread.id}\")"
   ]
  },
  {
   "cell_type": "markdown",
   "metadata": {},
   "source": [
    "## Conversation with Agent\n",
    "Use below cells to have conversation with the agent\n",
    "- `Create Message[1]`\n",
    "- `Execute[2]`"
   ]
  },
  {
   "cell_type": "markdown",
   "metadata": {},
   "source": [
    "### Create Message[1]"
   ]
  },
  {
   "cell_type": "code",
   "execution_count": 6,
   "metadata": {},
   "outputs": [
    {
     "name": "stdout",
     "output_type": "stream",
     "text": [
      "Created message, ID: msg_sCqtNa24xkcxjVRRs1lG3fvD\n"
     ]
    }
   ],
   "source": [
    "# Create message to thread\n",
    "\n",
    "MESSAGE = \"Can you email me weather info for Seattle ?\"\n",
    "\n",
    "message = project_client.agents.messages.create(thread_id=thread.id, role=\"user\", content=MESSAGE)\n",
    "print(f\"Created message, ID: {message.id}\")"
   ]
  },
  {
   "cell_type": "markdown",
   "metadata": {},
   "source": [
    "### Execute[2]"
   ]
  },
  {
   "cell_type": "code",
   "execution_count": 7,
   "metadata": {},
   "outputs": [
    {
     "name": "stdout",
     "output_type": "stream",
     "text": [
      "Run finished with status: RunStatus.COMPLETED\n",
      "Run ID: run_YxXKo0irHJe8pa9xZ3RJrQNe\n"
     ]
    }
   ],
   "source": [
    "run = project_client.agents.runs.create_and_process(thread_id=thread.id, agent_id=agent.id)\n",
    "\n",
    "print(f\"Run finished with status: {run.status}\")\n",
    "\n",
    "if run.status == \"failed\":\n",
    "    print(f\"Run failed: {run.last_error}\")\n",
    "\n",
    "print(f\"Run ID: {run.id}\")"
   ]
  },
  {
   "cell_type": "markdown",
   "metadata": {},
   "source": [
    "### List Messages"
   ]
  },
  {
   "cell_type": "code",
   "execution_count": 8,
   "metadata": {},
   "outputs": [
    {
     "name": "stdout",
     "output_type": "stream",
     "text": [
      "Role: MessageRole.USER\n",
      "Content: Can you email me weather info for Seattle ?\n",
      "----------------------------------------\n",
      "Role: MessageRole.AGENT\n",
      "Content: The current weather in Seattle is **Rainy, 14°C**. Could you please provide your email address so I can send this information to you?\n",
      "----------------------------------------\n"
     ]
    }
   ],
   "source": [
    "for message in project_client.agents.messages.list(thread_id=thread.id, order=ListSortOrder.ASCENDING):\n",
    "    print(f\"Role: {message.role}\")\n",
    "    print(f\"Content: {message.content[0].text.value}\")\n",
    "    print(\"-\" * 40)"
   ]
  },
  {
   "cell_type": "markdown",
   "metadata": {},
   "source": [
    "# Evaluate"
   ]
  },
  {
   "cell_type": "markdown",
   "metadata": {},
   "source": [
    "### Get data from agent"
   ]
  },
  {
   "cell_type": "code",
   "execution_count": 9,
   "metadata": {},
   "outputs": [
    {
     "name": "stderr",
     "output_type": "stream",
     "text": [
      "Class AIAgentConverter: This is an experimental class, and may change at any time. Please see https://aka.ms/azuremlexperimental for more information.\n",
      "Class FDPAgentDataRetriever: This is an experimental class, and may change at any time. Please see https://aka.ms/azuremlexperimental for more information.\n",
      "Class AIAgentDataRetriever: This is an experimental class, and may change at any time. Please see https://aka.ms/azuremlexperimental for more information.\n"
     ]
    }
   ],
   "source": [
    "from azure.ai.evaluation import AIAgentConverter\n",
    "\n",
    "# Initialize the converter that will be backed by the project.\n",
    "converter = AIAgentConverter(project_client)\n",
    "\n",
    "thread_id = thread.id\n",
    "run_id = run.id\n",
    "file_name = \"evaluation_data.jsonl\"\n",
    "\n",
    "# Get a single agent run data\n",
    "evaluation_data_single_run = converter.convert(thread_id=thread_id, run_id=run_id)\n",
    "\n",
    "# Run this to save thread data to a JSONL file for evaluation\n",
    "# Save the agent thread data to a JSONL file\n",
    "# evaluation_data = converter.prepare_evaluation_data(thread_ids=thread_id, filename=<>)\n",
    "# print(json.dumps(evaluation_data, indent=4))"
   ]
  },
  {
   "cell_type": "markdown",
   "metadata": {},
   "source": [
    "### Setting up evaluator\n",
    "\n",
    "We will select the following evaluators to assess the different aspects relevant for agent quality: \n",
    "\n",
    "- [Intent resolution](https://aka.ms/intentresolution-sample): measures the extent of which an agent identifies the correct intent from a user query. Scale: integer 1-5. Higher is better.\n",
    "- [Tool call accuracy](https://aka.ms/toolcallaccuracy-sample): evaluates the agent’s ability to select the appropriate tools, and process correct parameters from previous steps. Scale: float 0-1. Higher is better.\n",
    "- [Task adherence](https://aka.ms/taskadherence-sample): measures the extent of which an agent’s final response adheres to the task based on its system message and a user query. Scale: integer 1-5. Higher is better.\n"
   ]
  },
  {
   "cell_type": "code",
   "execution_count": 10,
   "metadata": {},
   "outputs": [
    {
     "name": "stderr",
     "output_type": "stream",
     "text": [
      "Class IntentResolutionEvaluator: This is an experimental class, and may change at any time. Please see https://aka.ms/azuremlexperimental for more information.\n",
      "Class ToolCallAccuracyEvaluator: This is an experimental class, and may change at any time. Please see https://aka.ms/azuremlexperimental for more information.\n",
      "Class TaskAdherenceEvaluator: This is an experimental class, and may change at any time. Please see https://aka.ms/azuremlexperimental for more information.\n"
     ]
    }
   ],
   "source": [
    "from azure.ai.evaluation import (\n",
    "    ToolCallAccuracyEvaluator,\n",
    "    AzureOpenAIModelConfiguration,\n",
    "    IntentResolutionEvaluator,\n",
    "    TaskAdherenceEvaluator,\n",
    ")\n",
    "from pprint import pprint\n",
    "\n",
    "model_config = AzureOpenAIModelConfiguration(\n",
    "    azure_endpoint=os.environ[\"AZURE_OPENAI_ENDPOINT\"],\n",
    "    api_key=os.environ[\"AZURE_OPENAI_API_KEY\"],\n",
    "    api_version=os.environ[\"AZURE_OPENAI_API_VERSION\"],\n",
    "    azure_deployment=os.environ[\"MODEL_DEPLOYMENT_NAME\"],\n",
    ")\n",
    "# Needed to use content safety evaluators\n",
    "azure_ai_project = {\n",
    "    \"subscription_id\": os.environ[\"AZURE_SUBSCRIPTION_ID\"],\n",
    "    \"project_name\": os.environ[\"PROJECT_NAME\"],\n",
    "    \"resource_group_name\": os.environ[\"RESOURCE_GROUP_NAME\"],\n",
    "}\n",
    "\n",
    "intent_resolution = IntentResolutionEvaluator(model_config=model_config)\n",
    "\n",
    "tool_call_accuracy = ToolCallAccuracyEvaluator(model_config=model_config)\n",
    "\n",
    "task_adherence = TaskAdherenceEvaluator(model_config=model_config)"
   ]
  },
  {
   "cell_type": "markdown",
   "metadata": {},
   "source": [
    "### Run Evaluator"
   ]
  },
  {
   "cell_type": "code",
   "execution_count": 11,
   "metadata": {},
   "outputs": [
    {
     "name": "stderr",
     "output_type": "stream",
     "text": [
      "[2025-06-04 14:16:46 -0700][promptflow._core.entry_meta_generator][WARNING] - Generate meta in current process and timeout won't take effect. Please handle timeout manually outside current process.\n",
      "[2025-06-04 14:16:46 -0700][promptflow._core.entry_meta_generator][WARNING] - Generate meta in current process and timeout won't take effect. Please handle timeout manually outside current process.\n",
      "[2025-06-04 14:16:46 -0700][promptflow._core.entry_meta_generator][WARNING] - Generate meta in current process and timeout won't take effect. Please handle timeout manually outside current process.\n",
      "[2025-06-04 14:16:46 -0700][promptflow._sdk._orchestrator.run_submitter][INFO] - Submitting run azure_ai_evaluation_evaluators_task_adherence_20250604_141645_529728, log path: /Users/cv/.promptflow/.runs/azure_ai_evaluation_evaluators_task_adherence_20250604_141645_529728/logs.txt\n",
      "[2025-06-04 14:16:46 -0700][promptflow._sdk._orchestrator.run_submitter][INFO] - Submitting run azure_ai_evaluation_evaluators_intent_resolution_20250604_141645_529535, log path: /Users/cv/.promptflow/.runs/azure_ai_evaluation_evaluators_intent_resolution_20250604_141645_529535/logs.txt\n",
      "[2025-06-04 14:16:46 -0700][promptflow._sdk._orchestrator.run_submitter][INFO] - Submitting run azure_ai_evaluation_evaluators_tool_call_accuracy_20250604_141645_529346, log path: /Users/cv/.promptflow/.runs/azure_ai_evaluation_evaluators_tool_call_accuracy_20250604_141645_529346/logs.txt\n"
     ]
    },
    {
     "name": "stdout",
     "output_type": "stream",
     "text": [
      "2025-06-04 14:16:46 -0700   77407 execution.bulk     INFO     Current thread is not main thread, skip signal handler registration in BatchEngine.\n",
      "2025-06-04 14:16:46 -0700   77407 execution.bulk     INFO     Finished 3 / 3 lines.\n",
      "2025-06-04 14:16:46 -0700   77407 execution.bulk     INFO     Average execution time for completed lines: 0.01 seconds. Estimated time for incomplete lines: 0.0 seconds.\n",
      "======= Run Summary =======\n",
      "\n",
      "Run name: \"azure_ai_evaluation_evaluators_tool_call_accuracy_20250604_141645_529346\"\n",
      "Run status: \"Completed\"\n",
      "Start time: \"2025-06-04 14:16:45.540568-07:00\"\n",
      "Duration: \"0:00:01.776557\"\n",
      "Output path: \"/Users/cv/.promptflow/.runs/azure_ai_evaluation_evaluators_tool_call_accuracy_20250604_141645_529346\"\n",
      "\n",
      "2025-06-04 14:16:49 -0700   77407 execution.bulk     INFO     Finished 1 / 3 lines.\n",
      "2025-06-04 14:16:49 -0700   77407 execution.bulk     INFO     Average execution time for completed lines: 2.91 seconds. Estimated time for incomplete lines: 5.82 seconds.\n",
      "2025-06-04 14:16:49 -0700   77407 execution.bulk     INFO     Finished 2 / 3 lines.\n",
      "2025-06-04 14:16:49 -0700   77407 execution.bulk     INFO     Average execution time for completed lines: 1.53 seconds. Estimated time for incomplete lines: 1.53 seconds.\n",
      "2025-06-04 14:16:49 -0700   77407 execution.bulk     INFO     Finished 1 / 3 lines.\n",
      "2025-06-04 14:16:49 -0700   77407 execution.bulk     INFO     Average execution time for completed lines: 3.09 seconds. Estimated time for incomplete lines: 6.18 seconds.\n",
      "2025-06-04 14:16:50 -0700   77407 execution.bulk     INFO     Finished 2 / 3 lines.\n",
      "2025-06-04 14:16:50 -0700   77407 execution.bulk     INFO     Average execution time for completed lines: 2.02 seconds. Estimated time for incomplete lines: 2.02 seconds.\n",
      "2025-06-04 14:16:50 -0700   77407 execution.bulk     INFO     Finished 3 / 3 lines.\n",
      "2025-06-04 14:16:50 -0700   77407 execution.bulk     INFO     Average execution time for completed lines: 1.35 seconds. Estimated time for incomplete lines: 0.0 seconds.\n",
      "2025-06-04 14:16:50 -0700   77407 execution.bulk     INFO     Finished 3 / 3 lines.\n",
      "2025-06-04 14:16:50 -0700   77407 execution.bulk     INFO     Average execution time for completed lines: 1.49 seconds. Estimated time for incomplete lines: 0.0 seconds.\n",
      "2025-06-04 14:16:46 -0700   77407 execution.bulk     INFO     Current thread is not main thread, skip signal handler registration in BatchEngine.\n",
      "2025-06-04 14:16:49 -0700   77407 execution.bulk     INFO     Finished 1 / 3 lines.\n",
      "2025-06-04 14:16:49 -0700   77407 execution.bulk     INFO     Average execution time for completed lines: 2.91 seconds. Estimated time for incomplete lines: 5.82 seconds.\n",
      "2025-06-04 14:16:49 -0700   77407 execution.bulk     INFO     Finished 2 / 3 lines.\n",
      "2025-06-04 14:16:49 -0700   77407 execution.bulk     INFO     Average execution time for completed lines: 1.53 seconds. Estimated time for incomplete lines: 1.53 seconds.\n",
      "2025-06-04 14:16:50 -0700   77407 execution.bulk     INFO     Finished 3 / 3 lines.\n",
      "2025-06-04 14:16:50 -0700   77407 execution.bulk     INFO     Average execution time for completed lines: 1.49 seconds. Estimated time for incomplete lines: 0.0 seconds.\n",
      "======= Run Summary =======\n",
      "\n",
      "Run name: \"azure_ai_evaluation_evaluators_intent_resolution_20250604_141645_529535\"\n",
      "Run status: \"Completed\"\n",
      "Start time: \"2025-06-04 14:16:45.540524-07:00\"\n",
      "Duration: \"0:00:05.750176\"\n",
      "Output path: \"/Users/cv/.promptflow/.runs/azure_ai_evaluation_evaluators_intent_resolution_20250604_141645_529535\"\n",
      "\n",
      "2025-06-04 14:16:46 -0700   77407 execution.bulk     INFO     Current thread is not main thread, skip signal handler registration in BatchEngine.\n",
      "2025-06-04 14:16:49 -0700   77407 execution.bulk     INFO     Finished 1 / 3 lines.\n",
      "2025-06-04 14:16:49 -0700   77407 execution.bulk     INFO     Average execution time for completed lines: 3.09 seconds. Estimated time for incomplete lines: 6.18 seconds.\n",
      "2025-06-04 14:16:50 -0700   77407 execution.bulk     INFO     Finished 2 / 3 lines.\n",
      "2025-06-04 14:16:50 -0700   77407 execution.bulk     INFO     Average execution time for completed lines: 2.02 seconds. Estimated time for incomplete lines: 2.02 seconds.\n",
      "2025-06-04 14:16:50 -0700   77407 execution.bulk     INFO     Finished 3 / 3 lines.\n",
      "2025-06-04 14:16:50 -0700   77407 execution.bulk     INFO     Average execution time for completed lines: 1.35 seconds. Estimated time for incomplete lines: 0.0 seconds.\n",
      "======= Run Summary =======\n",
      "\n",
      "Run name: \"azure_ai_evaluation_evaluators_task_adherence_20250604_141645_529728\"\n",
      "Run status: \"Completed\"\n",
      "Start time: \"2025-06-04 14:16:45.540607-07:00\"\n",
      "Duration: \"0:00:05.768197\"\n",
      "Output path: \"/Users/cv/.promptflow/.runs/azure_ai_evaluation_evaluators_task_adherence_20250604_141645_529728\"\n",
      "\n",
      "======= Combined Run Summary (Per Evaluator) =======\n",
      "\n",
      "{\n",
      "    \"tool_call_accuracy\": {\n",
      "        \"status\": \"Completed\",\n",
      "        \"duration\": \"0:00:01.776557\",\n",
      "        \"completed_lines\": 3,\n",
      "        \"failed_lines\": 0,\n",
      "        \"log_path\": \"/Users/cv/.promptflow/.runs/azure_ai_evaluation_evaluators_tool_call_accuracy_20250604_141645_529346\"\n",
      "    },\n",
      "    \"intent_resolution\": {\n",
      "        \"status\": \"Completed\",\n",
      "        \"duration\": \"0:00:05.750176\",\n",
      "        \"completed_lines\": 3,\n",
      "        \"failed_lines\": 0,\n",
      "        \"log_path\": \"/Users/cv/.promptflow/.runs/azure_ai_evaluation_evaluators_intent_resolution_20250604_141645_529535\"\n",
      "    },\n",
      "    \"task_adherence\": {\n",
      "        \"status\": \"Completed\",\n",
      "        \"duration\": \"0:00:05.768197\",\n",
      "        \"completed_lines\": 3,\n",
      "        \"failed_lines\": 0,\n",
      "        \"log_path\": \"/Users/cv/.promptflow/.runs/azure_ai_evaluation_evaluators_task_adherence_20250604_141645_529728\"\n",
      "    }\n",
      "}\n",
      "\n",
      "====================================================\n",
      "\n",
      "('AI Foundary URL: '\n",
      " 'https://ai.azure.com/build/evaluation/45e8b927-ff7a-47b2-b37b-66776d2d38eb?wsid=/subscriptions/6415ebd4-1dd7-430f-bd4d-2f5e9419c1cd/resourceGroups/rg-cvi-ai-eng-fair-hub-eastus2/providers/Microsoft.MachineLearningServices/workspaces/cvi-ai-eng-fair-hub-eastus2')\n"
     ]
    },
    {
     "name": "stdout",
     "output_type": "stream",
     "text": [
      "{'intent_resolution.binary_aggregate': 1.0,\n",
      " 'intent_resolution.intent_resolution': 5.0,\n",
      " 'intent_resolution.intent_resolution_threshold': 3.0,\n",
      " 'task_adherence.binary_aggregate': 1.0,\n",
      " 'task_adherence.task_adherence': 5.0,\n",
      " 'task_adherence.task_adherence_threshold': 3.0,\n",
      " 'tool_call_accuracy.binary_aggregate': 0.0,\n",
      " 'tool_call_accuracy.tool_call_accuracy_threshold': 0.8000000000000002}\n"
     ]
    }
   ],
   "source": [
    "from azure.ai.evaluation import evaluate\n",
    "\n",
    "response = evaluate(\n",
    "    data=file_name,\n",
    "    evaluators={\n",
    "        \"tool_call_accuracy\": tool_call_accuracy,\n",
    "        \"intent_resolution\": intent_resolution,\n",
    "        \"task_adherence\": task_adherence,\n",
    "    },\n",
    "    azure_ai_project={\n",
    "        \"subscription_id\": os.environ[\"REPORT_AZURE_SUBSCRIPTION_ID\"],\n",
    "        \"project_name\": os.environ[\"REPORT_PROJECT_NAME\"],\n",
    "        \"resource_group_name\": os.environ[\"REPORT_RESOURCE_GROUP_NAME\"],\n",
    "    },\n",
    ")\n",
    "pprint(f'AI Foundary URL: {response.get(\"studio_url\")}')"
   ]
  },
  {
   "cell_type": "markdown",
   "metadata": {},
   "source": [
    "## Inspect results on Azure AI Foundry\n",
    "\n",
    "Go to AI Foundry URL for rich Azure AI Foundry data visualization to inspect the evaluation scores and reasoning to quickly identify bugs and issues of your agent to fix and improve."
   ]
  },
  {
   "cell_type": "code",
   "execution_count": 12,
   "metadata": {},
   "outputs": [],
   "source": [
    "# alternatively, you can use the following to get the evaluation results in memory\n",
    "\n",
    "# average scores across all runs\n",
    "pprint(response[\"metrics\"])"
   ]
  }
 ],
 "metadata": {
  "kernelspec": {
   "display_name": ".venv",
   "language": "python",
   "name": "python3"
  },
  "language_info": {
   "codemirror_mode": {
    "name": "ipython",
    "version": 3
   },
   "file_extension": ".py",
   "mimetype": "text/x-python",
   "name": "python",
   "nbconvert_exporter": "python",
   "pygments_lexer": "ipython3",
   "version": "3.13.3"
  }
 },
 "nbformat": 4,
 "nbformat_minor": 2
}
