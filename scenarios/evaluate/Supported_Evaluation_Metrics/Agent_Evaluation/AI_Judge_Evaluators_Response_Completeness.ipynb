{
 "cells": [
  {
   "cell_type": "markdown",
   "metadata": {},
   "source": [
    "### Response Completeness Evaluator"
   ]
  },
  {
   "cell_type": "markdown",
   "metadata": {},
   "source": [
    "### Getting Started\n",
    "\n",
    "This sample demonstrates how to use Response Completeness Evaluator on agent's response when ground truth is provided. This evaluator is helpful when you have ground truth to assess the quality of the agent's final response. \n",
    "\n",
    "## Time\n",
    "\n",
    "You should expect to spend about 20 minutes running this notebook. \n",
    "\n",
    "## Before you begin\n",
    "For quality evaluation, you need to deploy a `gpt` model supporting JSON mode. We recommend a model `gpt-4o` or `gpt-4o-mini` for their strong reasoning capabilities.    \n",
    "\n",
    "### Prerequisite\n",
    "```bash\n",
    "pip install azure-ai-projects azure-identity azure-ai-evaluation\n",
    "```\n",
    "Set these environment variables with your own values:\n",
    "1) **PROJECT_CONNECTION_STRING** - The project connection string, as found in the overview page of your Azure AI Foundry project.\n",
    "2) **MODEL_DEPLOYMENT_NAME** - The deployment name of the model for this AI-assisted evaluator, as found under the \"Name\" column in the \"Models + endpoints\" tab in your Azure AI Foundry project.\n",
    "3) **AZURE_OPENAI_ENDPOINT** - Azure Open AI Endpoint to be used for evaluation.\n",
    "4) **AZURE_OPENAI_API_KEY** - Azure Open AI Key to be used for evaluation.\n",
    "5) **AZURE_OPENAI_API_VERSION** - Azure Open AI Api version to be used for evaluation.\n",
    "6) **AZURE_SUBSCRIPTION_ID** - Azure Subscription Id of Azure AI Project\n",
    "7) **PROJECT_NAME** - Azure AI Project Name\n",
    "8) **RESOURCE_GROUP_NAME** - Azure AI Project Resource Group Name\n"
   ]
  },
  {
   "cell_type": "markdown",
   "metadata": {},
   "source": [
    "The Response Completeness evaluator assesses the quality of an agent response by examining how well it aligns with the provided ground truth. The evaluation is based on the following scoring system:\n",
    "\n",
    "<pre>\n",
    "Score 1: Fully incomplete: The response misses all necessary and relevant information compared to the ground truth.\n",
    "Score 2: Barely complete: The response contains only a small percentage of the necessary information.\n",
    "Score 3: Moderately complete: The response includes about half of the necessary information.\n",
    "Score 4: Mostly complete: The response contains most of the necessary information, with only minor omissions.\n",
    "Score 5: Fully complete: The response perfectly matches all necessary and relevant information from the ground truth.\n",
    "</pre>\n",
    "\n",
    "The evaluation requires the following inputs:\n",
    "\n",
    "- Response: The response to be evaluated. (string)\n",
    "- Ground Truth: The correct and complete information against which the response is compared. (string)\n",
    "\n",
    "The evaluator uses these inputs to determine the completeness score, ensuring that the response meaningfully addresses the query while adhering to the provided definitions and data."
   ]
  },
  {
   "cell_type": "code",
   "execution_count": 1,
   "metadata": {},
   "outputs": [
    {
     "name": "stdout",
     "output_type": "stream",
     "text": [
      "Requirement already satisfied: azure-ai-projects in /Users/cv/Documents/Projects/azureai-samples/.venv/lib/python3.13/site-packages (1.0.0b11)\n",
      "Requirement already satisfied: azure-identity in /Users/cv/Documents/Projects/azureai-samples/.venv/lib/python3.13/site-packages (1.23.0)\n",
      "Requirement already satisfied: azure-ai-evaluation in /Users/cv/Documents/Projects/azureai-samples/.venv/lib/python3.13/site-packages (1.8.0)\n",
      "Requirement already satisfied: python-dotenv in /Users/cv/Documents/Projects/azureai-samples/.venv/lib/python3.13/site-packages (1.1.0)\n",
      "Requirement already satisfied: isodate>=0.6.1 in /Users/cv/Documents/Projects/azureai-samples/.venv/lib/python3.13/site-packages (from azure-ai-projects) (0.7.2)\n",
      "Requirement already satisfied: azure-core>=1.30.0 in /Users/cv/Documents/Projects/azureai-samples/.venv/lib/python3.13/site-packages (from azure-ai-projects) (1.34.0)\n",
      "Requirement already satisfied: typing-extensions>=4.12.2 in /Users/cv/Documents/Projects/azureai-samples/.venv/lib/python3.13/site-packages (from azure-ai-projects) (4.14.0)\n",
      "Requirement already satisfied: azure-storage-blob>=12.15.0 in /Users/cv/Documents/Projects/azureai-samples/.venv/lib/python3.13/site-packages (from azure-ai-projects) (12.25.1)\n",
      "Requirement already satisfied: azure-ai-agents>=1.0.0b1 in /Users/cv/Documents/Projects/azureai-samples/.venv/lib/python3.13/site-packages (from azure-ai-projects) (1.1.0b1)\n",
      "Requirement already satisfied: cryptography>=2.5 in /Users/cv/Documents/Projects/azureai-samples/.venv/lib/python3.13/site-packages (from azure-identity) (45.0.3)\n",
      "Requirement already satisfied: msal>=1.30.0 in /Users/cv/Documents/Projects/azureai-samples/.venv/lib/python3.13/site-packages (from azure-identity) (1.32.3)\n",
      "Requirement already satisfied: msal-extensions>=1.2.0 in /Users/cv/Documents/Projects/azureai-samples/.venv/lib/python3.13/site-packages (from azure-identity) (1.3.1)\n",
      "Requirement already satisfied: promptflow-devkit>=1.17.1 in /Users/cv/Documents/Projects/azureai-samples/.venv/lib/python3.13/site-packages (from azure-ai-evaluation) (1.18.0)\n",
      "Requirement already satisfied: promptflow-core>=1.17.1 in /Users/cv/Documents/Projects/azureai-samples/.venv/lib/python3.13/site-packages (from azure-ai-evaluation) (1.18.0)\n",
      "Requirement already satisfied: pyjwt>=2.8.0 in /Users/cv/Documents/Projects/azureai-samples/.venv/lib/python3.13/site-packages (from azure-ai-evaluation) (2.10.1)\n",
      "Requirement already satisfied: nltk>=3.9.1 in /Users/cv/Documents/Projects/azureai-samples/.venv/lib/python3.13/site-packages (from azure-ai-evaluation) (3.9.1)\n",
      "Requirement already satisfied: httpx>=0.25.1 in /Users/cv/Documents/Projects/azureai-samples/.venv/lib/python3.13/site-packages (from azure-ai-evaluation) (0.28.1)\n",
      "Requirement already satisfied: pandas<3.0.0,>=2.1.2 in /Users/cv/Documents/Projects/azureai-samples/.venv/lib/python3.13/site-packages (from azure-ai-evaluation) (2.2.3)\n",
      "Requirement already satisfied: openai>=1.78.0 in /Users/cv/Documents/Projects/azureai-samples/.venv/lib/python3.13/site-packages (from azure-ai-evaluation) (1.84.0)\n",
      "Requirement already satisfied: ruamel.yaml<1.0.0,>=0.17.10 in /Users/cv/Documents/Projects/azureai-samples/.venv/lib/python3.13/site-packages (from azure-ai-evaluation) (0.18.12)\n",
      "Requirement already satisfied: msrest>=0.6.21 in /Users/cv/Documents/Projects/azureai-samples/.venv/lib/python3.13/site-packages (from azure-ai-evaluation) (0.7.1)\n",
      "Requirement already satisfied: Jinja2>=3.1.6 in /Users/cv/Documents/Projects/azureai-samples/.venv/lib/python3.13/site-packages (from azure-ai-evaluation) (3.1.6)\n",
      "Requirement already satisfied: aiohttp>=3.0 in /Users/cv/Documents/Projects/azureai-samples/.venv/lib/python3.13/site-packages (from azure-ai-evaluation) (3.12.7)\n",
      "Requirement already satisfied: numpy>=1.26.0 in /Users/cv/Documents/Projects/azureai-samples/.venv/lib/python3.13/site-packages (from pandas<3.0.0,>=2.1.2->azure-ai-evaluation) (2.2.6)\n",
      "Requirement already satisfied: python-dateutil>=2.8.2 in /Users/cv/Documents/Projects/azureai-samples/.venv/lib/python3.13/site-packages (from pandas<3.0.0,>=2.1.2->azure-ai-evaluation) (2.9.0.post0)\n",
      "Requirement already satisfied: pytz>=2020.1 in /Users/cv/Documents/Projects/azureai-samples/.venv/lib/python3.13/site-packages (from pandas<3.0.0,>=2.1.2->azure-ai-evaluation) (2025.2)\n",
      "Requirement already satisfied: tzdata>=2022.7 in /Users/cv/Documents/Projects/azureai-samples/.venv/lib/python3.13/site-packages (from pandas<3.0.0,>=2.1.2->azure-ai-evaluation) (2025.2)\n",
      "Requirement already satisfied: ruamel.yaml.clib>=0.2.7 in /Users/cv/Documents/Projects/azureai-samples/.venv/lib/python3.13/site-packages (from ruamel.yaml<1.0.0,>=0.17.10->azure-ai-evaluation) (0.2.12)\n",
      "Requirement already satisfied: aiohappyeyeballs>=2.5.0 in /Users/cv/Documents/Projects/azureai-samples/.venv/lib/python3.13/site-packages (from aiohttp>=3.0->azure-ai-evaluation) (2.6.1)\n",
      "Requirement already satisfied: aiosignal>=1.1.2 in /Users/cv/Documents/Projects/azureai-samples/.venv/lib/python3.13/site-packages (from aiohttp>=3.0->azure-ai-evaluation) (1.3.2)\n",
      "Requirement already satisfied: attrs>=17.3.0 in /Users/cv/Documents/Projects/azureai-samples/.venv/lib/python3.13/site-packages (from aiohttp>=3.0->azure-ai-evaluation) (25.3.0)\n",
      "Requirement already satisfied: frozenlist>=1.1.1 in /Users/cv/Documents/Projects/azureai-samples/.venv/lib/python3.13/site-packages (from aiohttp>=3.0->azure-ai-evaluation) (1.6.0)\n",
      "Requirement already satisfied: multidict<7.0,>=4.5 in /Users/cv/Documents/Projects/azureai-samples/.venv/lib/python3.13/site-packages (from aiohttp>=3.0->azure-ai-evaluation) (6.4.4)\n",
      "Requirement already satisfied: propcache>=0.2.0 in /Users/cv/Documents/Projects/azureai-samples/.venv/lib/python3.13/site-packages (from aiohttp>=3.0->azure-ai-evaluation) (0.3.1)\n",
      "Requirement already satisfied: yarl<2.0,>=1.17.0 in /Users/cv/Documents/Projects/azureai-samples/.venv/lib/python3.13/site-packages (from aiohttp>=3.0->azure-ai-evaluation) (1.20.0)\n",
      "Requirement already satisfied: idna>=2.0 in /Users/cv/Documents/Projects/azureai-samples/.venv/lib/python3.13/site-packages (from yarl<2.0,>=1.17.0->aiohttp>=3.0->azure-ai-evaluation) (3.10)\n",
      "Requirement already satisfied: requests>=2.21.0 in /Users/cv/Documents/Projects/azureai-samples/.venv/lib/python3.13/site-packages (from azure-core>=1.30.0->azure-ai-projects) (2.32.3)\n",
      "Requirement already satisfied: six>=1.11.0 in /Users/cv/Documents/Projects/azureai-samples/.venv/lib/python3.13/site-packages (from azure-core>=1.30.0->azure-ai-projects) (1.17.0)\n",
      "Requirement already satisfied: cffi>=1.14 in /Users/cv/Documents/Projects/azureai-samples/.venv/lib/python3.13/site-packages (from cryptography>=2.5->azure-identity) (1.17.1)\n",
      "Requirement already satisfied: pycparser in /Users/cv/Documents/Projects/azureai-samples/.venv/lib/python3.13/site-packages (from cffi>=1.14->cryptography>=2.5->azure-identity) (2.22)\n",
      "Requirement already satisfied: anyio in /Users/cv/Documents/Projects/azureai-samples/.venv/lib/python3.13/site-packages (from httpx>=0.25.1->azure-ai-evaluation) (4.9.0)\n",
      "Requirement already satisfied: certifi in /Users/cv/Documents/Projects/azureai-samples/.venv/lib/python3.13/site-packages (from httpx>=0.25.1->azure-ai-evaluation) (2025.4.26)\n",
      "Requirement already satisfied: httpcore==1.* in /Users/cv/Documents/Projects/azureai-samples/.venv/lib/python3.13/site-packages (from httpx>=0.25.1->azure-ai-evaluation) (1.0.9)\n",
      "Requirement already satisfied: h11>=0.16 in /Users/cv/Documents/Projects/azureai-samples/.venv/lib/python3.13/site-packages (from httpcore==1.*->httpx>=0.25.1->azure-ai-evaluation) (0.16.0)\n",
      "Requirement already satisfied: MarkupSafe>=2.0 in /Users/cv/Documents/Projects/azureai-samples/.venv/lib/python3.13/site-packages (from Jinja2>=3.1.6->azure-ai-evaluation) (3.0.2)\n",
      "Requirement already satisfied: charset-normalizer<4,>=2 in /Users/cv/Documents/Projects/azureai-samples/.venv/lib/python3.13/site-packages (from requests>=2.21.0->azure-core>=1.30.0->azure-ai-projects) (3.4.2)\n",
      "Requirement already satisfied: urllib3<3,>=1.21.1 in /Users/cv/Documents/Projects/azureai-samples/.venv/lib/python3.13/site-packages (from requests>=2.21.0->azure-core>=1.30.0->azure-ai-projects) (2.4.0)\n",
      "Requirement already satisfied: requests-oauthlib>=0.5.0 in /Users/cv/Documents/Projects/azureai-samples/.venv/lib/python3.13/site-packages (from msrest>=0.6.21->azure-ai-evaluation) (2.0.0)\n",
      "Requirement already satisfied: click in /Users/cv/Documents/Projects/azureai-samples/.venv/lib/python3.13/site-packages (from nltk>=3.9.1->azure-ai-evaluation) (8.2.1)\n",
      "Requirement already satisfied: joblib in /Users/cv/Documents/Projects/azureai-samples/.venv/lib/python3.13/site-packages (from nltk>=3.9.1->azure-ai-evaluation) (1.5.1)\n",
      "Requirement already satisfied: regex>=2021.8.3 in /Users/cv/Documents/Projects/azureai-samples/.venv/lib/python3.13/site-packages (from nltk>=3.9.1->azure-ai-evaluation) (2024.11.6)\n",
      "Requirement already satisfied: tqdm in /Users/cv/Documents/Projects/azureai-samples/.venv/lib/python3.13/site-packages (from nltk>=3.9.1->azure-ai-evaluation) (4.67.1)\n",
      "Requirement already satisfied: distro<2,>=1.7.0 in /Users/cv/Documents/Projects/azureai-samples/.venv/lib/python3.13/site-packages (from openai>=1.78.0->azure-ai-evaluation) (1.9.0)\n",
      "Requirement already satisfied: jiter<1,>=0.4.0 in /Users/cv/Documents/Projects/azureai-samples/.venv/lib/python3.13/site-packages (from openai>=1.78.0->azure-ai-evaluation) (0.10.0)\n",
      "Requirement already satisfied: pydantic<3,>=1.9.0 in /Users/cv/Documents/Projects/azureai-samples/.venv/lib/python3.13/site-packages (from openai>=1.78.0->azure-ai-evaluation) (2.11.5)\n",
      "Requirement already satisfied: sniffio in /Users/cv/Documents/Projects/azureai-samples/.venv/lib/python3.13/site-packages (from openai>=1.78.0->azure-ai-evaluation) (1.3.1)\n",
      "Requirement already satisfied: annotated-types>=0.6.0 in /Users/cv/Documents/Projects/azureai-samples/.venv/lib/python3.13/site-packages (from pydantic<3,>=1.9.0->openai>=1.78.0->azure-ai-evaluation) (0.7.0)\n",
      "Requirement already satisfied: pydantic-core==2.33.2 in /Users/cv/Documents/Projects/azureai-samples/.venv/lib/python3.13/site-packages (from pydantic<3,>=1.9.0->openai>=1.78.0->azure-ai-evaluation) (2.33.2)\n",
      "Requirement already satisfied: typing-inspection>=0.4.0 in /Users/cv/Documents/Projects/azureai-samples/.venv/lib/python3.13/site-packages (from pydantic<3,>=1.9.0->openai>=1.78.0->azure-ai-evaluation) (0.4.1)\n",
      "Requirement already satisfied: docstring_parser in /Users/cv/Documents/Projects/azureai-samples/.venv/lib/python3.13/site-packages (from promptflow-core>=1.17.1->azure-ai-evaluation) (0.16)\n",
      "Requirement already satisfied: fastapi<1.0.0,>=0.109.0 in /Users/cv/Documents/Projects/azureai-samples/.venv/lib/python3.13/site-packages (from promptflow-core>=1.17.1->azure-ai-evaluation) (0.115.12)\n",
      "Requirement already satisfied: filetype>=1.2.0 in /Users/cv/Documents/Projects/azureai-samples/.venv/lib/python3.13/site-packages (from promptflow-core>=1.17.1->azure-ai-evaluation) (1.2.0)\n",
      "Requirement already satisfied: flask<4.0.0,>=2.2.3 in /Users/cv/Documents/Projects/azureai-samples/.venv/lib/python3.13/site-packages (from promptflow-core>=1.17.1->azure-ai-evaluation) (3.1.1)\n",
      "Requirement already satisfied: jsonschema<5.0.0,>=4.0.0 in /Users/cv/Documents/Projects/azureai-samples/.venv/lib/python3.13/site-packages (from promptflow-core>=1.17.1->azure-ai-evaluation) (4.24.0)\n",
      "Requirement already satisfied: promptflow-tracing==1.18.0 in /Users/cv/Documents/Projects/azureai-samples/.venv/lib/python3.13/site-packages (from promptflow-core>=1.17.1->azure-ai-evaluation) (1.18.0)\n",
      "Requirement already satisfied: psutil in /Users/cv/Documents/Projects/azureai-samples/.venv/lib/python3.13/site-packages (from promptflow-core>=1.17.1->azure-ai-evaluation) (7.0.0)\n",
      "Requirement already satisfied: opentelemetry-sdk<2.0.0,>=1.22.0 in /Users/cv/Documents/Projects/azureai-samples/.venv/lib/python3.13/site-packages (from promptflow-tracing==1.18.0->promptflow-core>=1.17.1->azure-ai-evaluation) (1.33.1)\n",
      "Requirement already satisfied: tiktoken>=0.4.0 in /Users/cv/Documents/Projects/azureai-samples/.venv/lib/python3.13/site-packages (from promptflow-tracing==1.18.0->promptflow-core>=1.17.1->azure-ai-evaluation) (0.9.0)\n",
      "Requirement already satisfied: starlette<0.47.0,>=0.40.0 in /Users/cv/Documents/Projects/azureai-samples/.venv/lib/python3.13/site-packages (from fastapi<1.0.0,>=0.109.0->promptflow-core>=1.17.1->azure-ai-evaluation) (0.46.2)\n",
      "Requirement already satisfied: blinker>=1.9.0 in /Users/cv/Documents/Projects/azureai-samples/.venv/lib/python3.13/site-packages (from flask<4.0.0,>=2.2.3->promptflow-core>=1.17.1->azure-ai-evaluation) (1.9.0)\n",
      "Requirement already satisfied: itsdangerous>=2.2.0 in /Users/cv/Documents/Projects/azureai-samples/.venv/lib/python3.13/site-packages (from flask<4.0.0,>=2.2.3->promptflow-core>=1.17.1->azure-ai-evaluation) (2.2.0)\n",
      "Requirement already satisfied: werkzeug>=3.1.0 in /Users/cv/Documents/Projects/azureai-samples/.venv/lib/python3.13/site-packages (from flask<4.0.0,>=2.2.3->promptflow-core>=1.17.1->azure-ai-evaluation) (3.1.3)\n",
      "Requirement already satisfied: jsonschema-specifications>=2023.03.6 in /Users/cv/Documents/Projects/azureai-samples/.venv/lib/python3.13/site-packages (from jsonschema<5.0.0,>=4.0.0->promptflow-core>=1.17.1->azure-ai-evaluation) (2025.4.1)\n",
      "Requirement already satisfied: referencing>=0.28.4 in /Users/cv/Documents/Projects/azureai-samples/.venv/lib/python3.13/site-packages (from jsonschema<5.0.0,>=4.0.0->promptflow-core>=1.17.1->azure-ai-evaluation) (0.36.2)\n",
      "Requirement already satisfied: rpds-py>=0.7.1 in /Users/cv/Documents/Projects/azureai-samples/.venv/lib/python3.13/site-packages (from jsonschema<5.0.0,>=4.0.0->promptflow-core>=1.17.1->azure-ai-evaluation) (0.25.1)\n",
      "Requirement already satisfied: opentelemetry-api==1.33.1 in /Users/cv/Documents/Projects/azureai-samples/.venv/lib/python3.13/site-packages (from opentelemetry-sdk<2.0.0,>=1.22.0->promptflow-tracing==1.18.0->promptflow-core>=1.17.1->azure-ai-evaluation) (1.33.1)\n",
      "Requirement already satisfied: opentelemetry-semantic-conventions==0.54b1 in /Users/cv/Documents/Projects/azureai-samples/.venv/lib/python3.13/site-packages (from opentelemetry-sdk<2.0.0,>=1.22.0->promptflow-tracing==1.18.0->promptflow-core>=1.17.1->azure-ai-evaluation) (0.54b1)\n",
      "Requirement already satisfied: deprecated>=1.2.6 in /Users/cv/Documents/Projects/azureai-samples/.venv/lib/python3.13/site-packages (from opentelemetry-api==1.33.1->opentelemetry-sdk<2.0.0,>=1.22.0->promptflow-tracing==1.18.0->promptflow-core>=1.17.1->azure-ai-evaluation) (1.2.18)\n",
      "Requirement already satisfied: importlib-metadata<8.7.0,>=6.0 in /Users/cv/Documents/Projects/azureai-samples/.venv/lib/python3.13/site-packages (from opentelemetry-api==1.33.1->opentelemetry-sdk<2.0.0,>=1.22.0->promptflow-tracing==1.18.0->promptflow-core>=1.17.1->azure-ai-evaluation) (8.6.1)\n",
      "Requirement already satisfied: zipp>=3.20 in /Users/cv/Documents/Projects/azureai-samples/.venv/lib/python3.13/site-packages (from importlib-metadata<8.7.0,>=6.0->opentelemetry-api==1.33.1->opentelemetry-sdk<2.0.0,>=1.22.0->promptflow-tracing==1.18.0->promptflow-core>=1.17.1->azure-ai-evaluation) (3.22.0)\n",
      "Requirement already satisfied: wrapt<2,>=1.10 in /Users/cv/Documents/Projects/azureai-samples/.venv/lib/python3.13/site-packages (from deprecated>=1.2.6->opentelemetry-api==1.33.1->opentelemetry-sdk<2.0.0,>=1.22.0->promptflow-tracing==1.18.0->promptflow-core>=1.17.1->azure-ai-evaluation) (1.17.2)\n",
      "Requirement already satisfied: argcomplete>=3.2.3 in /Users/cv/Documents/Projects/azureai-samples/.venv/lib/python3.13/site-packages (from promptflow-devkit>=1.17.1->azure-ai-evaluation) (3.6.2)\n",
      "Requirement already satisfied: azure-monitor-opentelemetry-exporter<2.0.0,>=1.0.0b21 in /Users/cv/Documents/Projects/azureai-samples/.venv/lib/python3.13/site-packages (from promptflow-devkit>=1.17.1->azure-ai-evaluation) (1.0.0b37)\n",
      "Requirement already satisfied: colorama<0.5.0,>=0.4.6 in /Users/cv/Documents/Projects/azureai-samples/.venv/lib/python3.13/site-packages (from promptflow-devkit>=1.17.1->azure-ai-evaluation) (0.4.6)\n",
      "Requirement already satisfied: filelock<4.0.0,>=3.4.0 in /Users/cv/Documents/Projects/azureai-samples/.venv/lib/python3.13/site-packages (from promptflow-devkit>=1.17.1->azure-ai-evaluation) (3.18.0)\n",
      "Requirement already satisfied: flask-cors<6.0.0,>=5.0.0 in /Users/cv/Documents/Projects/azureai-samples/.venv/lib/python3.13/site-packages (from promptflow-devkit>=1.17.1->azure-ai-evaluation) (5.0.1)\n",
      "Requirement already satisfied: flask-restx<2.0.0,>=1.2.0 in /Users/cv/Documents/Projects/azureai-samples/.venv/lib/python3.13/site-packages (from promptflow-devkit>=1.17.1->azure-ai-evaluation) (1.3.0)\n",
      "Requirement already satisfied: gitpython<4.0.0,>=3.1.24 in /Users/cv/Documents/Projects/azureai-samples/.venv/lib/python3.13/site-packages (from promptflow-devkit>=1.17.1->azure-ai-evaluation) (3.1.44)\n",
      "Requirement already satisfied: keyring<25.0.0,>=24.2.0 in /Users/cv/Documents/Projects/azureai-samples/.venv/lib/python3.13/site-packages (from promptflow-devkit>=1.17.1->azure-ai-evaluation) (24.3.1)\n",
      "Requirement already satisfied: marshmallow<4.0.0,>=3.5 in /Users/cv/Documents/Projects/azureai-samples/.venv/lib/python3.13/site-packages (from promptflow-devkit>=1.17.1->azure-ai-evaluation) (3.26.1)\n",
      "Requirement already satisfied: opentelemetry-exporter-otlp-proto-http<2.0.0,>=1.22.0 in /Users/cv/Documents/Projects/azureai-samples/.venv/lib/python3.13/site-packages (from promptflow-devkit>=1.17.1->azure-ai-evaluation) (1.33.1)\n",
      "Requirement already satisfied: pillow<11.1.0,>=10.1.0 in /Users/cv/Documents/Projects/azureai-samples/.venv/lib/python3.13/site-packages (from promptflow-devkit>=1.17.1->azure-ai-evaluation) (11.0.0)\n",
      "Requirement already satisfied: pydash<8.0.0,>=6.0.0 in /Users/cv/Documents/Projects/azureai-samples/.venv/lib/python3.13/site-packages (from promptflow-devkit>=1.17.1->azure-ai-evaluation) (7.0.7)\n",
      "Requirement already satisfied: sqlalchemy<3.0.0,>=1.4.48 in /Users/cv/Documents/Projects/azureai-samples/.venv/lib/python3.13/site-packages (from promptflow-devkit>=1.17.1->azure-ai-evaluation) (2.0.41)\n",
      "Requirement already satisfied: strictyaml<2.0.0,>=1.5.0 in /Users/cv/Documents/Projects/azureai-samples/.venv/lib/python3.13/site-packages (from promptflow-devkit>=1.17.1->azure-ai-evaluation) (1.7.3)\n",
      "Requirement already satisfied: tabulate<1.0.0,>=0.9.0 in /Users/cv/Documents/Projects/azureai-samples/.venv/lib/python3.13/site-packages (from promptflow-devkit>=1.17.1->azure-ai-evaluation) (0.9.0)\n",
      "Requirement already satisfied: waitress<4.0.0,>=3.0.0 in /Users/cv/Documents/Projects/azureai-samples/.venv/lib/python3.13/site-packages (from promptflow-devkit>=1.17.1->azure-ai-evaluation) (3.0.2)\n",
      "Requirement already satisfied: fixedint==0.1.6 in /Users/cv/Documents/Projects/azureai-samples/.venv/lib/python3.13/site-packages (from azure-monitor-opentelemetry-exporter<2.0.0,>=1.0.0b21->promptflow-devkit>=1.17.1->azure-ai-evaluation) (0.1.6)\n",
      "Requirement already satisfied: aniso8601>=0.82 in /Users/cv/Documents/Projects/azureai-samples/.venv/lib/python3.13/site-packages (from flask-restx<2.0.0,>=1.2.0->promptflow-devkit>=1.17.1->azure-ai-evaluation) (10.0.1)\n",
      "Requirement already satisfied: importlib-resources in /Users/cv/Documents/Projects/azureai-samples/.venv/lib/python3.13/site-packages (from flask-restx<2.0.0,>=1.2.0->promptflow-devkit>=1.17.1->azure-ai-evaluation) (6.5.2)\n",
      "Requirement already satisfied: gitdb<5,>=4.0.1 in /Users/cv/Documents/Projects/azureai-samples/.venv/lib/python3.13/site-packages (from gitpython<4.0.0,>=3.1.24->promptflow-devkit>=1.17.1->azure-ai-evaluation) (4.0.12)\n",
      "Requirement already satisfied: smmap<6,>=3.0.1 in /Users/cv/Documents/Projects/azureai-samples/.venv/lib/python3.13/site-packages (from gitdb<5,>=4.0.1->gitpython<4.0.0,>=3.1.24->promptflow-devkit>=1.17.1->azure-ai-evaluation) (5.0.2)\n",
      "Requirement already satisfied: jaraco.classes in /Users/cv/Documents/Projects/azureai-samples/.venv/lib/python3.13/site-packages (from keyring<25.0.0,>=24.2.0->promptflow-devkit>=1.17.1->azure-ai-evaluation) (3.4.0)\n",
      "Requirement already satisfied: packaging>=17.0 in /Users/cv/Documents/Projects/azureai-samples/.venv/lib/python3.13/site-packages (from marshmallow<4.0.0,>=3.5->promptflow-devkit>=1.17.1->azure-ai-evaluation) (25.0)\n",
      "Requirement already satisfied: googleapis-common-protos~=1.52 in /Users/cv/Documents/Projects/azureai-samples/.venv/lib/python3.13/site-packages (from opentelemetry-exporter-otlp-proto-http<2.0.0,>=1.22.0->promptflow-devkit>=1.17.1->azure-ai-evaluation) (1.70.0)\n",
      "Requirement already satisfied: opentelemetry-exporter-otlp-proto-common==1.33.1 in /Users/cv/Documents/Projects/azureai-samples/.venv/lib/python3.13/site-packages (from opentelemetry-exporter-otlp-proto-http<2.0.0,>=1.22.0->promptflow-devkit>=1.17.1->azure-ai-evaluation) (1.33.1)\n",
      "Requirement already satisfied: opentelemetry-proto==1.33.1 in /Users/cv/Documents/Projects/azureai-samples/.venv/lib/python3.13/site-packages (from opentelemetry-exporter-otlp-proto-http<2.0.0,>=1.22.0->promptflow-devkit>=1.17.1->azure-ai-evaluation) (1.33.1)\n",
      "Requirement already satisfied: protobuf<6.0,>=5.0 in /Users/cv/Documents/Projects/azureai-samples/.venv/lib/python3.13/site-packages (from opentelemetry-proto==1.33.1->opentelemetry-exporter-otlp-proto-http<2.0.0,>=1.22.0->promptflow-devkit>=1.17.1->azure-ai-evaluation) (5.29.5)\n",
      "Requirement already satisfied: oauthlib>=3.0.0 in /Users/cv/Documents/Projects/azureai-samples/.venv/lib/python3.13/site-packages (from requests-oauthlib>=0.5.0->msrest>=0.6.21->azure-ai-evaluation) (3.2.2)\n",
      "Requirement already satisfied: more-itertools in /Users/cv/Documents/Projects/azureai-samples/.venv/lib/python3.13/site-packages (from jaraco.classes->keyring<25.0.0,>=24.2.0->promptflow-devkit>=1.17.1->azure-ai-evaluation) (10.7.0)\n",
      "Note: you may need to restart the kernel to use updated packages.\n"
     ]
    }
   ],
   "source": [
    "%pip install azure-ai-projects azure-identity azure-ai-evaluation python-dotenv"
   ]
  },
  {
   "cell_type": "code",
   "execution_count": 2,
   "metadata": {},
   "outputs": [
    {
     "data": {
      "text/plain": [
       "True"
      ]
     },
     "execution_count": 2,
     "metadata": {},
     "output_type": "execute_result"
    }
   ],
   "source": [
    "from dotenv import load_dotenv\n",
    "load_dotenv()"
   ]
  },
  {
   "cell_type": "markdown",
   "metadata": {},
   "source": [
    "### Initialize Completeness Evaluator\n"
   ]
  },
  {
   "cell_type": "code",
   "execution_count": 3,
   "metadata": {},
   "outputs": [],
   "source": [
    "from azure.ai.evaluation import ResponseCompletenessEvaluator, AzureOpenAIModelConfiguration\n",
    "from pprint import pprint\n",
    "import os\n",
    "\n",
    "model_config = AzureOpenAIModelConfiguration(\n",
    "    azure_endpoint=os.environ[\"AZURE_OPENAI_ENDPOINT\"],\n",
    "    api_key=os.environ[\"AZURE_OPENAI_API_KEY\"],\n",
    "    api_version=os.environ[\"AZURE_OPENAI_API_VERSION\"],\n",
    "    azure_deployment=os.environ[\"MODEL_DEPLOYMENT_NAME\"],\n",
    ")"
   ]
  },
  {
   "cell_type": "code",
   "execution_count": 4,
   "metadata": {},
   "outputs": [
    {
     "name": "stderr",
     "output_type": "stream",
     "text": [
      "Class ResponseCompletenessEvaluator: This is an experimental class, and may change at any time. Please see https://aka.ms/azuremlexperimental for more information.\n"
     ]
    }
   ],
   "source": [
    "from azure.ai.evaluation import AzureOpenAIModelConfiguration\n",
    "\n",
    "response_completeness_evaluator = ResponseCompletenessEvaluator(model_config=model_config)"
   ]
  },
  {
   "cell_type": "markdown",
   "metadata": {},
   "source": [
    "### Samples"
   ]
  },
  {
   "cell_type": "markdown",
   "metadata": {},
   "source": [
    "#### Evaluating for a ground_truth and response"
   ]
  },
  {
   "cell_type": "code",
   "execution_count": 5,
   "metadata": {},
   "outputs": [
    {
     "data": {
      "text/plain": [
       "{'response_completeness': 4,\n",
       " 'response_completeness_result': 'pass',\n",
       " 'response_completeness_threshold': 3,\n",
       " 'response_completeness_reason': 'The response is mostly complete as it includes most of the relevant information but omits a minor detail about \"city sightseeing\" for Day 1.'}"
      ]
     },
     "execution_count": 5,
     "metadata": {},
     "output_type": "execute_result"
    }
   ],
   "source": [
    "# agent response is complete\n",
    "result = response_completeness_evaluator(\n",
    "    response=\"Itinery: Day 1 check out the downtown district of the city on train; for Day 2, we can rest in hotel.\",\n",
    "    ground_truth=\"Itinery: Day 1 take a train to visit the downtown area for city sightseeing; Day 2 rests in hotel.\",\n",
    ")\n",
    "result"
   ]
  },
  {
   "cell_type": "code",
   "execution_count": 6,
   "metadata": {},
   "outputs": [
    {
     "data": {
      "text/plain": [
       "{'response_completeness': 5,\n",
       " 'response_completeness_result': 'pass',\n",
       " 'response_completeness_threshold': 3,\n",
       " 'response_completeness_reason': 'The response accurately includes all the relevant information from the ground truth without missing any details, making it fully complete.'}"
      ]
     },
     "execution_count": 6,
     "metadata": {},
     "output_type": "execute_result"
    }
   ],
   "source": [
    "# agent response is incomplete\n",
    "result = response_completeness_evaluator(\n",
    "    response=\"The order with ID 123 has been shipped and is expected to be delivered on March 15, 2025. However, the order with ID 124 is delayed and should now arrive by March 20, 2025.\",\n",
    "    ground_truth=\"The order with ID 124 is delayed and should now arrive by March 20, 2025.\",\n",
    ")\n",
    "result"
   ]
  },
  {
   "cell_type": "markdown",
   "metadata": {},
   "source": [
    "### Prepare ground truth for agent response\n"
   ]
  },
  {
   "cell_type": "code",
   "execution_count": 7,
   "metadata": {},
   "outputs": [],
   "source": [
    "import json\n",
    "from pathlib import Path\n",
    "\n",
    "data = [\n",
    "    {\n",
    "        \"response\": \"The temperature of Seattle now is 70 degrees. Based on the temperature, having an outdoor office party is recommended.\",\n",
    "        \"ground_truth\": \"The temperature of Seattle now is 50 degrees. It will be recommended to bring a jacket in the evening.\",\n",
    "    },\n",
    "    {\n",
    "        \"response\": 'The email draft \"Project Plan\" is attached. Please review and provide feedback.',\n",
    "        \"ground_truth\": 'The email draft \"Project Plan\" is attached. Please review and provide feedback by EOD.',\n",
    "    },\n",
    "    {\n",
    "        \"response\": \"Based on the retrieved documents, the shareholder meeting discussed the operational efficiency of the company and financing options.\",\n",
    "        \"ground_truth\": \"The shareholder meeting discussed the compensation package of the company CEO.\",\n",
    "    },\n",
    "    {\n",
    "        \"response\": \"The calendar API returns an error code 500. Please check the server logs for more details.\",\n",
    "        \"ground_truth\": \"The meeting is scheduled for 2 PM tomorrow. Please confirm your availability by EOD.\",\n",
    "    },\n",
    "]\n",
    "\n",
    "file_path = \"response_completeness_data.jsonl\"\n",
    "\n",
    "with Path.open(file_path, \"w\") as file:\n",
    "    for line in data:\n",
    "        file.write(json.dumps(line) + \"\\n\")"
   ]
  },
  {
   "cell_type": "markdown",
   "metadata": {},
   "source": [
    "## Batch evaluate and visualize results on Azure AI Foundry\n",
    "Batch evaluate to leverage asynchronous evaluation on a dataset. \n",
    "\n",
    "Optionally, you can go to AI Foundry URL for rich Azure AI Foundry data visualization. You can inspect the evaluation scores and reasoning to quickly identify bugs and issues of your agent to fix and improve. Make sure to authenticate to Azure using `az login` in your terminal before running this cell."
   ]
  },
  {
   "cell_type": "code",
   "execution_count": 8,
   "metadata": {},
   "outputs": [
    {
     "name": "stderr",
     "output_type": "stream",
     "text": [
      "[2025-06-04 14:27:27 -0700][promptflow._core.entry_meta_generator][WARNING] - Generate meta in current process and timeout won't take effect. Please handle timeout manually outside current process.\n",
      "[2025-06-04 14:27:27 -0700][promptflow._sdk._orchestrator.run_submitter][INFO] - Submitting run azure_ai_evaluation_evaluators_response_completeness_20250604_142727_724371, log path: /Users/cv/.promptflow/.runs/azure_ai_evaluation_evaluators_response_completeness_20250604_142727_724371/logs.txt\n"
     ]
    },
    {
     "name": "stdout",
     "output_type": "stream",
     "text": [
      "2025-06-04 14:27:27 -0700   82136 execution.bulk     INFO     Current thread is not main thread, skip signal handler registration in BatchEngine.\n",
      "2025-06-04 14:27:30 -0700   82136 execution.bulk     INFO     Finished 1 / 4 lines.\n",
      "2025-06-04 14:27:30 -0700   82136 execution.bulk     INFO     Average execution time for completed lines: 2.32 seconds. Estimated time for incomplete lines: 6.96 seconds.\n",
      "2025-06-04 14:27:30 -0700   82136 execution.bulk     INFO     Finished 2 / 4 lines.\n",
      "2025-06-04 14:27:30 -0700   82136 execution.bulk     INFO     Average execution time for completed lines: 1.17 seconds. Estimated time for incomplete lines: 2.34 seconds.\n",
      "2025-06-04 14:27:30 -0700   82136 execution.bulk     INFO     Finished 3 / 4 lines.\n",
      "2025-06-04 14:27:30 -0700   82136 execution.bulk     INFO     Average execution time for completed lines: 0.79 seconds. Estimated time for incomplete lines: 0.79 seconds.\n",
      "2025-06-04 14:27:30 -0700   82136 execution.bulk     INFO     Finished 4 / 4 lines.\n",
      "2025-06-04 14:27:30 -0700   82136 execution.bulk     INFO     Average execution time for completed lines: 0.6 seconds. Estimated time for incomplete lines: 0.0 seconds.\n",
      "======= Run Summary =======\n",
      "\n",
      "Run name: \"azure_ai_evaluation_evaluators_response_completeness_20250604_142727_724371\"\n",
      "Run status: \"Completed\"\n",
      "Start time: \"2025-06-04 14:27:27.733561-07:00\"\n",
      "Duration: \"0:00:03.158686\"\n",
      "Output path: \"/Users/cv/.promptflow/.runs/azure_ai_evaluation_evaluators_response_completeness_20250604_142727_724371\"\n",
      "\n",
      "======= Combined Run Summary (Per Evaluator) =======\n",
      "\n",
      "{\n",
      "    \"response_completeness\": {\n",
      "        \"status\": \"Completed\",\n",
      "        \"duration\": \"0:00:03.158686\",\n",
      "        \"completed_lines\": 4,\n",
      "        \"failed_lines\": 0,\n",
      "        \"log_path\": \"/Users/cv/.promptflow/.runs/azure_ai_evaluation_evaluators_response_completeness_20250604_142727_724371\"\n",
      "    }\n",
      "}\n",
      "\n",
      "====================================================\n",
      "\n",
      "('AI Foundry URL: '\n",
      " 'https://ai.azure.com/build/evaluation/4a5624e4-0909-4cdb-95a9-74799d3e3b31?wsid=/subscriptions/6415ebd4-1dd7-430f-bd4d-2f5e9419c1cd/resourceGroups/rg-cvi-ai-eng-fair-hub-eastus2/providers/Microsoft.MachineLearningServices/workspaces/cvi-ai-eng-fair-hub-eastus2')\n"
     ]
    }
   ],
   "source": [
    "from azure.ai.evaluation import evaluate\n",
    "\n",
    "azure_ai_project = {\n",
    "    \"subscription_id\": os.environ[\"AZURE_SUBSCRIPTION_ID\"],\n",
    "    \"project_name\": os.environ[\"PROJECT_NAME\"],\n",
    "    \"resource_group_name\": os.environ[\"RESOURCE_GROUP_NAME\"],\n",
    "}\n",
    "\n",
    "response = evaluate(\n",
    "    data=file_path,\n",
    "    evaluators={\n",
    "        \"response_completeness\": response_completeness_evaluator,\n",
    "    },\n",
    "    azure_ai_project={\n",
    "        \"subscription_id\": os.environ[\"REPORT_AZURE_SUBSCRIPTION_ID\"],\n",
    "        \"project_name\": os.environ[\"REPORT_PROJECT_NAME\"],\n",
    "        \"resource_group_name\": os.environ[\"REPORT_RESOURCE_GROUP_NAME\"],\n",
    "    },\n",
    ")\n",
    "\n",
    "pprint(f'AI Foundry URL: {response.get(\"studio_url\")}')"
   ]
  },
  {
   "cell_type": "code",
   "execution_count": 9,
   "metadata": {},
   "outputs": [
    {
     "data": {
      "text/html": [
       "<div>\n",
       "<style scoped>\n",
       "    .dataframe tbody tr th:only-of-type {\n",
       "        vertical-align: middle;\n",
       "    }\n",
       "\n",
       "    .dataframe tbody tr th {\n",
       "        vertical-align: top;\n",
       "    }\n",
       "\n",
       "    .dataframe thead th {\n",
       "        text-align: right;\n",
       "    }\n",
       "</style>\n",
       "<table border=\"1\" class=\"dataframe\">\n",
       "  <thead>\n",
       "    <tr style=\"text-align: right;\">\n",
       "      <th></th>\n",
       "      <th>inputs.response</th>\n",
       "      <th>inputs.ground_truth</th>\n",
       "      <th>outputs.response_completeness.response_completeness</th>\n",
       "      <th>outputs.response_completeness.response_completeness_result</th>\n",
       "      <th>outputs.response_completeness.response_completeness_threshold</th>\n",
       "      <th>outputs.response_completeness.response_completeness_reason</th>\n",
       "      <th>line_number</th>\n",
       "    </tr>\n",
       "  </thead>\n",
       "  <tbody>\n",
       "    <tr>\n",
       "      <th>0</th>\n",
       "      <td>The temperature of Seattle now is 70 degrees. ...</td>\n",
       "      <td>The temperature of Seattle now is 50 degrees. ...</td>\n",
       "      <td>1</td>\n",
       "      <td>fail</td>\n",
       "      <td>3</td>\n",
       "      <td>The response is fully incomplete because it do...</td>\n",
       "      <td>0</td>\n",
       "    </tr>\n",
       "    <tr>\n",
       "      <th>1</th>\n",
       "      <td>The email draft \"Project Plan\" is attached. Pl...</td>\n",
       "      <td>The email draft \"Project Plan\" is attached. Pl...</td>\n",
       "      <td>4</td>\n",
       "      <td>pass</td>\n",
       "      <td>3</td>\n",
       "      <td>The response is mostly complete but misses the...</td>\n",
       "      <td>1</td>\n",
       "    </tr>\n",
       "    <tr>\n",
       "      <th>2</th>\n",
       "      <td>Based on the retrieved documents, the sharehol...</td>\n",
       "      <td>The shareholder meeting discussed the compensa...</td>\n",
       "      <td>1</td>\n",
       "      <td>fail</td>\n",
       "      <td>3</td>\n",
       "      <td>The response completely misses the necessary a...</td>\n",
       "      <td>2</td>\n",
       "    </tr>\n",
       "    <tr>\n",
       "      <th>3</th>\n",
       "      <td>The calendar API returns an error code 500. Pl...</td>\n",
       "      <td>The meeting is scheduled for 2 PM tomorrow. Pl...</td>\n",
       "      <td>1</td>\n",
       "      <td>fail</td>\n",
       "      <td>3</td>\n",
       "      <td>The response does not contain any of the infor...</td>\n",
       "      <td>3</td>\n",
       "    </tr>\n",
       "  </tbody>\n",
       "</table>\n",
       "</div>"
      ],
      "text/plain": [
       "                                     inputs.response  \\\n",
       "0  The temperature of Seattle now is 70 degrees. ...   \n",
       "1  The email draft \"Project Plan\" is attached. Pl...   \n",
       "2  Based on the retrieved documents, the sharehol...   \n",
       "3  The calendar API returns an error code 500. Pl...   \n",
       "\n",
       "                                 inputs.ground_truth  \\\n",
       "0  The temperature of Seattle now is 50 degrees. ...   \n",
       "1  The email draft \"Project Plan\" is attached. Pl...   \n",
       "2  The shareholder meeting discussed the compensa...   \n",
       "3  The meeting is scheduled for 2 PM tomorrow. Pl...   \n",
       "\n",
       "   outputs.response_completeness.response_completeness  \\\n",
       "0                                                  1     \n",
       "1                                                  4     \n",
       "2                                                  1     \n",
       "3                                                  1     \n",
       "\n",
       "  outputs.response_completeness.response_completeness_result  \\\n",
       "0                                               fail           \n",
       "1                                               pass           \n",
       "2                                               fail           \n",
       "3                                               fail           \n",
       "\n",
       "   outputs.response_completeness.response_completeness_threshold  \\\n",
       "0                                                  3               \n",
       "1                                                  3               \n",
       "2                                                  3               \n",
       "3                                                  3               \n",
       "\n",
       "  outputs.response_completeness.response_completeness_reason  line_number  \n",
       "0  The response is fully incomplete because it do...                    0  \n",
       "1  The response is mostly complete but misses the...                    1  \n",
       "2  The response completely misses the necessary a...                    2  \n",
       "3  The response does not contain any of the infor...                    3  "
      ]
     },
     "execution_count": 9,
     "metadata": {},
     "output_type": "execute_result"
    }
   ],
   "source": [
    "import pandas as pd\n",
    "pd.DataFrame(response[\"rows\"])"
   ]
  },
  {
   "cell_type": "code",
   "execution_count": null,
   "metadata": {},
   "outputs": [],
   "source": []
  }
 ],
 "metadata": {
  "kernelspec": {
   "display_name": ".venv",
   "language": "python",
   "name": "python3"
  },
  "language_info": {
   "codemirror_mode": {
    "name": "ipython",
    "version": 3
   },
   "file_extension": ".py",
   "mimetype": "text/x-python",
   "name": "python",
   "nbconvert_exporter": "python",
   "pygments_lexer": "ipython3",
   "version": "3.13.3"
  }
 },
 "nbformat": 4,
 "nbformat_minor": 2
}
