{
 "cells": [
  {
   "cell_type": "markdown",
   "metadata": {},
   "source": [
    "# Tool Call Accuracy Evaluator\n",
    "\n",
    "## Objective\n",
    "This sample demonstrates to how to use tool call accuracy evaluator on agent data. The supported input formats include:\n",
    "- simple data such as strings and `dict` describing tool calls;\n",
    "- user-agent conversations in the form of list of agent messages. \n",
    "\n",
    "## Time\n",
    "\n",
    "You should expect to spend about 20 minutes running this notebook. \n",
    "\n",
    "## Before you begin\n",
    "For quality evaluation, you need to deploy a `gpt` model supporting JSON mode. We recommend a model `gpt-4o` or `gpt-4o-mini` for their strong reasoning capabilities.    \n",
    "\n",
    "### Prerequisite\n",
    "```bash\n",
    "pip install azure-ai-projects azure-identity azure-ai-evaluation\n",
    "```\n",
    "Set these environment variables with your own values:\n",
    "1) **PROJECT_CONNECTION_STRING** - The project connection string, as found in the overview page of your Azure AI Foundry project.\n",
    "2) **MODEL_DEPLOYMENT_NAME** - The deployment name of the model for this AI-assisted evaluator, as found under the \"Name\" column in the \"Models + endpoints\" tab in your Azure AI Foundry project.\n",
    "3) **AZURE_OPENAI_ENDPOINT** - Azure Open AI Endpoint to be used for evaluation.\n",
    "4) **AZURE_OPENAI_API_KEY** - Azure Open AI Key to be used for evaluation.\n",
    "5) **AZURE_OPENAI_API_VERSION** - Azure Open AI Api version to be used for evaluation.\n",
    "6) **AZURE_SUBSCRIPTION_ID** - Azure Subscription Id of Azure AI Project\n",
    "7) **PROJECT_NAME** - Azure AI Project Name\n",
    "8) **RESOURCE_GROUP_NAME** - Azure AI Project Resource Group Name\n"
   ]
  },
  {
   "cell_type": "markdown",
   "metadata": {},
   "source": [
    "The Tool Call Accuracy evaluator assesses how accurately an AI uses tools by examining:\n",
    "- Relevance to the conversation\n",
    "- Parameter correctness according to tool definitions\n",
    "- Parameter value extraction from the conversation\n",
    "- Potential usefulness of the tool call\n",
    "\n",
    "The evaluator uses a binary scoring (0 or 1) for each tool call:\n",
    "\n",
    "    - Score 0: The tool call is irrelevant or contains information not in the conversation/definition\n",
    "    - Score 1: The tool call is relevant with properly extracted parameters from the conversation\n",
    "\n",
    "If there are multiple call, the final score will be an **average** of individual tool calls, which can be interpreted as the **passing rate** of tool calls.\n",
    "\n",
    "This evaluation focuses on measuring whether tool calls meaningfully contribute to addressing query while properly following tool definitions and using information present in the conversation history."
   ]
  },
  {
   "cell_type": "markdown",
   "metadata": {},
   "source": [
    "Tool Call Accuracy requires following input:\n",
    "- Query - This can be a single query or a list of messages(conversation history with agent). Latter helps to determine if Agent used the information in history to make right tool calls.\n",
    "- Tool Calls - Tool Call(s) made by Agent to answer the query. Optional - if response has tool calls, if not provided evaluator will look for tool calls in response.\n",
    "- Response - (Optional) Response from Agent (or any GenAI App). This can be a single text response or a list or messages generated as part of Agent Response. If tool calls are not provide Tool Call Accuracy Evaluator will look at response for tool calls.\n",
    "- Tool Definitions - Tool(s) definition used by Agent to answer the query. \n"
   ]
  },
  {
   "cell_type": "markdown",
   "metadata": {},
   "source": [
    "### Initialize Tool Call Accuracy Evaluator\n"
   ]
  },
  {
   "cell_type": "code",
   "execution_count": 1,
   "metadata": {},
   "outputs": [
    {
     "name": "stdout",
     "output_type": "stream",
     "text": [
      "Requirement already satisfied: azure-ai-projects in /Users/cv/Documents/Projects/azureai-samples/.venv/lib/python3.13/site-packages (1.0.0b11)\n",
      "Requirement already satisfied: azure-identity in /Users/cv/Documents/Projects/azureai-samples/.venv/lib/python3.13/site-packages (1.23.0)\n",
      "Requirement already satisfied: azure-ai-evaluation in /Users/cv/Documents/Projects/azureai-samples/.venv/lib/python3.13/site-packages (1.8.0)\n",
      "Requirement already satisfied: python-dotenv in /Users/cv/Documents/Projects/azureai-samples/.venv/lib/python3.13/site-packages (1.1.0)\n",
      "Requirement already satisfied: isodate>=0.6.1 in /Users/cv/Documents/Projects/azureai-samples/.venv/lib/python3.13/site-packages (from azure-ai-projects) (0.7.2)\n",
      "Requirement already satisfied: azure-core>=1.30.0 in /Users/cv/Documents/Projects/azureai-samples/.venv/lib/python3.13/site-packages (from azure-ai-projects) (1.34.0)\n",
      "Requirement already satisfied: typing-extensions>=4.12.2 in /Users/cv/Documents/Projects/azureai-samples/.venv/lib/python3.13/site-packages (from azure-ai-projects) (4.14.0)\n",
      "Requirement already satisfied: azure-storage-blob>=12.15.0 in /Users/cv/Documents/Projects/azureai-samples/.venv/lib/python3.13/site-packages (from azure-ai-projects) (12.25.1)\n",
      "Requirement already satisfied: azure-ai-agents>=1.0.0b1 in /Users/cv/Documents/Projects/azureai-samples/.venv/lib/python3.13/site-packages (from azure-ai-projects) (1.1.0b1)\n",
      "Requirement already satisfied: cryptography>=2.5 in /Users/cv/Documents/Projects/azureai-samples/.venv/lib/python3.13/site-packages (from azure-identity) (45.0.3)\n",
      "Requirement already satisfied: msal>=1.30.0 in /Users/cv/Documents/Projects/azureai-samples/.venv/lib/python3.13/site-packages (from azure-identity) (1.32.3)\n",
      "Requirement already satisfied: msal-extensions>=1.2.0 in /Users/cv/Documents/Projects/azureai-samples/.venv/lib/python3.13/site-packages (from azure-identity) (1.3.1)\n",
      "Requirement already satisfied: promptflow-devkit>=1.17.1 in /Users/cv/Documents/Projects/azureai-samples/.venv/lib/python3.13/site-packages (from azure-ai-evaluation) (1.18.0)\n",
      "Requirement already satisfied: promptflow-core>=1.17.1 in /Users/cv/Documents/Projects/azureai-samples/.venv/lib/python3.13/site-packages (from azure-ai-evaluation) (1.18.0)\n",
      "Requirement already satisfied: pyjwt>=2.8.0 in /Users/cv/Documents/Projects/azureai-samples/.venv/lib/python3.13/site-packages (from azure-ai-evaluation) (2.10.1)\n",
      "Requirement already satisfied: nltk>=3.9.1 in /Users/cv/Documents/Projects/azureai-samples/.venv/lib/python3.13/site-packages (from azure-ai-evaluation) (3.9.1)\n",
      "Requirement already satisfied: httpx>=0.25.1 in /Users/cv/Documents/Projects/azureai-samples/.venv/lib/python3.13/site-packages (from azure-ai-evaluation) (0.28.1)\n",
      "Requirement already satisfied: pandas<3.0.0,>=2.1.2 in /Users/cv/Documents/Projects/azureai-samples/.venv/lib/python3.13/site-packages (from azure-ai-evaluation) (2.2.3)\n",
      "Requirement already satisfied: openai>=1.78.0 in /Users/cv/Documents/Projects/azureai-samples/.venv/lib/python3.13/site-packages (from azure-ai-evaluation) (1.84.0)\n",
      "Requirement already satisfied: ruamel.yaml<1.0.0,>=0.17.10 in /Users/cv/Documents/Projects/azureai-samples/.venv/lib/python3.13/site-packages (from azure-ai-evaluation) (0.18.12)\n",
      "Requirement already satisfied: msrest>=0.6.21 in /Users/cv/Documents/Projects/azureai-samples/.venv/lib/python3.13/site-packages (from azure-ai-evaluation) (0.7.1)\n",
      "Requirement already satisfied: Jinja2>=3.1.6 in /Users/cv/Documents/Projects/azureai-samples/.venv/lib/python3.13/site-packages (from azure-ai-evaluation) (3.1.6)\n",
      "Requirement already satisfied: aiohttp>=3.0 in /Users/cv/Documents/Projects/azureai-samples/.venv/lib/python3.13/site-packages (from azure-ai-evaluation) (3.12.7)\n",
      "Requirement already satisfied: numpy>=1.26.0 in /Users/cv/Documents/Projects/azureai-samples/.venv/lib/python3.13/site-packages (from pandas<3.0.0,>=2.1.2->azure-ai-evaluation) (2.2.6)\n",
      "Requirement already satisfied: python-dateutil>=2.8.2 in /Users/cv/Documents/Projects/azureai-samples/.venv/lib/python3.13/site-packages (from pandas<3.0.0,>=2.1.2->azure-ai-evaluation) (2.9.0.post0)\n",
      "Requirement already satisfied: pytz>=2020.1 in /Users/cv/Documents/Projects/azureai-samples/.venv/lib/python3.13/site-packages (from pandas<3.0.0,>=2.1.2->azure-ai-evaluation) (2025.2)\n",
      "Requirement already satisfied: tzdata>=2022.7 in /Users/cv/Documents/Projects/azureai-samples/.venv/lib/python3.13/site-packages (from pandas<3.0.0,>=2.1.2->azure-ai-evaluation) (2025.2)\n",
      "Requirement already satisfied: ruamel.yaml.clib>=0.2.7 in /Users/cv/Documents/Projects/azureai-samples/.venv/lib/python3.13/site-packages (from ruamel.yaml<1.0.0,>=0.17.10->azure-ai-evaluation) (0.2.12)\n",
      "Requirement already satisfied: aiohappyeyeballs>=2.5.0 in /Users/cv/Documents/Projects/azureai-samples/.venv/lib/python3.13/site-packages (from aiohttp>=3.0->azure-ai-evaluation) (2.6.1)\n",
      "Requirement already satisfied: aiosignal>=1.1.2 in /Users/cv/Documents/Projects/azureai-samples/.venv/lib/python3.13/site-packages (from aiohttp>=3.0->azure-ai-evaluation) (1.3.2)\n",
      "Requirement already satisfied: attrs>=17.3.0 in /Users/cv/Documents/Projects/azureai-samples/.venv/lib/python3.13/site-packages (from aiohttp>=3.0->azure-ai-evaluation) (25.3.0)\n",
      "Requirement already satisfied: frozenlist>=1.1.1 in /Users/cv/Documents/Projects/azureai-samples/.venv/lib/python3.13/site-packages (from aiohttp>=3.0->azure-ai-evaluation) (1.6.0)\n",
      "Requirement already satisfied: multidict<7.0,>=4.5 in /Users/cv/Documents/Projects/azureai-samples/.venv/lib/python3.13/site-packages (from aiohttp>=3.0->azure-ai-evaluation) (6.4.4)\n",
      "Requirement already satisfied: propcache>=0.2.0 in /Users/cv/Documents/Projects/azureai-samples/.venv/lib/python3.13/site-packages (from aiohttp>=3.0->azure-ai-evaluation) (0.3.1)\n",
      "Requirement already satisfied: yarl<2.0,>=1.17.0 in /Users/cv/Documents/Projects/azureai-samples/.venv/lib/python3.13/site-packages (from aiohttp>=3.0->azure-ai-evaluation) (1.20.0)\n",
      "Requirement already satisfied: idna>=2.0 in /Users/cv/Documents/Projects/azureai-samples/.venv/lib/python3.13/site-packages (from yarl<2.0,>=1.17.0->aiohttp>=3.0->azure-ai-evaluation) (3.10)\n",
      "Requirement already satisfied: requests>=2.21.0 in /Users/cv/Documents/Projects/azureai-samples/.venv/lib/python3.13/site-packages (from azure-core>=1.30.0->azure-ai-projects) (2.32.3)\n",
      "Requirement already satisfied: six>=1.11.0 in /Users/cv/Documents/Projects/azureai-samples/.venv/lib/python3.13/site-packages (from azure-core>=1.30.0->azure-ai-projects) (1.17.0)\n",
      "Requirement already satisfied: cffi>=1.14 in /Users/cv/Documents/Projects/azureai-samples/.venv/lib/python3.13/site-packages (from cryptography>=2.5->azure-identity) (1.17.1)\n",
      "Requirement already satisfied: pycparser in /Users/cv/Documents/Projects/azureai-samples/.venv/lib/python3.13/site-packages (from cffi>=1.14->cryptography>=2.5->azure-identity) (2.22)\n",
      "Requirement already satisfied: anyio in /Users/cv/Documents/Projects/azureai-samples/.venv/lib/python3.13/site-packages (from httpx>=0.25.1->azure-ai-evaluation) (4.9.0)\n",
      "Requirement already satisfied: certifi in /Users/cv/Documents/Projects/azureai-samples/.venv/lib/python3.13/site-packages (from httpx>=0.25.1->azure-ai-evaluation) (2025.4.26)\n",
      "Requirement already satisfied: httpcore==1.* in /Users/cv/Documents/Projects/azureai-samples/.venv/lib/python3.13/site-packages (from httpx>=0.25.1->azure-ai-evaluation) (1.0.9)\n",
      "Requirement already satisfied: h11>=0.16 in /Users/cv/Documents/Projects/azureai-samples/.venv/lib/python3.13/site-packages (from httpcore==1.*->httpx>=0.25.1->azure-ai-evaluation) (0.16.0)\n",
      "Requirement already satisfied: MarkupSafe>=2.0 in /Users/cv/Documents/Projects/azureai-samples/.venv/lib/python3.13/site-packages (from Jinja2>=3.1.6->azure-ai-evaluation) (3.0.2)\n",
      "Requirement already satisfied: charset-normalizer<4,>=2 in /Users/cv/Documents/Projects/azureai-samples/.venv/lib/python3.13/site-packages (from requests>=2.21.0->azure-core>=1.30.0->azure-ai-projects) (3.4.2)\n",
      "Requirement already satisfied: urllib3<3,>=1.21.1 in /Users/cv/Documents/Projects/azureai-samples/.venv/lib/python3.13/site-packages (from requests>=2.21.0->azure-core>=1.30.0->azure-ai-projects) (2.4.0)\n",
      "Requirement already satisfied: requests-oauthlib>=0.5.0 in /Users/cv/Documents/Projects/azureai-samples/.venv/lib/python3.13/site-packages (from msrest>=0.6.21->azure-ai-evaluation) (2.0.0)\n",
      "Requirement already satisfied: click in /Users/cv/Documents/Projects/azureai-samples/.venv/lib/python3.13/site-packages (from nltk>=3.9.1->azure-ai-evaluation) (8.2.1)\n",
      "Requirement already satisfied: joblib in /Users/cv/Documents/Projects/azureai-samples/.venv/lib/python3.13/site-packages (from nltk>=3.9.1->azure-ai-evaluation) (1.5.1)\n",
      "Requirement already satisfied: regex>=2021.8.3 in /Users/cv/Documents/Projects/azureai-samples/.venv/lib/python3.13/site-packages (from nltk>=3.9.1->azure-ai-evaluation) (2024.11.6)\n",
      "Requirement already satisfied: tqdm in /Users/cv/Documents/Projects/azureai-samples/.venv/lib/python3.13/site-packages (from nltk>=3.9.1->azure-ai-evaluation) (4.67.1)\n",
      "Requirement already satisfied: distro<2,>=1.7.0 in /Users/cv/Documents/Projects/azureai-samples/.venv/lib/python3.13/site-packages (from openai>=1.78.0->azure-ai-evaluation) (1.9.0)\n",
      "Requirement already satisfied: jiter<1,>=0.4.0 in /Users/cv/Documents/Projects/azureai-samples/.venv/lib/python3.13/site-packages (from openai>=1.78.0->azure-ai-evaluation) (0.10.0)\n",
      "Requirement already satisfied: pydantic<3,>=1.9.0 in /Users/cv/Documents/Projects/azureai-samples/.venv/lib/python3.13/site-packages (from openai>=1.78.0->azure-ai-evaluation) (2.11.5)\n",
      "Requirement already satisfied: sniffio in /Users/cv/Documents/Projects/azureai-samples/.venv/lib/python3.13/site-packages (from openai>=1.78.0->azure-ai-evaluation) (1.3.1)\n",
      "Requirement already satisfied: annotated-types>=0.6.0 in /Users/cv/Documents/Projects/azureai-samples/.venv/lib/python3.13/site-packages (from pydantic<3,>=1.9.0->openai>=1.78.0->azure-ai-evaluation) (0.7.0)\n",
      "Requirement already satisfied: pydantic-core==2.33.2 in /Users/cv/Documents/Projects/azureai-samples/.venv/lib/python3.13/site-packages (from pydantic<3,>=1.9.0->openai>=1.78.0->azure-ai-evaluation) (2.33.2)\n",
      "Requirement already satisfied: typing-inspection>=0.4.0 in /Users/cv/Documents/Projects/azureai-samples/.venv/lib/python3.13/site-packages (from pydantic<3,>=1.9.0->openai>=1.78.0->azure-ai-evaluation) (0.4.1)\n",
      "Requirement already satisfied: docstring_parser in /Users/cv/Documents/Projects/azureai-samples/.venv/lib/python3.13/site-packages (from promptflow-core>=1.17.1->azure-ai-evaluation) (0.16)\n",
      "Requirement already satisfied: fastapi<1.0.0,>=0.109.0 in /Users/cv/Documents/Projects/azureai-samples/.venv/lib/python3.13/site-packages (from promptflow-core>=1.17.1->azure-ai-evaluation) (0.115.12)\n",
      "Requirement already satisfied: filetype>=1.2.0 in /Users/cv/Documents/Projects/azureai-samples/.venv/lib/python3.13/site-packages (from promptflow-core>=1.17.1->azure-ai-evaluation) (1.2.0)\n",
      "Requirement already satisfied: flask<4.0.0,>=2.2.3 in /Users/cv/Documents/Projects/azureai-samples/.venv/lib/python3.13/site-packages (from promptflow-core>=1.17.1->azure-ai-evaluation) (3.1.1)\n",
      "Requirement already satisfied: jsonschema<5.0.0,>=4.0.0 in /Users/cv/Documents/Projects/azureai-samples/.venv/lib/python3.13/site-packages (from promptflow-core>=1.17.1->azure-ai-evaluation) (4.24.0)\n",
      "Requirement already satisfied: promptflow-tracing==1.18.0 in /Users/cv/Documents/Projects/azureai-samples/.venv/lib/python3.13/site-packages (from promptflow-core>=1.17.1->azure-ai-evaluation) (1.18.0)\n",
      "Requirement already satisfied: psutil in /Users/cv/Documents/Projects/azureai-samples/.venv/lib/python3.13/site-packages (from promptflow-core>=1.17.1->azure-ai-evaluation) (7.0.0)\n",
      "Requirement already satisfied: opentelemetry-sdk<2.0.0,>=1.22.0 in /Users/cv/Documents/Projects/azureai-samples/.venv/lib/python3.13/site-packages (from promptflow-tracing==1.18.0->promptflow-core>=1.17.1->azure-ai-evaluation) (1.33.1)\n",
      "Requirement already satisfied: tiktoken>=0.4.0 in /Users/cv/Documents/Projects/azureai-samples/.venv/lib/python3.13/site-packages (from promptflow-tracing==1.18.0->promptflow-core>=1.17.1->azure-ai-evaluation) (0.9.0)\n",
      "Requirement already satisfied: starlette<0.47.0,>=0.40.0 in /Users/cv/Documents/Projects/azureai-samples/.venv/lib/python3.13/site-packages (from fastapi<1.0.0,>=0.109.0->promptflow-core>=1.17.1->azure-ai-evaluation) (0.46.2)\n",
      "Requirement already satisfied: blinker>=1.9.0 in /Users/cv/Documents/Projects/azureai-samples/.venv/lib/python3.13/site-packages (from flask<4.0.0,>=2.2.3->promptflow-core>=1.17.1->azure-ai-evaluation) (1.9.0)\n",
      "Requirement already satisfied: itsdangerous>=2.2.0 in /Users/cv/Documents/Projects/azureai-samples/.venv/lib/python3.13/site-packages (from flask<4.0.0,>=2.2.3->promptflow-core>=1.17.1->azure-ai-evaluation) (2.2.0)\n",
      "Requirement already satisfied: werkzeug>=3.1.0 in /Users/cv/Documents/Projects/azureai-samples/.venv/lib/python3.13/site-packages (from flask<4.0.0,>=2.2.3->promptflow-core>=1.17.1->azure-ai-evaluation) (3.1.3)\n",
      "Requirement already satisfied: jsonschema-specifications>=2023.03.6 in /Users/cv/Documents/Projects/azureai-samples/.venv/lib/python3.13/site-packages (from jsonschema<5.0.0,>=4.0.0->promptflow-core>=1.17.1->azure-ai-evaluation) (2025.4.1)\n",
      "Requirement already satisfied: referencing>=0.28.4 in /Users/cv/Documents/Projects/azureai-samples/.venv/lib/python3.13/site-packages (from jsonschema<5.0.0,>=4.0.0->promptflow-core>=1.17.1->azure-ai-evaluation) (0.36.2)\n",
      "Requirement already satisfied: rpds-py>=0.7.1 in /Users/cv/Documents/Projects/azureai-samples/.venv/lib/python3.13/site-packages (from jsonschema<5.0.0,>=4.0.0->promptflow-core>=1.17.1->azure-ai-evaluation) (0.25.1)\n",
      "Requirement already satisfied: opentelemetry-api==1.33.1 in /Users/cv/Documents/Projects/azureai-samples/.venv/lib/python3.13/site-packages (from opentelemetry-sdk<2.0.0,>=1.22.0->promptflow-tracing==1.18.0->promptflow-core>=1.17.1->azure-ai-evaluation) (1.33.1)\n",
      "Requirement already satisfied: opentelemetry-semantic-conventions==0.54b1 in /Users/cv/Documents/Projects/azureai-samples/.venv/lib/python3.13/site-packages (from opentelemetry-sdk<2.0.0,>=1.22.0->promptflow-tracing==1.18.0->promptflow-core>=1.17.1->azure-ai-evaluation) (0.54b1)\n",
      "Requirement already satisfied: deprecated>=1.2.6 in /Users/cv/Documents/Projects/azureai-samples/.venv/lib/python3.13/site-packages (from opentelemetry-api==1.33.1->opentelemetry-sdk<2.0.0,>=1.22.0->promptflow-tracing==1.18.0->promptflow-core>=1.17.1->azure-ai-evaluation) (1.2.18)\n",
      "Requirement already satisfied: importlib-metadata<8.7.0,>=6.0 in /Users/cv/Documents/Projects/azureai-samples/.venv/lib/python3.13/site-packages (from opentelemetry-api==1.33.1->opentelemetry-sdk<2.0.0,>=1.22.0->promptflow-tracing==1.18.0->promptflow-core>=1.17.1->azure-ai-evaluation) (8.6.1)\n",
      "Requirement already satisfied: zipp>=3.20 in /Users/cv/Documents/Projects/azureai-samples/.venv/lib/python3.13/site-packages (from importlib-metadata<8.7.0,>=6.0->opentelemetry-api==1.33.1->opentelemetry-sdk<2.0.0,>=1.22.0->promptflow-tracing==1.18.0->promptflow-core>=1.17.1->azure-ai-evaluation) (3.22.0)\n",
      "Requirement already satisfied: wrapt<2,>=1.10 in /Users/cv/Documents/Projects/azureai-samples/.venv/lib/python3.13/site-packages (from deprecated>=1.2.6->opentelemetry-api==1.33.1->opentelemetry-sdk<2.0.0,>=1.22.0->promptflow-tracing==1.18.0->promptflow-core>=1.17.1->azure-ai-evaluation) (1.17.2)\n",
      "Requirement already satisfied: argcomplete>=3.2.3 in /Users/cv/Documents/Projects/azureai-samples/.venv/lib/python3.13/site-packages (from promptflow-devkit>=1.17.1->azure-ai-evaluation) (3.6.2)\n",
      "Requirement already satisfied: azure-monitor-opentelemetry-exporter<2.0.0,>=1.0.0b21 in /Users/cv/Documents/Projects/azureai-samples/.venv/lib/python3.13/site-packages (from promptflow-devkit>=1.17.1->azure-ai-evaluation) (1.0.0b37)\n",
      "Requirement already satisfied: colorama<0.5.0,>=0.4.6 in /Users/cv/Documents/Projects/azureai-samples/.venv/lib/python3.13/site-packages (from promptflow-devkit>=1.17.1->azure-ai-evaluation) (0.4.6)\n",
      "Requirement already satisfied: filelock<4.0.0,>=3.4.0 in /Users/cv/Documents/Projects/azureai-samples/.venv/lib/python3.13/site-packages (from promptflow-devkit>=1.17.1->azure-ai-evaluation) (3.18.0)\n",
      "Requirement already satisfied: flask-cors<6.0.0,>=5.0.0 in /Users/cv/Documents/Projects/azureai-samples/.venv/lib/python3.13/site-packages (from promptflow-devkit>=1.17.1->azure-ai-evaluation) (5.0.1)\n",
      "Requirement already satisfied: flask-restx<2.0.0,>=1.2.0 in /Users/cv/Documents/Projects/azureai-samples/.venv/lib/python3.13/site-packages (from promptflow-devkit>=1.17.1->azure-ai-evaluation) (1.3.0)\n",
      "Requirement already satisfied: gitpython<4.0.0,>=3.1.24 in /Users/cv/Documents/Projects/azureai-samples/.venv/lib/python3.13/site-packages (from promptflow-devkit>=1.17.1->azure-ai-evaluation) (3.1.44)\n",
      "Requirement already satisfied: keyring<25.0.0,>=24.2.0 in /Users/cv/Documents/Projects/azureai-samples/.venv/lib/python3.13/site-packages (from promptflow-devkit>=1.17.1->azure-ai-evaluation) (24.3.1)\n",
      "Requirement already satisfied: marshmallow<4.0.0,>=3.5 in /Users/cv/Documents/Projects/azureai-samples/.venv/lib/python3.13/site-packages (from promptflow-devkit>=1.17.1->azure-ai-evaluation) (3.26.1)\n",
      "Requirement already satisfied: opentelemetry-exporter-otlp-proto-http<2.0.0,>=1.22.0 in /Users/cv/Documents/Projects/azureai-samples/.venv/lib/python3.13/site-packages (from promptflow-devkit>=1.17.1->azure-ai-evaluation) (1.33.1)\n",
      "Requirement already satisfied: pillow<11.1.0,>=10.1.0 in /Users/cv/Documents/Projects/azureai-samples/.venv/lib/python3.13/site-packages (from promptflow-devkit>=1.17.1->azure-ai-evaluation) (11.0.0)\n",
      "Requirement already satisfied: pydash<8.0.0,>=6.0.0 in /Users/cv/Documents/Projects/azureai-samples/.venv/lib/python3.13/site-packages (from promptflow-devkit>=1.17.1->azure-ai-evaluation) (7.0.7)\n",
      "Requirement already satisfied: sqlalchemy<3.0.0,>=1.4.48 in /Users/cv/Documents/Projects/azureai-samples/.venv/lib/python3.13/site-packages (from promptflow-devkit>=1.17.1->azure-ai-evaluation) (2.0.41)\n",
      "Requirement already satisfied: strictyaml<2.0.0,>=1.5.0 in /Users/cv/Documents/Projects/azureai-samples/.venv/lib/python3.13/site-packages (from promptflow-devkit>=1.17.1->azure-ai-evaluation) (1.7.3)\n",
      "Requirement already satisfied: tabulate<1.0.0,>=0.9.0 in /Users/cv/Documents/Projects/azureai-samples/.venv/lib/python3.13/site-packages (from promptflow-devkit>=1.17.1->azure-ai-evaluation) (0.9.0)\n",
      "Requirement already satisfied: waitress<4.0.0,>=3.0.0 in /Users/cv/Documents/Projects/azureai-samples/.venv/lib/python3.13/site-packages (from promptflow-devkit>=1.17.1->azure-ai-evaluation) (3.0.2)\n",
      "Requirement already satisfied: fixedint==0.1.6 in /Users/cv/Documents/Projects/azureai-samples/.venv/lib/python3.13/site-packages (from azure-monitor-opentelemetry-exporter<2.0.0,>=1.0.0b21->promptflow-devkit>=1.17.1->azure-ai-evaluation) (0.1.6)\n",
      "Requirement already satisfied: aniso8601>=0.82 in /Users/cv/Documents/Projects/azureai-samples/.venv/lib/python3.13/site-packages (from flask-restx<2.0.0,>=1.2.0->promptflow-devkit>=1.17.1->azure-ai-evaluation) (10.0.1)\n",
      "Requirement already satisfied: importlib-resources in /Users/cv/Documents/Projects/azureai-samples/.venv/lib/python3.13/site-packages (from flask-restx<2.0.0,>=1.2.0->promptflow-devkit>=1.17.1->azure-ai-evaluation) (6.5.2)\n",
      "Requirement already satisfied: gitdb<5,>=4.0.1 in /Users/cv/Documents/Projects/azureai-samples/.venv/lib/python3.13/site-packages (from gitpython<4.0.0,>=3.1.24->promptflow-devkit>=1.17.1->azure-ai-evaluation) (4.0.12)\n",
      "Requirement already satisfied: smmap<6,>=3.0.1 in /Users/cv/Documents/Projects/azureai-samples/.venv/lib/python3.13/site-packages (from gitdb<5,>=4.0.1->gitpython<4.0.0,>=3.1.24->promptflow-devkit>=1.17.1->azure-ai-evaluation) (5.0.2)\n",
      "Requirement already satisfied: jaraco.classes in /Users/cv/Documents/Projects/azureai-samples/.venv/lib/python3.13/site-packages (from keyring<25.0.0,>=24.2.0->promptflow-devkit>=1.17.1->azure-ai-evaluation) (3.4.0)\n",
      "Requirement already satisfied: packaging>=17.0 in /Users/cv/Documents/Projects/azureai-samples/.venv/lib/python3.13/site-packages (from marshmallow<4.0.0,>=3.5->promptflow-devkit>=1.17.1->azure-ai-evaluation) (25.0)\n",
      "Requirement already satisfied: googleapis-common-protos~=1.52 in /Users/cv/Documents/Projects/azureai-samples/.venv/lib/python3.13/site-packages (from opentelemetry-exporter-otlp-proto-http<2.0.0,>=1.22.0->promptflow-devkit>=1.17.1->azure-ai-evaluation) (1.70.0)\n",
      "Requirement already satisfied: opentelemetry-exporter-otlp-proto-common==1.33.1 in /Users/cv/Documents/Projects/azureai-samples/.venv/lib/python3.13/site-packages (from opentelemetry-exporter-otlp-proto-http<2.0.0,>=1.22.0->promptflow-devkit>=1.17.1->azure-ai-evaluation) (1.33.1)\n",
      "Requirement already satisfied: opentelemetry-proto==1.33.1 in /Users/cv/Documents/Projects/azureai-samples/.venv/lib/python3.13/site-packages (from opentelemetry-exporter-otlp-proto-http<2.0.0,>=1.22.0->promptflow-devkit>=1.17.1->azure-ai-evaluation) (1.33.1)\n",
      "Requirement already satisfied: protobuf<6.0,>=5.0 in /Users/cv/Documents/Projects/azureai-samples/.venv/lib/python3.13/site-packages (from opentelemetry-proto==1.33.1->opentelemetry-exporter-otlp-proto-http<2.0.0,>=1.22.0->promptflow-devkit>=1.17.1->azure-ai-evaluation) (5.29.5)\n",
      "Requirement already satisfied: oauthlib>=3.0.0 in /Users/cv/Documents/Projects/azureai-samples/.venv/lib/python3.13/site-packages (from requests-oauthlib>=0.5.0->msrest>=0.6.21->azure-ai-evaluation) (3.2.2)\n",
      "Requirement already satisfied: more-itertools in /Users/cv/Documents/Projects/azureai-samples/.venv/lib/python3.13/site-packages (from jaraco.classes->keyring<25.0.0,>=24.2.0->promptflow-devkit>=1.17.1->azure-ai-evaluation) (10.7.0)\n",
      "Note: you may need to restart the kernel to use updated packages.\n"
     ]
    }
   ],
   "source": [
    "%pip install azure-ai-projects azure-identity azure-ai-evaluation python-dotenv"
   ]
  },
  {
   "cell_type": "code",
   "execution_count": 2,
   "metadata": {},
   "outputs": [
    {
     "data": {
      "text/plain": [
       "True"
      ]
     },
     "execution_count": 2,
     "metadata": {},
     "output_type": "execute_result"
    }
   ],
   "source": [
    "from dotenv import load_dotenv\n",
    "load_dotenv()"
   ]
  },
  {
   "cell_type": "code",
   "execution_count": 3,
   "metadata": {},
   "outputs": [
    {
     "name": "stderr",
     "output_type": "stream",
     "text": [
      "Class ToolCallAccuracyEvaluator: This is an experimental class, and may change at any time. Please see https://aka.ms/azuremlexperimental for more information.\n"
     ]
    }
   ],
   "source": [
    "import os\n",
    "from azure.ai.evaluation import ToolCallAccuracyEvaluator, AzureOpenAIModelConfiguration\n",
    "from pprint import pprint\n",
    "\n",
    "model_config = AzureOpenAIModelConfiguration(\n",
    "    azure_endpoint=os.environ[\"AZURE_OPENAI_ENDPOINT\"],\n",
    "    api_key=os.environ[\"AZURE_OPENAI_API_KEY\"],\n",
    "    api_version=os.environ[\"AZURE_OPENAI_API_VERSION\"],\n",
    "    azure_deployment=os.environ[\"MODEL_DEPLOYMENT_NAME\"],\n",
    ")\n",
    "\n",
    "\n",
    "tool_call_accuracy = ToolCallAccuracyEvaluator(model_config=model_config)"
   ]
  },
  {
   "cell_type": "markdown",
   "metadata": {},
   "source": [
    "### Samples"
   ]
  },
  {
   "cell_type": "markdown",
   "metadata": {},
   "source": [
    "#### Evaluating Single Tool Call"
   ]
  },
  {
   "cell_type": "code",
   "execution_count": 4,
   "metadata": {},
   "outputs": [],
   "source": [
    "query = \"How is the weather in Seattle ?\"\n",
    "tool_call = {\n",
    "    \"type\": \"tool_call\",\n",
    "    \"tool_call_id\": \"call_CUdbkBfvVBla2YP3p24uhElJ\",\n",
    "    \"name\": \"fetch_weather\",\n",
    "    \"arguments\": {\"location\": \"Seattle\"},\n",
    "}\n",
    "\n",
    "tool_definition = {\n",
    "    \"id\": \"fetch_weather\",\n",
    "    \"name\": \"fetch_weather\",\n",
    "    \"description\": \"Fetches the weather information for the specified location.\",\n",
    "    \"parameters\": {\n",
    "        \"type\": \"object\",\n",
    "        \"properties\": {\"location\": {\"type\": \"string\", \"description\": \"The location to fetch weather for.\"}},\n",
    "    },\n",
    "}"
   ]
  },
  {
   "cell_type": "code",
   "execution_count": 5,
   "metadata": {},
   "outputs": [
    {
     "name": "stdout",
     "output_type": "stream",
     "text": [
      "{'per_tool_call_details': [],\n",
      " 'tool_call_accuracy': 'not applicable',\n",
      " 'tool_call_accuracy_reason': 'Tool call accuracy evaluation is not yet '\n",
      "                              'supported for the invoked tools.',\n",
      " 'tool_call_accuracy_result': 'not applicable',\n",
      " 'tool_call_accuracy_threshold': 0.8}\n"
     ]
    }
   ],
   "source": [
    "response = tool_call_accuracy(query=query, tool_calls=tool_call, tool_definitions=tool_definition)\n",
    "pprint(response)"
   ]
  },
  {
   "cell_type": "markdown",
   "metadata": {},
   "source": [
    "#### Multiple Tool Calls used by Agent to respond"
   ]
  },
  {
   "cell_type": "code",
   "execution_count": 6,
   "metadata": {},
   "outputs": [],
   "source": [
    "query = \"How is the weather in Seattle ?\"\n",
    "tool_calls = [\n",
    "    {\n",
    "        \"type\": \"tool_call\",\n",
    "        \"tool_call_id\": \"call_CUdbkBfvVBla2YP3p24uhElJ\",\n",
    "        \"name\": \"fetch_weather\",\n",
    "        \"arguments\": {\"location\": \"Seattle\"},\n",
    "    },\n",
    "    {\n",
    "        \"type\": \"tool_call\",\n",
    "        \"tool_call_id\": \"call_CUdbkBfvVBla2YP3p24uhElJ\",\n",
    "        \"name\": \"fetch_weather\",\n",
    "        \"arguments\": {\"location\": \"London\"},\n",
    "    },\n",
    "]\n",
    "\n",
    "tool_definition = {\n",
    "    \"id\": \"fetch_weather\",\n",
    "    \"name\": \"fetch_weather\",\n",
    "    \"description\": \"Fetches the weather information for the specified location.\",\n",
    "    \"parameters\": {\n",
    "        \"type\": \"object\",\n",
    "        \"properties\": {\"location\": {\"type\": \"string\", \"description\": \"The location to fetch weather for.\"}},\n",
    "    },\n",
    "}"
   ]
  },
  {
   "cell_type": "code",
   "execution_count": 7,
   "metadata": {},
   "outputs": [
    {
     "name": "stdout",
     "output_type": "stream",
     "text": [
      "{'per_tool_call_details': [],\n",
      " 'tool_call_accuracy': 'not applicable',\n",
      " 'tool_call_accuracy_reason': 'Tool call accuracy evaluation is not yet '\n",
      "                              'supported for the invoked tools.',\n",
      " 'tool_call_accuracy_result': 'not applicable',\n",
      " 'tool_call_accuracy_threshold': 0.8}\n"
     ]
    }
   ],
   "source": [
    "response = tool_call_accuracy(query=query, tool_calls=tool_calls, tool_definitions=tool_definition)\n",
    "pprint(response)"
   ]
  },
  {
   "cell_type": "markdown",
   "metadata": {},
   "source": [
    "#### Tool Calls passed as part of `Response` (common for agent case)\n",
    "- Tool Call Accuracy Evaluator extracts tool calls from response"
   ]
  },
  {
   "cell_type": "code",
   "execution_count": 8,
   "metadata": {},
   "outputs": [],
   "source": [
    "query = \"Can you send me an email with weather information for Seattle?\"\n",
    "response = [\n",
    "    {\n",
    "        \"createdAt\": \"2025-03-26T17:27:35Z\",\n",
    "        \"run_id\": \"run_zblZyGCNyx6aOYTadmaqM4QN\",\n",
    "        \"role\": \"assistant\",\n",
    "        \"content\": [\n",
    "            {\n",
    "                \"type\": \"tool_call\",\n",
    "                \"tool_call_id\": \"call_CUdbkBfvVBla2YP3p24uhElJ\",\n",
    "                \"name\": \"fetch_weather\",\n",
    "                \"arguments\": {\"location\": \"Seattle\"},\n",
    "            }\n",
    "        ],\n",
    "    },\n",
    "    {\n",
    "        \"createdAt\": \"2025-03-26T17:27:37Z\",\n",
    "        \"run_id\": \"run_zblZyGCNyx6aOYTadmaqM4QN\",\n",
    "        \"tool_call_id\": \"call_CUdbkBfvVBla2YP3p24uhElJ\",\n",
    "        \"role\": \"tool\",\n",
    "        \"content\": [{\"type\": \"tool_result\", \"tool_result\": {\"weather\": \"Rainy, 14\\u00b0C\"}}],\n",
    "    },\n",
    "    {\n",
    "        \"createdAt\": \"2025-03-26T17:27:38Z\",\n",
    "        \"run_id\": \"run_zblZyGCNyx6aOYTadmaqM4QN\",\n",
    "        \"role\": \"assistant\",\n",
    "        \"content\": [\n",
    "            {\n",
    "                \"type\": \"tool_call\",\n",
    "                \"tool_call_id\": \"call_iq9RuPxqzykebvACgX8pqRW2\",\n",
    "                \"name\": \"send_email\",\n",
    "                \"arguments\": {\n",
    "                    \"recipient\": \"your_email@example.com\",\n",
    "                    \"subject\": \"Weather Information for Seattle\",\n",
    "                    \"body\": \"The current weather in Seattle is rainy with a temperature of 14\\u00b0C.\",\n",
    "                },\n",
    "            }\n",
    "        ],\n",
    "    },\n",
    "    {\n",
    "        \"createdAt\": \"2025-03-26T17:27:41Z\",\n",
    "        \"run_id\": \"run_zblZyGCNyx6aOYTadmaqM4QN\",\n",
    "        \"tool_call_id\": \"call_iq9RuPxqzykebvACgX8pqRW2\",\n",
    "        \"role\": \"tool\",\n",
    "        \"content\": [\n",
    "            {\"type\": \"tool_result\", \"tool_result\": {\"message\": \"Email successfully sent to your_email@example.com.\"}}\n",
    "        ],\n",
    "    },\n",
    "    {\n",
    "        \"createdAt\": \"2025-03-26T17:27:42Z\",\n",
    "        \"run_id\": \"run_zblZyGCNyx6aOYTadmaqM4QN\",\n",
    "        \"role\": \"assistant\",\n",
    "        \"content\": [\n",
    "            {\n",
    "                \"type\": \"text\",\n",
    "                \"text\": \"I have successfully sent you an email with the weather information for Seattle. The current weather is rainy with a temperature of 14\\u00b0C.\",\n",
    "            }\n",
    "        ],\n",
    "    },\n",
    "]\n",
    "\n",
    "tool_definitions = [\n",
    "    {\n",
    "        \"name\": \"fetch_weather\",\n",
    "        \"description\": \"Fetches the weather information for the specified location.\",\n",
    "        \"parameters\": {\n",
    "            \"type\": \"object\",\n",
    "            \"properties\": {\"location\": {\"type\": \"string\", \"description\": \"The location to fetch weather for.\"}},\n",
    "        },\n",
    "    },\n",
    "    {\n",
    "        \"name\": \"send_email\",\n",
    "        \"description\": \"Sends an email with the specified subject and body to the recipient.\",\n",
    "        \"parameters\": {\n",
    "            \"type\": \"object\",\n",
    "            \"properties\": {\n",
    "                \"recipient\": {\"type\": \"string\", \"description\": \"Email address of the recipient.\"},\n",
    "                \"subject\": {\"type\": \"string\", \"description\": \"Subject of the email.\"},\n",
    "                \"body\": {\"type\": \"string\", \"description\": \"Body content of the email.\"},\n",
    "            },\n",
    "        },\n",
    "    },\n",
    "]"
   ]
  },
  {
   "cell_type": "code",
   "execution_count": 9,
   "metadata": {},
   "outputs": [
    {
     "name": "stdout",
     "output_type": "stream",
     "text": [
      "{'per_tool_call_details': [],\n",
      " 'tool_call_accuracy': 'not applicable',\n",
      " 'tool_call_accuracy_reason': 'Tool call accuracy evaluation is not yet '\n",
      "                              'supported for the invoked tools.',\n",
      " 'tool_call_accuracy_result': 'not applicable',\n",
      " 'tool_call_accuracy_threshold': 0.8}\n"
     ]
    }
   ],
   "source": [
    "response = tool_call_accuracy(query=query, response=response, tool_definitions=tool_definitions)\n",
    "pprint(response)"
   ]
  },
  {
   "cell_type": "markdown",
   "metadata": {},
   "source": [
    "## Batch evaluate and visualize results on Azure AI Foundry\n",
    "Batch evaluate to leverage asynchronous evaluation on a dataset. \n",
    "\n",
    "Optionally, you can go to AI Foundry URL for rich Azure AI Foundry data visualization. You can inspect the evaluation scores and reasoning to quickly identify bugs and issues of your agent to fix and improve. Make sure to authenticate to Azure using `az login` in your terminal before running this cell.\n"
   ]
  },
  {
   "cell_type": "code",
   "execution_count": 10,
   "metadata": {},
   "outputs": [
    {
     "name": "stderr",
     "output_type": "stream",
     "text": [
      "[2025-06-04 14:24:02 -0700][promptflow._core.entry_meta_generator][WARNING] - Generate meta in current process and timeout won't take effect. Please handle timeout manually outside current process.\n",
      "[2025-06-04 14:24:02 -0700][promptflow._sdk._orchestrator.run_submitter][INFO] - Submitting run azure_ai_evaluation_evaluators_tool_call_accuracy_20250604_142401_659730, log path: /Users/cv/.promptflow/.runs/azure_ai_evaluation_evaluators_tool_call_accuracy_20250604_142401_659730/logs.txt\n"
     ]
    },
    {
     "name": "stdout",
     "output_type": "stream",
     "text": [
      "2025-06-04 14:24:02 -0700   80774 execution.bulk     INFO     Current thread is not main thread, skip signal handler registration in BatchEngine.\n",
      "2025-06-04 14:24:02 -0700   80774 execution.bulk     INFO     Finished 3 / 3 lines.\n",
      "2025-06-04 14:24:02 -0700   80774 execution.bulk     INFO     Average execution time for completed lines: 0.01 seconds. Estimated time for incomplete lines: 0.0 seconds.\n",
      "======= Run Summary =======\n",
      "\n",
      "Run name: \"azure_ai_evaluation_evaluators_tool_call_accuracy_20250604_142401_659730\"\n",
      "Run status: \"Completed\"\n",
      "Start time: \"2025-06-04 14:24:01.671329-07:00\"\n",
      "Duration: \"0:00:01.743974\"\n",
      "Output path: \"/Users/cv/.promptflow/.runs/azure_ai_evaluation_evaluators_tool_call_accuracy_20250604_142401_659730\"\n",
      "\n",
      "======= Combined Run Summary (Per Evaluator) =======\n",
      "\n",
      "{\n",
      "    \"tool_call_accuracy\": {\n",
      "        \"status\": \"Completed\",\n",
      "        \"duration\": \"0:00:01.743974\",\n",
      "        \"completed_lines\": 3,\n",
      "        \"failed_lines\": 0,\n",
      "        \"log_path\": \"/Users/cv/.promptflow/.runs/azure_ai_evaluation_evaluators_tool_call_accuracy_20250604_142401_659730\"\n",
      "    }\n",
      "}\n",
      "\n",
      "====================================================\n",
      "\n",
      "('AI Foundary URL: '\n",
      " 'https://ai.azure.com/build/evaluation/8f2c6c65-f26b-422d-94d0-2bef3f4fb6aa?wsid=/subscriptions/6415ebd4-1dd7-430f-bd4d-2f5e9419c1cd/resourceGroups/rg-cvi-ai-eng-fair-hub-eastus2/providers/Microsoft.MachineLearningServices/workspaces/cvi-ai-eng-fair-hub-eastus2')\n"
     ]
    }
   ],
   "source": [
    "from azure.ai.evaluation import evaluate\n",
    "\n",
    "# This sample files contains the evaluation data in JSONL format. Where each line is a run from agent.\n",
    "# This was saved using agent thread and converter.\n",
    "file_name = \"evaluation_data.jsonl\"\n",
    "\n",
    "response = evaluate(\n",
    "    data=file_name,\n",
    "    evaluation_name=\"Tool Call Accuracy Evaluation\",\n",
    "    evaluators={\n",
    "        \"tool_call_accuracy\": tool_call_accuracy,\n",
    "    },\n",
    "    azure_ai_project={\n",
    "        \"subscription_id\": os.environ[\"REPORT_AZURE_SUBSCRIPTION_ID\"],\n",
    "        \"project_name\": os.environ[\"REPORT_PROJECT_NAME\"],\n",
    "        \"resource_group_name\": os.environ[\"REPORT_RESOURCE_GROUP_NAME\"],\n",
    "    },\n",
    ")\n",
    "pprint(f'AI Foundary URL: {response.get(\"studio_url\")}')"
   ]
  },
  {
   "cell_type": "code",
   "execution_count": 11,
   "metadata": {},
   "outputs": [
    {
     "data": {
      "text/html": [
       "<div>\n",
       "<style scoped>\n",
       "    .dataframe tbody tr th:only-of-type {\n",
       "        vertical-align: middle;\n",
       "    }\n",
       "\n",
       "    .dataframe tbody tr th {\n",
       "        vertical-align: top;\n",
       "    }\n",
       "\n",
       "    .dataframe thead th {\n",
       "        text-align: right;\n",
       "    }\n",
       "</style>\n",
       "<table border=\"1\" class=\"dataframe\">\n",
       "  <thead>\n",
       "    <tr style=\"text-align: right;\">\n",
       "      <th></th>\n",
       "      <th>inputs.query</th>\n",
       "      <th>inputs.response</th>\n",
       "      <th>inputs.tool_definitions</th>\n",
       "      <th>outputs.tool_call_accuracy.tool_call_accuracy</th>\n",
       "      <th>outputs.tool_call_accuracy.tool_call_accuracy_result</th>\n",
       "      <th>outputs.tool_call_accuracy.tool_call_accuracy_threshold</th>\n",
       "      <th>outputs.tool_call_accuracy.tool_call_accuracy_reason</th>\n",
       "      <th>outputs.tool_call_accuracy.per_tool_call_details</th>\n",
       "      <th>line_number</th>\n",
       "    </tr>\n",
       "  </thead>\n",
       "  <tbody>\n",
       "    <tr>\n",
       "      <th>0</th>\n",
       "      <td>[{'role': 'system', 'content': 'You are a help...</td>\n",
       "      <td>[{'createdAt': '2025-04-04T20:48:07Z', 'run_id...</td>\n",
       "      <td>[{'name': 'convert_temperature', 'description'...</td>\n",
       "      <td>not applicable</td>\n",
       "      <td>not applicable</td>\n",
       "      <td>0.8</td>\n",
       "      <td>Tool call accuracy evaluation is not yet suppo...</td>\n",
       "      <td>[]</td>\n",
       "      <td>0</td>\n",
       "    </tr>\n",
       "    <tr>\n",
       "      <th>1</th>\n",
       "      <td>[{'role': 'system', 'content': 'You are a help...</td>\n",
       "      <td>[{'createdAt': '2025-04-05T09:15:03Z', 'run_id...</td>\n",
       "      <td>[{'name': 'convert_temperature', 'description'...</td>\n",
       "      <td>not applicable</td>\n",
       "      <td>not applicable</td>\n",
       "      <td>0.8</td>\n",
       "      <td>Tool call accuracy evaluation is not yet suppo...</td>\n",
       "      <td>[]</td>\n",
       "      <td>1</td>\n",
       "    </tr>\n",
       "    <tr>\n",
       "      <th>2</th>\n",
       "      <td>[{'role': 'system', 'content': 'You are a help...</td>\n",
       "      <td>[{'createdAt': '2025-04-06T14:22:12Z', 'run_id...</td>\n",
       "      <td>[{'name': 'convert_temperature', 'description'...</td>\n",
       "      <td>not applicable</td>\n",
       "      <td>not applicable</td>\n",
       "      <td>0.8</td>\n",
       "      <td>Tool call accuracy evaluation is not yet suppo...</td>\n",
       "      <td>[]</td>\n",
       "      <td>2</td>\n",
       "    </tr>\n",
       "  </tbody>\n",
       "</table>\n",
       "</div>"
      ],
      "text/plain": [
       "                                        inputs.query  \\\n",
       "0  [{'role': 'system', 'content': 'You are a help...   \n",
       "1  [{'role': 'system', 'content': 'You are a help...   \n",
       "2  [{'role': 'system', 'content': 'You are a help...   \n",
       "\n",
       "                                     inputs.response  \\\n",
       "0  [{'createdAt': '2025-04-04T20:48:07Z', 'run_id...   \n",
       "1  [{'createdAt': '2025-04-05T09:15:03Z', 'run_id...   \n",
       "2  [{'createdAt': '2025-04-06T14:22:12Z', 'run_id...   \n",
       "\n",
       "                             inputs.tool_definitions  \\\n",
       "0  [{'name': 'convert_temperature', 'description'...   \n",
       "1  [{'name': 'convert_temperature', 'description'...   \n",
       "2  [{'name': 'convert_temperature', 'description'...   \n",
       "\n",
       "  outputs.tool_call_accuracy.tool_call_accuracy  \\\n",
       "0                                not applicable   \n",
       "1                                not applicable   \n",
       "2                                not applicable   \n",
       "\n",
       "  outputs.tool_call_accuracy.tool_call_accuracy_result  \\\n",
       "0                                     not applicable     \n",
       "1                                     not applicable     \n",
       "2                                     not applicable     \n",
       "\n",
       "   outputs.tool_call_accuracy.tool_call_accuracy_threshold  \\\n",
       "0                                                0.8         \n",
       "1                                                0.8         \n",
       "2                                                0.8         \n",
       "\n",
       "  outputs.tool_call_accuracy.tool_call_accuracy_reason  \\\n",
       "0  Tool call accuracy evaluation is not yet suppo...     \n",
       "1  Tool call accuracy evaluation is not yet suppo...     \n",
       "2  Tool call accuracy evaluation is not yet suppo...     \n",
       "\n",
       "  outputs.tool_call_accuracy.per_tool_call_details  line_number  \n",
       "0                                               []            0  \n",
       "1                                               []            1  \n",
       "2                                               []            2  "
      ]
     },
     "execution_count": 11,
     "metadata": {},
     "output_type": "execute_result"
    }
   ],
   "source": [
    "import pandas as pd\n",
    "pd.DataFrame(response[\"rows\"])"
   ]
  },
  {
   "cell_type": "code",
   "execution_count": null,
   "metadata": {},
   "outputs": [],
   "source": []
  }
 ],
 "metadata": {
  "kernelspec": {
   "display_name": ".venv",
   "language": "python",
   "name": "python3"
  },
  "language_info": {
   "codemirror_mode": {
    "name": "ipython",
    "version": 3
   },
   "file_extension": ".py",
   "mimetype": "text/x-python",
   "name": "python",
   "nbconvert_exporter": "python",
   "pygments_lexer": "ipython3",
   "version": "3.13.3"
  }
 },
 "nbformat": 4,
 "nbformat_minor": 2
}
