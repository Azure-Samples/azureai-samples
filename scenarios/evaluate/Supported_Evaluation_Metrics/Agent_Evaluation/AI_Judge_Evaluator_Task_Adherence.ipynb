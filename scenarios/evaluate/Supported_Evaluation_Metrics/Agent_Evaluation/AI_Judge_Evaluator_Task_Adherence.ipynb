{
 "cells": [
  {
   "cell_type": "markdown",
   "metadata": {},
   "source": [
    "# Task Adherence Evaluator\n",
    "\n",
    "# Intent Resolution Evaluator\n",
    "\n",
    "## Objective\n",
    "This sample demonstrates to how to use task adherence evaluator on agent data. The supported input formats include:\n",
    "- simple data such as strings;\n",
    "- user-agent conversations in the form of list of agent messages. \n",
    "\n",
    "## Time\n",
    "\n",
    "You should expect to spend about 10 minutes running this notebook. \n",
    "\n",
    "## Before you begin\n",
    "For quality evaluation, you need to deploy a `gpt` model supporting JSON mode. We recommend a model `gpt-4o` or `gpt-4o-mini` for their strong reasoning capabilities.    \n",
    "\n",
    "### Prerequisite\n",
    "```bash\n",
    "pip install azure-ai-projects azure-identity azure-ai-evaluation\n",
    "```\n",
    "Set these environment variables with your own values:\n",
    "1) **PROJECT_CONNECTION_STRING** - The project connection string, as found in the overview page of your Azure AI Foundry project.\n",
    "2) **MODEL_DEPLOYMENT_NAME** - The deployment name of the model for this AI-assisted evaluator, as found under the \"Name\" column in the \"Models + endpoints\" tab in your Azure AI Foundry project.\n",
    "3) **AZURE_OPENAI_ENDPOINT** - Azure Open AI Endpoint to be used for evaluation.\n",
    "4) **AZURE_OPENAI_API_KEY** - Azure Open AI Key to be used for evaluation.\n",
    "5) **AZURE_OPENAI_API_VERSION** - Azure Open AI Api version to be used for evaluation.\n",
    "6) **AZURE_SUBSCRIPTION_ID** - Azure Subscription Id of Azure AI Project\n",
    "7) **PROJECT_NAME** - Azure AI Project Name\n",
    "8) **RESOURCE_GROUP_NAME** - Azure AI Project Resource Group Name\n"
   ]
  },
  {
   "cell_type": "markdown",
   "metadata": {},
   "source": [
    "### Getting Started\n",
    "\n",
    "This sample demonstrates how to use Task Adherence Evaluator\n",
    "Before running the sample:\n",
    "```bash\n",
    "pip install azure-ai-projects azure-identity azure-ai-evaluation\n",
    "```\n",
    "Set these environment variables with your own values:\n",
    "1) **PROJECT_CONNECTION_STRING** - The project connection string, as found in the overview page of your Azure AI Foundry project.\n",
    "2) **MODEL_DEPLOYMENT_NAME** - The deployment name of the AI model, as found under the \"Name\" column in the \"Models + endpoints\" tab in your Azure AI Foundry project.\n",
    "3) **AZURE_OPENAI_ENDPOINT** - Azure Open AI Endpoint to be used for evaluation.\n",
    "4) **AZURE_OPENAI_API_KEY** - Azure Open AI Key to be used for evaluation.\n",
    "5) **AZURE_OPENAI_API_VERSION** - Azure Open AI Api version to be used for evaluation.\n",
    "6) **AZURE_SUBSCRIPTION_ID** - Azure Subscription Id of Azure AI Project\n",
    "7) **PROJECT_NAME** - Azure AI Project Name\n",
    "8) **RESOURCE_GROUP_NAME** - Azure AI Project Resource Group Name"
   ]
  },
  {
   "cell_type": "markdown",
   "metadata": {},
   "source": [
    "The Task Adherence evaluator measures how well the agent adheres to their assigned tasks or predefined goal.\n",
    "\n",
    "The scoring is on a 1-5 integer scale and is as follows:\n",
    "\n",
    "  - Score 1: Fully Inadherent\n",
    "  - Score 2: Barely Adherent\n",
    "  - Score 3: Moderately Adherent\n",
    "  - Score 4: Mostly Adherent\n",
    "  - Score 5: Fully Adherent\n",
    "\n",
    "The evaluation requires the following inputs:\n",
    "\n",
    "  - Query    : The user query. Either a string with a user request or a list of messages with previous requests from the user and responses from the assistant, potentially including a system message.\n",
    "  - Response : The response to be evaluated. Either a string or a message with the response from the agent to the last user query.\n",
    "\n",
    "There is a third optional parameter:\n",
    "  - ToolDefinitions : The list of tool definitions the agent can call. This may be useful for the evaluator to better assess if the right tool was called to adhere to user intent."
   ]
  },
  {
   "cell_type": "code",
   "execution_count": 1,
   "metadata": {},
   "outputs": [
    {
     "name": "stdout",
     "output_type": "stream",
     "text": [
      "Requirement already satisfied: azure-ai-projects in /Users/cv/Documents/Projects/azureai-samples/.venv/lib/python3.13/site-packages (1.0.0b11)\n",
      "Requirement already satisfied: azure-identity in /Users/cv/Documents/Projects/azureai-samples/.venv/lib/python3.13/site-packages (1.23.0)\n",
      "Requirement already satisfied: azure-ai-evaluation in /Users/cv/Documents/Projects/azureai-samples/.venv/lib/python3.13/site-packages (1.8.0)\n",
      "Requirement already satisfied: python-dotenv in /Users/cv/Documents/Projects/azureai-samples/.venv/lib/python3.13/site-packages (1.1.0)\n",
      "Requirement already satisfied: isodate>=0.6.1 in /Users/cv/Documents/Projects/azureai-samples/.venv/lib/python3.13/site-packages (from azure-ai-projects) (0.7.2)\n",
      "Requirement already satisfied: azure-core>=1.30.0 in /Users/cv/Documents/Projects/azureai-samples/.venv/lib/python3.13/site-packages (from azure-ai-projects) (1.34.0)\n",
      "Requirement already satisfied: typing-extensions>=4.12.2 in /Users/cv/Documents/Projects/azureai-samples/.venv/lib/python3.13/site-packages (from azure-ai-projects) (4.14.0)\n",
      "Requirement already satisfied: azure-storage-blob>=12.15.0 in /Users/cv/Documents/Projects/azureai-samples/.venv/lib/python3.13/site-packages (from azure-ai-projects) (12.25.1)\n",
      "Requirement already satisfied: azure-ai-agents>=1.0.0b1 in /Users/cv/Documents/Projects/azureai-samples/.venv/lib/python3.13/site-packages (from azure-ai-projects) (1.1.0b1)\n",
      "Requirement already satisfied: cryptography>=2.5 in /Users/cv/Documents/Projects/azureai-samples/.venv/lib/python3.13/site-packages (from azure-identity) (45.0.3)\n",
      "Requirement already satisfied: msal>=1.30.0 in /Users/cv/Documents/Projects/azureai-samples/.venv/lib/python3.13/site-packages (from azure-identity) (1.32.3)\n",
      "Requirement already satisfied: msal-extensions>=1.2.0 in /Users/cv/Documents/Projects/azureai-samples/.venv/lib/python3.13/site-packages (from azure-identity) (1.3.1)\n",
      "Requirement already satisfied: promptflow-devkit>=1.17.1 in /Users/cv/Documents/Projects/azureai-samples/.venv/lib/python3.13/site-packages (from azure-ai-evaluation) (1.18.0)\n",
      "Requirement already satisfied: promptflow-core>=1.17.1 in /Users/cv/Documents/Projects/azureai-samples/.venv/lib/python3.13/site-packages (from azure-ai-evaluation) (1.18.0)\n",
      "Requirement already satisfied: pyjwt>=2.8.0 in /Users/cv/Documents/Projects/azureai-samples/.venv/lib/python3.13/site-packages (from azure-ai-evaluation) (2.10.1)\n",
      "Requirement already satisfied: nltk>=3.9.1 in /Users/cv/Documents/Projects/azureai-samples/.venv/lib/python3.13/site-packages (from azure-ai-evaluation) (3.9.1)\n",
      "Requirement already satisfied: httpx>=0.25.1 in /Users/cv/Documents/Projects/azureai-samples/.venv/lib/python3.13/site-packages (from azure-ai-evaluation) (0.28.1)\n",
      "Requirement already satisfied: pandas<3.0.0,>=2.1.2 in /Users/cv/Documents/Projects/azureai-samples/.venv/lib/python3.13/site-packages (from azure-ai-evaluation) (2.2.3)\n",
      "Requirement already satisfied: openai>=1.78.0 in /Users/cv/Documents/Projects/azureai-samples/.venv/lib/python3.13/site-packages (from azure-ai-evaluation) (1.84.0)\n",
      "Requirement already satisfied: ruamel.yaml<1.0.0,>=0.17.10 in /Users/cv/Documents/Projects/azureai-samples/.venv/lib/python3.13/site-packages (from azure-ai-evaluation) (0.18.12)\n",
      "Requirement already satisfied: msrest>=0.6.21 in /Users/cv/Documents/Projects/azureai-samples/.venv/lib/python3.13/site-packages (from azure-ai-evaluation) (0.7.1)\n",
      "Requirement already satisfied: Jinja2>=3.1.6 in /Users/cv/Documents/Projects/azureai-samples/.venv/lib/python3.13/site-packages (from azure-ai-evaluation) (3.1.6)\n",
      "Requirement already satisfied: aiohttp>=3.0 in /Users/cv/Documents/Projects/azureai-samples/.venv/lib/python3.13/site-packages (from azure-ai-evaluation) (3.12.7)\n",
      "Requirement already satisfied: numpy>=1.26.0 in /Users/cv/Documents/Projects/azureai-samples/.venv/lib/python3.13/site-packages (from pandas<3.0.0,>=2.1.2->azure-ai-evaluation) (2.2.6)\n",
      "Requirement already satisfied: python-dateutil>=2.8.2 in /Users/cv/Documents/Projects/azureai-samples/.venv/lib/python3.13/site-packages (from pandas<3.0.0,>=2.1.2->azure-ai-evaluation) (2.9.0.post0)\n",
      "Requirement already satisfied: pytz>=2020.1 in /Users/cv/Documents/Projects/azureai-samples/.venv/lib/python3.13/site-packages (from pandas<3.0.0,>=2.1.2->azure-ai-evaluation) (2025.2)\n",
      "Requirement already satisfied: tzdata>=2022.7 in /Users/cv/Documents/Projects/azureai-samples/.venv/lib/python3.13/site-packages (from pandas<3.0.0,>=2.1.2->azure-ai-evaluation) (2025.2)\n",
      "Requirement already satisfied: ruamel.yaml.clib>=0.2.7 in /Users/cv/Documents/Projects/azureai-samples/.venv/lib/python3.13/site-packages (from ruamel.yaml<1.0.0,>=0.17.10->azure-ai-evaluation) (0.2.12)\n",
      "Requirement already satisfied: aiohappyeyeballs>=2.5.0 in /Users/cv/Documents/Projects/azureai-samples/.venv/lib/python3.13/site-packages (from aiohttp>=3.0->azure-ai-evaluation) (2.6.1)\n",
      "Requirement already satisfied: aiosignal>=1.1.2 in /Users/cv/Documents/Projects/azureai-samples/.venv/lib/python3.13/site-packages (from aiohttp>=3.0->azure-ai-evaluation) (1.3.2)\n",
      "Requirement already satisfied: attrs>=17.3.0 in /Users/cv/Documents/Projects/azureai-samples/.venv/lib/python3.13/site-packages (from aiohttp>=3.0->azure-ai-evaluation) (25.3.0)\n",
      "Requirement already satisfied: frozenlist>=1.1.1 in /Users/cv/Documents/Projects/azureai-samples/.venv/lib/python3.13/site-packages (from aiohttp>=3.0->azure-ai-evaluation) (1.6.0)\n",
      "Requirement already satisfied: multidict<7.0,>=4.5 in /Users/cv/Documents/Projects/azureai-samples/.venv/lib/python3.13/site-packages (from aiohttp>=3.0->azure-ai-evaluation) (6.4.4)\n",
      "Requirement already satisfied: propcache>=0.2.0 in /Users/cv/Documents/Projects/azureai-samples/.venv/lib/python3.13/site-packages (from aiohttp>=3.0->azure-ai-evaluation) (0.3.1)\n",
      "Requirement already satisfied: yarl<2.0,>=1.17.0 in /Users/cv/Documents/Projects/azureai-samples/.venv/lib/python3.13/site-packages (from aiohttp>=3.0->azure-ai-evaluation) (1.20.0)\n",
      "Requirement already satisfied: idna>=2.0 in /Users/cv/Documents/Projects/azureai-samples/.venv/lib/python3.13/site-packages (from yarl<2.0,>=1.17.0->aiohttp>=3.0->azure-ai-evaluation) (3.10)\n",
      "Requirement already satisfied: requests>=2.21.0 in /Users/cv/Documents/Projects/azureai-samples/.venv/lib/python3.13/site-packages (from azure-core>=1.30.0->azure-ai-projects) (2.32.3)\n",
      "Requirement already satisfied: six>=1.11.0 in /Users/cv/Documents/Projects/azureai-samples/.venv/lib/python3.13/site-packages (from azure-core>=1.30.0->azure-ai-projects) (1.17.0)\n",
      "Requirement already satisfied: cffi>=1.14 in /Users/cv/Documents/Projects/azureai-samples/.venv/lib/python3.13/site-packages (from cryptography>=2.5->azure-identity) (1.17.1)\n",
      "Requirement already satisfied: pycparser in /Users/cv/Documents/Projects/azureai-samples/.venv/lib/python3.13/site-packages (from cffi>=1.14->cryptography>=2.5->azure-identity) (2.22)\n",
      "Requirement already satisfied: anyio in /Users/cv/Documents/Projects/azureai-samples/.venv/lib/python3.13/site-packages (from httpx>=0.25.1->azure-ai-evaluation) (4.9.0)\n",
      "Requirement already satisfied: certifi in /Users/cv/Documents/Projects/azureai-samples/.venv/lib/python3.13/site-packages (from httpx>=0.25.1->azure-ai-evaluation) (2025.4.26)\n",
      "Requirement already satisfied: httpcore==1.* in /Users/cv/Documents/Projects/azureai-samples/.venv/lib/python3.13/site-packages (from httpx>=0.25.1->azure-ai-evaluation) (1.0.9)\n",
      "Requirement already satisfied: h11>=0.16 in /Users/cv/Documents/Projects/azureai-samples/.venv/lib/python3.13/site-packages (from httpcore==1.*->httpx>=0.25.1->azure-ai-evaluation) (0.16.0)\n",
      "Requirement already satisfied: MarkupSafe>=2.0 in /Users/cv/Documents/Projects/azureai-samples/.venv/lib/python3.13/site-packages (from Jinja2>=3.1.6->azure-ai-evaluation) (3.0.2)\n",
      "Requirement already satisfied: charset-normalizer<4,>=2 in /Users/cv/Documents/Projects/azureai-samples/.venv/lib/python3.13/site-packages (from requests>=2.21.0->azure-core>=1.30.0->azure-ai-projects) (3.4.2)\n",
      "Requirement already satisfied: urllib3<3,>=1.21.1 in /Users/cv/Documents/Projects/azureai-samples/.venv/lib/python3.13/site-packages (from requests>=2.21.0->azure-core>=1.30.0->azure-ai-projects) (2.4.0)\n",
      "Requirement already satisfied: requests-oauthlib>=0.5.0 in /Users/cv/Documents/Projects/azureai-samples/.venv/lib/python3.13/site-packages (from msrest>=0.6.21->azure-ai-evaluation) (2.0.0)\n",
      "Requirement already satisfied: click in /Users/cv/Documents/Projects/azureai-samples/.venv/lib/python3.13/site-packages (from nltk>=3.9.1->azure-ai-evaluation) (8.2.1)\n",
      "Requirement already satisfied: joblib in /Users/cv/Documents/Projects/azureai-samples/.venv/lib/python3.13/site-packages (from nltk>=3.9.1->azure-ai-evaluation) (1.5.1)\n",
      "Requirement already satisfied: regex>=2021.8.3 in /Users/cv/Documents/Projects/azureai-samples/.venv/lib/python3.13/site-packages (from nltk>=3.9.1->azure-ai-evaluation) (2024.11.6)\n",
      "Requirement already satisfied: tqdm in /Users/cv/Documents/Projects/azureai-samples/.venv/lib/python3.13/site-packages (from nltk>=3.9.1->azure-ai-evaluation) (4.67.1)\n",
      "Requirement already satisfied: distro<2,>=1.7.0 in /Users/cv/Documents/Projects/azureai-samples/.venv/lib/python3.13/site-packages (from openai>=1.78.0->azure-ai-evaluation) (1.9.0)\n",
      "Requirement already satisfied: jiter<1,>=0.4.0 in /Users/cv/Documents/Projects/azureai-samples/.venv/lib/python3.13/site-packages (from openai>=1.78.0->azure-ai-evaluation) (0.10.0)\n",
      "Requirement already satisfied: pydantic<3,>=1.9.0 in /Users/cv/Documents/Projects/azureai-samples/.venv/lib/python3.13/site-packages (from openai>=1.78.0->azure-ai-evaluation) (2.11.5)\n",
      "Requirement already satisfied: sniffio in /Users/cv/Documents/Projects/azureai-samples/.venv/lib/python3.13/site-packages (from openai>=1.78.0->azure-ai-evaluation) (1.3.1)\n",
      "Requirement already satisfied: annotated-types>=0.6.0 in /Users/cv/Documents/Projects/azureai-samples/.venv/lib/python3.13/site-packages (from pydantic<3,>=1.9.0->openai>=1.78.0->azure-ai-evaluation) (0.7.0)\n",
      "Requirement already satisfied: pydantic-core==2.33.2 in /Users/cv/Documents/Projects/azureai-samples/.venv/lib/python3.13/site-packages (from pydantic<3,>=1.9.0->openai>=1.78.0->azure-ai-evaluation) (2.33.2)\n",
      "Requirement already satisfied: typing-inspection>=0.4.0 in /Users/cv/Documents/Projects/azureai-samples/.venv/lib/python3.13/site-packages (from pydantic<3,>=1.9.0->openai>=1.78.0->azure-ai-evaluation) (0.4.1)\n",
      "Requirement already satisfied: docstring_parser in /Users/cv/Documents/Projects/azureai-samples/.venv/lib/python3.13/site-packages (from promptflow-core>=1.17.1->azure-ai-evaluation) (0.16)\n",
      "Requirement already satisfied: fastapi<1.0.0,>=0.109.0 in /Users/cv/Documents/Projects/azureai-samples/.venv/lib/python3.13/site-packages (from promptflow-core>=1.17.1->azure-ai-evaluation) (0.115.12)\n",
      "Requirement already satisfied: filetype>=1.2.0 in /Users/cv/Documents/Projects/azureai-samples/.venv/lib/python3.13/site-packages (from promptflow-core>=1.17.1->azure-ai-evaluation) (1.2.0)\n",
      "Requirement already satisfied: flask<4.0.0,>=2.2.3 in /Users/cv/Documents/Projects/azureai-samples/.venv/lib/python3.13/site-packages (from promptflow-core>=1.17.1->azure-ai-evaluation) (3.1.1)\n",
      "Requirement already satisfied: jsonschema<5.0.0,>=4.0.0 in /Users/cv/Documents/Projects/azureai-samples/.venv/lib/python3.13/site-packages (from promptflow-core>=1.17.1->azure-ai-evaluation) (4.24.0)\n",
      "Requirement already satisfied: promptflow-tracing==1.18.0 in /Users/cv/Documents/Projects/azureai-samples/.venv/lib/python3.13/site-packages (from promptflow-core>=1.17.1->azure-ai-evaluation) (1.18.0)\n",
      "Requirement already satisfied: psutil in /Users/cv/Documents/Projects/azureai-samples/.venv/lib/python3.13/site-packages (from promptflow-core>=1.17.1->azure-ai-evaluation) (7.0.0)\n",
      "Requirement already satisfied: opentelemetry-sdk<2.0.0,>=1.22.0 in /Users/cv/Documents/Projects/azureai-samples/.venv/lib/python3.13/site-packages (from promptflow-tracing==1.18.0->promptflow-core>=1.17.1->azure-ai-evaluation) (1.33.1)\n",
      "Requirement already satisfied: tiktoken>=0.4.0 in /Users/cv/Documents/Projects/azureai-samples/.venv/lib/python3.13/site-packages (from promptflow-tracing==1.18.0->promptflow-core>=1.17.1->azure-ai-evaluation) (0.9.0)\n",
      "Requirement already satisfied: starlette<0.47.0,>=0.40.0 in /Users/cv/Documents/Projects/azureai-samples/.venv/lib/python3.13/site-packages (from fastapi<1.0.0,>=0.109.0->promptflow-core>=1.17.1->azure-ai-evaluation) (0.46.2)\n",
      "Requirement already satisfied: blinker>=1.9.0 in /Users/cv/Documents/Projects/azureai-samples/.venv/lib/python3.13/site-packages (from flask<4.0.0,>=2.2.3->promptflow-core>=1.17.1->azure-ai-evaluation) (1.9.0)\n",
      "Requirement already satisfied: itsdangerous>=2.2.0 in /Users/cv/Documents/Projects/azureai-samples/.venv/lib/python3.13/site-packages (from flask<4.0.0,>=2.2.3->promptflow-core>=1.17.1->azure-ai-evaluation) (2.2.0)\n",
      "Requirement already satisfied: werkzeug>=3.1.0 in /Users/cv/Documents/Projects/azureai-samples/.venv/lib/python3.13/site-packages (from flask<4.0.0,>=2.2.3->promptflow-core>=1.17.1->azure-ai-evaluation) (3.1.3)\n",
      "Requirement already satisfied: jsonschema-specifications>=2023.03.6 in /Users/cv/Documents/Projects/azureai-samples/.venv/lib/python3.13/site-packages (from jsonschema<5.0.0,>=4.0.0->promptflow-core>=1.17.1->azure-ai-evaluation) (2025.4.1)\n",
      "Requirement already satisfied: referencing>=0.28.4 in /Users/cv/Documents/Projects/azureai-samples/.venv/lib/python3.13/site-packages (from jsonschema<5.0.0,>=4.0.0->promptflow-core>=1.17.1->azure-ai-evaluation) (0.36.2)\n",
      "Requirement already satisfied: rpds-py>=0.7.1 in /Users/cv/Documents/Projects/azureai-samples/.venv/lib/python3.13/site-packages (from jsonschema<5.0.0,>=4.0.0->promptflow-core>=1.17.1->azure-ai-evaluation) (0.25.1)\n",
      "Requirement already satisfied: opentelemetry-api==1.33.1 in /Users/cv/Documents/Projects/azureai-samples/.venv/lib/python3.13/site-packages (from opentelemetry-sdk<2.0.0,>=1.22.0->promptflow-tracing==1.18.0->promptflow-core>=1.17.1->azure-ai-evaluation) (1.33.1)\n",
      "Requirement already satisfied: opentelemetry-semantic-conventions==0.54b1 in /Users/cv/Documents/Projects/azureai-samples/.venv/lib/python3.13/site-packages (from opentelemetry-sdk<2.0.0,>=1.22.0->promptflow-tracing==1.18.0->promptflow-core>=1.17.1->azure-ai-evaluation) (0.54b1)\n",
      "Requirement already satisfied: deprecated>=1.2.6 in /Users/cv/Documents/Projects/azureai-samples/.venv/lib/python3.13/site-packages (from opentelemetry-api==1.33.1->opentelemetry-sdk<2.0.0,>=1.22.0->promptflow-tracing==1.18.0->promptflow-core>=1.17.1->azure-ai-evaluation) (1.2.18)\n",
      "Requirement already satisfied: importlib-metadata<8.7.0,>=6.0 in /Users/cv/Documents/Projects/azureai-samples/.venv/lib/python3.13/site-packages (from opentelemetry-api==1.33.1->opentelemetry-sdk<2.0.0,>=1.22.0->promptflow-tracing==1.18.0->promptflow-core>=1.17.1->azure-ai-evaluation) (8.6.1)\n",
      "Requirement already satisfied: zipp>=3.20 in /Users/cv/Documents/Projects/azureai-samples/.venv/lib/python3.13/site-packages (from importlib-metadata<8.7.0,>=6.0->opentelemetry-api==1.33.1->opentelemetry-sdk<2.0.0,>=1.22.0->promptflow-tracing==1.18.0->promptflow-core>=1.17.1->azure-ai-evaluation) (3.22.0)\n",
      "Requirement already satisfied: wrapt<2,>=1.10 in /Users/cv/Documents/Projects/azureai-samples/.venv/lib/python3.13/site-packages (from deprecated>=1.2.6->opentelemetry-api==1.33.1->opentelemetry-sdk<2.0.0,>=1.22.0->promptflow-tracing==1.18.0->promptflow-core>=1.17.1->azure-ai-evaluation) (1.17.2)\n",
      "Requirement already satisfied: argcomplete>=3.2.3 in /Users/cv/Documents/Projects/azureai-samples/.venv/lib/python3.13/site-packages (from promptflow-devkit>=1.17.1->azure-ai-evaluation) (3.6.2)\n",
      "Requirement already satisfied: azure-monitor-opentelemetry-exporter<2.0.0,>=1.0.0b21 in /Users/cv/Documents/Projects/azureai-samples/.venv/lib/python3.13/site-packages (from promptflow-devkit>=1.17.1->azure-ai-evaluation) (1.0.0b37)\n",
      "Requirement already satisfied: colorama<0.5.0,>=0.4.6 in /Users/cv/Documents/Projects/azureai-samples/.venv/lib/python3.13/site-packages (from promptflow-devkit>=1.17.1->azure-ai-evaluation) (0.4.6)\n",
      "Requirement already satisfied: filelock<4.0.0,>=3.4.0 in /Users/cv/Documents/Projects/azureai-samples/.venv/lib/python3.13/site-packages (from promptflow-devkit>=1.17.1->azure-ai-evaluation) (3.18.0)\n",
      "Requirement already satisfied: flask-cors<6.0.0,>=5.0.0 in /Users/cv/Documents/Projects/azureai-samples/.venv/lib/python3.13/site-packages (from promptflow-devkit>=1.17.1->azure-ai-evaluation) (5.0.1)\n",
      "Requirement already satisfied: flask-restx<2.0.0,>=1.2.0 in /Users/cv/Documents/Projects/azureai-samples/.venv/lib/python3.13/site-packages (from promptflow-devkit>=1.17.1->azure-ai-evaluation) (1.3.0)\n",
      "Requirement already satisfied: gitpython<4.0.0,>=3.1.24 in /Users/cv/Documents/Projects/azureai-samples/.venv/lib/python3.13/site-packages (from promptflow-devkit>=1.17.1->azure-ai-evaluation) (3.1.44)\n",
      "Requirement already satisfied: keyring<25.0.0,>=24.2.0 in /Users/cv/Documents/Projects/azureai-samples/.venv/lib/python3.13/site-packages (from promptflow-devkit>=1.17.1->azure-ai-evaluation) (24.3.1)\n",
      "Requirement already satisfied: marshmallow<4.0.0,>=3.5 in /Users/cv/Documents/Projects/azureai-samples/.venv/lib/python3.13/site-packages (from promptflow-devkit>=1.17.1->azure-ai-evaluation) (3.26.1)\n",
      "Requirement already satisfied: opentelemetry-exporter-otlp-proto-http<2.0.0,>=1.22.0 in /Users/cv/Documents/Projects/azureai-samples/.venv/lib/python3.13/site-packages (from promptflow-devkit>=1.17.1->azure-ai-evaluation) (1.33.1)\n",
      "Requirement already satisfied: pillow<11.1.0,>=10.1.0 in /Users/cv/Documents/Projects/azureai-samples/.venv/lib/python3.13/site-packages (from promptflow-devkit>=1.17.1->azure-ai-evaluation) (11.0.0)\n",
      "Requirement already satisfied: pydash<8.0.0,>=6.0.0 in /Users/cv/Documents/Projects/azureai-samples/.venv/lib/python3.13/site-packages (from promptflow-devkit>=1.17.1->azure-ai-evaluation) (7.0.7)\n",
      "Requirement already satisfied: sqlalchemy<3.0.0,>=1.4.48 in /Users/cv/Documents/Projects/azureai-samples/.venv/lib/python3.13/site-packages (from promptflow-devkit>=1.17.1->azure-ai-evaluation) (2.0.41)\n",
      "Requirement already satisfied: strictyaml<2.0.0,>=1.5.0 in /Users/cv/Documents/Projects/azureai-samples/.venv/lib/python3.13/site-packages (from promptflow-devkit>=1.17.1->azure-ai-evaluation) (1.7.3)\n",
      "Requirement already satisfied: tabulate<1.0.0,>=0.9.0 in /Users/cv/Documents/Projects/azureai-samples/.venv/lib/python3.13/site-packages (from promptflow-devkit>=1.17.1->azure-ai-evaluation) (0.9.0)\n",
      "Requirement already satisfied: waitress<4.0.0,>=3.0.0 in /Users/cv/Documents/Projects/azureai-samples/.venv/lib/python3.13/site-packages (from promptflow-devkit>=1.17.1->azure-ai-evaluation) (3.0.2)\n",
      "Requirement already satisfied: fixedint==0.1.6 in /Users/cv/Documents/Projects/azureai-samples/.venv/lib/python3.13/site-packages (from azure-monitor-opentelemetry-exporter<2.0.0,>=1.0.0b21->promptflow-devkit>=1.17.1->azure-ai-evaluation) (0.1.6)\n",
      "Requirement already satisfied: aniso8601>=0.82 in /Users/cv/Documents/Projects/azureai-samples/.venv/lib/python3.13/site-packages (from flask-restx<2.0.0,>=1.2.0->promptflow-devkit>=1.17.1->azure-ai-evaluation) (10.0.1)\n",
      "Requirement already satisfied: importlib-resources in /Users/cv/Documents/Projects/azureai-samples/.venv/lib/python3.13/site-packages (from flask-restx<2.0.0,>=1.2.0->promptflow-devkit>=1.17.1->azure-ai-evaluation) (6.5.2)\n",
      "Requirement already satisfied: gitdb<5,>=4.0.1 in /Users/cv/Documents/Projects/azureai-samples/.venv/lib/python3.13/site-packages (from gitpython<4.0.0,>=3.1.24->promptflow-devkit>=1.17.1->azure-ai-evaluation) (4.0.12)\n",
      "Requirement already satisfied: smmap<6,>=3.0.1 in /Users/cv/Documents/Projects/azureai-samples/.venv/lib/python3.13/site-packages (from gitdb<5,>=4.0.1->gitpython<4.0.0,>=3.1.24->promptflow-devkit>=1.17.1->azure-ai-evaluation) (5.0.2)\n",
      "Requirement already satisfied: jaraco.classes in /Users/cv/Documents/Projects/azureai-samples/.venv/lib/python3.13/site-packages (from keyring<25.0.0,>=24.2.0->promptflow-devkit>=1.17.1->azure-ai-evaluation) (3.4.0)\n",
      "Requirement already satisfied: packaging>=17.0 in /Users/cv/Documents/Projects/azureai-samples/.venv/lib/python3.13/site-packages (from marshmallow<4.0.0,>=3.5->promptflow-devkit>=1.17.1->azure-ai-evaluation) (25.0)\n",
      "Requirement already satisfied: googleapis-common-protos~=1.52 in /Users/cv/Documents/Projects/azureai-samples/.venv/lib/python3.13/site-packages (from opentelemetry-exporter-otlp-proto-http<2.0.0,>=1.22.0->promptflow-devkit>=1.17.1->azure-ai-evaluation) (1.70.0)\n",
      "Requirement already satisfied: opentelemetry-exporter-otlp-proto-common==1.33.1 in /Users/cv/Documents/Projects/azureai-samples/.venv/lib/python3.13/site-packages (from opentelemetry-exporter-otlp-proto-http<2.0.0,>=1.22.0->promptflow-devkit>=1.17.1->azure-ai-evaluation) (1.33.1)\n",
      "Requirement already satisfied: opentelemetry-proto==1.33.1 in /Users/cv/Documents/Projects/azureai-samples/.venv/lib/python3.13/site-packages (from opentelemetry-exporter-otlp-proto-http<2.0.0,>=1.22.0->promptflow-devkit>=1.17.1->azure-ai-evaluation) (1.33.1)\n",
      "Requirement already satisfied: protobuf<6.0,>=5.0 in /Users/cv/Documents/Projects/azureai-samples/.venv/lib/python3.13/site-packages (from opentelemetry-proto==1.33.1->opentelemetry-exporter-otlp-proto-http<2.0.0,>=1.22.0->promptflow-devkit>=1.17.1->azure-ai-evaluation) (5.29.5)\n",
      "Requirement already satisfied: oauthlib>=3.0.0 in /Users/cv/Documents/Projects/azureai-samples/.venv/lib/python3.13/site-packages (from requests-oauthlib>=0.5.0->msrest>=0.6.21->azure-ai-evaluation) (3.2.2)\n",
      "Requirement already satisfied: more-itertools in /Users/cv/Documents/Projects/azureai-samples/.venv/lib/python3.13/site-packages (from jaraco.classes->keyring<25.0.0,>=24.2.0->promptflow-devkit>=1.17.1->azure-ai-evaluation) (10.7.0)\n",
      "Note: you may need to restart the kernel to use updated packages.\n"
     ]
    }
   ],
   "source": [
    "%pip install azure-ai-projects azure-identity azure-ai-evaluation python-dotenv"
   ]
  },
  {
   "cell_type": "code",
   "execution_count": 2,
   "metadata": {},
   "outputs": [
    {
     "data": {
      "text/plain": [
       "True"
      ]
     },
     "execution_count": 2,
     "metadata": {},
     "output_type": "execute_result"
    }
   ],
   "source": [
    "from dotenv import load_dotenv\n",
    "load_dotenv()"
   ]
  },
  {
   "cell_type": "markdown",
   "metadata": {},
   "source": [
    "### Initialize Task Adherence Evaluator\n"
   ]
  },
  {
   "cell_type": "code",
   "execution_count": 3,
   "metadata": {},
   "outputs": [
    {
     "name": "stderr",
     "output_type": "stream",
     "text": [
      "Class TaskAdherenceEvaluator: This is an experimental class, and may change at any time. Please see https://aka.ms/azuremlexperimental for more information.\n"
     ]
    }
   ],
   "source": [
    "import os\n",
    "from azure.ai.evaluation import TaskAdherenceEvaluator, AzureOpenAIModelConfiguration\n",
    "from pprint import pprint\n",
    "\n",
    "model_config = AzureOpenAIModelConfiguration(\n",
    "    azure_endpoint=os.environ[\"AZURE_OPENAI_ENDPOINT\"],\n",
    "    api_key=os.environ[\"AZURE_OPENAI_API_KEY\"],\n",
    "    api_version=os.environ[\"AZURE_OPENAI_API_VERSION\"],\n",
    "    azure_deployment=os.environ[\"MODEL_DEPLOYMENT_NAME\"],\n",
    ")\n",
    "task_adherence_evaluator = TaskAdherenceEvaluator(model_config)"
   ]
  },
  {
   "cell_type": "code",
   "execution_count": 4,
   "metadata": {},
   "outputs": [
    {
     "name": "stdout",
     "output_type": "stream",
     "text": [
      "AZURE_OPENAI_ENDPOINT=https://cvi-aie-wf-swedencentra-resource.openai.azure.com/\n",
      "AZURE_OPENAI_API_KEY=6LLV1Vgx1HRa3368D7SmCflhIcNk5Z4fr8bm1cXcSK2g40f2ShNqJQQJ99BFACfhMk5XJ3w3AAAAACOGulr0\n",
      "AZURE_OPENAI_API_VERSION=2024-12-01-preview\n",
      "MODEL_DEPLOYMENT_NAME=gpt-4o\n"
     ]
    }
   ],
   "source": [
    "print(\"AZURE_OPENAI_ENDPOINT=\" + os.environ[\"AZURE_OPENAI_ENDPOINT\"])\n",
    "print(\"AZURE_OPENAI_API_KEY=\" + os.environ[\"AZURE_OPENAI_API_KEY\"])\n",
    "print(\"AZURE_OPENAI_API_VERSION=\" + os.environ[\"AZURE_OPENAI_API_VERSION\"])\n",
    "print(\"MODEL_DEPLOYMENT_NAME=\" + os.environ[\"MODEL_DEPLOYMENT_NAME\"])"
   ]
  },
  {
   "cell_type": "markdown",
   "metadata": {},
   "source": [
    "### Samples"
   ]
  },
  {
   "cell_type": "markdown",
   "metadata": {},
   "source": [
    "#### Evaluating query and response as string"
   ]
  },
  {
   "cell_type": "code",
   "execution_count": 5,
   "metadata": {},
   "outputs": [
    {
     "name": "stdout",
     "output_type": "stream",
     "text": [
      "{'task_adherence': 2.0,\n",
      " 'task_adherence_reason': 'The response partially aligns with the query by '\n",
      "                          'mentioning two relevant actions but fails to '\n",
      "                          'provide sufficient detail or a comprehensive list '\n",
      "                          'of best practices, making it barely adherent.',\n",
      " 'task_adherence_result': 'fail',\n",
      " 'task_adherence_threshold': 3}\n"
     ]
    }
   ],
   "source": [
    "# Failure example, there's only a vague adherence to the task\n",
    "result = task_adherence_evaluator(\n",
    "    query=\"What are the best practices for maintaining a healthy rose garden during the summer?\",\n",
    "    response=\"Make sure to water your roses regularly and trim them occasionally.\",\n",
    ")\n",
    "pprint(result)"
   ]
  },
  {
   "cell_type": "code",
   "execution_count": 6,
   "metadata": {},
   "outputs": [
    {
     "name": "stdout",
     "output_type": "stream",
     "text": [
      "{'task_adherence': 4.0,\n",
      " 'task_adherence_reason': 'The response is highly accurate, clear, and adheres '\n",
      "                          'closely to the instructions, with only minor room '\n",
      "                          'for improvement.',\n",
      " 'task_adherence_result': 'pass',\n",
      " 'task_adherence_threshold': 3}\n"
     ]
    }
   ],
   "source": [
    "# Success example, full adherence to the task\n",
    "result = task_adherence_evaluator(\n",
    "    query=\"What are the best practices for maintaining a healthy rose garden during the summer?\",\n",
    "    response=\"For optimal summer care of your rose garden, start by watering deeply early in the morning to ensure the roots are well-hydrated without encouraging fungal growth. Apply a 2-3 inch layer of organic mulch around the base of the plants to conserve moisture and regulate soil temperature. Fertilize with a balanced rose fertilizer every 4 to 6 weeks to support healthy growth. Prune away any dead or diseased wood to promote good air circulation, and inspect regularly for pests such as aphids or spider mites, treating them promptly with an appropriate organic insecticidal soap. Finally, ensure that your roses receive at least 6 hours of direct sunlight daily for robust flowering.\",\n",
    ")\n",
    "pprint(result)"
   ]
  },
  {
   "cell_type": "markdown",
   "metadata": {},
   "source": [
    "#### Evaluating query and response as list of messages"
   ]
  },
  {
   "cell_type": "code",
   "execution_count": 7,
   "metadata": {},
   "outputs": [
    {
     "name": "stdout",
     "output_type": "stream",
     "text": [
      "{'task_adherence': 5.0,\n",
      " 'task_adherence_reason': 'The response is clear, accurate, and fulfills the '\n",
      "                          'query by providing a specific book recommendation '\n",
      "                          'along with relevant details. It also offers to '\n",
      "                          'provide further assistance, making it highly '\n",
      "                          'adherent to the instructions.',\n",
      " 'task_adherence_result': 'pass',\n",
      " 'task_adherence_threshold': 3}\n"
     ]
    }
   ],
   "source": [
    "query = [\n",
    "    {\"role\": \"system\", \"content\": \"You are an expert in literature and at provid can provide book recommendations.\"},\n",
    "    {\n",
    "        \"createdAt\": \"2025-03-14T08:00:00Z\",\n",
    "        \"role\": \"user\",\n",
    "        \"content\": [\n",
    "            {\"type\": \"text\", \"text\": \"I love historical fiction. Can you recommend a good book from that genre?\"}\n",
    "        ],\n",
    "    },\n",
    "]\n",
    "\n",
    "response = [\n",
    "    {\n",
    "        \"createdAt\": \"2025-03-14T08:00:05Z\",\n",
    "        \"role\": \"assistant\",\n",
    "        \"content\": [{\"type\": \"text\", \"text\": \"Let me fetch a recommendation for historical fiction.\"}],\n",
    "    },\n",
    "    {\n",
    "        \"createdAt\": \"2025-03-14T08:00:10Z\",\n",
    "        \"role\": \"assistant\",\n",
    "        \"content\": [\n",
    "            {\n",
    "                \"type\": \"tool_call\",\n",
    "                \"tool_call_id\": \"tool_call_20250314_001\",\n",
    "                \"name\": \"get_book\",\n",
    "                \"arguments\": {\"genre\": \"historical fiction\"},\n",
    "            }\n",
    "        ],\n",
    "    },\n",
    "    {\n",
    "        \"createdAt\": \"2025-03-14T08:00:15Z\",\n",
    "        \"role\": \"tool\",\n",
    "        \"tool_call_id\": \"tool_call_20250314_001\",\n",
    "        \"content\": [\n",
    "            {\n",
    "                \"type\": \"tool_result\",\n",
    "                \"tool_result\": '{ \"book\": { \"title\": \"The Pillars of the Earth\", \"author\": \"Ken Follett\", \"summary\": \"A captivating tale set in medieval England that weaves historical events with personal drama.\" } }',\n",
    "            }\n",
    "        ],\n",
    "    },\n",
    "    {\n",
    "        \"createdAt\": \"2025-03-14T08:00:20Z\",\n",
    "        \"role\": \"assistant\",\n",
    "        \"content\": [\n",
    "            {\n",
    "                \"type\": \"text\",\n",
    "                \"text\": \"Based on our records, I recommend 'The Pillars of the Earth' by Ken Follett. This novel is an excellent example of historical fiction with a rich narrative and well-developed characters. Would you like more details or another suggestion?\",\n",
    "            }\n",
    "        ],\n",
    "    },\n",
    "]\n",
    "\n",
    "tool_definitions = [\n",
    "    {\n",
    "        \"name\": \"get_book\",\n",
    "        \"description\": \"Retrieve a book recommendation for a specified genre.\",\n",
    "        \"parameters\": {\n",
    "            \"type\": \"object\",\n",
    "            \"properties\": {\n",
    "                \"genre\": {\"type\": \"string\", \"description\": \"The genre for which a book recommendation is requested.\"}\n",
    "            },\n",
    "        },\n",
    "    }\n",
    "]\n",
    "\n",
    "result = task_adherence_evaluator(\n",
    "    query=query,\n",
    "    response=response,\n",
    "    tool_definitions=tool_definitions,\n",
    ")\n",
    "pprint(result)"
   ]
  },
  {
   "cell_type": "markdown",
   "metadata": {},
   "source": [
    "## Batch evaluate and visualize results on Azure AI Foundry\n",
    "Batch evaluate to leverage asynchronous evaluation on a dataset. \n",
    "\n",
    "Optionally, you can go to AI Foundry URL for rich Azure AI Foundry data visualization. You can inspect the evaluation scores and reasoning to quickly identify bugs and issues of your agent to fix and improve. Make sure to authenticate to Azure using `az login` in your terminal before running this cell."
   ]
  },
  {
   "cell_type": "code",
   "execution_count": 8,
   "metadata": {},
   "outputs": [
    {
     "name": "stderr",
     "output_type": "stream",
     "text": [
      "[2025-06-04 14:26:40 -0700][promptflow._core.entry_meta_generator][WARNING] - Generate meta in current process and timeout won't take effect. Please handle timeout manually outside current process.\n",
      "[2025-06-04 14:26:40 -0700][promptflow._sdk._orchestrator.run_submitter][INFO] - Submitting run azure_ai_evaluation_evaluators_task_adherence_20250604_142640_832291, log path: /Users/cv/.promptflow/.runs/azure_ai_evaluation_evaluators_task_adherence_20250604_142640_832291/logs.txt\n"
     ]
    },
    {
     "name": "stdout",
     "output_type": "stream",
     "text": [
      "2025-06-04 14:26:40 -0700   81861 execution.bulk     INFO     Current thread is not main thread, skip signal handler registration in BatchEngine.\n",
      "2025-06-04 14:26:43 -0700   81861 execution.bulk     INFO     Finished 1 / 3 lines.\n",
      "2025-06-04 14:26:43 -0700   81861 execution.bulk     INFO     Average execution time for completed lines: 2.21 seconds. Estimated time for incomplete lines: 4.42 seconds.\n",
      "2025-06-04 14:26:43 -0700   81861 execution.bulk     INFO     Finished 2 / 3 lines.\n",
      "2025-06-04 14:26:43 -0700   81861 execution.bulk     INFO     Average execution time for completed lines: 1.15 seconds. Estimated time for incomplete lines: 1.15 seconds.\n",
      "2025-06-04 14:26:43 -0700   81861 execution.bulk     INFO     Finished 3 / 3 lines.\n",
      "2025-06-04 14:26:43 -0700   81861 execution.bulk     INFO     Average execution time for completed lines: 0.84 seconds. Estimated time for incomplete lines: 0.0 seconds.\n",
      "======= Run Summary =======\n",
      "\n",
      "Run name: \"azure_ai_evaluation_evaluators_task_adherence_20250604_142640_832291\"\n",
      "Run status: \"Completed\"\n",
      "Start time: \"2025-06-04 14:26:40.839743-07:00\"\n",
      "Duration: \"0:00:03.158230\"\n",
      "Output path: \"/Users/cv/.promptflow/.runs/azure_ai_evaluation_evaluators_task_adherence_20250604_142640_832291\"\n",
      "\n",
      "======= Combined Run Summary (Per Evaluator) =======\n",
      "\n",
      "{\n",
      "    \"task_adherence\": {\n",
      "        \"status\": \"Completed\",\n",
      "        \"duration\": \"0:00:03.158230\",\n",
      "        \"completed_lines\": 3,\n",
      "        \"failed_lines\": 0,\n",
      "        \"log_path\": \"/Users/cv/.promptflow/.runs/azure_ai_evaluation_evaluators_task_adherence_20250604_142640_832291\"\n",
      "    }\n",
      "}\n",
      "\n",
      "====================================================\n",
      "\n",
      "('AI Foundary URL: '\n",
      " 'https://ai.azure.com/build/evaluation/eaa8ac09-35b6-49ec-bd5c-e6efce6b79a9?wsid=/subscriptions/6415ebd4-1dd7-430f-bd4d-2f5e9419c1cd/resourceGroups/rg-cvi-ai-eng-fair-hub-eastus2/providers/Microsoft.MachineLearningServices/workspaces/cvi-ai-eng-fair-hub-eastus2')\n"
     ]
    }
   ],
   "source": [
    "from azure.ai.evaluation import evaluate\n",
    "\n",
    "# This sample files contains the evaluation data in JSONL format. Where each line is a run from agent.\n",
    "# This was saved using agent thread and converter.\n",
    "file_name = \"evaluation_data.jsonl\"\n",
    "\n",
    "response = evaluate(\n",
    "    data=file_name,\n",
    "    evaluation_name=\"Task Adherence Evaluation\",\n",
    "    evaluators={\n",
    "        \"task_adherence\": task_adherence_evaluator,\n",
    "    },\n",
    "    azure_ai_project={\n",
    "        \"subscription_id\": os.environ[\"REPORT_AZURE_SUBSCRIPTION_ID\"],\n",
    "        \"project_name\": os.environ[\"REPORT_PROJECT_NAME\"],\n",
    "        \"resource_group_name\": os.environ[\"REPORT_RESOURCE_GROUP_NAME\"],\n",
    "    },\n",
    ")\n",
    "pprint(f'AI Foundary URL: {response.get(\"studio_url\")}')"
   ]
  }
 ],
 "metadata": {
  "kernelspec": {
   "display_name": ".venv",
   "language": "python",
   "name": "python3"
  },
  "language_info": {
   "codemirror_mode": {
    "name": "ipython",
    "version": 3
   },
   "file_extension": ".py",
   "mimetype": "text/x-python",
   "name": "python",
   "nbconvert_exporter": "python",
   "pygments_lexer": "ipython3",
   "version": "3.13.3"
  }
 },
 "nbformat": 4,
 "nbformat_minor": 2
}
