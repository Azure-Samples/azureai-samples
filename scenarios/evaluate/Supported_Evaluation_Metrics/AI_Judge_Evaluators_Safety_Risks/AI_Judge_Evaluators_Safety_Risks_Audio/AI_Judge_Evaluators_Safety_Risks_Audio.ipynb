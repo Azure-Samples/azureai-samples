{
 "cells": [
  {
   "cell_type": "markdown",
   "metadata": {},
   "source": [
    "# Azure AI Safety Evaluations of Audio Models\n",
    "This following demo notebook demonstrates the evaluation of safety evaluations for audio scenarios.\n",
    "\n",
    "Azure AI evaluations provides a comprehensive Python SDK and studio UI experience for running evaluations for your generative AI applications. The notebook is broken up into the following sections:\n",
    "\n",
    "1. Setup and Configuration\n",
    "2. Helper Functions for [Speech SDK](https://learn.microsoft.com/en-us/azure/ai-services/openai/concepts/models?tabs=global-standard%2Cstandard-chat-completions#text-to-speech-models-preview) and [Real-time Audio Models](https://learn.microsoft.com/en-us/azure/ai-services/openai/realtime-audio-quickstart?tabs=keyless%2Cwindows&pivots=ai-foundry-portal)\n",
    "3. Simulating Adversarial Conversations with Audio \n",
    "4. Using Content Safety Evaluator to Evaluate Conversations "
   ]
  },
  {
   "cell_type": "markdown",
   "metadata": {},
   "source": [
    "## 1. Setup and Configuration\n",
    "First ensure you install the necessary requirements. In addition to what is listed in `requirements.txt`, you will need to download [ffpmg](https://ffmpeg.org/download.html) for handling of audio files.  "
   ]
  },
  {
   "cell_type": "code",
   "execution_count": null,
   "metadata": {},
   "outputs": [],
   "source": [
    "%pip install -r requirements.txt"
   ]
  },
  {
   "cell_type": "markdown",
   "metadata": {},
   "source": [
    "The following multi-modal evaluators in this sample require an Azure AI Studio project configuration and an Azure credential to use. \n",
    "\n",
    "- ContentSafetyEvaluator (This is composite version of following evaluators)\n",
    "\t\n",
    "    - ViolenceEvaluator\t\n",
    "    - SexualEvaluator\t\n",
    "    - SelfHarmEvaluator\t\n",
    "    - HateUnfairnessEvaluator\t"
   ]
  },
  {
   "cell_type": "markdown",
   "metadata": {},
   "source": [
    "Please fill in the assignments below with the required values to run the rest of this sample. \n",
    "Ensure that you have downloaded and installed the Azure CLI and logged in with your Azure credentials using `az login` in your CLI prior to these steps. \n",
    "\n",
    "*Important*: We recommend using East US 2 or Sweden Central as your AI Hub/AI project region to support all built-in safety evaluators. A subset of service-based safety evaluators are available in other regions, please see the supported regions in our [documentation](https://aka.ms/azureaistudiosafetyevalhowto). Please configure your project in a supported region to access the safety evaluation service via our evaluation SDK. Additionally, your project scope will be what is used to log your evaluation results in your project after the evaluation run is finished.\n",
    "\n",
    "Set the following environment variables for use in this notebook:"
   ]
  },
  {
   "cell_type": "code",
   "execution_count": null,
   "metadata": {},
   "outputs": [],
   "source": [
    "import os\n",
    "\n",
    "# Azure OpenAI variables\n",
    "os.environ[\"AZURE_SUBSCRIPTION_ID\"] = \"\"\n",
    "os.environ[\"AZURE_RESOURCE_GROUP\"] = \"\"\n",
    "os.environ[\"AZURE_PROJECT_NAME\"] = \"\"\n",
    "\n",
    "# Azure OpenAI Realtime Audio deployment variables\n",
    "os.environ[\"AZURE_OPENAI_AUDIO_DEPLOYMENT\"] = \"\"\n",
    "os.environ[\"AZURE_OPENAI_AUDIO_API_KEY\"] = \"\"\n",
    "os.environ[\"AZURE_OPENAI_AUDIO_ENDPOINT\"] = \"\"\n",
    "\n",
    "# Azure Speech Service variables\n",
    "os.environ[\"AZURE_SPEECH_KEY\"] = \"\"\n",
    "os.environ[\"AZURE_SPEECH_REGION\"] = \"\""
   ]
  },
  {
   "cell_type": "code",
   "execution_count": null,
   "metadata": {},
   "outputs": [],
   "source": [
    "from azure.identity import DefaultAzureCredential\n",
    "from azure.ai.evaluation import evaluate\n",
    "from azure.ai.evaluation.simulator import AdversarialSimulator, AdversarialScenario\n",
    "\n",
    "\n",
    "azure_ai_project = {\n",
    "    \"subscription_id\": os.environ.get(\"AZURE_SUBSCRIPTION_ID\"),\n",
    "    \"resource_group_name\": os.environ.get(\"AZURE_RESOURCE_GROUP\"),\n",
    "    \"project_name\": os.environ.get(\"AZURE_PROJECT_NAME\"),\n",
    "}\n",
    "credential = DefaultAzureCredential()"
   ]
  },
  {
   "cell_type": "markdown",
   "metadata": {},
   "source": [
    "## 2. Helper Functions for Speech SDK and Real-time Audio Models "
   ]
  },
  {
   "cell_type": "markdown",
   "metadata": {},
   "source": [
    "### Helper Functions for Speech SDK "
   ]
  },
  {
   "cell_type": "code",
   "execution_count": null,
   "metadata": {},
   "outputs": [],
   "source": [
    "import azure.cognitiveservices.speech as speechsdk\n",
    "\n",
    "\n",
    "def text_to_speech(text: str, output_file: str) -> None:\n",
    "    # Set up the subscription info for the Speech Service:\n",
    "    speech_key = os.environ.get(\"AZURE_SPEECH_KEY\")\n",
    "    service_region = os.environ.get(\"AZURE_SPEECH_REGION\")\n",
    "\n",
    "    # Create an instance of a speech config with specified subscription key and service region.\n",
    "    speech_config = speechsdk.SpeechConfig(subscription=speech_key, region=service_region)\n",
    "\n",
    "    # Create an audio configuration that points to an audio file.\n",
    "    audio_config = speechsdk.audio.AudioOutputConfig(filename=output_file)\n",
    "\n",
    "    # Create a synthesizer with the given settings\n",
    "    synthesizer = speechsdk.SpeechSynthesizer(speech_config=speech_config, audio_config=audio_config)\n",
    "\n",
    "    # Synthesize the text to speech\n",
    "    result = synthesizer.speak_text_async(text).get()\n",
    "\n",
    "    # Check result\n",
    "    # if result.reason == speechsdk.ResultReason.SynthesizingAudioCompleted:\n",
    "    #     print(f\"Speech synthesized for text [{text}] and saved to [{output_file}]\")\n",
    "    if result.reason == speechsdk.ResultReason.Canceled:\n",
    "        cancellation_details = result.cancellation_details\n",
    "        print(f\"Speech synthesis canceled: {cancellation_details.reason}\")\n",
    "        if cancellation_details.reason == speechsdk.CancellationReason.Error:\n",
    "            print(f\"Error details: {cancellation_details.error_details}\")"
   ]
  },
  {
   "cell_type": "code",
   "execution_count": null,
   "metadata": {},
   "outputs": [],
   "source": [
    "from pydub import AudioSegment\n",
    "\n",
    "\n",
    "def add_silence(input_file: str, output_file: str, silence_duration_ms: int = 500) -> None:\n",
    "    # Load the audio file\n",
    "    audio = AudioSegment.from_file(input_file)\n",
    "\n",
    "    # Create silence audio segments\n",
    "    silence = AudioSegment.silent(duration=silence_duration_ms)\n",
    "\n",
    "    # Add silence at the beginning and end\n",
    "    audio_with_silence = silence + audio + silence\n",
    "\n",
    "    # Export the modified audio\n",
    "    audio_with_silence.export(output_file, format=\"wav\")"
   ]
  },
  {
   "cell_type": "markdown",
   "metadata": {},
   "source": [
    "### Helper Functions for Real-time Audio Models "
   ]
  },
  {
   "cell_type": "code",
   "execution_count": null,
   "metadata": {},
   "outputs": [],
   "source": [
    "import time\n",
    "from typing_extensions import Any\n",
    "\n",
    "\n",
    "def log(start_time: float, *args: Any) -> None:  # noqa: ANN401\n",
    "    elapsed_time_ms = int((time.time() - start_time) * 1000)\n",
    "    print(f\"{elapsed_time_ms} [ms]: \", *args)"
   ]
  },
  {
   "cell_type": "code",
   "execution_count": null,
   "metadata": {},
   "outputs": [],
   "source": [
    "from rtclient import RTClient\n",
    "\n",
    "\n",
    "async def receive_control(start_time: float, client: RTClient) -> None:\n",
    "    async for control in client.control_messages():\n",
    "        if control is not None:\n",
    "            log(start_time, f\"Received a control message: {control.type}\")\n",
    "        else:\n",
    "            break"
   ]
  },
  {
   "cell_type": "code",
   "execution_count": null,
   "metadata": {},
   "outputs": [],
   "source": [
    "from scipy.signal import resample\n",
    "import numpy as np\n",
    "\n",
    "\n",
    "def resample_audio(audio_data, original_sample_rate, target_sample_rate):  # noqa: ANN201, ANN001\n",
    "    number_of_samples = round(len(audio_data) * float(target_sample_rate) / original_sample_rate)\n",
    "    resampled_audio = resample(audio_data, number_of_samples)\n",
    "    return resampled_audio.astype(np.int16)"
   ]
  },
  {
   "cell_type": "code",
   "execution_count": null,
   "metadata": {},
   "outputs": [],
   "source": [
    "import soundfile as sf\n",
    "from pathlib import Path\n",
    "\n",
    "\n",
    "async def send_audio(client: RTClient, audio_file_path: Path) -> None:\n",
    "    sample_rate = 24000\n",
    "    duration_ms = 100\n",
    "    samples_per_chunk = sample_rate * (duration_ms / 1000)\n",
    "    bytes_per_sample = 2\n",
    "    bytes_per_chunk = int(samples_per_chunk * bytes_per_sample)\n",
    "\n",
    "    extra_params = (\n",
    "        {\n",
    "            \"samplerate\": sample_rate,\n",
    "            \"channels\": 1,\n",
    "            \"subtype\": \"PCM_16\",\n",
    "        }\n",
    "        if audio_file_path.endswith(\".raw\")\n",
    "        else {}\n",
    "    )\n",
    "\n",
    "    audio_data, original_sample_rate = sf.read(audio_file_path, dtype=\"int16\", **extra_params)\n",
    "    if original_sample_rate != sample_rate:\n",
    "        audio_data = resample_audio(audio_data, original_sample_rate, sample_rate)\n",
    "\n",
    "    audio_bytes = audio_data.tobytes()\n",
    "    for i in range(0, len(audio_bytes), bytes_per_chunk):\n",
    "        chunk = audio_bytes[i : i + bytes_per_chunk]\n",
    "        await client.send_audio(chunk)"
   ]
  },
  {
   "cell_type": "code",
   "execution_count": null,
   "metadata": {},
   "outputs": [],
   "source": [
    "from rtclient import RTOutputItem\n",
    "import base64\n",
    "\n",
    "\n",
    "async def receive_item(start_time: float, item: RTOutputItem, out_dir: str, item_ids: set) -> None:\n",
    "    prefix = f\"[response={item.response_id}][item={item.id}]\"\n",
    "\n",
    "    audio_data = None\n",
    "    audio_transcript = None\n",
    "    text_data = None\n",
    "    arguments = None\n",
    "    async for chunk in item:\n",
    "        if chunk.type == \"audio_transcript\":\n",
    "            audio_transcript = (audio_transcript or \"\") + chunk.data\n",
    "        elif chunk.type == \"audio\":\n",
    "            if audio_data is None:\n",
    "                audio_data = bytearray()\n",
    "            audio_bytes = base64.b64decode(chunk.data)\n",
    "            audio_data.extend(audio_bytes)\n",
    "        elif chunk.type == \"tool_call_arguments\":\n",
    "            arguments = (arguments or \"\") + chunk.data\n",
    "        elif chunk.type == \"text\":\n",
    "            text_data = (text_data or \"\") + chunk.data\n",
    "    item_ids.add(item.id)\n",
    "    item_ids.add(item.previous_id)\n",
    "    if text_data is not None:\n",
    "        log(start_time, prefix, f\"Text: {text_data}\")\n",
    "        out_path = Path(out_dir) / f\"{item.id}.text.txt\"\n",
    "        with out_path.open(\"w\", encoding=\"utf-8\") as out:\n",
    "            out.write(text_data)\n",
    "    if audio_data is not None:\n",
    "        log(start_time, prefix, f\"Audio received with length: {len(audio_data)}\")\n",
    "        out_path = Path(out_dir) / f\"{item.id}.wav\"\n",
    "        with out_path.open(\"wb\") as out:\n",
    "            audio_array = np.frombuffer(audio_data, dtype=np.int16)\n",
    "            sf.write(out, audio_array, samplerate=24000)\n",
    "    if audio_transcript is not None:\n",
    "        log(start_time, prefix, f\"Audio Transcript: {audio_transcript}\")\n",
    "        out_path = Path(out_dir) / f\"{item.id}.audio_transcript.txt\"\n",
    "        with out_path.open(\"w\", encoding=\"utf-8\") as out:\n",
    "            out.write(audio_transcript)\n",
    "    if arguments is not None:\n",
    "        log(start_time, prefix, f\"Tool Call Arguments: {arguments}\")\n",
    "        out_path = Path(out_dir) / f\"{item.id}.tool.streamed.json\"\n",
    "        with out_path.open(\"w\", encoding=\"utf-8\") as out:\n",
    "            out.write(arguments)"
   ]
  },
  {
   "cell_type": "code",
   "execution_count": null,
   "metadata": {},
   "outputs": [],
   "source": [
    "from rtclient import RTResponse\n",
    "import asyncio\n",
    "\n",
    "\n",
    "async def receive_response(start_time: float, response: RTResponse, out_dir: str) -> list:\n",
    "    prefix = f\"[response={response.id}]\"\n",
    "    item_ids = set()\n",
    "    async for item in response:\n",
    "        log(start_time, prefix, f\"Received item {item.id}\")\n",
    "        asyncio.create_task(receive_item(start_time, item, out_dir, item_ids))  # noqa: RUF006\n",
    "    log(start_time, prefix, \"Response completed\")\n",
    "    return list(item_ids)"
   ]
  },
  {
   "cell_type": "code",
   "execution_count": null,
   "metadata": {},
   "outputs": [],
   "source": [
    "from rtclient import RTInputAudioItem\n",
    "\n",
    "\n",
    "async def receive_input_item(start_time: float, item: RTInputAudioItem) -> None:\n",
    "    prefix = f\"[input_item={item.id}]\"\n",
    "    await item\n",
    "    log(start_time, prefix, f\"Previous Id: {item.previous_id}\")\n",
    "    log(start_time, prefix, f\"Transcript: {item.transcript}\")\n",
    "    log(start_time, prefix, f\"Audio Start [ms]: {item.audio_start_ms}\")\n",
    "    log(start_time, prefix, f\"Audio End [ms]: {item.audio_end_ms}\")"
   ]
  },
  {
   "cell_type": "code",
   "execution_count": null,
   "metadata": {},
   "outputs": [],
   "source": [
    "async def receive_items(start_time: float, client: RTClient, out_dir: str) -> list:\n",
    "    item_ids = []\n",
    "    async for item in client.items():\n",
    "        if isinstance(item, RTResponse):\n",
    "            new_item_ids = await receive_response(start_time, item, out_dir)\n",
    "            item_ids.extend(new_item_ids)\n",
    "            break\n",
    "        asyncio.create_task(start_time, receive_input_item(item))  # noqa: RUF006\n",
    "    return item_ids"
   ]
  },
  {
   "cell_type": "code",
   "execution_count": null,
   "metadata": {},
   "outputs": [],
   "source": [
    "async def receive_messages(start_time: float, client: RTClient, out_dir: str) -> list:\n",
    "    return await receive_items(start_time, client, out_dir)"
   ]
  },
  {
   "cell_type": "markdown",
   "metadata": {},
   "source": [
    "## 3. Simulating Adversarial Conversations with Audio "
   ]
  },
  {
   "cell_type": "markdown",
   "metadata": {},
   "source": [
    "### Audio-based Callback Function\n",
    "\n",
    "The Azure AI Evaluation SDK's Adversarial Simulator provides text to prompt your model to produce harmful content. In this callback function, we use your Speech service connection to convert this text to audio, and then prompt your audio model to respond to the converted audio. These responses will form the dataset of conversations which are converted back to text using the Speech service to be used by the Content Safety evaluator."
   ]
  },
  {
   "cell_type": "code",
   "execution_count": null,
   "metadata": {},
   "outputs": [],
   "source": [
    "from typing import List, Dict, Optional\n",
    "from azure.core.credentials import AzureKeyCredential\n",
    "from rtclient import NoTurnDetection\n",
    "\n",
    "\n",
    "async def audio_callback(\n",
    "    messages: List[Dict], stream: bool = False, session_state: Optional[str] = None, context: Optional[Dict] = None\n",
    ") -> dict:\n",
    "    endpoint = os.environ.get(\"AZURE_OPENAI_AUDIO_ENDPOINT\")\n",
    "    audio_key = os.environ.get(\"AZURE_OPENAI_AUDIO_API_KEY\")\n",
    "    audio_deployment = os.environ.get(\"AZURE_OPENAI_AUDIO_DEPLOYMENT\")\n",
    "\n",
    "    start_time = time.time()\n",
    "    async with RTClient(\n",
    "        url=endpoint, key_credential=AzureKeyCredential(audio_key), azure_deployment=audio_deployment\n",
    "    ) as rt_client:\n",
    "        log(start_time, \"Connected to RTClient\")\n",
    "        text_to_speech(messages[\"messages\"][0][\"content\"], f\"./generated-audio/conv_{0}_{1}_tmp.wav\")\n",
    "\n",
    "        add_silence(f\"./generated-audio/conv_{0}_{1}_tmp.wav\", f\"./generated-audio/conv_{0}_{1}.wav\")\n",
    "\n",
    "        asyncio.create_task(receive_control(start_time, rt_client))  # noqa: RUF006\n",
    "        with Path.open(\"./instruction.txt\") as instructions_file:\n",
    "            instructions = instructions_file.read()\n",
    "\n",
    "        log(start_time, \"Configuring Session...\")\n",
    "        await rt_client.configure(instructions=instructions, turn_detection=NoTurnDetection())\n",
    "\n",
    "        audio_file_path = f\"./generated-audio/conv_{0}_{1}.wav\"\n",
    "        out_dir = Path(f\"./generated-audio/conv_{0}_{1}_out\")\n",
    "        out_dir.mkdir(parents=True, exist_ok=True)\n",
    "        log(start_time, f\"Sending Audio: {audio_file_path}\")\n",
    "        await send_audio(rt_client, Path.resolve(audio_file_path))\n",
    "        await rt_client.commit_audio()\n",
    "        await rt_client.generate_response()\n",
    "        last_transcript = \"\"\n",
    "        item_ids = await receive_messages(start_time, rt_client, out_dir)\n",
    "        log(start_time, item_ids)\n",
    "        formatted_response = {}\n",
    "        for item_id in item_ids:\n",
    "            file_path = Path(out_dir) / f\"{item_id}.audio_transcript.txt\"\n",
    "            if item_id is not None and Path(file_path).resolve().exists():\n",
    "                with Path(file_path).resolve().open(\"r\", encoding=\"utf-8\") as out:\n",
    "                    last_transcript = out.read()\n",
    "                    last_transcript = last_transcript.replace(\"\\n\", \" \").strip()\n",
    "                formatted_response = {\n",
    "                    \"content\": last_transcript,\n",
    "                    \"role\": \"assistant\",\n",
    "                    \"context\": {\"key\": {}},\n",
    "                }\n",
    "        messages[\"messages\"].append(formatted_response)\n",
    "        return {\n",
    "            \"messages\": messages[\"messages\"],\n",
    "            \"stream\": stream,\n",
    "            \"session_state\": session_state,\n",
    "            \"context\": context,\n",
    "        }"
   ]
  },
  {
   "cell_type": "code",
   "execution_count": null,
   "metadata": {},
   "outputs": [],
   "source": [
    "adv_simulator = AdversarialSimulator(azure_ai_project=azure_ai_project, credential=credential)\n",
    "adv_scenario = AdversarialScenario.ADVERSARIAL_CONVERSATION"
   ]
  },
  {
   "cell_type": "code",
   "execution_count": null,
   "metadata": {},
   "outputs": [],
   "source": [
    "outputs = await adv_simulator(\n",
    "    scenario=adv_scenario,\n",
    "    max_conversation_turns=3,  # define the number of conversation turns\n",
    "    max_simulation_results=1,  # define the number of simulation results\n",
    "    target=audio_callback,  # define the target model callback\n",
    "    concurrent_async_task=1,\n",
    ")"
   ]
  },
  {
   "cell_type": "code",
   "execution_count": null,
   "metadata": {},
   "outputs": [],
   "source": [
    "import json\n",
    "\n",
    "# Write the output to the file\n",
    "with Path(\"audio-harm.jsonl\").open(\"w\") as file:\n",
    "    file.writelines(\n",
    "        [json.dumps({\"conversation\": {\"messages\": conversation[\"messages\"]}}) + \"\\n\" for conversation in outputs]\n",
    "    )"
   ]
  },
  {
   "cell_type": "markdown",
   "metadata": {},
   "source": [
    "## 4. Using Content Safety Evaluator to Evaluate Conversations "
   ]
  },
  {
   "cell_type": "code",
   "execution_count": null,
   "metadata": {},
   "outputs": [],
   "source": [
    "from azure.ai.evaluation import ContentSafetyEvaluator\n",
    "\n",
    "cs_eval = ContentSafetyEvaluator(azure_ai_project=azure_ai_project, credential=credential)\n",
    "\n",
    "result = evaluate(\n",
    "    name=\"content-safety-audio-conversations\",\n",
    "    data=\"audio-harm.jsonl\",\n",
    "    evaluators={\"content_safety\": cs_eval},\n",
    "    # Optionally provide your AI Studio project information to track your evaluation results in your Azure AI Studio project\n",
    "    azure_ai_project=azure_ai_project,\n",
    "    # Optionally provide an output path to dump a json of metric summary, row level data and metric and studio URL\n",
    "    output_path=\"./content-safety-audio-conversations-results.json\",\n",
    ")"
   ]
  }
 ],
 "metadata": {
  "kernelspec": {
   "display_name": "audio-package-test",
   "language": "python",
   "name": "python3"
  },
  "language_info": {
   "codemirror_mode": {
    "name": "ipython",
    "version": 3
   },
   "file_extension": ".py",
   "mimetype": "text/x-python",
   "name": "python",
   "nbconvert_exporter": "python",
   "pygments_lexer": "ipython3"
  }
 },
 "nbformat": 4,
 "nbformat_minor": 2
}
