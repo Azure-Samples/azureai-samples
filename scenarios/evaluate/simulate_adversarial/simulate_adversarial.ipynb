{
 "cells": [
  {
   "cell_type": "markdown",
   "metadata": {},
   "source": [
    "# Adversarial Simulator for an online endpont\n",
    "\n",
    "## Objective\n",
    "\n",
    "This tutorial provides a step-by-step guide on how to leverage adversarial simulator to simulate an adversarial question answering scenario against an online endpoint\n",
    "\n",
    "This tutorial uses the following Azure AI services:\n",
    "\n",
    "- [Azure AI Safety Evaluation](https://aka.ms/azureaistudiosafetyeval)\n",
    "- [azure-ai-evaluation](https://learn.microsoft.com/en-us/azure/ai-studio/how-to/develop/evaluate-sdk)\n",
    "\n",
    "## Time\n",
    "\n",
    "You should expect to spend 20 minutes running this sample. \n",
    "\n",
    "## About this example\n",
    "\n",
    "This example demonstrates a simulated adversarial question answering. It is important to have access to AzureOpenAI credentials and an AzureAI project.\n",
    "\n",
    "## Before you begin\n",
    "### Prerequesite\n",
    "[Have an online deployment on Azure AI studio](https://learn.microsoft.com/en-us/azure/machine-learning/concept-endpoints-online?view=azureml-api-2)\n",
    "### Installation\n",
    "\n",
    "Install the following packages required to execute this notebook. \n"
   ]
  },
  {
   "cell_type": "code",
   "execution_count": 1,
   "metadata": {},
   "outputs": [
    {
     "name": "stdout",
     "output_type": "stream",
     "text": [
      "Requirement already satisfied: azure-ai-evaluation in c:\\users\\sydneylister\\venvs\\venv-azureai-samples\\lib\\site-packages (1.0.0b3)\n",
      "Requirement already satisfied: promptflow-devkit>=1.15.0 in c:\\users\\sydneylister\\venvs\\venv-azureai-samples\\lib\\site-packages (from azure-ai-evaluation) (1.16.1)\n",
      "Requirement already satisfied: promptflow-core>=1.15.0 in c:\\users\\sydneylister\\venvs\\venv-azureai-samples\\lib\\site-packages (from azure-ai-evaluation) (1.16.1)\n",
      "Requirement already satisfied: pyjwt>=2.8.0 in c:\\users\\sydneylister\\venvs\\venv-azureai-samples\\lib\\site-packages (from azure-ai-evaluation) (2.9.0)\n",
      "Requirement already satisfied: azure-identity>=1.12.0 in c:\\users\\sydneylister\\venvs\\venv-azureai-samples\\lib\\site-packages (from azure-ai-evaluation) (1.19.0)\n",
      "Requirement already satisfied: azure-core>=1.30.2 in c:\\users\\sydneylister\\venvs\\venv-azureai-samples\\lib\\site-packages (from azure-ai-evaluation) (1.31.0)\n",
      "Requirement already satisfied: nltk>=3.9.1 in c:\\users\\sydneylister\\venvs\\venv-azureai-samples\\lib\\site-packages (from azure-ai-evaluation) (3.9.1)\n",
      "Requirement already satisfied: rouge-score>=0.1.2 in c:\\users\\sydneylister\\venvs\\venv-azureai-samples\\lib\\site-packages (from azure-ai-evaluation) (0.1.2)\n",
      "Requirement already satisfied: numpy>=1.26.4 in c:\\users\\sydneylister\\venvs\\venv-azureai-samples\\lib\\site-packages (from azure-ai-evaluation) (2.1.2)\n",
      "Requirement already satisfied: requests>=2.21.0 in c:\\users\\sydneylister\\venvs\\venv-azureai-samples\\lib\\site-packages (from azure-core>=1.30.2->azure-ai-evaluation) (2.32.3)\n",
      "Requirement already satisfied: six>=1.11.0 in c:\\users\\sydneylister\\venvs\\venv-azureai-samples\\lib\\site-packages (from azure-core>=1.30.2->azure-ai-evaluation) (1.16.0)\n",
      "Requirement already satisfied: typing-extensions>=4.6.0 in c:\\users\\sydneylister\\venvs\\venv-azureai-samples\\lib\\site-packages (from azure-core>=1.30.2->azure-ai-evaluation) (4.12.2)\n",
      "Requirement already satisfied: cryptography>=2.5 in c:\\users\\sydneylister\\venvs\\venv-azureai-samples\\lib\\site-packages (from azure-identity>=1.12.0->azure-ai-evaluation) (43.0.1)\n",
      "Requirement already satisfied: msal>=1.30.0 in c:\\users\\sydneylister\\venvs\\venv-azureai-samples\\lib\\site-packages (from azure-identity>=1.12.0->azure-ai-evaluation) (1.31.0)\n",
      "Requirement already satisfied: msal-extensions>=1.2.0 in c:\\users\\sydneylister\\venvs\\venv-azureai-samples\\lib\\site-packages (from azure-identity>=1.12.0->azure-ai-evaluation) (1.2.0)\n",
      "Requirement already satisfied: click in c:\\users\\sydneylister\\venvs\\venv-azureai-samples\\lib\\site-packages (from nltk>=3.9.1->azure-ai-evaluation) (8.1.7)\n",
      "Requirement already satisfied: joblib in c:\\users\\sydneylister\\venvs\\venv-azureai-samples\\lib\\site-packages (from nltk>=3.9.1->azure-ai-evaluation) (1.4.2)\n",
      "Requirement already satisfied: regex>=2021.8.3 in c:\\users\\sydneylister\\venvs\\venv-azureai-samples\\lib\\site-packages (from nltk>=3.9.1->azure-ai-evaluation) (2024.9.11)\n",
      "Requirement already satisfied: tqdm in c:\\users\\sydneylister\\venvs\\venv-azureai-samples\\lib\\site-packages (from nltk>=3.9.1->azure-ai-evaluation) (4.66.5)\n",
      "Requirement already satisfied: docstring_parser in c:\\users\\sydneylister\\venvs\\venv-azureai-samples\\lib\\site-packages (from promptflow-core>=1.15.0->azure-ai-evaluation) (0.16)\n",
      "Requirement already satisfied: fastapi<1.0.0,>=0.109.0 in c:\\users\\sydneylister\\venvs\\venv-azureai-samples\\lib\\site-packages (from promptflow-core>=1.15.0->azure-ai-evaluation) (0.115.2)\n",
      "Requirement already satisfied: filetype>=1.2.0 in c:\\users\\sydneylister\\venvs\\venv-azureai-samples\\lib\\site-packages (from promptflow-core>=1.15.0->azure-ai-evaluation) (1.2.0)\n",
      "Requirement already satisfied: flask<4.0.0,>=2.2.3 in c:\\users\\sydneylister\\venvs\\venv-azureai-samples\\lib\\site-packages (from promptflow-core>=1.15.0->azure-ai-evaluation) (3.0.3)\n",
      "Requirement already satisfied: jsonschema<5.0.0,>=4.0.0 in c:\\users\\sydneylister\\venvs\\venv-azureai-samples\\lib\\site-packages (from promptflow-core>=1.15.0->azure-ai-evaluation) (4.23.0)\n",
      "Requirement already satisfied: promptflow-tracing==1.16.1 in c:\\users\\sydneylister\\venvs\\venv-azureai-samples\\lib\\site-packages (from promptflow-core>=1.15.0->azure-ai-evaluation) (1.16.1)\n",
      "Requirement already satisfied: psutil in c:\\users\\sydneylister\\venvs\\venv-azureai-samples\\lib\\site-packages (from promptflow-core>=1.15.0->azure-ai-evaluation) (5.9.8)\n",
      "Requirement already satisfied: python-dateutil<3.0.0,>=2.1.0 in c:\\users\\sydneylister\\venvs\\venv-azureai-samples\\lib\\site-packages (from promptflow-core>=1.15.0->azure-ai-evaluation) (2.9.0.post0)\n",
      "Requirement already satisfied: ruamel.yaml<1.0.0,>=0.17.10 in c:\\users\\sydneylister\\venvs\\venv-azureai-samples\\lib\\site-packages (from promptflow-core>=1.15.0->azure-ai-evaluation) (0.18.6)\n",
      "Requirement already satisfied: openai in c:\\users\\sydneylister\\venvs\\venv-azureai-samples\\lib\\site-packages (from promptflow-tracing==1.16.1->promptflow-core>=1.15.0->azure-ai-evaluation) (1.51.2)\n",
      "Requirement already satisfied: opentelemetry-sdk<2.0.0,>=1.22.0 in c:\\users\\sydneylister\\venvs\\venv-azureai-samples\\lib\\site-packages (from promptflow-tracing==1.16.1->promptflow-core>=1.15.0->azure-ai-evaluation) (1.27.0)\n",
      "Requirement already satisfied: tiktoken>=0.4.0 in c:\\users\\sydneylister\\venvs\\venv-azureai-samples\\lib\\site-packages (from promptflow-tracing==1.16.1->promptflow-core>=1.15.0->azure-ai-evaluation) (0.8.0)\n",
      "Requirement already satisfied: argcomplete>=3.2.3 in c:\\users\\sydneylister\\venvs\\venv-azureai-samples\\lib\\site-packages (from promptflow-devkit>=1.15.0->azure-ai-evaluation) (3.5.1)\n",
      "Requirement already satisfied: azure-monitor-opentelemetry-exporter<2.0.0,>=1.0.0b21 in c:\\users\\sydneylister\\venvs\\venv-azureai-samples\\lib\\site-packages (from promptflow-devkit>=1.15.0->azure-ai-evaluation) (1.0.0b31)\n",
      "Requirement already satisfied: colorama<0.5.0,>=0.4.6 in c:\\users\\sydneylister\\venvs\\venv-azureai-samples\\lib\\site-packages (from promptflow-devkit>=1.15.0->azure-ai-evaluation) (0.4.6)\n",
      "Requirement already satisfied: filelock<4.0.0,>=3.4.0 in c:\\users\\sydneylister\\venvs\\venv-azureai-samples\\lib\\site-packages (from promptflow-devkit>=1.15.0->azure-ai-evaluation) (3.16.1)\n",
      "Requirement already satisfied: flask-cors<5.0.0,>=4.0.0 in c:\\users\\sydneylister\\venvs\\venv-azureai-samples\\lib\\site-packages (from promptflow-devkit>=1.15.0->azure-ai-evaluation) (4.0.2)\n",
      "Requirement already satisfied: flask-restx<2.0.0,>=1.2.0 in c:\\users\\sydneylister\\venvs\\venv-azureai-samples\\lib\\site-packages (from promptflow-devkit>=1.15.0->azure-ai-evaluation) (1.3.0)\n",
      "Requirement already satisfied: gitpython<4.0.0,>=3.1.24 in c:\\users\\sydneylister\\venvs\\venv-azureai-samples\\lib\\site-packages (from promptflow-devkit>=1.15.0->azure-ai-evaluation) (3.1.43)\n",
      "Requirement already satisfied: httpx>=0.25.1 in c:\\users\\sydneylister\\venvs\\venv-azureai-samples\\lib\\site-packages (from promptflow-devkit>=1.15.0->azure-ai-evaluation) (0.27.2)\n",
      "Requirement already satisfied: keyring<25.0.0,>=24.2.0 in c:\\users\\sydneylister\\venvs\\venv-azureai-samples\\lib\\site-packages (from promptflow-devkit>=1.15.0->azure-ai-evaluation) (24.3.1)\n",
      "Requirement already satisfied: marshmallow<4.0.0,>=3.5 in c:\\users\\sydneylister\\venvs\\venv-azureai-samples\\lib\\site-packages (from promptflow-devkit>=1.15.0->azure-ai-evaluation) (3.22.0)\n",
      "Requirement already satisfied: opentelemetry-exporter-otlp-proto-http<2.0.0,>=1.22.0 in c:\\users\\sydneylister\\venvs\\venv-azureai-samples\\lib\\site-packages (from promptflow-devkit>=1.15.0->azure-ai-evaluation) (1.27.0)\n",
      "Requirement already satisfied: pandas<3.0.0,>=1.5.3 in c:\\users\\sydneylister\\venvs\\venv-azureai-samples\\lib\\site-packages (from promptflow-devkit>=1.15.0->azure-ai-evaluation) (2.2.3)\n",
      "Requirement already satisfied: pillow<11.0.0,>=10.1.0 in c:\\users\\sydneylister\\venvs\\venv-azureai-samples\\lib\\site-packages (from promptflow-devkit>=1.15.0->azure-ai-evaluation) (10.4.0)\n",
      "Requirement already satisfied: pydash<8.0.0,>=6.0.0 in c:\\users\\sydneylister\\venvs\\venv-azureai-samples\\lib\\site-packages (from promptflow-devkit>=1.15.0->azure-ai-evaluation) (7.0.7)\n",
      "Requirement already satisfied: python-dotenv<2.0.0,>=1.0.0 in c:\\users\\sydneylister\\venvs\\venv-azureai-samples\\lib\\site-packages (from promptflow-devkit>=1.15.0->azure-ai-evaluation) (1.0.1)\n",
      "Requirement already satisfied: pywin32 in c:\\users\\sydneylister\\venvs\\venv-azureai-samples\\lib\\site-packages (from promptflow-devkit>=1.15.0->azure-ai-evaluation) (308)\n",
      "Requirement already satisfied: sqlalchemy<3.0.0,>=1.4.48 in c:\\users\\sydneylister\\venvs\\venv-azureai-samples\\lib\\site-packages (from promptflow-devkit>=1.15.0->azure-ai-evaluation) (2.0.36)\n",
      "Requirement already satisfied: strictyaml<2.0.0,>=1.5.0 in c:\\users\\sydneylister\\venvs\\venv-azureai-samples\\lib\\site-packages (from promptflow-devkit>=1.15.0->azure-ai-evaluation) (1.7.3)\n",
      "Requirement already satisfied: tabulate<1.0.0,>=0.9.0 in c:\\users\\sydneylister\\venvs\\venv-azureai-samples\\lib\\site-packages (from promptflow-devkit>=1.15.0->azure-ai-evaluation) (0.9.0)\n",
      "Requirement already satisfied: waitress<3.0.0,>=2.1.2 in c:\\users\\sydneylister\\venvs\\venv-azureai-samples\\lib\\site-packages (from promptflow-devkit>=1.15.0->azure-ai-evaluation) (2.1.2)\n",
      "Requirement already satisfied: absl-py in c:\\users\\sydneylister\\venvs\\venv-azureai-samples\\lib\\site-packages (from rouge-score>=0.1.2->azure-ai-evaluation) (2.1.0)\n",
      "Requirement already satisfied: fixedint==0.1.6 in c:\\users\\sydneylister\\venvs\\venv-azureai-samples\\lib\\site-packages (from azure-monitor-opentelemetry-exporter<2.0.0,>=1.0.0b21->promptflow-devkit>=1.15.0->azure-ai-evaluation) (0.1.6)\n",
      "Requirement already satisfied: msrest>=0.6.10 in c:\\users\\sydneylister\\venvs\\venv-azureai-samples\\lib\\site-packages (from azure-monitor-opentelemetry-exporter<2.0.0,>=1.0.0b21->promptflow-devkit>=1.15.0->azure-ai-evaluation) (0.7.1)\n",
      "Requirement already satisfied: opentelemetry-api~=1.26 in c:\\users\\sydneylister\\venvs\\venv-azureai-samples\\lib\\site-packages (from azure-monitor-opentelemetry-exporter<2.0.0,>=1.0.0b21->promptflow-devkit>=1.15.0->azure-ai-evaluation) (1.27.0)\n",
      "Requirement already satisfied: cffi>=1.12 in c:\\users\\sydneylister\\venvs\\venv-azureai-samples\\lib\\site-packages (from cryptography>=2.5->azure-identity>=1.12.0->azure-ai-evaluation) (1.17.1)\n",
      "Requirement already satisfied: starlette<0.41.0,>=0.37.2 in c:\\users\\sydneylister\\venvs\\venv-azureai-samples\\lib\\site-packages (from fastapi<1.0.0,>=0.109.0->promptflow-core>=1.15.0->azure-ai-evaluation) (0.40.0)\n",
      "Requirement already satisfied: pydantic!=1.8,!=1.8.1,!=2.0.0,!=2.0.1,!=2.1.0,<3.0.0,>=1.7.4 in c:\\users\\sydneylister\\venvs\\venv-azureai-samples\\lib\\site-packages (from fastapi<1.0.0,>=0.109.0->promptflow-core>=1.15.0->azure-ai-evaluation) (2.9.2)\n",
      "Requirement already satisfied: Werkzeug>=3.0.0 in c:\\users\\sydneylister\\venvs\\venv-azureai-samples\\lib\\site-packages (from flask<4.0.0,>=2.2.3->promptflow-core>=1.15.0->azure-ai-evaluation) (3.0.4)\n",
      "Requirement already satisfied: Jinja2>=3.1.2 in c:\\users\\sydneylister\\venvs\\venv-azureai-samples\\lib\\site-packages (from flask<4.0.0,>=2.2.3->promptflow-core>=1.15.0->azure-ai-evaluation) (3.1.4)\n",
      "Requirement already satisfied: itsdangerous>=2.1.2 in c:\\users\\sydneylister\\venvs\\venv-azureai-samples\\lib\\site-packages (from flask<4.0.0,>=2.2.3->promptflow-core>=1.15.0->azure-ai-evaluation) (2.2.0)\n",
      "Requirement already satisfied: blinker>=1.6.2 in c:\\users\\sydneylister\\venvs\\venv-azureai-samples\\lib\\site-packages (from flask<4.0.0,>=2.2.3->promptflow-core>=1.15.0->azure-ai-evaluation) (1.8.2)\n",
      "Requirement already satisfied: aniso8601>=0.82 in c:\\users\\sydneylister\\venvs\\venv-azureai-samples\\lib\\site-packages (from flask-restx<2.0.0,>=1.2.0->promptflow-devkit>=1.15.0->azure-ai-evaluation) (9.0.1)\n",
      "Requirement already satisfied: pytz in c:\\users\\sydneylister\\venvs\\venv-azureai-samples\\lib\\site-packages (from flask-restx<2.0.0,>=1.2.0->promptflow-devkit>=1.15.0->azure-ai-evaluation) (2024.2)\n",
      "Requirement already satisfied: importlib-resources in c:\\users\\sydneylister\\venvs\\venv-azureai-samples\\lib\\site-packages (from flask-restx<2.0.0,>=1.2.0->promptflow-devkit>=1.15.0->azure-ai-evaluation) (6.4.5)\n",
      "Requirement already satisfied: gitdb<5,>=4.0.1 in c:\\users\\sydneylister\\venvs\\venv-azureai-samples\\lib\\site-packages (from gitpython<4.0.0,>=3.1.24->promptflow-devkit>=1.15.0->azure-ai-evaluation) (4.0.11)\n",
      "Requirement already satisfied: anyio in c:\\users\\sydneylister\\venvs\\venv-azureai-samples\\lib\\site-packages (from httpx>=0.25.1->promptflow-devkit>=1.15.0->azure-ai-evaluation) (4.6.2.post1)\n",
      "Requirement already satisfied: certifi in c:\\users\\sydneylister\\venvs\\venv-azureai-samples\\lib\\site-packages (from httpx>=0.25.1->promptflow-devkit>=1.15.0->azure-ai-evaluation) (2024.8.30)\n",
      "Requirement already satisfied: httpcore==1.* in c:\\users\\sydneylister\\venvs\\venv-azureai-samples\\lib\\site-packages (from httpx>=0.25.1->promptflow-devkit>=1.15.0->azure-ai-evaluation) (1.0.6)\n",
      "Requirement already satisfied: idna in c:\\users\\sydneylister\\venvs\\venv-azureai-samples\\lib\\site-packages (from httpx>=0.25.1->promptflow-devkit>=1.15.0->azure-ai-evaluation) (3.10)\n",
      "Requirement already satisfied: sniffio in c:\\users\\sydneylister\\venvs\\venv-azureai-samples\\lib\\site-packages (from httpx>=0.25.1->promptflow-devkit>=1.15.0->azure-ai-evaluation) (1.3.1)\n",
      "Requirement already satisfied: h11<0.15,>=0.13 in c:\\users\\sydneylister\\venvs\\venv-azureai-samples\\lib\\site-packages (from httpcore==1.*->httpx>=0.25.1->promptflow-devkit>=1.15.0->azure-ai-evaluation) (0.14.0)\n",
      "Requirement already satisfied: attrs>=22.2.0 in c:\\users\\sydneylister\\venvs\\venv-azureai-samples\\lib\\site-packages (from jsonschema<5.0.0,>=4.0.0->promptflow-core>=1.15.0->azure-ai-evaluation) (24.2.0)\n",
      "Requirement already satisfied: jsonschema-specifications>=2023.03.6 in c:\\users\\sydneylister\\venvs\\venv-azureai-samples\\lib\\site-packages (from jsonschema<5.0.0,>=4.0.0->promptflow-core>=1.15.0->azure-ai-evaluation) (2024.10.1)\n",
      "Requirement already satisfied: referencing>=0.28.4 in c:\\users\\sydneylister\\venvs\\venv-azureai-samples\\lib\\site-packages (from jsonschema<5.0.0,>=4.0.0->promptflow-core>=1.15.0->azure-ai-evaluation) (0.35.1)\n",
      "Requirement already satisfied: rpds-py>=0.7.1 in c:\\users\\sydneylister\\venvs\\venv-azureai-samples\\lib\\site-packages (from jsonschema<5.0.0,>=4.0.0->promptflow-core>=1.15.0->azure-ai-evaluation) (0.20.0)\n",
      "Requirement already satisfied: jaraco.classes in c:\\users\\sydneylister\\venvs\\venv-azureai-samples\\lib\\site-packages (from keyring<25.0.0,>=24.2.0->promptflow-devkit>=1.15.0->azure-ai-evaluation) (3.4.0)\n",
      "Requirement already satisfied: pywin32-ctypes>=0.2.0 in c:\\users\\sydneylister\\venvs\\venv-azureai-samples\\lib\\site-packages (from keyring<25.0.0,>=24.2.0->promptflow-devkit>=1.15.0->azure-ai-evaluation) (0.2.3)\n",
      "Requirement already satisfied: packaging>=17.0 in c:\\users\\sydneylister\\venvs\\venv-azureai-samples\\lib\\site-packages (from marshmallow<4.0.0,>=3.5->promptflow-devkit>=1.15.0->azure-ai-evaluation) (24.1)\n",
      "Requirement already satisfied: portalocker<3,>=1.4 in c:\\users\\sydneylister\\venvs\\venv-azureai-samples\\lib\\site-packages (from msal-extensions>=1.2.0->azure-identity>=1.12.0->azure-ai-evaluation) (2.10.1)\n",
      "Requirement already satisfied: deprecated>=1.2.6 in c:\\users\\sydneylister\\venvs\\venv-azureai-samples\\lib\\site-packages (from opentelemetry-exporter-otlp-proto-http<2.0.0,>=1.22.0->promptflow-devkit>=1.15.0->azure-ai-evaluation) (1.2.14)\n",
      "Requirement already satisfied: googleapis-common-protos~=1.52 in c:\\users\\sydneylister\\venvs\\venv-azureai-samples\\lib\\site-packages (from opentelemetry-exporter-otlp-proto-http<2.0.0,>=1.22.0->promptflow-devkit>=1.15.0->azure-ai-evaluation) (1.65.0)\n",
      "Requirement already satisfied: opentelemetry-exporter-otlp-proto-common==1.27.0 in c:\\users\\sydneylister\\venvs\\venv-azureai-samples\\lib\\site-packages (from opentelemetry-exporter-otlp-proto-http<2.0.0,>=1.22.0->promptflow-devkit>=1.15.0->azure-ai-evaluation) (1.27.0)\n",
      "Requirement already satisfied: opentelemetry-proto==1.27.0 in c:\\users\\sydneylister\\venvs\\venv-azureai-samples\\lib\\site-packages (from opentelemetry-exporter-otlp-proto-http<2.0.0,>=1.22.0->promptflow-devkit>=1.15.0->azure-ai-evaluation) (1.27.0)\n",
      "Requirement already satisfied: protobuf<5.0,>=3.19 in c:\\users\\sydneylister\\venvs\\venv-azureai-samples\\lib\\site-packages (from opentelemetry-proto==1.27.0->opentelemetry-exporter-otlp-proto-http<2.0.0,>=1.22.0->promptflow-devkit>=1.15.0->azure-ai-evaluation) (4.25.5)\n",
      "Requirement already satisfied: tzdata>=2022.7 in c:\\users\\sydneylister\\venvs\\venv-azureai-samples\\lib\\site-packages (from pandas<3.0.0,>=1.5.3->promptflow-devkit>=1.15.0->azure-ai-evaluation) (2024.2)\n",
      "Requirement already satisfied: charset-normalizer<4,>=2 in c:\\users\\sydneylister\\venvs\\venv-azureai-samples\\lib\\site-packages (from requests>=2.21.0->azure-core>=1.30.2->azure-ai-evaluation) (3.4.0)\n",
      "Requirement already satisfied: urllib3<3,>=1.21.1 in c:\\users\\sydneylister\\venvs\\venv-azureai-samples\\lib\\site-packages (from requests>=2.21.0->azure-core>=1.30.2->azure-ai-evaluation) (2.2.3)\n",
      "Requirement already satisfied: ruamel.yaml.clib>=0.2.7 in c:\\users\\sydneylister\\venvs\\venv-azureai-samples\\lib\\site-packages (from ruamel.yaml<1.0.0,>=0.17.10->promptflow-core>=1.15.0->azure-ai-evaluation) (0.2.8)\n",
      "Requirement already satisfied: greenlet!=0.4.17 in c:\\users\\sydneylister\\venvs\\venv-azureai-samples\\lib\\site-packages (from sqlalchemy<3.0.0,>=1.4.48->promptflow-devkit>=1.15.0->azure-ai-evaluation) (3.1.1)\n",
      "Requirement already satisfied: pycparser in c:\\users\\sydneylister\\venvs\\venv-azureai-samples\\lib\\site-packages (from cffi>=1.12->cryptography>=2.5->azure-identity>=1.12.0->azure-ai-evaluation) (2.22)\n",
      "Requirement already satisfied: wrapt<2,>=1.10 in c:\\users\\sydneylister\\venvs\\venv-azureai-samples\\lib\\site-packages (from deprecated>=1.2.6->opentelemetry-exporter-otlp-proto-http<2.0.0,>=1.22.0->promptflow-devkit>=1.15.0->azure-ai-evaluation) (1.16.0)\n",
      "Requirement already satisfied: smmap<6,>=3.0.1 in c:\\users\\sydneylister\\venvs\\venv-azureai-samples\\lib\\site-packages (from gitdb<5,>=4.0.1->gitpython<4.0.0,>=3.1.24->promptflow-devkit>=1.15.0->azure-ai-evaluation) (5.0.1)\n",
      "Requirement already satisfied: MarkupSafe>=2.0 in c:\\users\\sydneylister\\venvs\\venv-azureai-samples\\lib\\site-packages (from Jinja2>=3.1.2->flask<4.0.0,>=2.2.3->promptflow-core>=1.15.0->azure-ai-evaluation) (3.0.1)\n",
      "Requirement already satisfied: isodate>=0.6.0 in c:\\users\\sydneylister\\venvs\\venv-azureai-samples\\lib\\site-packages (from msrest>=0.6.10->azure-monitor-opentelemetry-exporter<2.0.0,>=1.0.0b21->promptflow-devkit>=1.15.0->azure-ai-evaluation) (0.7.2)\n",
      "Requirement already satisfied: requests-oauthlib>=0.5.0 in c:\\users\\sydneylister\\venvs\\venv-azureai-samples\\lib\\site-packages (from msrest>=0.6.10->azure-monitor-opentelemetry-exporter<2.0.0,>=1.0.0b21->promptflow-devkit>=1.15.0->azure-ai-evaluation) (2.0.0)\n",
      "Requirement already satisfied: importlib-metadata<=8.4.0,>=6.0 in c:\\users\\sydneylister\\venvs\\venv-azureai-samples\\lib\\site-packages (from opentelemetry-api~=1.26->azure-monitor-opentelemetry-exporter<2.0.0,>=1.0.0b21->promptflow-devkit>=1.15.0->azure-ai-evaluation) (8.4.0)\n",
      "Requirement already satisfied: opentelemetry-semantic-conventions==0.48b0 in c:\\users\\sydneylister\\venvs\\venv-azureai-samples\\lib\\site-packages (from opentelemetry-sdk<2.0.0,>=1.22.0->promptflow-tracing==1.16.1->promptflow-core>=1.15.0->azure-ai-evaluation) (0.48b0)\n",
      "Requirement already satisfied: annotated-types>=0.6.0 in c:\\users\\sydneylister\\venvs\\venv-azureai-samples\\lib\\site-packages (from pydantic!=1.8,!=1.8.1,!=2.0.0,!=2.0.1,!=2.1.0,<3.0.0,>=1.7.4->fastapi<1.0.0,>=0.109.0->promptflow-core>=1.15.0->azure-ai-evaluation) (0.7.0)\n",
      "Requirement already satisfied: pydantic-core==2.23.4 in c:\\users\\sydneylister\\venvs\\venv-azureai-samples\\lib\\site-packages (from pydantic!=1.8,!=1.8.1,!=2.0.0,!=2.0.1,!=2.1.0,<3.0.0,>=1.7.4->fastapi<1.0.0,>=0.109.0->promptflow-core>=1.15.0->azure-ai-evaluation) (2.23.4)\n",
      "Requirement already satisfied: more-itertools in c:\\users\\sydneylister\\venvs\\venv-azureai-samples\\lib\\site-packages (from jaraco.classes->keyring<25.0.0,>=24.2.0->promptflow-devkit>=1.15.0->azure-ai-evaluation) (10.5.0)\n",
      "Requirement already satisfied: distro<2,>=1.7.0 in c:\\users\\sydneylister\\venvs\\venv-azureai-samples\\lib\\site-packages (from openai->promptflow-tracing==1.16.1->promptflow-core>=1.15.0->azure-ai-evaluation) (1.9.0)\n",
      "Requirement already satisfied: jiter<1,>=0.4.0 in c:\\users\\sydneylister\\venvs\\venv-azureai-samples\\lib\\site-packages (from openai->promptflow-tracing==1.16.1->promptflow-core>=1.15.0->azure-ai-evaluation) (0.6.1)\n",
      "Requirement already satisfied: zipp>=0.5 in c:\\users\\sydneylister\\venvs\\venv-azureai-samples\\lib\\site-packages (from importlib-metadata<=8.4.0,>=6.0->opentelemetry-api~=1.26->azure-monitor-opentelemetry-exporter<2.0.0,>=1.0.0b21->promptflow-devkit>=1.15.0->azure-ai-evaluation) (3.20.2)\n",
      "Requirement already satisfied: oauthlib>=3.0.0 in c:\\users\\sydneylister\\venvs\\venv-azureai-samples\\lib\\site-packages (from requests-oauthlib>=0.5.0->msrest>=0.6.10->azure-monitor-opentelemetry-exporter<2.0.0,>=1.0.0b21->promptflow-devkit>=1.15.0->azure-ai-evaluation) (3.2.2)\n",
      "Note: you may need to restart the kernel to use updated packages.\n"
     ]
    }
   ],
   "source": [
    "%pip install azure-ai-evaluation"
   ]
  },
  {
   "cell_type": "markdown",
   "metadata": {},
   "source": [
    "### Parameters and imports"
   ]
  },
  {
   "cell_type": "code",
   "execution_count": 2,
   "metadata": {},
   "outputs": [],
   "source": [
    "from pathlib import Path\n",
    "from azure.ai.evaluation.simulator import AdversarialSimulator, AdversarialScenario\n",
    "from typing import Optional, List, Dict, Any\n",
    "import os\n",
    "from openai import AzureOpenAI"
   ]
  },
  {
   "cell_type": "markdown",
   "metadata": {},
   "source": [
    "## Target function\n",
    "The target function for this sample uses a call to call the endpoint.\n",
    "\n",
    "Make sure you retrive the `api_key`, `endpoint` and `azure_model_deployment` from Azure AI studio and update them in the `call_endpoint` function below. "
   ]
  },
  {
   "cell_type": "code",
   "execution_count": 3,
   "metadata": {},
   "outputs": [],
   "source": [
    "azure_ai_project = {\n",
    "    \"subscription_id\": \"<your-subscription-id>\",\n",
    "    \"resource_group_name\": \"<your-resource-group-name>\",\n",
    "    \"project_name\": \"<your-project-name>\",\n",
    "}"
   ]
  },
  {
   "cell_type": "code",
   "execution_count": 5,
   "metadata": {},
   "outputs": [],
   "source": [
    "# Use the following code to set the environment variables if not already set. If set, you can skip this step.\n",
    "\n",
    "os.environ[\"AZURE_OPENAI_API_KEY\"] = \"<your-api-key>\"\n",
    "os.environ[\"AZURE_OPENAI_API_VERSION\"] = \"<api version>\"\n",
    "os.environ[\"AZURE_OPENAI_DEPLOYMENT\"] = \"<your-deployment>\"\n",
    "os.environ[\"AZURE_OPENAI_ENDPOINT\"] = \"<your-endpoint>\""
   ]
  },
  {
   "cell_type": "code",
   "execution_count": 7,
   "metadata": {},
   "outputs": [],
   "source": [
    "def call_endpoint(query: str) -> dict:\n",
    "    deployment = os.environ.get(\"AZURE_OPENAI_DEPLOYMENT\")\n",
    "    endpoint = os.environ.get(\"AZURE_OPENAI_ENDPOINT\")\n",
    "    # Get a client handle for the model\n",
    "    client = AzureOpenAI(\n",
    "        azure_endpoint=endpoint,\n",
    "        api_version=os.environ.get(\"AZURE_OPENAI_API_VERSION\"),\n",
    "        api_key=os.environ.get(\"AZURE_OPENAI_API_KEY\"),\n",
    "    )\n",
    "    # Call the model\n",
    "    completion = client.chat.completions.create(\n",
    "        model=deployment,\n",
    "        messages=[\n",
    "            {\n",
    "                \"role\": \"user\",\n",
    "                \"content\": query,\n",
    "            }\n",
    "        ],\n",
    "        max_tokens=800,\n",
    "        temperature=0.7,\n",
    "        top_p=0.95,\n",
    "        frequency_penalty=0,\n",
    "        presence_penalty=0,\n",
    "        stop=None,\n",
    "        stream=False,\n",
    "    )\n",
    "    return completion.to_dict()"
   ]
  },
  {
   "cell_type": "markdown",
   "metadata": {},
   "source": [
    "## Initialize the simulator"
   ]
  },
  {
   "cell_type": "code",
   "execution_count": 8,
   "metadata": {},
   "outputs": [],
   "source": [
    "simulator = AdversarialSimulator(azure_ai_project=azure_ai_project)"
   ]
  },
  {
   "cell_type": "markdown",
   "metadata": {},
   "source": [
    "### Run the simulator\n",
    "\n",
    "The interactions between your application (in this case, ask_wiki) and the adversarial simulator is managed by a callback method and this method is used to format the request to your application and the response from the application."
   ]
  },
  {
   "cell_type": "code",
   "execution_count": 12,
   "metadata": {},
   "outputs": [],
   "source": [
    "## define a callback that formats the interaction between the simulator and the online endpoint\n",
    "\n",
    "\n",
    "async def callback(\n",
    "    messages: List[Dict],\n",
    "    stream: bool = False,\n",
    "    session_state: Any = None,  # noqa: ANN401\n",
    "    context: Optional[Dict[str, Any]] = None,\n",
    ") -> dict:\n",
    "    messages_list = messages[\"messages\"]\n",
    "    query = messages_list[-1][\"content\"]\n",
    "    context = None\n",
    "    try:\n",
    "        response = call_endpoint(query)\n",
    "        # we are formatting the response to follow the openAI chat protocol format\n",
    "        formatted_response = {\n",
    "            \"content\": response[\"choices\"][0][\"message\"][\"content\"],\n",
    "            \"role\": \"assistant\",\n",
    "            \"context\": {context},\n",
    "        }\n",
    "    except Exception as e:\n",
    "        response = f\"Something went wrong {str(e)}\"\n",
    "        formatted_response = None\n",
    "    messages[\"messages\"].append(formatted_response)\n",
    "    return {\"messages\": messages_list, \"stream\": stream, \"session_state\": session_state, \"context\": context}"
   ]
  },
  {
   "cell_type": "code",
   "execution_count": 13,
   "metadata": {},
   "outputs": [
    {
     "name": "stderr",
     "output_type": "stream",
     "text": [
      "generating simulations: 100%|████████████████████████████████| 1/1 [00:01<00:00,  1.75s/simulations]\n"
     ]
    }
   ],
   "source": [
    "outputs = await simulator(\n",
    "    scenario=AdversarialScenario.ADVERSARIAL_QA, max_conversation_turns=1, max_simulation_results=1, target=callback\n",
    ")"
   ]
  },
  {
   "cell_type": "markdown",
   "metadata": {},
   "source": [
    "### Convert the outputs to a format that can be evaluated"
   ]
  },
  {
   "cell_type": "code",
   "execution_count": 11,
   "metadata": {},
   "outputs": [],
   "source": [
    "with Path.open(\"outputs.jsonl\", \"w\") as f:\n",
    "    f.write(outputs.to_eval_qa_json_lines())"
   ]
  }
 ],
 "metadata": {
  "kernelspec": {
   "display_name": "venv-azureai-samples",
   "language": "python",
   "name": "python3"
  },
  "language_info": {
   "codemirror_mode": {
    "name": "ipython",
    "version": 3
   },
   "file_extension": ".py",
   "mimetype": "text/x-python",
   "name": "python",
   "nbconvert_exporter": "python",
   "pygments_lexer": "ipython3",
   "version": "3.12.7"
  }
 },
 "nbformat": 4,
 "nbformat_minor": 2
}
