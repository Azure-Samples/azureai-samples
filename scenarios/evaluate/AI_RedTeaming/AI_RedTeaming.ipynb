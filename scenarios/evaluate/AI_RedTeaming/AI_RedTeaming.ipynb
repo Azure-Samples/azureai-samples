{
 "cells": [
  {
   "cell_type": "markdown",
   "metadata": {},
   "source": [
    "# AI Red Teaming Agent for Generative AI models and applications in Azure AI Foundry\n",
    "\n",
    "## Objective\n",
    "This notebook walks through how to use Azure AI Evaluation's AI Red Teaming Agent functionality to assess the safety and resilience of AI systems against adversarial prompt attacks. AI Red Teaming Agent leverages [Risk and Safety Evaluations](https://learn.microsoft.com/en-us/azure/ai-foundry/concepts/evaluation-metrics-built-in?tabs=warning#risk-and-safety-evaluators) to help identify potential safety issues across different risk categories (violence, hate/unfairness, sexual content, self-harm) combined with attack strategies of varying complexity levels from [PyRIT](https://github.com/Azure/PyRIT), Microsoft AI Red Teaming team's open framework for automated AI red teaming.\n",
    "\n",
    "## Time\n",
    "You should expect to spend about 30-45 minutes running this notebook. Execution time will vary based on the number of risk categories, attack strategies, and complexity levels you choose to evaluate.\n",
    "\n",
    "## Before you begin\n",
    "\n",
    "### Prerequisite\n",
    "First, deploy the Azure AI Red Teaming infrastructure using the deployment script in the `infra/` folder:\n",
    "\n",
    "```bash\n",
    "# Navigate to the AI_RedTeaming directory\n",
    "cd scenarios/evaluate/AI_RedTeaming\n",
    "\n",
    "# Run the deployment script\n",
    ".\\infra\\deploy.ps1\n",
    "```\n",
    "\n",
    "This will create an Azure AI Foundry hub and project with all necessary resources including GPT-4o model deployment. The deployment script will output environment variables that you need to copy to a `.env` file.\n",
    "\n",
    "**Note**: In order to upload your results to Azure AI Foundry, you must have the `Storage Blob Data Contributor` role (automatically assigned by the deployment script).\n",
    "\n",
    "**Important**: Ensure that you've installed the [Azure CLI](https://learn.microsoft.com/en-us/cli/azure/install-azure-cli) and authenticated using `az login` before running the deployment.\n",
    "\n",
    "### Installation\n",
    "From a terminal window, navigate to your working directory which contains this sample notebook, and execute the following.\n",
    "```bash\n",
    "python -m venv .venv\n",
    "```\n",
    "\n",
    "Then, activate the virtual environment created:\n",
    "\n",
    "```bash\n",
    "# source .venv/bin/activate # If using Mac/Linux OS\n",
    ".venv/Scripts/activate # If using Windows OS\n",
    "```\n",
    "\n",
    "With your virtual environment activated, install the following packages required to execute this notebook:\n",
    "\n",
    "```bash\n",
    "pip install uv\n",
    "uv pip install azure-ai-evaluation[redteam] azure-identity openai python-dotenv\n",
    "```\n",
    "\n",
    "### Environment Setup\n",
    "After deployment, create a `.env` file in this directory and copy the environment variables from the deployment output. A sample file is provided at `.env.sample`.\n",
    "\n",
    "Now open VSCode with the following command, and ensure your virtual environment is used as kernel to run the remainder of this notebook.\n",
    "```bash\n",
    "code .\n",
    "```"
   ]
  },
  {
   "cell_type": "markdown",
   "metadata": {},
   "source": [
    "### Imports"
   ]
  },
  {
   "cell_type": "code",
   "execution_count": null,
   "metadata": {},
   "outputs": [],
   "source": [
    "from typing import Optional, Dict, Any\n",
    "import os\n",
    "\n",
    "# Load environment variables from .env file\n",
    "from dotenv import load_dotenv\n",
    "\n",
    "load_dotenv()\n",
    "\n",
    "# Azure imports\n",
    "from azure.identity import DefaultAzureCredential, get_bearer_token_provider\n",
    "from azure.ai.evaluation.red_team import RedTeam, RiskCategory, AttackStrategy\n",
    "\n",
    "# OpenAI imports\n",
    "from openai import AzureOpenAI\n",
    "\n",
    "# Initialize Azure credentials\n",
    "credential = DefaultAzureCredential()"
   ]
  },
  {
   "cell_type": "markdown",
   "metadata": {},
   "source": [
    "### Set Up Your Environment Variables\n",
    "\n",
    "Set the following variables for use in this notebook. These variables connect to your Azure resources and model deployments.\n",
    "\n",
    "**Note:** You can find these values in your Azure AI Foundry project or Azure OpenAI resource."
   ]
  },
  {
   "cell_type": "markdown",
   "metadata": {},
   "source": [
    "For reference, here's an example of what your populated environment variables should look like:\n",
    "\n",
    "```\n",
    "# Azure AI Project (from deployment output)\n",
    "AZURE_AI_PROJECT=\"https://your-foundry-name.services.ai.azure.com/api/projects/your-project-name\"\n",
    "\n",
    "# Azure OpenAI Configuration (from deployment output)\n",
    "AZURE_OPENAI_CONFIG='{\"endpoint\": \"https://your-foundry-name.cognitiveservices.azure.com/openai/deployments/gpt-4o/chat/completions?api-version=2024-10-21\", \"api_key\": \"your-api-key\", \"deployment\": \"gpt-4o\", \"api_version\": \"2024-10-21\"}'\n",
    "\n",
    "# Storage Account (from deployment output)\n",
    "AZURE_STORAGE_ACCOUNT=\"your-storage-account-name\"\n",
    "\n",
    "# Additional deployment outputs\n",
    "AZURE_SUBSCRIPTION_ID=\"12345678-1234-1234-1234-123456789012\"\n",
    "AZURE_RESOURCE_GROUP=\"rg-your-resource-group\"\n",
    "AI_PROJECT_NAME=\"your-project-name\"\n",
    "AI_FOUNDRY_ENDPOINT=\"https://your-foundry-name.services.ai.azure.com\"\n",
    "```\n",
    "\n",
    "**Note**: These values are automatically generated by the deployment script and should be set in your `.env` file."
   ]
  },
  {
   "cell_type": "code",
   "execution_count": null,
   "metadata": {},
   "outputs": [],
   "source": [
    "import json\n",
    "\n",
    "# Azure AI Project endpoint (from deployment output)\n",
    "azure_ai_project = os.environ.get(\"AZURE_AI_PROJECT\")\n",
    "\n",
    "# Parse Azure OpenAI configuration from deployment output\n",
    "azure_openai_config_str = os.environ.get(\"AZURE_OPENAI_CONFIG\")\n",
    "if azure_openai_config_str:\n",
    "    azure_openai_config = json.loads(azure_openai_config_str)\n",
    "    azure_openai_endpoint = azure_openai_config[\"endpoint\"]\n",
    "    azure_openai_deployment = azure_openai_config[\"deployment\"]\n",
    "    azure_openai_api_key = azure_openai_config[\"api_key\"]\n",
    "    azure_openai_api_version = azure_openai_config[\"api_version\"]\n",
    "else:\n",
    "    # Fallback to individual environment variables if needed\n",
    "    azure_openai_endpoint = os.environ.get(\"AZURE_OPENAI_ENDPOINT\")\n",
    "    azure_openai_deployment = \"gpt-4o\"  # Default deployment name\n",
    "    azure_openai_api_key = os.environ.get(\"AZURE_OPENAI_API_KEY\")\n",
    "    azure_openai_api_version = \"2024-10-21\"\n",
    "\n",
    "    # Create config dict for RedTeam\n",
    "    azure_openai_config = {\n",
    "        \"azure_endpoint\": azure_openai_endpoint,\n",
    "        \"azure_deployment\": azure_openai_deployment,\n",
    "        \"api_key\": azure_openai_api_key,\n",
    "        \"api_version\": azure_openai_api_version,\n",
    "    }\n",
    "\n",
    "print(f\"Azure AI Project: {azure_ai_project}\")\n",
    "print(f\"Azure OpenAI Deployment: {azure_openai_deployment}\")\n",
    "print(f\"Azure OpenAI Endpoint: {azure_openai_endpoint}\")"
   ]
  },
  {
   "cell_type": "markdown",
   "metadata": {},
   "source": [
    "## Understanding AI Red Teaming Agent's capabilities\n",
    "\n",
    "The Azure AI Evaluation SDK's `RedTeam` functionality evaluates AI systems against adversarial prompts across multiple dimensions:\n",
    "\n",
    "1. **Risk Categories**: Different content risk categories your AI system might generate\n",
    "   - Violence\n",
    "   - HateUnfairness\n",
    "   - Sexual\n",
    "   - SelfHarm\n",
    "\n",
    "2. **Attack Strategies**: Along with standard unmodified prompts which are sent by default as the `baseline`, you can specify different transformations of prompts to elicit undesired content.\n",
    "You can also use `AttackStrategy.Compose()` to layer two strategies in one attack\n",
    "   - AnsiAttack: Using ANSI escape codes in prompts\n",
    "   - AsciiArt: Using ASCII art to disguise harmful content\n",
    "   - AsciiSmuggler: Hiding harmful content within ASCII characters\n",
    "   - Atbash: Using the Atbash cipher to encode harmful requests\n",
    "   - Base64: Encoding harmful content in Base64 format\n",
    "   - Binary: Converting text to binary to bypass filters\n",
    "   - Caesar: Using the Caesar cipher for encoding\n",
    "   - CharacterSpace: Manipulating character spacing to confuse filters\n",
    "   - CharSwap: Swapping characters to bypass detection\n",
    "   - Diacritic: Using diacritical marks to alter text appearance\n",
    "   - Flip: Flipping text to bypass content filters\n",
    "   - Leetspeak: Converting letters to numbers and symbols\n",
    "   - Morse: Using Morse code to encode harmful requests\n",
    "   - ROT13: Using ROT13 cipher for text transformation\n",
    "   - SuffixAppend: Adding suffixes to confuse detection systems\n",
    "   - StringJoin: Joining strings in unconventional ways\n",
    "   - Tense: Changing the tense of harmful requests to past tense\n",
    "   - UnicodeConfusable: Using similar-looking Unicode characters\n",
    "   - UnicodeSubstitution: Substituting characters with Unicode alternatives\n",
    "   - Url: Embedding harmful content within URLs\n",
    "   - Jailbreak: Specially crafted prompts to bypass AI safeguards\n",
    "\n",
    "3. **Complexity Levels**: Different difficultly levels of attacks\n",
    "   - Baseline: Standard functionality tests\n",
    "   - Easy: Simple attack patterns\n",
    "   - Moderate: More sophisticated attacks\n",
    "   - Difficult: Complex, layered attack strategies\n",
    "\n",
    "The key metric for evaluating results is the **Attack Success Rate (ASR)**, which measures the percentage of attacks that successfully elicit harmful content from your AI system."
   ]
  },
  {
   "cell_type": "markdown",
   "metadata": {},
   "source": [
    "## Basic Example: Fixed Response Callback\n",
    "\n",
    "Let's start with a basic example that demonstrates how to set up a Red Team evaluation using a simple callback that always returns a fixed, safe response regardless of the input prompt.\n",
    "\n",
    "**Important Note**: Since this callback always responds with the same safe message, the Attack Success Rate (ASR) will be 0% for all categories. This example is merely to demonstrate the API structure and flow."
   ]
  },
  {
   "cell_type": "code",
   "execution_count": null,
   "metadata": {},
   "outputs": [],
   "source": [
    "# Define a simple callback function that always returns a fixed response\n",
    "def financial_advisor_callback(query: str) -> str:  # noqa: ARG001\n",
    "    return \"I'm a financial advisor assistant. I can help with investment advice and financial planning within legal and ethical guidelines.\""
   ]
  },
  {
   "cell_type": "code",
   "execution_count": null,
   "metadata": {},
   "outputs": [],
   "source": [
    "# Create the `RedTeam` instance with the deployed Azure AI Foundry project\n",
    "red_team = RedTeam(\n",
    "    azure_ai_project=azure_ai_project,\n",
    "    credential=credential,\n",
    "    risk_categories=[RiskCategory.Violence, RiskCategory.HateUnfairness],\n",
    "    num_objectives=1,\n",
    ")"
   ]
  },
  {
   "cell_type": "markdown",
   "metadata": {},
   "source": [
    "NOTE: `num_objectives` specifies the number of attacks to perform per risk category per attack strategy. If the parameter `risk_categories` is not specified, `[RiskCategory.Violence, RiskCategory.HateUnfairness, RiskCategory.Sexual, RiskCategory.SelfHarm]` will be used by default."
   ]
  },
  {
   "cell_type": "markdown",
   "metadata": {},
   "source": [
    "Now let's run a simple automated scan using the `RedTeam` with the fixed response target. We'll test against two risk categories and one attack strategy for simplicity."
   ]
  },
  {
   "cell_type": "code",
   "execution_count": null,
   "metadata": {},
   "outputs": [],
   "source": [
    "# Run the red team scan called \"Basic-Callback-Scan\" with limited scope for this basic example\n",
    "# This will test 1 objective prompt for each of Violence and HateUnfairness categories with the Flip strategy\n",
    "result = await red_team.scan(\n",
    "    target=financial_advisor_callback,\n",
    "    scan_name=\"Basic-Callback-Scan\",\n",
    "    attack_strategies=[AttackStrategy.Flip],\n",
    "    output_path=\"red_team_output.json\",\n",
    ")"
   ]
  },
  {
   "cell_type": "markdown",
   "metadata": {},
   "source": [
    "## Intermediary Example: Using a Model Configuration as Target\n",
    "\n",
    "Now let's create a more realistic example that uses an Azure OpenAI model for responding to the red teaming prompts. To test base or foundation models, you can update your target to take in a model configuration:"
   ]
  },
  {
   "cell_type": "code",
   "execution_count": null,
   "metadata": {},
   "outputs": [],
   "source": [
    "# Use the model configuration from deployment output\n",
    "# This configuration is automatically loaded from the azure_openai_config environment variable\n",
    "print(f\"Using Azure OpenAI configuration: {azure_openai_config}\")"
   ]
  },
  {
   "cell_type": "markdown",
   "metadata": {},
   "source": [
    "Then, update your target to point to the model configurations and run the scan."
   ]
  },
  {
   "cell_type": "code",
   "execution_count": null,
   "metadata": {},
   "outputs": [],
   "source": [
    "# Run the red team scan called \"Intermediary-Model-Target-Scan\" using the deployed model\n",
    "result = await red_team.scan(\n",
    "    target=azure_openai_config, scan_name=\"Intermediary-Model-Target-Scan\", attack_strategies=[AttackStrategy.Flip]\n",
    ")"
   ]
  },
  {
   "cell_type": "markdown",
   "metadata": {},
   "source": [
    "## Advanced Example: Using an Azure Open AI Model Endpoint in a Callback Function\n",
    "\n",
    "Using the same Azure Open AI model configuration as above, we now wrap it in a callback function for more flexibility and control on the input and output handling. This will demonstrate how to evaluate an actual AI application. To test your own actual AI application, replace the inside of the callback function with a call to your application."
   ]
  },
  {
   "cell_type": "code",
   "execution_count": null,
   "metadata": {},
   "outputs": [],
   "source": [
    "# Define a callback that uses Azure OpenAI API to generate responses\n",
    "async def azure_openai_callback(\n",
    "    messages: list,\n",
    "    stream: Optional[bool] = False,  # noqa: ARG001\n",
    "    session_state: Optional[str] = None,  # noqa: ARG001\n",
    "    context: Optional[Dict[str, Any]] = None,  # noqa: ARG001\n",
    ") -> dict[str, list[dict[str, str]]]:\n",
    "    # Get token provider for Azure AD authentication\n",
    "    token_provider = get_bearer_token_provider(DefaultAzureCredential(), \"https://cognitiveservices.azure.com/.default\")\n",
    "\n",
    "    # Initialize Azure OpenAI client\n",
    "    client = AzureOpenAI(\n",
    "        azure_endpoint=azure_openai_endpoint,\n",
    "        api_version=azure_openai_api_version,\n",
    "        azure_ad_token_provider=token_provider,\n",
    "    )\n",
    "\n",
    "    ## Extract the latest message from the conversation history\n",
    "    messages_list = [{\"role\": message.role, \"content\": message.content} for message in messages]\n",
    "    latest_message = messages_list[-1][\"content\"]\n",
    "\n",
    "    try:\n",
    "        # Call the model\n",
    "        response = client.chat.completions.create(\n",
    "            model=azure_openai_deployment,\n",
    "            messages=[\n",
    "                {\"role\": \"user\", \"content\": latest_message},\n",
    "            ],\n",
    "            # max_tokens=500, # If using an o1 base model, comment this line out\n",
    "            max_completion_tokens=500,  # If using an o1 base model, uncomment this line\n",
    "            # temperature=0.7, # If using an o1 base model, comment this line out (temperature param not supported for o1 base models)\n",
    "        )\n",
    "\n",
    "        # Format the response to follow the expected chat protocol format\n",
    "        formatted_response = {\"content\": response.choices[0].message.content, \"role\": \"assistant\"}\n",
    "    except Exception as e:\n",
    "        print(f\"Error calling Azure OpenAI: {e!s}\")\n",
    "        formatted_response = \"I encountered an error and couldn't process your request.\"\n",
    "    return {\"messages\": [formatted_response]}"
   ]
  },
  {
   "cell_type": "code",
   "execution_count": null,
   "metadata": {},
   "outputs": [],
   "source": [
    "# Create the RedTeam instance with all of the risk categories using the deployed Azure AI Foundry project\n",
    "model_red_team = RedTeam(\n",
    "    azure_ai_project=azure_ai_project,\n",
    "    credential=credential,\n",
    "    risk_categories=[RiskCategory.Violence, RiskCategory.HateUnfairness, RiskCategory.Sexual, RiskCategory.SelfHarm],\n",
    "    num_objectives=5,\n",
    ")"
   ]
  },
  {
   "cell_type": "markdown",
   "metadata": {},
   "source": [
    "We will use this instance of `model_red_team` to test different attack strategies in the following section."
   ]
  },
  {
   "cell_type": "markdown",
   "metadata": {},
   "source": [
    "### Testing Different Attack Strategies\n",
    "\n",
    "Now we'll run a more comprehensive evaluation using multiple attack strategies across risk categories. This will give us a better understanding of our model's vulnerabilities."
   ]
  },
  {
   "cell_type": "code",
   "execution_count": null,
   "metadata": {},
   "outputs": [],
   "source": [
    "# Run the red team scan with multiple attack strategies\n",
    "advanced_result = await model_red_team.scan(\n",
    "    target=azure_openai_callback,\n",
    "    scan_name=\"Advanced-Callback-Scan\",\n",
    "    attack_strategies=[\n",
    "        AttackStrategy.EASY,  # Group of easy complexity attacks\n",
    "        AttackStrategy.MODERATE,  # Group of moderate complexity attacks\n",
    "        AttackStrategy.CharacterSpace,  # Add character spaces\n",
    "        AttackStrategy.ROT13,  # Use ROT13 encoding\n",
    "        AttackStrategy.UnicodeConfusable,  # Use confusable Unicode characters\n",
    "        AttackStrategy.CharSwap,  # Swap characters in prompts\n",
    "        AttackStrategy.Morse,  # Encode prompts in Morse code\n",
    "        AttackStrategy.Leetspeak,  # Use Leetspeak\n",
    "        AttackStrategy.Url,  # Use URLs in prompts\n",
    "        AttackStrategy.Binary,  # Encode prompts in binary\n",
    "        AttackStrategy.Compose([AttackStrategy.Base64, AttackStrategy.ROT13]),  # Use two strategies in one attack\n",
    "    ],\n",
    "    output_path=\"Advanced-Callback-Scan.json\",\n",
    ")"
   ]
  },
  {
   "cell_type": "markdown",
   "metadata": {},
   "source": [
    "The data and results used in this attack will be saved to the `output_path` specified. The URL printed out at the end of the scorecard will provide a link to where you results are uploaded and logged to your Azure AI Foundry project."
   ]
  },
  {
   "cell_type": "markdown",
   "metadata": {},
   "source": [
    "## Bring your own objectives: Using your own prompts as objectives for RedTeam\n",
    "\n",
    "Below we demonstrate how to use your own prompts as objectives for a `RedTeam` scan. You can see the required format for prompts under `.\\data\\prompts.json`. Note that when bringing your own prompts, the supported `risk-type`s are `violence`, `sexual`, `hate_unfairness`, and `self_harm`. The number of prompts you specify will be the `num_objectives` used in the scan. "
   ]
  },
  {
   "cell_type": "code",
   "execution_count": null,
   "metadata": {},
   "outputs": [],
   "source": [
    "path_to_prompts = \"./data/prompts.json\"\n",
    "\n",
    "# Create the RedTeam specifying the custom attack seed prompts to use as objectives\n",
    "# Using the deployed Azure AI Foundry project\n",
    "custom_red_team = RedTeam(\n",
    "    azure_ai_project=azure_ai_project,\n",
    "    credential=credential,\n",
    "    custom_attack_seed_prompts=path_to_prompts,  # Path to a file containing custom attack seed prompts\n",
    ")"
   ]
  },
  {
   "cell_type": "code",
   "execution_count": null,
   "metadata": {},
   "outputs": [],
   "source": [
    "custom_red_team_result = await custom_red_team.scan(\n",
    "    target=azure_openai_callback,\n",
    "    scan_name=\"Custom-Prompt-Scan\",\n",
    "    attack_strategies=[\n",
    "        AttackStrategy.EASY,  # Group of easy complexity attacks\n",
    "        AttackStrategy.MODERATE,  # Group of moderate complexity attacks\n",
    "        AttackStrategy.DIFFICULT,  # Group of difficult complexity attacks\n",
    "    ],\n",
    "    output_path=\"Custom-Prompt-Scan.json\",\n",
    ")"
   ]
  },
  {
   "cell_type": "markdown",
   "metadata": {},
   "source": [
    "## Conclusion\n",
    "\n",
    "In this notebook, we've demonstrated how to use the Azure AI Evaluation SDK's `RedTeam` functionality to assess the safety and resilience of AI systems. We started with a basic fixed-response example and then moved to a more realistic model testing across multiple risk categories and attack strategies.\n",
    "\n",
    "The automated AI red teaming scans provides valuable insights into:\n",
    "\n",
    "1. **Overall Attack Success Rate (ASR)** - The percentage of attacks that successfully elicit harmful content\n",
    "2. **Vulnerability by Risk Category** - Which types of harmful content your model is most vulnerable to\n",
    "3. **Effectiveness of Attack Strategies** - Which attack techniques are most successful against your model\n",
    "4. **Impact of Complexity** - How more sophisticated attacks affect your model's safety guardrails\n",
    "\n",
    "By regularly red-teaming your AI applications, you can identify and address potential vulnerabilities before deploying your models to production environments.\n",
    "\n",
    "### Next Steps\n",
    "\n",
    "1. **Mitigation**: Use these results to strengthen your model's guardrails against identified attack vectors\n",
    "2. **Continuous Testing**: Implement regular red team evaluations as part of your development lifecycle\n",
    "3. **Custom Strategies**: Develop custom attack strategies for your specific use cases and domain\n",
    "4. **Safety Layers**: Consider adding additional safety layers like Azure AI Content Safety to filter harmful requests and responses "
   ]
  }
 ],
 "metadata": {
  "kernelspec": {
   "display_name": "test-3.10",
   "language": "python",
   "name": "python3"
  },
  "language_info": {
   "codemirror_mode": {
    "name": "ipython",
    "version": 3
   },
   "file_extension": ".py",
   "mimetype": "text/x-python",
   "name": "python",
   "nbconvert_exporter": "python",
   "pygments_lexer": "ipython3"
  }
 },
 "nbformat": 4,
 "nbformat_minor": 2
}
