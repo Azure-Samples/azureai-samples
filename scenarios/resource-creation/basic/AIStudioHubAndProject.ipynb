{
 "cells": [
  {
   "cell_type": "markdown",
   "id": "50bf5726-0395-43ff-aac6-d1eaa774f198",
   "metadata": {},
   "source": [
    "# AI Studio resource creation\n",
    "\n",
    "In this notebook, you will create all the necessary resources for AI Studio including:\n",
    "\n",
    "* Hub\n",
    "* Project\n",
    "* AI Services resource\n",
    "* AI Services connection to hub\n",
    "* Model deployment\n",
    "* AI Search resource\n",
    "* AI Search connection to hub\n",
    "\n",
    "Requirements:\n",
    "* Azure subscription"
   ]
  },
  {
   "cell_type": "markdown",
   "id": "5e1d1ecb-3ed7-4474-ae9d-766f9bd18cfc",
   "metadata": {},
   "source": [
    "## Prerequisites\n",
    "\n",
    "You'll need your Subscription Id to configure the ML Client."
   ]
  },
  {
   "cell_type": "code",
   "execution_count": null,
   "id": "84916e91",
   "metadata": {},
   "outputs": [],
   "source": [
    "from azure.identity import DefaultAzureCredential\n",
    "\n",
    "my_subscription_id = \"{SUBSCRIPTION_ID}\"\n",
    "my_credentials = DefaultAzureCredential()\n",
    "\n",
    "my_resource_group_name = \"aistudio_notebook_rg\"\n",
    "my_location = \"East US\""
   ]
  },
  {
   "cell_type": "code",
   "execution_count": null,
   "id": "102bc0f4-3883-4f15-8add-552b165f3aeb",
   "metadata": {},
   "outputs": [],
   "source": [
    "# Create a resource group\n",
    "from azure.mgmt.resource import ResourceManagementClient\n",
    "\n",
    "resource_client = ResourceManagementClient(my_credentials, my_subscription_id)\n",
    "\n",
    "my_resource_group = resource_client.resource_groups.create_or_update(my_resource_group_name, {\"location\": my_location})\n",
    "\n",
    "# Create the ML CLient\n",
    "from azure.ai.ml import MLClient\n",
    "\n",
    "ml_client = MLClient(\n",
    "    resource_group_name=my_resource_group_name, subscription_id=my_subscription_id, credential=my_credentials\n",
    ")"
   ]
  },
  {
   "cell_type": "markdown",
   "id": "01aa1ef5-3924-4ed0-a60b-e1a49212cfb4",
   "metadata": {},
   "source": [
    "### Naming\n",
    "Input your preferred named for the resources that will be created."
   ]
  },
  {
   "cell_type": "code",
   "execution_count": null,
   "id": "df454cfa-d8e4-45a3-918e-241397f613c5",
   "metadata": {},
   "outputs": [],
   "source": [
    "## Hub\n",
    "my_hub_name = \"myexamplehub\"\n",
    "my_hub_display_name = \"My Example Hub\"\n",
    "\n",
    "## Project\n",
    "my_project_name = \"myexampleproject\"\n",
    "my_project_location = my_location\n",
    "my_project_display_name = \"My Example Project\"\n",
    "\n",
    "## AI Services\n",
    "my_aiservices_resource_name = \"myexampleaiservices\"\n",
    "my_aisearch_resource_name = \"sdktest-aisearch\"\n",
    "my_aisearch_index_name = \"aisearch_index\"\n",
    "my_azure_openai_chat_model = \"gpt-35-turbo\"\n",
    "my_azure_openai_embedding_model = \"text-embedding-ada-002\"\n",
    "\n",
    "## Connection\n",
    "my_connection_name = \"myaiservivce\""
   ]
  },
  {
   "cell_type": "markdown",
   "id": "373c83fa-b87b-4d89-b2be-f79ce18756ad",
   "metadata": {},
   "source": [
    "## Hub creation"
   ]
  },
  {
   "cell_type": "markdown",
   "id": "9368396b-0450-423c-8229-0dbbb77fc674",
   "metadata": {},
   "source": [
    "### Create a basic hub\n",
    "\n",
    "A basic hub will automatically create an Azure Key Vault and Azure Storage.\n",
    "\n",
    "If you would like to include an existing Azure Key Vault and Azure Storage, make sure to add the additional fields:\n",
    "* storage_account = \"{existing_storage_ARM_id}\"\n",
    "* key_vault = \"{existing_keyvault_ARM_id}\""
   ]
  },
  {
   "cell_type": "code",
   "execution_count": null,
   "id": "c770d5b6-aa51-43fa-90c9-7198acd4047d",
   "metadata": {},
   "outputs": [],
   "source": [
    "from azure.ai.ml.entities import Hub\n",
    "\n",
    "# construct a basic hub\n",
    "my_hub = Hub(name=my_hub_name, location=my_location, display_name=my_hub_display_name)\n",
    "\n",
    "created_hub = ml_client.workspaces.begin_create(my_hub).result()"
   ]
  },
  {
   "cell_type": "markdown",
   "id": "0ad030ea-7bd4-4caf-bacc-eac0076445bc",
   "metadata": {},
   "source": [
    "## Project creation\n",
    "\n",
    "A project will be created and associated to the hub we just created."
   ]
  },
  {
   "cell_type": "code",
   "execution_count": null,
   "id": "5fc32ab7-08ce-4d05-a820-9401d47f583a",
   "metadata": {},
   "outputs": [],
   "source": [
    "from azure.ai.ml.entities import Project\n",
    "\n",
    "# construct the project\n",
    "my_project = Project(\n",
    "    name=my_project_name, location=my_project_location, display_name=my_project_display_name, hub_id=created_hub.id\n",
    ")\n",
    "\n",
    "created_project = ml_client.workspaces.begin_create(workspace=my_project).result()"
   ]
  },
  {
   "cell_type": "markdown",
   "id": "675c1fd0",
   "metadata": {},
   "source": [
    "## AI Services resource creation"
   ]
  },
  {
   "cell_type": "code",
   "execution_count": null,
   "id": "73972152",
   "metadata": {},
   "outputs": [],
   "source": [
    "# Create AI Services resource, this may take a few minutes\n",
    "\n",
    "from azure.mgmt.cognitiveservices import CognitiveServicesManagementClient\n",
    "from azure.ai.ml import MLClient\n",
    "from azure.ai.ml.entities import AzureAIServicesConnection\n",
    "\n",
    "aiservices_client = CognitiveServicesManagementClient(credential=my_credentials, subscription_id=my_subscription_id)\n",
    "\n",
    "aiservices_account = aiservices_client.accounts.begin_create(\n",
    "    resource_group_name=my_resource_group_name,\n",
    "    account_name=my_aiservices_resource_name,\n",
    "    account={\n",
    "        \"sku\": {\"name\": \"S0\"},\n",
    "        \"kind\": \"AIServices\",\n",
    "        \"location\": my_location,\n",
    "        \"properties\": {\"custom_sub_domain_name\": my_aiservices_resource_name},\n",
    "    },\n",
    ").result()"
   ]
  },
  {
   "cell_type": "markdown",
   "id": "eea012f8-0d56-4532-ac8a-db19c7c10372",
   "metadata": {},
   "source": [
    "## AI Services Connection"
   ]
  },
  {
   "cell_type": "code",
   "execution_count": null,
   "id": "9513ab57",
   "metadata": {},
   "outputs": [],
   "source": [
    "aiservices_key = aiservices_client.accounts.list_keys(\n",
    "    resource_group_name=my_resource_group_name,\n",
    "    account_name=my_aiservices_resource_name,\n",
    ").key1\n",
    "\n",
    "aiservices_endpoint = aiservices_client.accounts.get(\n",
    "    resource_group_name=my_resource_group_name, account_name=my_aiservices_resource_name\n",
    ").properties.endpoint\n",
    "\n",
    "resource_id = f\"/subscriptions/{my_subscription_id}/resourceGroups/{my_resource_group_name}/providers/Microsoft.CognitiveServices/accounts/{my_aiservices_resource_name}\"\n",
    "aiservices_connection = AzureAIServicesConnection(\n",
    "    name=\"azure_aiservices_connection\",\n",
    "    api_key=aiservices_key,\n",
    "    endpoint=aiservices_endpoint,\n",
    "    ai_services_resource_id=resource_id,\n",
    ")\n",
    "\n",
    "ml_client = MLClient(\n",
    "    workspace_name=my_hub_name,\n",
    "    resource_group_name=my_resource_group_name,\n",
    "    subscription_id=my_subscription_id,\n",
    "    credential=my_credentials,\n",
    ")\n",
    "\n",
    "result = ml_client.connections.create_or_update(connection=aiservices_connection)"
   ]
  },
  {
   "cell_type": "markdown",
   "id": "1155d3ca",
   "metadata": {},
   "source": [
    "# Create Model Deployments"
   ]
  },
  {
   "cell_type": "code",
   "execution_count": null,
   "id": "e29d32c5-89ad-41c7-91ca-6aa16f707d4d",
   "metadata": {},
   "outputs": [],
   "source": [
    "from azure.mgmt.cognitiveservices import CognitiveServicesManagementClient\n",
    "\n",
    "client = CognitiveServicesManagementClient(\n",
    "    credential=my_credentials,\n",
    "    subscription_id=my_subscription_id,\n",
    ")\n",
    "\n",
    "deployment = client.deployments.begin_create_or_update(\n",
    "    resource_group_name=my_resource_group_name,\n",
    "    deployment_name=my_azure_openai_chat_model,\n",
    "    account_name=my_aiservices_resource_name,\n",
    "    deployment={\n",
    "        \"properties\": {\n",
    "            \"model\": {\n",
    "                \"format\": \"OpenAI\",\n",
    "                \"name\": my_azure_openai_chat_model,\n",
    "                \"version\": \"0301\",\n",
    "            }\n",
    "        },\n",
    "        \"sku\": {\"capacity\": 50, \"name\": \"Standard\"},\n",
    "    },\n",
    ").result()\n",
    "\n",
    "deployment = client.deployments.begin_create_or_update(\n",
    "    resource_group_name=my_resource_group_name,\n",
    "    deployment_name=my_azure_openai_embedding_model,\n",
    "    account_name=my_aiservices_resource_name,\n",
    "    deployment={\n",
    "        \"properties\": {\n",
    "            \"model\": {\n",
    "                \"format\": \"OpenAI\",\n",
    "                \"name\": my_azure_openai_embedding_model,\n",
    "                \"version\": \"2\",\n",
    "            }\n",
    "        },\n",
    "        \"sku\": {\"capacity\": 50, \"name\": \"Standard\"},\n",
    "    },\n",
    ").result()"
   ]
  },
  {
   "cell_type": "markdown",
   "id": "cc56c6c2",
   "metadata": {},
   "source": [
    "## Create AI Search resource and connection"
   ]
  },
  {
   "cell_type": "code",
   "execution_count": null,
   "id": "6c4219d3",
   "metadata": {},
   "outputs": [],
   "source": [
    "from azure.mgmt import search as Se\n",
    "from azure.ai.ml.entities import ApiKeyConfiguration, AzureAISearchConnection\n",
    "\n",
    "# Create AI Search resource\n",
    "search_client = Se.SearchManagementClient(credential=my_credentials, subscription_id=my_subscription_id)\n",
    "\n",
    "search = search_client.services.begin_create_or_update(\n",
    "    resource_group_name=my_resource_group_name,\n",
    "    search_service_name=my_aisearch_resource_name,\n",
    "    service={\n",
    "        \"location\": my_location,\n",
    "        \"sku\": {\"name\": \"standard\"},\n",
    "        # \"properties\": {\"hostingMode\": \"default\", \"partitionCount\": 1, \"replicaCount\": 3},\n",
    "    },\n",
    ").result()\n",
    "\n",
    "# create connection to the hub\n",
    "aisearch_key = search_client.admin_keys.get(my_resource_group_name, my_aisearch_resource_name).primary_key\n",
    "aisearch_endpoint = f\"https://{my_aisearch_resource_name}.search.windows.net\"\n",
    "\n",
    "aisearch_connection = AzureAISearchConnection(\n",
    "    name=\"azure_aisearch_connection\",\n",
    "    endpoint=aisearch_endpoint,\n",
    "    credentials=ApiKeyConfiguration(key=aisearch_key),\n",
    ")\n",
    "\n",
    "# Create an ML client\n",
    "ml_client = MLClient(\n",
    "    workspace_name=my_hub_name,\n",
    "    resource_group_name=my_resource_group_name,\n",
    "    subscription_id=my_subscription_id,\n",
    "    credential=my_credentials,\n",
    ")\n",
    "\n",
    "ml_client.connections.create_or_update(aisearch_connection)"
   ]
  },
  {
   "cell_type": "markdown",
   "id": "fa938b30-015a-44a9-a5c2-35bb2642e92b",
   "metadata": {},
   "source": [
    "## Update the ML Client\n",
    "\n",
    "We will input the newly created project into the MLClient to use it."
   ]
  },
  {
   "cell_type": "code",
   "execution_count": null,
   "id": "d5cd467b-51e7-4bbe-a236-cbe5c646087a",
   "metadata": {},
   "outputs": [],
   "source": [
    "ml_client = MLClient(\n",
    "    workspace_name=my_project_name,\n",
    "    resource_group_name=my_resource_group_name,\n",
    "    subscription_id=my_subscription_id,\n",
    "    credential=DefaultAzureCredential(),\n",
    ")"
   ]
  }
 ],
 "metadata": {
  "kernelspec": {
   "display_name": "azuremlenv",
   "language": "python",
   "name": "azuremlenv"
  },
  "language_info": {
   "codemirror_mode": {
    "name": "ipython",
    "version": 3
   },
   "file_extension": ".py",
   "mimetype": "text/x-python",
   "name": "python",
   "nbconvert_exporter": "python",
   "pygments_lexer": "ipython3"
  }
 },
 "nbformat": 4,
 "nbformat_minor": 5
}
