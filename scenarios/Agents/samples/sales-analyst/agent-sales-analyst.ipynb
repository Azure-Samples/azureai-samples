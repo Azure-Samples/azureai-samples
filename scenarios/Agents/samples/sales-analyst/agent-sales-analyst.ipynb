{
 "cells": [
  {
   "cell_type": "markdown",
   "metadata": {},
   "source": [
    "# **Sales Analyst Agent**"
   ]
  },
  {
   "cell_type": "markdown",
   "metadata": {},
   "source": [
    "## **About the Scenario**\n",
    "In this scenario, we analyze sales data for AdventureWorks using Azure OpenAI. The AI agent performs tasks such as file retrieval, sales calculations, and generating insights by leveraging tools like File Search. This showcases how businesses can employ Azure OpenAI Agents to streamline analytical workflows and decision making.\n",
    "\n",
    "Key Steps:\n",
    "\n",
    "1. *File Conversion*: Converting Excel data into a Markdown format compatible with the AI agent.\n",
    "2. *File Upload*: Storing the converted files in the Azure OpenAI Project for efficient processing.\n",
    "3. *AI-Powered Analysis*: Leveraging Azure OpenAI to generate insights such as revenue metrics by region.\n",
    "\n",
    "This hands-on demonstration will prepare you to use Azure OpenAI Assistants for similar real-world data engineering and analytics tasks."
   ]
  },
  {
   "cell_type": "markdown",
   "metadata": {},
   "source": [
    "## **Data**\n",
    "This scenario uses files from the folder [`data/`](./data/) in this repo. You can clone this repo or copy this folder to make sure you have access to these files when running the sample.\n",
    "\n",
    "The sales data is stored in multiple Excel files located in the data/ directory. These files contain essential details to simulate sales orders, which the AI agent will analyze.\n",
    "\n",
    "Ensure you have the following files ready in the data/ directory:\n",
    "\n",
    "- SalesOrder_43659.xlsx\n",
    "- SalesOrder_43661.xlsx\n",
    "- SalesOrder_43662.xlsx\n",
    "- SalesOrder_43665.xlsx"
   ]
  },
  {
   "cell_type": "markdown",
   "metadata": {},
   "source": [
    "## **Time**\n",
    "You should expect to spend 10-15 minutes building and running this scenario. "
   ]
  },
  {
   "cell_type": "markdown",
   "metadata": {},
   "source": [
    "## **Before you begin**"
   ]
  },
  {
   "cell_type": "markdown",
   "metadata": {},
   "source": [
    "#### Step 1: Install required libraries\n",
    "Installing dependencies directly within a Jupyter notebook is a good practice because it ensures that all required packages are installed in the correct versions, making the notebook self-contained and reproducible. This approach helps other users or collaborators to set up the environment quickly and avoid potential issues related to missing or incompatible packages."
   ]
  },
  {
   "cell_type": "code",
   "execution_count": null,
   "metadata": {},
   "outputs": [],
   "source": [
    "# Install the packages\n",
    "%pip install -r ./requirements.txt\n",
    "\n",
    "print(\"\\nPackages installed successfully.\")"
   ]
  },
  {
   "cell_type": "markdown",
   "metadata": {},
   "source": [
    "#### Step 2: Setting up the environment\n",
    "Before we begin, we need to load the necessary environment variables from a `.env` file. These variables include sensitive information such as API keys and endpoint URLs, which are crucial for running the code successfully.\n",
    "\n",
    "Here’s what you need to do:\n",
    "- Ensure your `.env` file is properly configured in the `.venv/.env` format. We have provided an template `.env` file, `.env.example` for your reference.\n",
    "- Verify that all required secrets are included in the file before running the code.\n",
    "\n",
    "\n",
    "The `.env` file must contain the following secrets:\n",
    "- PROJECT_CONNECTION_STRING: URL to connect to the Azure OpenAI Project to access project resources.\n",
    "- AZURE_OPENAI_DEPLOYMENT: The name of the Azure OpenAI model deployment.\n",
    "\n",
    "Now, let’s load these variables and get started!\n",
    "\n",
    "<code style=\"background:yellow;color:black\">Note: Make sure to keep your `.env` file secure and avoid sharing it publicly. </code>\n",
    "\n",
    "*For more information about leveraging Python Virtual Environments can be found [here](https://docs.python.org/3/library/venv.html).*"
   ]
  },
  {
   "cell_type": "code",
   "execution_count": null,
   "metadata": {},
   "outputs": [],
   "source": [
    "import os\n",
    "from dotenv import load_dotenv\n",
    "\n",
    "# Load environment variables from .env file\n",
    "load_dotenv()\n",
    "\n",
    "# Retrieve the secrets\n",
    "__PROJECT_CONNECTION_STRING = os.getenv(\"PROJECT_CONNECTION_STRING\")\n",
    "__AZURE_OPENAI_DEPLOYMENT = os.getenv(\"AZURE_OPENAI_DEPLOYMENT\")\n",
    "\n",
    "# Verify environment variables\n",
    "if not all([__PROJECT_CONNECTION_STRING, __AZURE_OPENAI_DEPLOYMENT]):\n",
    "    raise EnvironmentError(\"One or more environment variables are missing. Please check the .env file.\")\n",
    "else:\n",
    "    print(\"Environment variables loaded successfully.\")"
   ]
  },
  {
   "cell_type": "markdown",
   "metadata": {},
   "source": [
    "## **Azure OpenAI Agent Setup**"
   ]
  },
  {
   "cell_type": "markdown",
   "metadata": {},
   "source": [
    "### Step 1: Initializing the Azure AI Studio Project Client\n",
    "First, we will initialize the Azure AI Studio Project client using Azure’s `DefaultAzureCredential` for authentication, allowing seamless integration with Azure resources. You will need to log into Azure using the Azure CLI."
   ]
  },
  {
   "cell_type": "code",
   "execution_count": null,
   "metadata": {},
   "outputs": [],
   "source": [
    "from azure.ai.projects import AIProjectClient\n",
    "from azure.identity import DefaultAzureCredential\n",
    "\n",
    "try:\n",
    "    # Initialize the Azure AI Project client\n",
    "    project_client = AIProjectClient.from_connection_string(\n",
    "        credential=DefaultAzureCredential(),\n",
    "        conn_str=os.environ[\"PROJECT_CONNECTION_STRING\"],\n",
    "    )\n",
    "\n",
    "    print(\"Azure AI Studio client created successfully.\")\n",
    "\n",
    "except Exception as e:\n",
    "    print(f\"Error creating the project client: {e}\")"
   ]
  },
  {
   "cell_type": "markdown",
   "metadata": {},
   "source": [
    "### Step 2: Initializing the Azure Agent Client\n",
    "Next, we’ll initialize the Azure Agent Runtime client. The Azure Agent Client serves as the interface to interact with Azure OpenAI services. "
   ]
  },
  {
   "cell_type": "code",
   "execution_count": null,
   "metadata": {},
   "outputs": [],
   "source": [
    "agent_client = project_client.agents\n",
    "\n",
    "print(f\"Agent Client created successfully.\")"
   ]
  },
  {
   "cell_type": "markdown",
   "metadata": {},
   "source": [
    "## **Data Processing**"
   ]
  },
  {
   "cell_type": "markdown",
   "metadata": {},
   "source": [
    "### Step 1: Convert Excel files to Markdown\n",
    "Azure OpenAI Agents require data in specific file formats for processing. Since Excel files aren’t natively supported for File Search, our files need to be converted to Markdown tables in separate Markdown files. This step involves:\n",
    "\n",
    "- Reading Excel files using pandas.\n",
    "- Writing the data into Markdown format for compatibility."
   ]
  },
  {
   "cell_type": "code",
   "execution_count": null,
   "metadata": {},
   "outputs": [],
   "source": [
    "import pandas as pd\n",
    "\n",
    "# Define paths\n",
    "output_dir = \"uploads\"\n",
    "data_dir_path = \"data\"\n",
    "sales_order_files = [\"SalesOrder_43659.xlsx\", \"SalesOrder_43661.xlsx\", \"SalesOrder_43662.xlsx\", \"SalesOrder_43665.xlsx\"]\n",
    "output_dir_path = os.path.join(data_dir_path, output_dir)\n",
    "\n",
    "# Ensure output directory exists\n",
    "if not os.path.exists(output_dir_path):\n",
    "    os.makedirs(output_dir_path)\n",
    "\n",
    "# Prefix the data directory path to each file\n",
    "sales_order_files = [os.path.join(data_dir_path, curr_file) for curr_file in sales_order_files]\n",
    "\n",
    "# Store the uploaded file IDs to be used later when enabling File Search\n",
    "markdown_file_paths = []\n",
    "\n",
    "for curr_file in sales_order_files:\n",
    "    try:\n",
    "        # Check if the file exists\n",
    "        if not os.path.exists(curr_file):\n",
    "            raise FileNotFoundError(f\"The file '{curr_file}' does not exist.\")\n",
    "\n",
    "        # Load the Excel File into a DataFrame\n",
    "        df = pd.read_excel(curr_file)\n",
    "        print(f\"Workbook '{curr_file}' successfully loaded.\")\n",
    "\n",
    "        # Get the base name of the Excel file without the extension\n",
    "        base_name = os.path.splitext(os.path.basename(curr_file))[0]\n",
    "\n",
    "        # Convert the DataFrame to a Markdown table\n",
    "        md_tbl_str = df.to_markdown(index=False, tablefmt=\"pipe\")\n",
    "        \n",
    "        # Define the output file name\n",
    "        output_file = os.path.join(output_dir_path, f\"{base_name}.md\")\n",
    "        markdown_file_paths.append(output_file)\n",
    "        \n",
    "        # Write the Markdown table to the file\n",
    "        with open(output_file, \"w\") as f:\n",
    "            f.write(md_tbl_str)\n",
    "\n",
    "        print(f\"Markdown file '{output_file}' successfully written.\")\n",
    "\n",
    "    except FileNotFoundError as e:\n",
    "        print(f\"Error: {e}\")\n",
    "\n",
    "    except Exception as e:\n",
    "        print(f\"An error occurred while processing the Excel file '{curr_file}': {e}\")"
   ]
  },
  {
   "cell_type": "markdown",
   "metadata": {},
   "source": [
    "### Step 2: Upload Markdown file(s) to OpenAI\n",
    "Next, we'll upload the markdown files from the local directory, `data\\uploads`, to the Azure OpenAI Project Deployment. Before uploading, any markdown files in the project with the same name are removed to ensure the latest versions are used and to prevent duplicates. This step efficiently manages cleanup and file upload."
   ]
  },
  {
   "cell_type": "code",
   "execution_count": null,
   "metadata": {},
   "outputs": [],
   "source": [
    "uploaded_file_ids = []\n",
    "\n",
    "try:\n",
    "    for local_file in os.listdir(output_dir_path):\n",
    "\n",
    "        # Define the local file path\n",
    "        local_file_path = os.path.join(output_dir_path, local_file)\n",
    "\n",
    "        # Check if the file is a Markdown file\n",
    "        if not local_file.endswith(\".md\"):\n",
    "            continue\n",
    "        else:\n",
    "            print(f\"Processing File '{local_file_path}'...\")\n",
    "\n",
    "            # Check if the file already exists in the cloud, and delete it if it does\n",
    "            for cloud_file in agent_client.list_files().data:\n",
    "                if cloud_file.filename == local_file:\n",
    "                    agent_client.delete_file(cloud_file.id)\n",
    "                    print(f\"Deleted existing cloud file: '{cloud_file.filename}'\")\n",
    "\n",
    "            # Use the upload and poll SDK helper to upload the local file, add them to the vector store,\n",
    "            # and poll the status of the file batch for completion.\n",
    "            file = project_client.agents.upload_file_and_poll(file_path=local_file_path, purpose=\"assistants\")\n",
    "            uploaded_file_ids.append(file.id)\n",
    "\n",
    "            # TODO: Check if there is a status to look\n",
    "            print(f\"Uploaded file, file ID: {file.id}\")\n",
    "\n",
    "            \n",
    "    print(f\"File IDs: {uploaded_file_ids}\")\n",
    "\n",
    "except FileNotFoundError:\n",
    "    print(f\"Error: The file '{curr_file}' was not found.\")\n",
    "    raise\n",
    "\n",
    "except Exception as e:\n",
    "    print(f\"An error occurred while processing the Excel file: {e}\")\n",
    "    raise"
   ]
  },
  {
   "cell_type": "markdown",
   "metadata": {},
   "source": [
    "### Step 3: Create Vector Store\n",
    "The Vector Store is used to store embeddings of uploaded files, enabling the File Search tool to efficiently locate relevant content."
   ]
  },
  {
   "cell_type": "code",
   "execution_count": null,
   "metadata": {},
   "outputs": [],
   "source": [
    "# Create a vector store called \"Financial Statements\"\n",
    "vector_store = agent_client.create_vector_store_and_poll(file_ids=uploaded_file_ids, name=\"Sales Orders\")\n",
    "print(f\"Vector store '{vector_store.name} ({vector_store.id})' created successfully.\")"
   ]
  },
  {
   "cell_type": "markdown",
   "metadata": {},
   "source": [
    "### Step 4: Create File Search Tool\n",
    "The File Search tool enables the AI agent to query the uploaded files. It uses the embeddings stored in the Vector Store to locate and retrieve relevant content."
   ]
  },
  {
   "cell_type": "code",
   "execution_count": null,
   "metadata": {},
   "outputs": [],
   "source": [
    "from azure.ai.projects.models import FileSearchTool\n",
    "\n",
    "# Create file search tool with resources followed by creating agent\n",
    "file_search = FileSearchTool(vector_store_ids=[vector_store.id])\n",
    "print(f\"File search tool created successfully for Vector Store {vector_store.name} ({vector_store.id}).\")"
   ]
  },
  {
   "cell_type": "markdown",
   "metadata": {},
   "source": [
    "## **Running the Azure OpenAI Agent**"
   ]
  },
  {
   "cell_type": "markdown",
   "metadata": {},
   "source": [
    "### Step 1: Create a Sales Analyst Agent"
   ]
  },
  {
   "cell_type": "code",
   "execution_count": null,
   "metadata": {},
   "outputs": [],
   "source": [
    "try:\n",
    "    agent = project_client.agents.create_agent(\n",
    "        model=__AZURE_OPENAI_DEPLOYMENT,\n",
    "        name=\"Sales Analyst Agent\",\n",
    "        instructions=(\n",
    "            \"You are an expert sales analyst. \"\n",
    "            \"Use your knowledge base to answer questions about company sales, customers, and products.\"\n",
    "        ),\n",
    "        tools=file_search.definitions,\n",
    "        tool_resources=file_search.resources,\n",
    "    )\n",
    "    print(f\"Agent created successfully.({agent.id})\")\n",
    "except Exception as e:\n",
    "    print(\"Error creating Agent:\", e)"
   ]
  },
  {
   "cell_type": "markdown",
   "metadata": {},
   "source": [
    "### Step 2: Start a New Converstaion\n",
    "Conversation threads in Azure OpenAI enable context-aware interactions, storing both user prompts and agent responses. This step creates a new thread for the Sales Analyst Agent to handle queries."
   ]
  },
  {
   "cell_type": "code",
   "execution_count": null,
   "metadata": {},
   "outputs": [],
   "source": [
    "# Create a conversation thread\n",
    "try:\n",
    "    thread = agent_client.create_thread()\n",
    "    print(f\"Thread created successfully ({thread.id})\")\n",
    "except Exception as e:\n",
    "    print(\"Error creating thread:\", e)"
   ]
  },
  {
   "cell_type": "markdown",
   "metadata": {},
   "source": [
    "### Step 3: Query the AI Agent\n",
    "Next, we’ll add a user message to the thread. The AI agent responds to a user-defined prompt, such as calculating revenue by region. It processes the prompt and retrieves the necessary data to deliver insights."
   ]
  },
  {
   "cell_type": "code",
   "execution_count": null,
   "metadata": {},
   "outputs": [],
   "source": [
    "# Define the user question\n",
    "prompt_content = \"Which of the sales orders are from the US Southeast region?\"\n",
    "\n",
    "# Add the question to the thread\n",
    "try:\n",
    "    message = agent_client.create_message(\n",
    "        thread_id=thread.id,\n",
    "        role=\"user\",\n",
    "        content=prompt_content,\n",
    "    )\n",
    "    print(f\"Successfully added User prompt to the thread. (Message ID {message.id})\")\n",
    "except Exception as e:\n",
    "    print(\"Error adding user question:\", e)"
   ]
  },
  {
   "cell_type": "markdown",
   "metadata": {},
   "source": [
    "### Step 4: Run the AI Agent\n",
    "In this step, we instruct the AI agent to process the user’s query within the created thread. The agent analyzes the context, executes the required tools (e.g., File Search), and generates a response. The `create_and_proces_run` function triggers the agent to process the user's prompt and produce an agent output."
   ]
  },
  {
   "cell_type": "code",
   "execution_count": null,
   "metadata": {},
   "outputs": [],
   "source": [
    "# Initiate the Agent's response\n",
    "try:\n",
    "    run = agent_client.create_and_process_run(\n",
    "        thread_id=thread.id,\n",
    "        assistant_id=agent.id,\n",
    "    )\n",
    "    print(\"Run started:\", run.id)\n",
    "except Exception as e:\n",
    "    print(\"Error starting run:\", e)"
   ]
  },
  {
   "cell_type": "markdown",
   "metadata": {},
   "source": [
    "If the agent run fails, we will identify the issue. A common cause is exceeding the rate limit, requiring additional Azure quotas."
   ]
  },
  {
   "cell_type": "code",
   "execution_count": null,
   "metadata": {},
   "outputs": [],
   "source": [
    "if run.status == \"failed\":\n",
    "    # Check if you got \"Rate limit is exceeded.\", then you want to get more quota\n",
    "    print(f\"Run failed: {run.last_error}\")"
   ]
  },
  {
   "cell_type": "markdown",
   "metadata": {},
   "source": [
    "### Step 5: Extract Insights\n",
    "After the agent processes the prompt, we retrieve its responses, which contain the requested insights. This step ensures that the conversation thread is queried to fetch all relevant messages generated during the interaction."
   ]
  },
  {
   "cell_type": "code",
   "execution_count": null,
   "metadata": {},
   "outputs": [],
   "source": [
    "# Retrieves all messages from the thread in ascending order after the user message\n",
    "messages = agent_client.list_messages(thread_id=thread.id, order=\"asc\", after=message.id)\n",
    "\n",
    "print(f'Run completed!\\n\\nMESSAGES\\n')\n",
    "\n",
    "# Loop through messages and print content based on role\n",
    "for msg in messages.data:\n",
    "    role = msg.role\n",
    "    content = msg.content[0].text.value\n",
    "    print(f\"{role.capitalize()}: {content}\")"
   ]
  },
  {
   "cell_type": "markdown",
   "metadata": {},
   "source": [
    "## **Clean Up**\n",
    "\n",
    "Properly cleaning up Azure resources after completing the analysis is essential to maintain a tidy Azure AI Studio Project environment and to avoid incurring unnecessary costs."
   ]
  },
  {
   "cell_type": "markdown",
   "metadata": {},
   "source": [
    "### Step 1: Deleting the Vector Store\n",
    "Remove the Vector Store to free up storage resources."
   ]
  },
  {
   "cell_type": "code",
   "execution_count": null,
   "metadata": {},
   "outputs": [],
   "source": [
    "project_client.agents.delete_vector_store(vector_store.id)\n",
    "print(\"Deleted vector store\")"
   ]
  },
  {
   "cell_type": "markdown",
   "metadata": {},
   "source": [
    "### Step 2: Deleting Uploaded Files\n",
    "Ensure all uploaded files are removed from Azure to maintain a clean environment.\n"
   ]
  },
  {
   "cell_type": "code",
   "execution_count": null,
   "metadata": {},
   "outputs": [],
   "source": [
    "# For each file id in the list, delete the file\n",
    "for file_id in uploaded_file_ids:\n",
    "    project_client.agents.delete_file(file_id)\n",
    "    print(f\"Deleted file: {file_id}\")"
   ]
  },
  {
   "cell_type": "markdown",
   "metadata": {},
   "source": [
    "### Step 3: Deleting the AI Agent\n",
    "Remove the AI Agent to release associated resources."
   ]
  },
  {
   "cell_type": "code",
   "execution_count": null,
   "metadata": {},
   "outputs": [],
   "source": [
    "# Get agent list\n",
    "agents = agent_client.list_agents()\n",
    "\n",
    "# If the agent exists in the list, delete it\n",
    "if agent.id in [a.id for a in agents.data]:\n",
    "    response = agent_client.delete_agent(agent.id)\n",
    "    print(\"Deleted Agent Client\\n\",response)\n",
    "else:\n",
    "    print(\"Agent does not exist to delete.\")"
   ]
  },
  {
   "cell_type": "markdown",
   "metadata": {},
   "source": [
    "### Step 4: Deleting local Markdown files\n",
    "Remove the local Markdown files generated during this scenario to maintain a clean local environment."
   ]
  },
  {
   "cell_type": "code",
   "execution_count": null,
   "metadata": {},
   "outputs": [],
   "source": [
    "# Delete all local markdown files from the output directory\n",
    "for file_path in markdown_file_paths:\n",
    "    os.remove(file_path)\n",
    "    print(f\"Deleted local markdown file: {file_path}\")"
   ]
  }
 ],
 "metadata": {
  "kernelspec": {
   "display_name": ".venv",
   "language": "python",
   "name": "python3"
  },
  "language_info": {
   "codemirror_mode": {
    "name": "ipython",
    "version": 3
   },
   "file_extension": ".py",
   "mimetype": "text/x-python",
   "name": "python",
   "nbconvert_exporter": "python",
   "pygments_lexer": "ipython3",
   "version": "3.12.8"
  }
 },
 "nbformat": 4,
 "nbformat_minor": 2
}
