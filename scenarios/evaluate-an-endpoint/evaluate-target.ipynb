{
 "cells": [
  {
   "cell_type": "markdown",
   "id": "2e932e4c-5d55-461e-a313-3a087d8983b5",
   "metadata": {},
   "source": [
    "# Standard evaluators and target functions.\n"
   ]
  },
  {
   "cell_type": "markdown",
   "id": "0dd3cfd4",
   "metadata": {},
   "source": [
    "## Objective\n",
    "In this notebook we will demonstrate how to use the target functions with the standard evaluators.\n",
    "\n",
    "This tutorial provides a step-by-step guide on how to evaluate a function\n",
    "\n",
    "This tutorial uses the following Azure AI services:\n",
    "\n",
    "- [promptflow-evals](https://microsoft.github.io/promptflow/reference/python-library-reference/promptflow-evals/promptflow.html)\n",
    "\n",
    "## Time\n",
    "\n",
    "You should expect to spend 20 minutes running this sample. \n",
    "\n",
    "## About this example\n",
    "\n",
    "This example demonstrates evaluating a target function using promptflow-evals\n",
    "\n",
    "## Before you begin\n",
    "\n",
    "### Installation\n",
    "\n",
    "Install the following packages required to execute this notebook. "
   ]
  },
  {
   "cell_type": "code",
   "execution_count": null,
   "id": "08bf820e",
   "metadata": {},
   "outputs": [],
   "source": [
    "%pip install promptflow-evals"
   ]
  },
  {
   "cell_type": "markdown",
   "id": "784be308",
   "metadata": {},
   "source": [
    "### Parameters and imports"
   ]
  },
  {
   "cell_type": "code",
   "execution_count": null,
   "id": "257fd898-7ef2-4d89-872e-da9e426aaf0b",
   "metadata": {},
   "outputs": [],
   "source": [
    "import pandas as pd\n",
    "import os\n",
    "\n",
    "from pprint import pprint\n",
    "from promptflow.core import AzureOpenAIModelConfiguration\n",
    "from promptflow.evals.evaluate import evaluate\n",
    "from promptflow.evals.evaluators import RelevanceEvaluator"
   ]
  },
  {
   "cell_type": "markdown",
   "id": "8352b517-70b0-4f4f-a3ad-bc99eae67b2e",
   "metadata": {},
   "source": [
    "## Target function\n",
    "We will use a simple `Ask Wiki` application to get answers to questions from wikipedia. We will use `evaluate` API to evaluate `Ask Wiki` applicaton\n",
    "\n",
    "`Ask Wiki` needs following environment variables to be set\n",
    "\n",
    "- AZURE_OPENAI_API_KEY\n",
    "- AZURE_OPENAI_API_VERSION\n",
    "- AZURE_OPENAI_DEPLOYMENT\n",
    "- AZURE_OPENAI_ENDPOINT"
   ]
  },
  {
   "cell_type": "code",
   "execution_count": null,
   "id": "fbfc3a3b",
   "metadata": {},
   "outputs": [],
   "source": [
    "# Use the following code to set the environment variables if not already set. If set, you can skip this step.\n",
    "\n",
    "os.environ[\"AZURE_OPENAI_API_KEY\"] = \"<api_key>\"\n",
    "os.environ[\"AZURE_OPENAI_API_VERSION\"] = \"<api_version>\"\n",
    "os.environ[\"AZURE_OPENAI_DEPLOYMENT\"] = \"<deployment>\"\n",
    "os.environ[\"AZURE_OPENAI_ENDPOINT\"] = \"<endpoint>\""
   ]
  },
  {
   "cell_type": "code",
   "execution_count": null,
   "id": "cd9bb466-324f-42ce-924a-56e1bc52471e",
   "metadata": {},
   "outputs": [],
   "source": [
    "from askwiki import ask_wiki\n",
    "\n",
    "ask_wiki(\"What is the capital of India?\")"
   ]
  },
  {
   "cell_type": "markdown",
   "id": "0641385d-12d8-4ec2-b477-3b1aeed6e86c",
   "metadata": {},
   "source": [
    "## Data\n",
    "Reading existing dataset which has bunch of questions we can Ask Wiki"
   ]
  },
  {
   "cell_type": "code",
   "execution_count": null,
   "id": "b47e777f-3889-49c2-bc53-25488dade7dc",
   "metadata": {},
   "outputs": [],
   "source": [
    "df = pd.read_json(\"data.jsonl\", lines=True)\n",
    "print(df.head())"
   ]
  },
  {
   "cell_type": "markdown",
   "id": "98713968-1307-4045-87cc-fd4ac1f70009",
   "metadata": {},
   "source": [
    "## Configuration\n",
    "To use Relevance Evaluator, we will Azure Open AI model details that can be passed as model config.\n"
   ]
  },
  {
   "cell_type": "code",
   "execution_count": null,
   "id": "58f76d0c-2d44-44e0-8296-110477c7e559",
   "metadata": {},
   "outputs": [],
   "source": [
    "configuration = AzureOpenAIModelConfiguration(\n",
    "    azure_endpoint=os.environ[\"AZURE_OPENAI_ENDPOINT\"],\n",
    "    api_key=os.environ[\"AZURE_OPENAI_API_KEY\"],\n",
    "    api_version=os.environ[\"AZURE_OPENAI_API_VERSION\"],\n",
    "    azure_deployment=os.environ[\"AZURE_OPENAI_DEPLOYMENT\"],\n",
    ")"
   ]
  },
  {
   "cell_type": "markdown",
   "id": "44181407",
   "metadata": {},
   "source": [
    "## Running Relevance Evaluator to understand its input and output"
   ]
  },
  {
   "cell_type": "code",
   "execution_count": null,
   "id": "f6f56605",
   "metadata": {},
   "outputs": [],
   "source": [
    "relevance_evaluator = RelevanceEvaluator(model_config=configuration)\n",
    "\n",
    "relevance_evaluator(\n",
    "    question=\"What is the capital of India?\",\n",
    "    answer=\"New Delhi is Capital of India\",\n",
    "    context=\"India is a country in South Asia.\",\n",
    ")"
   ]
  },
  {
   "cell_type": "markdown",
   "id": "5c9b63dd-031d-469d-8232-84affd517f0f",
   "metadata": {},
   "source": [
    "## Run the evaluation"
   ]
  },
  {
   "cell_type": "code",
   "execution_count": null,
   "id": "04d1dd39-f0a3-4392-bf99-14eecda3e2da",
   "metadata": {},
   "outputs": [],
   "source": [
    "results = evaluate(\n",
    "    data=\"data.jsonl\",\n",
    "    target=ask_wiki,\n",
    "    evaluators={\n",
    "        \"relevance\": relevance_evaluator,\n",
    "    },\n",
    ")"
   ]
  },
  {
   "cell_type": "markdown",
   "id": "851d4569-4e1b-4b44-92ed-9063eccb68ae",
   "metadata": {},
   "source": [
    "View the results"
   ]
  },
  {
   "cell_type": "code",
   "execution_count": null,
   "id": "72fa51e3",
   "metadata": {},
   "outputs": [],
   "source": [
    "pprint(results)"
   ]
  },
  {
   "cell_type": "code",
   "execution_count": null,
   "id": "bcec6443-14a7-410e-9fc2-1411461dc44b",
   "metadata": {},
   "outputs": [],
   "source": [
    "pd.DataFrame(results[\"rows\"])"
   ]
  }
 ],
 "metadata": {
  "kernelspec": {
   "display_name": "pf-test-record",
   "language": "python",
   "name": "python3"
  },
  "language_info": {
   "codemirror_mode": {
    "name": "ipython",
    "version": 3
   },
   "file_extension": ".py",
   "mimetype": "text/x-python",
   "name": "python",
   "nbconvert_exporter": "python",
   "pygments_lexer": "ipython3"
  }
 },
 "nbformat": 4,
 "nbformat_minor": 5
}
