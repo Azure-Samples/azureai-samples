{
 "cells": [
  {
   "cell_type": "markdown",
   "metadata": {},
   "source": [
    "# Calling External model endpoints\n",
    "\n",
    "## Objective\n",
    "\n",
    "This tutorial calls multiple model endpoints using URL and auth key. It captures requests and responses."
   ]
  },
  {
   "cell_type": "markdown",
   "metadata": {},
   "source": [
    "## Open AI - GPT 2 Model"
   ]
  },
  {
   "cell_type": "code",
   "execution_count": null,
   "metadata": {},
   "outputs": [],
   "source": [
    "import requests\n",
    "\n",
    "API_URL = \"https://api-inference.huggingface.co/models/openai-community/gpt2\"\n",
    "headers = {\"Authorization\": \"Bearer ***\"}\n",
    "\n",
    "def query(payload):\n",
    "\tresponse = requests.post(API_URL, headers=headers, json=payload)\n",
    "\treturn response.json()\n",
    "\t\n",
    "output = query({\n",
    "\t\"inputs\": \"What is the capital of France?\",\n",
    "})\n",
    "\n",
    "print(\"\\nResponse :\")\n",
    "output"
   ]
  },
  {
   "cell_type": "markdown",
   "metadata": {},
   "source": [
    "## Tiny Lama 1.1B - HuggingFace Endpoint"
   ]
  },
  {
   "cell_type": "code",
   "execution_count": null,
   "metadata": {},
   "outputs": [],
   "source": [
    "\n",
    "API_URL = \"https://api-inference.huggingface.co/models/TinyLlama/TinyLlama-1.1B-Chat-v1.0/v1/chat/completions\"\n",
    "headers = {\"Authorization\": \"Bearer ***\"}\n",
    "\n",
    "def query(payload):\n",
    "\tresponse = requests.post(API_URL, headers=headers, json=payload)\n",
    "\treturn response.json()\n",
    "\t\n",
    "output = query({\n",
    "\t\"model\": \"TinyLlama/TinyLlama-1.1B-Chat-v1.0\",\n",
    "\t\"messages\": [{\n",
    "\t\t\"role\": \"user\", \n",
    "\t\t\"content\": \"What is the capital of France?\"\n",
    "\t\t}],\n",
    "\t\"max_tokens\": 500,\n",
    "\t\"stream\": False\n",
    "\t})\n",
    "\n",
    "print(\"\\nResponse :\")\n",
    "output"
   ]
  },
  {
   "cell_type": "markdown",
   "metadata": {},
   "source": [
    "## Phi3 Mini - Deployed in Azure AI as Serverless endpoint - Model as a Service (MaaS)"
   ]
  },
  {
   "cell_type": "code",
   "execution_count": null,
   "metadata": {},
   "outputs": [],
   "source": [
    "\n",
    "# serverless\n",
    "\n",
    "API_URL = \"https://Phi-3-mini-4k-instruct-rqvel.eastus2.models.ai.azure.com/v1/chat/completions\"\n",
    "headers = {\"Authorization\": \"Bearer ***\"}\n",
    "\n",
    "def query(payload):\n",
    "\tresponse = requests.post(API_URL, headers=headers, json=payload)\n",
    "\treturn response.json()\n",
    "\t\n",
    "output = query({\n",
    "\t\"messages\": [{\n",
    "\t\t\"role\": \"user\", \n",
    "\t\t\"content\": \"What is the capital of France?\"\n",
    "\t\t}],\n",
    "\t\"max_tokens\": 500\n",
    "\t})\n",
    "\n",
    "print(\"\\nResponse :\")\n",
    "output"
   ]
  },
  {
   "cell_type": "markdown",
   "metadata": {},
   "source": [
    "## Google T5 Efficient Mini-3"
   ]
  },
  {
   "cell_type": "code",
   "execution_count": null,
   "metadata": {},
   "outputs": [],
   "source": [
    "\n",
    "API_URL = \"https://waqasjaved-5368-qyibl.eastus2.inference.ml.azure.com/score\"\n",
    "headers = {\"Authorization\": \"Bearer ***\"}\n",
    "\n",
    "\n",
    "def query(payload):\n",
    "\tresponse = requests.post(API_URL, headers=headers, json=payload)\n",
    "\treturn response.json()\n",
    "\t\n",
    "output = query({\n",
    "\t\t\t'inputs': 'What is the capital of France'\n",
    "\t\t}\n",
    ")\n",
    "\n",
    "print(\"\\nResponse :\")\n",
    "output"
   ]
  },
  {
   "cell_type": "markdown",
   "metadata": {},
   "source": [
    "## Mistral 8x 7B Instruct 01 "
   ]
  },
  {
   "cell_type": "code",
   "execution_count": null,
   "metadata": {},
   "outputs": [],
   "source": [
    "\n",
    "# serverless\n",
    "\n",
    "API_URL = \"https://mistral-7b-east1092381.eastus2.inference.ml.azure.com/chat/completions\"\n",
    "headers = {\"Content-Type\" : \"application/json\", \"Authorization\": \"Bearer ***\"}\n",
    "\n",
    "def query(payload):\n",
    "\tresponse = requests.post(API_URL, headers=headers, json=payload)\n",
    "\treturn response.json()\n",
    "\t\n",
    "output = query(\n",
    "{ \n",
    "  \"messages\": [ \n",
    "    { \n",
    "      \"content\": \"What is the capital of France?\", \n",
    "      \"role\": \"user\" \n",
    "    } \n",
    "  ], \n",
    "  \"max_tokens\": 50\n",
    "}\n",
    ")\n",
    "\n",
    "print(\"\\nResponse :\")\n",
    "output"
   ]
  }
 ],
 "metadata": {
  "kernelspec": {
   "display_name": "Python 3",
   "language": "python",
   "name": "python3"
  },
  "language_info": {
   "codemirror_mode": {
    "name": "ipython",
    "version": 3
   },
   "file_extension": ".py",
   "mimetype": "text/x-python",
   "name": "python",
   "nbconvert_exporter": "python",
   "pygments_lexer": "ipython3"
  }
 },
 "nbformat": 4,
 "nbformat_minor": 2
}
