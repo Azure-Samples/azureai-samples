{
 "cells": [
  {
   "cell_type": "markdown",
   "metadata": {},
   "source": [
    "# Adversarial Simulator for Summarization"
   ]
  },
  {
   "cell_type": "code",
   "execution_count": null,
   "metadata": {},
   "outputs": [],
   "source": [
    "from pathlib import Path\n",
    "from azure.ai.generative.evaluate import evaluate\n",
    "import json\n",
    "from azure.ai.generative.synthetic.simulator import Simulator\n",
    "from azure.ai.resources.client import AIClient\n",
    "from azure.identity import DefaultAzureCredential\n",
    "from azure.ai.resources.entities import AzureOpenAIModelConfiguration\n",
    "from openai import AsyncAzureOpenAI\n",
    "\n",
    "sub = \"\"\n",
    "rg = \"\"\n",
    "project_name = \"\"\n",
    "oai_client = AsyncAzureOpenAI(api_key=\"\", azure_endpoint=\"\", api_version=\"2023-12-01-preview\")"
   ]
  },
  {
   "cell_type": "markdown",
   "metadata": {},
   "source": [
    "## Initialize the simulator, get template and set up parameters"
   ]
  },
  {
   "cell_type": "code",
   "execution_count": null,
   "metadata": {},
   "outputs": [],
   "source": [
    "async_oai_chat_completion_fn = oai_client.chat.completions.create\n",
    "client = AIClient(\n",
    "    subscription_id=sub, resource_group_name=rg, project_name=project_name, credential=DefaultAzureCredential()\n",
    ")\n",
    "\n",
    "simulator = Simulator.from_fn(fn=async_oai_chat_completion_fn, ai_client=client, model=\"gpt-4\", max_tokens=300)\n",
    "template_params = [\n",
    "    {\n",
    "        \"name\": \"John Doe\",\n",
    "        \"chatbot_name\": \"AI Chatbot\",\n",
    "        \"filename\": \"company_report.txt\",\n",
    "        \"file_content\": \"The company is doing well. The stock price is up 10% this quarter. The company is expanding into new markets. The company is investing in new technology. The company is hiring new employees. The company is launching new products. The company is opening new stores. The company is increasing its market share. The company is increasing its revenue. The company is increasing its profits.\",\n",
    "    },\n",
    "    {\n",
    "        \"name\": \"Jane Doe\",\n",
    "        \"chatbot_name\": \"AI Chatbot\",\n",
    "        \"filename\": \"sales_report.txt\",\n",
    "        \"file_content\": \"The sales team is doing well. The sales team is meeting its targets. The sales team is increasing its revenue. The sales team is increasing its market share. The sales team is increasing its profits. The sales team is expanding into new markets. The sales team is launching new products. The sales team is opening new stores. The sales team is hiring new employees. The sales team is investing in new technology.\",\n",
    "    },\n",
    "]\n",
    "template = Simulator.get_template(\"summarization\")"
   ]
  },
  {
   "cell_type": "markdown",
   "metadata": {},
   "source": [
    "## Run the simulator"
   ]
  },
  {
   "cell_type": "code",
   "execution_count": null,
   "metadata": {},
   "outputs": [],
   "source": [
    "outputs = await simulator.simulate_async(\n",
    "    template,\n",
    "    parameters=template_params,\n",
    "    max_conversation_turns=2,\n",
    "    api_call_delay_sec=10,\n",
    "    simulation_result_limit=10,\n",
    ")"
   ]
  },
  {
   "cell_type": "markdown",
   "metadata": {},
   "source": [
    "## Print the outputs"
   ]
  },
  {
   "cell_type": "code",
   "execution_count": null,
   "metadata": {},
   "outputs": [],
   "source": [
    "for line in outputs:\n",
    "    print(json.dumps(line, indent=2))"
   ]
  },
  {
   "cell_type": "markdown",
   "metadata": {},
   "source": [
    "## Store outputs in file for eval"
   ]
  },
  {
   "cell_type": "code",
   "execution_count": null,
   "metadata": {},
   "outputs": [],
   "source": [
    "eval_name = \"conv-oai-summarization-eval\"\n",
    "file_name = f\"\\{eval_name}.jsonl\"\n",
    "jsonl_object = outputs.to_json_lines()\n",
    "with Path.open(file_name, \"w\") as f:\n",
    "    f.write(jsonl_object)"
   ]
  },
  {
   "cell_type": "markdown",
   "metadata": {},
   "source": [
    "## Run evaluate"
   ]
  },
  {
   "cell_type": "code",
   "execution_count": null,
   "metadata": {},
   "outputs": [],
   "source": [
    "tracking_uri = client.tracking_uri\n",
    "connection = client.connections.get(\"Default_AzureOpenAI\")\n",
    "config = AzureOpenAIModelConfiguration.from_connection(connection, model_name=\"gpt-4\", deployment_name=\"gpt-4\")\n",
    "data_path = Path.cwd() / f\"\\{eval_name}.jsonl\"\n",
    "output_path = Path.cwd() / \"downloaded_artifacts\" / \"remote\"\n",
    "result = evaluate(\n",
    "    evaluation_name=eval_name,\n",
    "    data=data_path,\n",
    "    task_type=\"qa\",\n",
    "    metrics_list=[\"gpt_groundedness\", \"gpt_relevance\", \"gpt_coherence\", \"gpt_fluency\", \"gpt_similarity\"],\n",
    "    model_config=config,\n",
    "    data_mapping={\"messages\": \"messages\"},\n",
    "    tracking_uri=tracking_uri,\n",
    "    output_path=output_path,\n",
    ")\n",
    "print(result)\n",
    "print(result.metrics_summary)  # will print the defect rate for each content harm\n",
    "print(\"Studio URL\")\n",
    "print(result.studio_url)"
   ]
  }
 ],
 "metadata": {
  "kernelspec": {
   "display_name": "Python 3",
   "language": "python",
   "name": "python3"
  },
  "language_info": {
   "codemirror_mode": {
    "name": "ipython",
    "version": 3
   },
   "file_extension": ".py",
   "mimetype": "text/x-python",
   "name": "python",
   "nbconvert_exporter": "python",
   "pygments_lexer": "ipython3"
  }
 },
 "nbformat": 4,
 "nbformat_minor": 2
}
