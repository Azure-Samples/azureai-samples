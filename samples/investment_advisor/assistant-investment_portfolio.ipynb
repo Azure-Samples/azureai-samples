{
 "cells": [
  {
   "cell_type": "markdown",
   "metadata": {},
   "source": [
    "# **Investment Portfolio Management**"
   ]
  },
  {
   "cell_type": "markdown",
   "metadata": {},
   "source": [
    "## **About the scenario**\n",
    "This scenario demonstrates best practices in a data engineering context, where notebooks are used to orchestrate complex tasks involving real-time data fetching, computation, and report delivery. The notebook is modular, and secure, employing batch processing, error handling, and proper separation of concerns.\n",
    "\n",
    "In this scenario, we will:\n",
    "\n",
    "1. Ingest a CSV file containing the user’s investment portfolio.\n",
    "2. Fetch real-time stock prices via an API using *Function Calling*.\n",
    "3. Perform calculations on the portfolio, including total value and percentage changes, using *Code Interpreter*.\n",
    "4. Generate a detailed report summarizing the portfolio's performance.\n",
    "5. Save the report to Azure Blob Storage using *Function Calling*."
   ]
  },
  {
   "cell_type": "markdown",
   "metadata": {},
   "source": [
    "## **Time**\n",
    "You should expect to spend 10-15 minutes building and running this scenario. "
   ]
  },
  {
   "cell_type": "markdown",
   "metadata": {},
   "source": [
    "## **Before you begin**"
   ]
  },
  {
   "cell_type": "markdown",
   "metadata": {},
   "source": [
    "#### Step 1: Install required libraries"
   ]
  },
  {
   "cell_type": "code",
   "execution_count": 49,
   "metadata": {},
   "outputs": [
    {
     "name": "stdout",
     "output_type": "stream",
     "text": [
      "Requirement already satisfied: pandas==2.2.3 in c:\\developer\\repos\\github\\ai-in-a-box\\gen-ai\\assistants\\notebooks\\personal_finance\\.env\\lib\\site-packages (from -r ./requirements.txt (line 1)) (2.2.3)\n",
      "Requirement already satisfied: yfinance==0.2.48 in c:\\developer\\repos\\github\\ai-in-a-box\\gen-ai\\assistants\\notebooks\\personal_finance\\.env\\lib\\site-packages (from -r ./requirements.txt (line 2)) (0.2.48)\n",
      "Requirement already satisfied: openai==1.30.1 in c:\\developer\\repos\\github\\ai-in-a-box\\gen-ai\\assistants\\notebooks\\personal_finance\\.env\\lib\\site-packages (from -r ./requirements.txt (line 3)) (1.30.1)\n",
      "Requirement already satisfied: python-dotenv==1.0.1 in c:\\developer\\repos\\github\\ai-in-a-box\\gen-ai\\assistants\\notebooks\\personal_finance\\.env\\lib\\site-packages (from -r ./requirements.txt (line 4)) (1.0.1)\n",
      "Requirement already satisfied: numpy>=1.26.0 in c:\\developer\\repos\\github\\ai-in-a-box\\gen-ai\\assistants\\notebooks\\personal_finance\\.env\\lib\\site-packages (from pandas==2.2.3->-r ./requirements.txt (line 1)) (2.1.2)\n",
      "Requirement already satisfied: python-dateutil>=2.8.2 in c:\\developer\\repos\\github\\ai-in-a-box\\gen-ai\\assistants\\notebooks\\personal_finance\\.env\\lib\\site-packages (from pandas==2.2.3->-r ./requirements.txt (line 1)) (2.9.0.post0)\n",
      "Requirement already satisfied: pytz>=2020.1 in c:\\developer\\repos\\github\\ai-in-a-box\\gen-ai\\assistants\\notebooks\\personal_finance\\.env\\lib\\site-packages (from pandas==2.2.3->-r ./requirements.txt (line 1)) (2024.2)\n",
      "Requirement already satisfied: tzdata>=2022.7 in c:\\developer\\repos\\github\\ai-in-a-box\\gen-ai\\assistants\\notebooks\\personal_finance\\.env\\lib\\site-packages (from pandas==2.2.3->-r ./requirements.txt (line 1)) (2024.2)\n",
      "Requirement already satisfied: requests>=2.31 in c:\\developer\\repos\\github\\ai-in-a-box\\gen-ai\\assistants\\notebooks\\personal_finance\\.env\\lib\\site-packages (from yfinance==0.2.48->-r ./requirements.txt (line 2)) (2.32.3)\n",
      "Requirement already satisfied: multitasking>=0.0.7 in c:\\developer\\repos\\github\\ai-in-a-box\\gen-ai\\assistants\\notebooks\\personal_finance\\.env\\lib\\site-packages (from yfinance==0.2.48->-r ./requirements.txt (line 2)) (0.0.11)\n",
      "Requirement already satisfied: lxml>=4.9.1 in c:\\developer\\repos\\github\\ai-in-a-box\\gen-ai\\assistants\\notebooks\\personal_finance\\.env\\lib\\site-packages (from yfinance==0.2.48->-r ./requirements.txt (line 2)) (5.3.0)\n",
      "Requirement already satisfied: platformdirs>=2.0.0 in c:\\developer\\repos\\github\\ai-in-a-box\\gen-ai\\assistants\\notebooks\\personal_finance\\.env\\lib\\site-packages (from yfinance==0.2.48->-r ./requirements.txt (line 2)) (4.3.6)\n",
      "Requirement already satisfied: frozendict>=2.3.4 in c:\\developer\\repos\\github\\ai-in-a-box\\gen-ai\\assistants\\notebooks\\personal_finance\\.env\\lib\\site-packages (from yfinance==0.2.48->-r ./requirements.txt (line 2)) (2.4.6)\n",
      "Requirement already satisfied: peewee>=3.16.2 in c:\\developer\\repos\\github\\ai-in-a-box\\gen-ai\\assistants\\notebooks\\personal_finance\\.env\\lib\\site-packages (from yfinance==0.2.48->-r ./requirements.txt (line 2)) (3.17.7)\n",
      "Requirement already satisfied: beautifulsoup4>=4.11.1 in c:\\developer\\repos\\github\\ai-in-a-box\\gen-ai\\assistants\\notebooks\\personal_finance\\.env\\lib\\site-packages (from yfinance==0.2.48->-r ./requirements.txt (line 2)) (4.12.3)\n",
      "Requirement already satisfied: html5lib>=1.1 in c:\\developer\\repos\\github\\ai-in-a-box\\gen-ai\\assistants\\notebooks\\personal_finance\\.env\\lib\\site-packages (from yfinance==0.2.48->-r ./requirements.txt (line 2)) (1.1)\n",
      "Requirement already satisfied: anyio<5,>=3.5.0 in c:\\developer\\repos\\github\\ai-in-a-box\\gen-ai\\assistants\\notebooks\\personal_finance\\.env\\lib\\site-packages (from openai==1.30.1->-r ./requirements.txt (line 3)) (4.6.2.post1)\n",
      "Requirement already satisfied: distro<2,>=1.7.0 in c:\\developer\\repos\\github\\ai-in-a-box\\gen-ai\\assistants\\notebooks\\personal_finance\\.env\\lib\\site-packages (from openai==1.30.1->-r ./requirements.txt (line 3)) (1.9.0)\n",
      "Requirement already satisfied: httpx<1,>=0.23.0 in c:\\developer\\repos\\github\\ai-in-a-box\\gen-ai\\assistants\\notebooks\\personal_finance\\.env\\lib\\site-packages (from openai==1.30.1->-r ./requirements.txt (line 3)) (0.27.2)\n",
      "Requirement already satisfied: pydantic<3,>=1.9.0 in c:\\developer\\repos\\github\\ai-in-a-box\\gen-ai\\assistants\\notebooks\\personal_finance\\.env\\lib\\site-packages (from openai==1.30.1->-r ./requirements.txt (line 3)) (2.9.2)\n",
      "Requirement already satisfied: sniffio in c:\\developer\\repos\\github\\ai-in-a-box\\gen-ai\\assistants\\notebooks\\personal_finance\\.env\\lib\\site-packages (from openai==1.30.1->-r ./requirements.txt (line 3)) (1.3.1)\n",
      "Requirement already satisfied: tqdm>4 in c:\\developer\\repos\\github\\ai-in-a-box\\gen-ai\\assistants\\notebooks\\personal_finance\\.env\\lib\\site-packages (from openai==1.30.1->-r ./requirements.txt (line 3)) (4.66.6)\n",
      "Requirement already satisfied: typing-extensions<5,>=4.7 in c:\\developer\\repos\\github\\ai-in-a-box\\gen-ai\\assistants\\notebooks\\personal_finance\\.env\\lib\\site-packages (from openai==1.30.1->-r ./requirements.txt (line 3)) (4.12.2)\n",
      "Requirement already satisfied: idna>=2.8 in c:\\developer\\repos\\github\\ai-in-a-box\\gen-ai\\assistants\\notebooks\\personal_finance\\.env\\lib\\site-packages (from anyio<5,>=3.5.0->openai==1.30.1->-r ./requirements.txt (line 3)) (3.10)\n",
      "Requirement already satisfied: soupsieve>1.2 in c:\\developer\\repos\\github\\ai-in-a-box\\gen-ai\\assistants\\notebooks\\personal_finance\\.env\\lib\\site-packages (from beautifulsoup4>=4.11.1->yfinance==0.2.48->-r ./requirements.txt (line 2)) (2.6)\n",
      "Requirement already satisfied: six>=1.9 in c:\\developer\\repos\\github\\ai-in-a-box\\gen-ai\\assistants\\notebooks\\personal_finance\\.env\\lib\\site-packages (from html5lib>=1.1->yfinance==0.2.48->-r ./requirements.txt (line 2)) (1.16.0)\n",
      "Requirement already satisfied: webencodings in c:\\developer\\repos\\github\\ai-in-a-box\\gen-ai\\assistants\\notebooks\\personal_finance\\.env\\lib\\site-packages (from html5lib>=1.1->yfinance==0.2.48->-r ./requirements.txt (line 2)) (0.5.1)\n",
      "Requirement already satisfied: certifi in c:\\developer\\repos\\github\\ai-in-a-box\\gen-ai\\assistants\\notebooks\\personal_finance\\.env\\lib\\site-packages (from httpx<1,>=0.23.0->openai==1.30.1->-r ./requirements.txt (line 3)) (2024.8.30)\n",
      "Requirement already satisfied: httpcore==1.* in c:\\developer\\repos\\github\\ai-in-a-box\\gen-ai\\assistants\\notebooks\\personal_finance\\.env\\lib\\site-packages (from httpx<1,>=0.23.0->openai==1.30.1->-r ./requirements.txt (line 3)) (1.0.6)\n",
      "Requirement already satisfied: h11<0.15,>=0.13 in c:\\developer\\repos\\github\\ai-in-a-box\\gen-ai\\assistants\\notebooks\\personal_finance\\.env\\lib\\site-packages (from httpcore==1.*->httpx<1,>=0.23.0->openai==1.30.1->-r ./requirements.txt (line 3)) (0.14.0)\n",
      "Requirement already satisfied: annotated-types>=0.6.0 in c:\\developer\\repos\\github\\ai-in-a-box\\gen-ai\\assistants\\notebooks\\personal_finance\\.env\\lib\\site-packages (from pydantic<3,>=1.9.0->openai==1.30.1->-r ./requirements.txt (line 3)) (0.7.0)\n",
      "Requirement already satisfied: pydantic-core==2.23.4 in c:\\developer\\repos\\github\\ai-in-a-box\\gen-ai\\assistants\\notebooks\\personal_finance\\.env\\lib\\site-packages (from pydantic<3,>=1.9.0->openai==1.30.1->-r ./requirements.txt (line 3)) (2.23.4)\n",
      "Requirement already satisfied: charset-normalizer<4,>=2 in c:\\developer\\repos\\github\\ai-in-a-box\\gen-ai\\assistants\\notebooks\\personal_finance\\.env\\lib\\site-packages (from requests>=2.31->yfinance==0.2.48->-r ./requirements.txt (line 2)) (3.4.0)\n",
      "Requirement already satisfied: urllib3<3,>=1.21.1 in c:\\developer\\repos\\github\\ai-in-a-box\\gen-ai\\assistants\\notebooks\\personal_finance\\.env\\lib\\site-packages (from requests>=2.31->yfinance==0.2.48->-r ./requirements.txt (line 2)) (2.2.3)\n",
      "Requirement already satisfied: colorama in c:\\developer\\repos\\github\\ai-in-a-box\\gen-ai\\assistants\\notebooks\\personal_finance\\.env\\lib\\site-packages (from tqdm>4->openai==1.30.1->-r ./requirements.txt (line 3)) (0.4.6)\n",
      "Note: you may need to restart the kernel to use updated packages.\n"
     ]
    },
    {
     "name": "stderr",
     "output_type": "stream",
     "text": [
      "\n",
      "[notice] A new release of pip is available: 24.2 -> 24.3.1\n",
      "[notice] To update, run: python.exe -m pip install --upgrade pip\n"
     ]
    }
   ],
   "source": [
    "# Install the packages\n",
    "%pip install -r ./requirements.txt"
   ]
  },
  {
   "cell_type": "markdown",
   "metadata": {},
   "source": [
    "## **Azure OpenAI setup**"
   ]
  },
  {
   "cell_type": "markdown",
   "metadata": {},
   "source": [
    "#### Step 1: Setting Up the Environment\n",
    "\n",
    "Before we begin, we'll load necessary environment variables from a `.env` file. These variables contain sensitive information such as API keys and endpoint URLs. Ensure your `.env` file is properly configured in the `.env/.development.env` format. Here we will also import key libraries needed to support this notebook.\n"
   ]
  },
  {
   "cell_type": "code",
   "execution_count": 50,
   "metadata": {},
   "outputs": [
    {
     "name": "stdout",
     "output_type": "stream",
     "text": [
      "Environment variables loaded successfully.\n"
     ]
    }
   ],
   "source": [
    "import os\n",
    "from dotenv import load_dotenv\n",
    "\n",
    "# Load environment variables from .env file\n",
    "load_dotenv(dotenv_path=\".env/.development.env\")\n",
    "\n",
    "# Retrieve the secrets\n",
    "__AZURE_OPENAI_API_KEY = os.getenv(\"AZURE_OPENAI_API_KEY\")\n",
    "__AZURE_OPENAI_ENDPOINT = os.getenv(\"AZURE_OPENAI_ENDPOINT\")\n",
    "__AZURE_OPENAI_DEPLOYMENT = os.getenv(\"AZURE_OPENAI_DEPLOYMENT\")\n",
    "__AZURE_OPENAI_API_VERSION = os.getenv(\"AZURE_OPENAI_API_VERSION\")\n",
    "\n",
    "# Verify environment variables\n",
    "if not all([__AZURE_OPENAI_API_KEY, __AZURE_OPENAI_ENDPOINT, __AZURE_OPENAI_DEPLOYMENT, __AZURE_OPENAI_API_VERSION]):\n",
    "    raise EnvironmentError(\"One or more environment variables are missing. Please check the .env file.\")\n",
    "\n",
    "print(\"Environment variables loaded successfully.\")"
   ]
  },
  {
   "cell_type": "markdown",
   "metadata": {},
   "source": [
    "#### Step 2: Initializing the Azure OpenAI Client\n",
    "\n",
    "Next, we’ll initialize the Azure OpenAI client. This client allows us to interact with Azure OpenAI's file management APIs. You’ll need your API key, endpoint, and API version, which we just loaded from the environment."
   ]
  },
  {
   "cell_type": "code",
   "execution_count": 51,
   "metadata": {},
   "outputs": [
    {
     "name": "stdout",
     "output_type": "stream",
     "text": [
      "AzureOpenAI client initialized.\n"
     ]
    }
   ],
   "source": [
    "from openai import AzureOpenAI, OpenAIError\n",
    "\n",
    "# Initialize the AzureOpenAI client\n",
    "try:\n",
    "    openai_client = AzureOpenAI(\n",
    "        api_key=__AZURE_OPENAI_API_KEY,\n",
    "        api_version=__AZURE_OPENAI_API_VERSION,\n",
    "        azure_endpoint=__AZURE_OPENAI_ENDPOINT\n",
    "    )\n",
    "    print(\"AzureOpenAI client initialized.\")\n",
    "except OpenAIError as e:\n",
    "    raise ConnectionError(f\"Failed to initialize AzureOpenAI client: {e}\")\n"
   ]
  },
  {
   "cell_type": "markdown",
   "metadata": {},
   "source": [
    "#### Step 3 - Upload Support File(s)\n",
    "\n",
    "In this section, we’ll define a function to check if a file already exists in Azure OpenAI. If it exists, we’ll delete it before uploading the new version. This function will handle the complete upload process.\n"
   ]
  },
  {
   "cell_type": "code",
   "execution_count": 52,
   "metadata": {},
   "outputs": [
    {
     "name": "stdout",
     "output_type": "stream",
     "text": [
      "Deleted existing file: investment_portfolio.csv\n",
      "Uploaded file: investment_portfolio.csv\n"
     ]
    }
   ],
   "source": [
    "# Directory containing files to upload\n",
    "directory = \"data\"\n",
    "purpose = \"assistants\"\n",
    "\n",
    "# Check if the directory exists\n",
    "if not os.path.isdir(directory):\n",
    "    print(f\"Directory '{directory}' does not exist.\")\n",
    "else:\n",
    "    # Process each file in the directory\n",
    "    for file_name in os.listdir(directory):\n",
    "        file_path = os.path.join(directory, file_name)\n",
    "\n",
    "        # Skip if not a file\n",
    "        if not os.path.isfile(file_path):\n",
    "            print(f\"Skipping non-file item: {file_name}\")\n",
    "            continue\n",
    "\n",
    "        try:\n",
    "            # Check if the file already exists on OpenAI\n",
    "            existing_files = openai_client.files.list()\n",
    "            file_exists = False\n",
    "            for f in existing_files:\n",
    "                if f.filename == file_name and f.purpose == purpose:\n",
    "                    # Delete the existing file\n",
    "                    openai_client.files.delete(file_id=f.id)\n",
    "                    print(f\"Deleted existing file: {file_name}\")\n",
    "                    file_exists = True\n",
    "                    break\n",
    "\n",
    "            # Upload the new file\n",
    "            with open(file_path, \"rb\") as file_data:\n",
    "                portfolio_file = openai_client.files.create(\n",
    "                    file=file_data,\n",
    "                    purpose=purpose\n",
    "                )\n",
    "            print(f\"Uploaded file: {file_name}\")\n",
    "        \n",
    "        except OpenAIError as e:\n",
    "            print(f\"Error processing file '{file_name}': {e}\")\n",
    "        except Exception as e:\n",
    "            print(f\"Unexpected error with file '{file_name}': {e}\")"
   ]
  },
  {
   "cell_type": "markdown",
   "metadata": {},
   "source": [
    "## **Function Calling**"
   ]
  },
  {
   "cell_type": "markdown",
   "metadata": {},
   "source": [
    "#### Step 1: Define function for Assistant\n",
    "The Get Latest Stock Prices function retrieves the stock data for a specified `ticker symbol` using the yfinance library, specifically pulling the latest data for the last trading day.\n",
    "\n",
    "The `fetch_stock_price` function uses the `yfinance` library to retrieve stock information, including:\n",
    "- Company name\n",
    "- Latest open price\n",
    "- Latest close price"
   ]
  },
  {
   "cell_type": "code",
   "execution_count": 53,
   "metadata": {},
   "outputs": [
    {
     "name": "stdout",
     "output_type": "stream",
     "text": [
      "Function defined successfully.\n"
     ]
    }
   ],
   "source": [
    "import yfinance as yf\n",
    "\n",
    "def fetch_stock_price(ticker_symbol):\n",
    "    \"\"\"\n",
    "    Fetch the latest stock price and opening price for a given ticker symbol.\n",
    "\n",
    "    Parameters:\n",
    "    - ticker_symbol (str): The ticker symbol of the stock to retrieve data for.\n",
    "\n",
    "    Returns:\n",
    "    - dict: A dictionary containing the following keys:\n",
    "        - \"company_name\" (str): The name of the company corresponding to the ticker symbol.\n",
    "        - \"ticker\" (str): The ticker symbol provided as input.\n",
    "        - \"open_price\" (float): The opening price of the stock for the latest trading day.\n",
    "        - \"latest_close_price\" (float): The closing price of the stock for the latest trading day.\n",
    "        - \"error\" (str): An error message if an issue occurred, or if no data was found.\n",
    "        \n",
    "    Example:\n",
    "    >>> fetch_stock_price(\"AAPL\")\n",
    "    {'ticker': 'AAPL', 'open_price': 145.3, 'latest_close_price': 148.9}\n",
    "    \"\"\"\n",
    "    \n",
    "    # Define the default return structure\n",
    "    default_response = {\n",
    "        \"company_name\": None,\n",
    "        \"ticker\": ticker_symbol,\n",
    "        \"latest_open_price\": None,\n",
    "        \"latest_close_price\": None,\n",
    "        \"error\": None\n",
    "    }\n",
    "\n",
    "    try:\n",
    "        # Fetch the stock's trading history for the last day\n",
    "        stock = yf.Ticker(ticker_symbol)\n",
    "        stock_data = stock.history(period=\"1d\")\n",
    "\n",
    "        # Check if the data is empty, indicating an invalid ticker or no data available\n",
    "        if stock_data.empty:\n",
    "            return {\"error\": f\"No data found for ticker symbol: {ticker_symbol}\"}\n",
    "\n",
    "         # Extract the company name from the 'info' dictionary\n",
    "        company_name = stock.info.get('longName', \"Company name not available\")\n",
    "\n",
    "        # Extract the latest available open and close prices\n",
    "        latest_open_price = stock_data['Open'].iloc[-1]\n",
    "        latest_close_price = stock_data['Close'].iloc[-1]\n",
    "        \n",
    "\n",
    "        return str(round(latest_close_price,3))\n",
    "        #return f\"{company_name} ({ticker_symbol}) stock opened at {round(latest_open_price,3)} and closed at {round(latest_close_price)}.\\n\"\n",
    "\n",
    "        #return {\n",
    "        #    \"company_name\": company_name,\n",
    "        #    \"ticker\": ticker_symbol,\n",
    "        #    \"latest_open_price\": latest_open_price,\n",
    "        #    \"latest_close_price\": latest_close_price,\n",
    "        #    \"error\": None\n",
    "        #}\n",
    "\n",
    "    except KeyError as e:\n",
    "        return {**default_response, \"error\": f\"Data missing for key: {e}. Verify the ticker symbol.\"}\n",
    "\n",
    "    except Exception as e:\n",
    "        return {**default_response, \"error\": f\"Unexpected error: {type(e).__name__}: {e}\"}\n",
    "    \n",
    "print(\"Function defined successfully.\")"
   ]
  },
  {
   "cell_type": "markdown",
   "metadata": {},
   "source": [
    "#### Step 2: Integrating defined function into the Assistant\n",
    "Create the `fetch_stock_price` function configuration to be used within the code interpreter. By adding this tool to the Assistant, we enable it to retrieve and interpret stock data when a user prompts it with related queries."
   ]
  },
  {
   "cell_type": "code",
   "execution_count": 54,
   "metadata": {},
   "outputs": [
    {
     "name": "stdout",
     "output_type": "stream",
     "text": [
      "Tools list defined successfully.\n"
     ]
    }
   ],
   "source": [
    "tools_list = [\n",
    "    {\"type\": \"code_interpreter\"},\n",
    "    {\n",
    "        \"type\": \"function\",\n",
    "        \"function\": {\n",
    "            \"name\": \"fetch_stock_price\",\n",
    "            \"description\": \"Retrieve the latest closing price of a stock using its ticker symbol.\",\n",
    "            \"parameters\": {\n",
    "                \"type\": \"object\",\n",
    "                \"properties\": {\"ticker_symbol\": {\"type\": \"string\", \"description\": \"The ticker symbol of the stock\"}},\n",
    "                \"required\": [\"ticker_symbol\"],\n",
    "            },\n",
    "        },\n",
    "    }\n",
    "]\n",
    "\n",
    "print(\"Tools list defined successfully.\")"
   ]
  },
  {
   "cell_type": "markdown",
   "metadata": {},
   "source": [
    "## **Assistant**"
   ]
  },
  {
   "cell_type": "markdown",
   "metadata": {},
   "source": [
    "#### Step 1: Creating the Investment Management Assistant\n",
    "In this step, we create an assistant with specific tools, including a code interpreter, to answer investment-related questions. This assistant will help analyze and provide insights based on the uploaded portfolio file.\n"
   ]
  },
  {
   "cell_type": "code",
   "execution_count": 55,
   "metadata": {},
   "outputs": [
    {
     "name": "stdout",
     "output_type": "stream",
     "text": [
      "Assistant created successfully: Assistant(id='asst_0F1BeDTYLExyx8GfFpuJCrsT', created_at=1731442454, description=None, instructions='You are an expert investment analyst. Use your knowledge base to answer questions about personal investment portfolio management.', metadata={}, model='gpt-4o', name='Investment Management Assistant', object='assistant', tools=[CodeInterpreterTool(type='code_interpreter'), FunctionTool(function=FunctionDefinition(name='fetch_stock_price', description='Retrieve the latest closing price of a stock using its ticker symbol.', parameters={'type': 'object', 'properties': {'ticker_symbol': {'type': 'string', 'description': 'The ticker symbol of the stock'}}, 'required': ['ticker_symbol']}, strict=False), type='function')], response_format='auto', temperature=1.0, tool_resources=ToolResources(code_interpreter=ToolResourcesCodeInterpreter(file_ids=[]), file_search=None), top_p=1.0)\n"
     ]
    }
   ],
   "source": [
    "# Create the assistant with code interpreter enabled\n",
    "try:\n",
    "    assistant = openai_client.beta.assistants.create(\n",
    "        name=\"Investment Management Assistant\",\n",
    "        instructions=(\n",
    "            \"You are an expert investment analyst. \"\n",
    "            \"Use your knowledge base to answer questions about personal investment portfolio management.\"\n",
    "        ),\n",
    "        model=__AZURE_OPENAI_DEPLOYMENT,\n",
    "        tools=tools_list\n",
    "    )\n",
    "    print(\"Assistant created successfully:\", assistant)\n",
    "except OpenAIError as e:\n",
    "    print(\"Error creating assistant:\", e)"
   ]
  },
  {
   "cell_type": "markdown",
   "metadata": {},
   "source": [
    "#### Step 2: Starting a New Conversation Thread\n",
    "Let's create a new thread to handle user interactions. Each thread allows for a dedicated conversation with the assistant."
   ]
  },
  {
   "cell_type": "code",
   "execution_count": 56,
   "metadata": {},
   "outputs": [
    {
     "name": "stdout",
     "output_type": "stream",
     "text": [
      "Thread created: Thread(id='thread_nNEa3nenX9EG7xdtnc8md9xA', created_at=1731442454, metadata={}, object='thread', tool_resources=ToolResources(code_interpreter=None, file_search=None))\n"
     ]
    }
   ],
   "source": [
    "# Create a conversation thread\n",
    "try:\n",
    "    thread = openai_client.beta.threads.create()\n",
    "    print(\"Thread created:\", thread)\n",
    "except OpenAIError as e:\n",
    "    print(\"Error creating thread:\", e)"
   ]
  },
  {
   "cell_type": "markdown",
   "metadata": {},
   "source": [
    "#### Step 3: Adding User Message\n",
    "In this step, we add a question to the thread. For this demonstration, we're asking which stock ticker has the most investment in the portfolio."
   ]
  },
  {
   "cell_type": "code",
   "execution_count": 57,
   "metadata": {},
   "outputs": [
    {
     "name": "stdout",
     "output_type": "stream",
     "text": [
      "User question added: Message(id='msg_jdyTyCObzhD0NJogt2KI9rH8', assistant_id=None, attachments=[Attachment(file_id='assistant-byvyRpwiVS4ThTl3blekxTvT', tools=[CodeInterpreterTool(type='code_interpreter')])], completed_at=None, content=[TextContentBlock(text=Text(annotations=[], value='What is the latest closing price for MSFT? What is my total investment for MSFT as of today?'), type='text')], created_at=1731442454, incomplete_at=None, incomplete_details=None, metadata={}, object='thread.message', role='user', run_id=None, status=None, thread_id='thread_nNEa3nenX9EG7xdtnc8md9xA')\n"
     ]
    }
   ],
   "source": [
    "# Define the user question\n",
    "#prompt_content = \"What ticker symbol has the most stock? Which has the most investment?\"\n",
    "\n",
    "#prompt_content = \"What is the latest closing price of AAPL?\"\n",
    "\n",
    "prompt_content = \"What is the latest closing price for MSFT? What is my total investment for MSFT as of today?\"\n",
    "\n",
    "# Add the question to the thread\n",
    "try:\n",
    "    message = openai_client.beta.threads.messages.create(\n",
    "        thread_id=thread.id,\n",
    "        role=\"user\",\n",
    "        content=prompt_content,\n",
    "        attachments=[  # Add files by using the attachments parameter\n",
    "            {\"file_id\": portfolio_file.id, \"tools\": [{\"type\": \"code_interpreter\"}]}\n",
    "        ],\n",
    "    )\n",
    "    print(\"User question added:\", message)\n",
    "except OpenAIError as e:\n",
    "    print(\"Error adding user question:\", e)\n"
   ]
  },
  {
   "cell_type": "markdown",
   "metadata": {},
   "source": [
    "#### Step 4: Running the Assistant\n",
    "Now that the assistant and thread are set up, we'll initiate the assistant's response process. This will analyze the user prompt and provide insights based on the investment portfolio data.\n"
   ]
  },
  {
   "cell_type": "code",
   "execution_count": 58,
   "metadata": {},
   "outputs": [
    {
     "name": "stdout",
     "output_type": "stream",
     "text": [
      "Run started: Run(id='run_nTlD90Zrnpzi5vr3x2l59RpV', assistant_id='asst_0F1BeDTYLExyx8GfFpuJCrsT', cancelled_at=None, completed_at=None, created_at=1731442454, expires_at=1731443054, failed_at=None, incomplete_details=None, instructions='What is the latest closing price for MSFT? What is my total investment for MSFT as of today?', last_error=None, max_completion_tokens=None, max_prompt_tokens=None, metadata={}, model='gpt-4o', object='thread.run', required_action=None, response_format='auto', started_at=None, status='queued', thread_id='thread_nNEa3nenX9EG7xdtnc8md9xA', tool_choice='auto', tools=[CodeInterpreterTool(type='code_interpreter'), FunctionTool(function=FunctionDefinition(name='fetch_stock_price', description='Retrieve the latest closing price of a stock using its ticker symbol.', parameters={'type': 'object', 'properties': {'ticker_symbol': {'type': 'string', 'description': 'The ticker symbol of the stock'}}, 'required': ['ticker_symbol']}, strict=False), type='function')], truncation_strategy=TruncationStrategy(type='auto', last_messages=None), usage=None, temperature=1.0, top_p=1.0, tool_resources={}, parallel_tool_calls=True)\n"
     ]
    }
   ],
   "source": [
    "# Initiate the assistant's response\n",
    "try:\n",
    "    run = openai_client.beta.threads.runs.create(\n",
    "        thread_id=thread.id,\n",
    "        assistant_id=assistant.id,\n",
    "        instructions=prompt_content,\n",
    "    )\n",
    "    print(\"Run started:\", run)\n",
    "except OpenAIError as e:\n",
    "    print(\"Error starting run:\", e)"
   ]
  },
  {
   "cell_type": "markdown",
   "metadata": {},
   "source": [
    "#### Step 5: Checking for Results\n",
    "The assistant may take some time to analyze and respond. We'll use a polling loop to periodically check the assistant's status and retrieve the answer once it's available."
   ]
  },
  {
   "cell_type": "markdown",
   "metadata": {},
   "source": [
    "**>>>>>>> TO DO: create a function to simply sending multiple prompts**"
   ]
  },
  {
   "cell_type": "code",
   "execution_count": 59,
   "metadata": {},
   "outputs": [
    {
     "name": "stdout",
     "output_type": "stream",
     "text": [
      "{\n",
      "    \"id\": \"run_nTlD90Zrnpzi5vr3x2l59RpV\",\n",
      "    \"assistant_id\": \"asst_0F1BeDTYLExyx8GfFpuJCrsT\",\n",
      "    \"cancelled_at\": null,\n",
      "    \"completed_at\": null,\n",
      "    \"created_at\": 1731442454,\n",
      "    \"expires_at\": 1731443054,\n",
      "    \"failed_at\": null,\n",
      "    \"incomplete_details\": null,\n",
      "    \"instructions\": \"What is the latest closing price for MSFT? What is my total investment for MSFT as of today?\",\n",
      "    \"last_error\": null,\n",
      "    \"max_completion_tokens\": null,\n",
      "    \"max_prompt_tokens\": null,\n",
      "    \"metadata\": {},\n",
      "    \"model\": \"gpt-4o\",\n",
      "    \"object\": \"thread.run\",\n",
      "    \"required_action\": null,\n",
      "    \"response_format\": \"auto\",\n",
      "    \"started_at\": null,\n",
      "    \"status\": \"queued\",\n",
      "    \"thread_id\": \"thread_nNEa3nenX9EG7xdtnc8md9xA\",\n",
      "    \"tool_choice\": \"auto\",\n",
      "    \"tools\": [\n",
      "        {\n",
      "            \"type\": \"code_interpreter\"\n",
      "        },\n",
      "        {\n",
      "            \"function\": {\n",
      "                \"name\": \"fetch_stock_price\",\n",
      "                \"description\": \"Retrieve the latest closing price of a stock using its ticker symbol.\",\n",
      "                \"parameters\": {\n",
      "                    \"type\": \"object\",\n",
      "                    \"properties\": {\n",
      "                        \"ticker_symbol\": {\n",
      "                            \"type\": \"string\",\n",
      "                            \"description\": \"The ticker symbol of the stock\"\n",
      "                        }\n",
      "                    },\n",
      "                    \"required\": [\n",
      "                        \"ticker_symbol\"\n",
      "                    ]\n",
      "                },\n",
      "                \"strict\": false\n",
      "            },\n",
      "            \"type\": \"function\"\n",
      "        }\n",
      "    ],\n",
      "    \"truncation_strategy\": {\n",
      "        \"type\": \"auto\",\n",
      "        \"last_messages\": null\n",
      "    },\n",
      "    \"usage\": null,\n",
      "    \"temperature\": 1.0,\n",
      "    \"top_p\": 1.0,\n",
      "    \"tool_resources\": {},\n",
      "    \"parallel_tool_calls\": true\n",
      "}\n",
      "Waiting for the Assistant to process...\n",
      "{\n",
      "    \"id\": \"run_nTlD90Zrnpzi5vr3x2l59RpV\",\n",
      "    \"assistant_id\": \"asst_0F1BeDTYLExyx8GfFpuJCrsT\",\n",
      "    \"cancelled_at\": null,\n",
      "    \"completed_at\": null,\n",
      "    \"created_at\": 1731442454,\n",
      "    \"expires_at\": 1731443054,\n",
      "    \"failed_at\": null,\n",
      "    \"incomplete_details\": null,\n",
      "    \"instructions\": \"What is the latest closing price for MSFT? What is my total investment for MSFT as of today?\",\n",
      "    \"last_error\": null,\n",
      "    \"max_completion_tokens\": null,\n",
      "    \"max_prompt_tokens\": null,\n",
      "    \"metadata\": {},\n",
      "    \"model\": \"gpt-4o\",\n",
      "    \"object\": \"thread.run\",\n",
      "    \"required_action\": {\n",
      "        \"submit_tool_outputs\": {\n",
      "            \"tool_calls\": [\n",
      "                {\n",
      "                    \"id\": \"call_z00fpMZXt5gAqMOTjkzsRowf\",\n",
      "                    \"function\": {\n",
      "                        \"arguments\": \"{\\\"ticker_symbol\\\": \\\"MSFT\\\"}\",\n",
      "                        \"name\": \"fetch_stock_price\"\n",
      "                    },\n",
      "                    \"type\": \"function\"\n",
      "                }\n",
      "            ]\n",
      "        },\n",
      "        \"type\": \"submit_tool_outputs\"\n",
      "    },\n",
      "    \"response_format\": \"auto\",\n",
      "    \"started_at\": 1731442455,\n",
      "    \"status\": \"requires_action\",\n",
      "    \"thread_id\": \"thread_nNEa3nenX9EG7xdtnc8md9xA\",\n",
      "    \"tool_choice\": \"auto\",\n",
      "    \"tools\": [\n",
      "        {\n",
      "            \"type\": \"code_interpreter\"\n",
      "        },\n",
      "        {\n",
      "            \"function\": {\n",
      "                \"name\": \"fetch_stock_price\",\n",
      "                \"description\": \"Retrieve the latest closing price of a stock using its ticker symbol.\",\n",
      "                \"parameters\": {\n",
      "                    \"type\": \"object\",\n",
      "                    \"properties\": {\n",
      "                        \"ticker_symbol\": {\n",
      "                            \"type\": \"string\",\n",
      "                            \"description\": \"The ticker symbol of the stock\"\n",
      "                        }\n",
      "                    },\n",
      "                    \"required\": [\n",
      "                        \"ticker_symbol\"\n",
      "                    ]\n",
      "                },\n",
      "                \"strict\": false\n",
      "            },\n",
      "            \"type\": \"function\"\n",
      "        }\n",
      "    ],\n",
      "    \"truncation_strategy\": {\n",
      "        \"type\": \"auto\",\n",
      "        \"last_messages\": null\n",
      "    },\n",
      "    \"usage\": null,\n",
      "    \"temperature\": 1.0,\n",
      "    \"top_p\": 1.0,\n",
      "    \"tool_resources\": {},\n",
      "    \"parallel_tool_calls\": true\n",
      "}\n",
      "Function Calling ...\n",
      "Function 'fetch_stock_price' called successfully. \n",
      "Output: 423.98\n",
      "\n",
      "Function called successfully.\n",
      "{\n",
      "    \"id\": \"run_nTlD90Zrnpzi5vr3x2l59RpV\",\n",
      "    \"assistant_id\": \"asst_0F1BeDTYLExyx8GfFpuJCrsT\",\n",
      "    \"cancelled_at\": null,\n",
      "    \"completed_at\": null,\n",
      "    \"created_at\": 1731442454,\n",
      "    \"expires_at\": 1731443054,\n",
      "    \"failed_at\": null,\n",
      "    \"incomplete_details\": null,\n",
      "    \"instructions\": \"What is the latest closing price for MSFT? What is my total investment for MSFT as of today?\",\n",
      "    \"last_error\": null,\n",
      "    \"max_completion_tokens\": null,\n",
      "    \"max_prompt_tokens\": null,\n",
      "    \"metadata\": {},\n",
      "    \"model\": \"gpt-4o\",\n",
      "    \"object\": \"thread.run\",\n",
      "    \"required_action\": null,\n",
      "    \"response_format\": \"auto\",\n",
      "    \"started_at\": 1731442455,\n",
      "    \"status\": \"queued\",\n",
      "    \"thread_id\": \"thread_nNEa3nenX9EG7xdtnc8md9xA\",\n",
      "    \"tool_choice\": \"auto\",\n",
      "    \"tools\": [\n",
      "        {\n",
      "            \"type\": \"code_interpreter\"\n",
      "        },\n",
      "        {\n",
      "            \"function\": {\n",
      "                \"name\": \"fetch_stock_price\",\n",
      "                \"description\": \"Retrieve the latest closing price of a stock using its ticker symbol.\",\n",
      "                \"parameters\": {\n",
      "                    \"type\": \"object\",\n",
      "                    \"properties\": {\n",
      "                        \"ticker_symbol\": {\n",
      "                            \"type\": \"string\",\n",
      "                            \"description\": \"The ticker symbol of the stock\"\n",
      "                        }\n",
      "                    },\n",
      "                    \"required\": [\n",
      "                        \"ticker_symbol\"\n",
      "                    ]\n",
      "                },\n",
      "                \"strict\": false\n",
      "            },\n",
      "            \"type\": \"function\"\n",
      "        }\n",
      "    ],\n",
      "    \"truncation_strategy\": {\n",
      "        \"type\": \"auto\",\n",
      "        \"last_messages\": null\n",
      "    },\n",
      "    \"usage\": null,\n",
      "    \"temperature\": 1.0,\n",
      "    \"top_p\": 1.0,\n",
      "    \"tool_resources\": {},\n",
      "    \"parallel_tool_calls\": true\n",
      "}\n",
      "Waiting for the Assistant to process...\n",
      "{\n",
      "    \"id\": \"run_nTlD90Zrnpzi5vr3x2l59RpV\",\n",
      "    \"assistant_id\": \"asst_0F1BeDTYLExyx8GfFpuJCrsT\",\n",
      "    \"cancelled_at\": null,\n",
      "    \"completed_at\": null,\n",
      "    \"created_at\": 1731442454,\n",
      "    \"expires_at\": 1731443054,\n",
      "    \"failed_at\": null,\n",
      "    \"incomplete_details\": null,\n",
      "    \"instructions\": \"What is the latest closing price for MSFT? What is my total investment for MSFT as of today?\",\n",
      "    \"last_error\": null,\n",
      "    \"max_completion_tokens\": null,\n",
      "    \"max_prompt_tokens\": null,\n",
      "    \"metadata\": {},\n",
      "    \"model\": \"gpt-4o\",\n",
      "    \"object\": \"thread.run\",\n",
      "    \"required_action\": null,\n",
      "    \"response_format\": \"auto\",\n",
      "    \"started_at\": 1731442460,\n",
      "    \"status\": \"in_progress\",\n",
      "    \"thread_id\": \"thread_nNEa3nenX9EG7xdtnc8md9xA\",\n",
      "    \"tool_choice\": \"auto\",\n",
      "    \"tools\": [\n",
      "        {\n",
      "            \"type\": \"code_interpreter\"\n",
      "        },\n",
      "        {\n",
      "            \"function\": {\n",
      "                \"name\": \"fetch_stock_price\",\n",
      "                \"description\": \"Retrieve the latest closing price of a stock using its ticker symbol.\",\n",
      "                \"parameters\": {\n",
      "                    \"type\": \"object\",\n",
      "                    \"properties\": {\n",
      "                        \"ticker_symbol\": {\n",
      "                            \"type\": \"string\",\n",
      "                            \"description\": \"The ticker symbol of the stock\"\n",
      "                        }\n",
      "                    },\n",
      "                    \"required\": [\n",
      "                        \"ticker_symbol\"\n",
      "                    ]\n",
      "                },\n",
      "                \"strict\": false\n",
      "            },\n",
      "            \"type\": \"function\"\n",
      "        }\n",
      "    ],\n",
      "    \"truncation_strategy\": {\n",
      "        \"type\": \"auto\",\n",
      "        \"last_messages\": null\n",
      "    },\n",
      "    \"usage\": null,\n",
      "    \"temperature\": 1.0,\n",
      "    \"top_p\": 1.0,\n",
      "    \"tool_resources\": {},\n",
      "    \"parallel_tool_calls\": true\n",
      "}\n",
      "Waiting for the Assistant to process...\n",
      "{\n",
      "    \"id\": \"run_nTlD90Zrnpzi5vr3x2l59RpV\",\n",
      "    \"assistant_id\": \"asst_0F1BeDTYLExyx8GfFpuJCrsT\",\n",
      "    \"cancelled_at\": null,\n",
      "    \"completed_at\": null,\n",
      "    \"created_at\": 1731442454,\n",
      "    \"expires_at\": 1731443054,\n",
      "    \"failed_at\": null,\n",
      "    \"incomplete_details\": null,\n",
      "    \"instructions\": \"What is the latest closing price for MSFT? What is my total investment for MSFT as of today?\",\n",
      "    \"last_error\": null,\n",
      "    \"max_completion_tokens\": null,\n",
      "    \"max_prompt_tokens\": null,\n",
      "    \"metadata\": {},\n",
      "    \"model\": \"gpt-4o\",\n",
      "    \"object\": \"thread.run\",\n",
      "    \"required_action\": null,\n",
      "    \"response_format\": \"auto\",\n",
      "    \"started_at\": 1731442460,\n",
      "    \"status\": \"in_progress\",\n",
      "    \"thread_id\": \"thread_nNEa3nenX9EG7xdtnc8md9xA\",\n",
      "    \"tool_choice\": \"auto\",\n",
      "    \"tools\": [\n",
      "        {\n",
      "            \"type\": \"code_interpreter\"\n",
      "        },\n",
      "        {\n",
      "            \"function\": {\n",
      "                \"name\": \"fetch_stock_price\",\n",
      "                \"description\": \"Retrieve the latest closing price of a stock using its ticker symbol.\",\n",
      "                \"parameters\": {\n",
      "                    \"type\": \"object\",\n",
      "                    \"properties\": {\n",
      "                        \"ticker_symbol\": {\n",
      "                            \"type\": \"string\",\n",
      "                            \"description\": \"The ticker symbol of the stock\"\n",
      "                        }\n",
      "                    },\n",
      "                    \"required\": [\n",
      "                        \"ticker_symbol\"\n",
      "                    ]\n",
      "                },\n",
      "                \"strict\": false\n",
      "            },\n",
      "            \"type\": \"function\"\n",
      "        }\n",
      "    ],\n",
      "    \"truncation_strategy\": {\n",
      "        \"type\": \"auto\",\n",
      "        \"last_messages\": null\n",
      "    },\n",
      "    \"usage\": null,\n",
      "    \"temperature\": 1.0,\n",
      "    \"top_p\": 1.0,\n",
      "    \"tool_resources\": {},\n",
      "    \"parallel_tool_calls\": true\n",
      "}\n",
      "Waiting for the Assistant to process...\n",
      "{\n",
      "    \"id\": \"run_nTlD90Zrnpzi5vr3x2l59RpV\",\n",
      "    \"assistant_id\": \"asst_0F1BeDTYLExyx8GfFpuJCrsT\",\n",
      "    \"cancelled_at\": null,\n",
      "    \"completed_at\": null,\n",
      "    \"created_at\": 1731442454,\n",
      "    \"expires_at\": null,\n",
      "    \"failed_at\": 1731442472,\n",
      "    \"incomplete_details\": null,\n",
      "    \"instructions\": \"What is the latest closing price for MSFT? What is my total investment for MSFT as of today?\",\n",
      "    \"last_error\": {\n",
      "        \"code\": \"rate_limit_exceeded\",\n",
      "        \"message\": \"Rate limit is exceeded. Try again in 43 seconds.\"\n",
      "    },\n",
      "    \"max_completion_tokens\": null,\n",
      "    \"max_prompt_tokens\": null,\n",
      "    \"metadata\": {},\n",
      "    \"model\": \"gpt-4o\",\n",
      "    \"object\": \"thread.run\",\n",
      "    \"required_action\": null,\n",
      "    \"response_format\": \"auto\",\n",
      "    \"started_at\": 1731442460,\n",
      "    \"status\": \"failed\",\n",
      "    \"thread_id\": \"thread_nNEa3nenX9EG7xdtnc8md9xA\",\n",
      "    \"tool_choice\": \"auto\",\n",
      "    \"tools\": [\n",
      "        {\n",
      "            \"type\": \"code_interpreter\"\n",
      "        },\n",
      "        {\n",
      "            \"function\": {\n",
      "                \"name\": \"fetch_stock_price\",\n",
      "                \"description\": \"Retrieve the latest closing price of a stock using its ticker symbol.\",\n",
      "                \"parameters\": {\n",
      "                    \"type\": \"object\",\n",
      "                    \"properties\": {\n",
      "                        \"ticker_symbol\": {\n",
      "                            \"type\": \"string\",\n",
      "                            \"description\": \"The ticker symbol of the stock\"\n",
      "                        }\n",
      "                    },\n",
      "                    \"required\": [\n",
      "                        \"ticker_symbol\"\n",
      "                    ]\n",
      "                },\n",
      "                \"strict\": false\n",
      "            },\n",
      "            \"type\": \"function\"\n",
      "        }\n",
      "    ],\n",
      "    \"truncation_strategy\": {\n",
      "        \"type\": \"auto\",\n",
      "        \"last_messages\": null\n",
      "    },\n",
      "    \"usage\": {\n",
      "        \"completion_tokens\": 171,\n",
      "        \"prompt_tokens\": 523,\n",
      "        \"total_tokens\": 694\n",
      "    },\n",
      "    \"temperature\": 1.0,\n",
      "    \"top_p\": 1.0,\n",
      "    \"tool_resources\": {},\n",
      "    \"parallel_tool_calls\": true\n",
      "}\n",
      "Assistant run failed. Please try again.\n"
     ]
    }
   ],
   "source": [
    "import json\n",
    "import time\n",
    "\n",
    "\n",
    "available_functions = {\"fetch_stock_price\": fetch_stock_price}\n",
    "\n",
    "while True:\n",
    "\n",
    "    # Retrieve the run status\n",
    "    run = openai_client.beta.threads.runs.retrieve(\n",
    "        thread_id=thread.id,\n",
    "        run_id=run.id\n",
    "    )\n",
    "    print(run.model_dump_json(indent=4))\n",
    "\n",
    "    if run.status == \"failed\":\n",
    "         print(\"Assistant run failed. Please try again.\")\n",
    "         break\n",
    "    elif run.status == \"completed\":\n",
    "        messages = openai_client.beta.threads.messages.list(thread_id=thread.id)\n",
    "\n",
    "        # Loop through messages and print content based on role\n",
    "        for msg in messages.data:\n",
    "            role = msg.role\n",
    "            content = msg.content[0].text.value\n",
    "            print(f\"{role.capitalize()}: {content}\")\n",
    "        break\n",
    "    elif run.status == \"requires_action\":\n",
    "        print(\"Function Calling ...\")\n",
    "        tool_responses = []\n",
    "        if (\n",
    "            run.required_action.type == \"submit_tool_outputs\"\n",
    "            and run.required_action.submit_tool_outputs.tool_calls is not None\n",
    "        ):\n",
    "            tool_calls = run.required_action.submit_tool_outputs.tool_calls\n",
    "\n",
    "            for call in tool_calls:\n",
    "                if call.type == \"function\":\n",
    "                    if call.function.name not in available_functions:\n",
    "                        raise Exception(\"Function requested by the model does not exist\")\n",
    "                    function_to_call = available_functions[call.function.name]\n",
    "                    tool_response = function_to_call(**json.loads(call.function.arguments))\n",
    "                    tool_responses.append({\"tool_call_id\": call.id, \"output\": tool_response})\n",
    "                    print(f\"Function '{call.function.name}' called successfully. \\nOutput: {tool_response}\\n\")\n",
    "\n",
    "        run = openai_client.beta.threads.runs.submit_tool_outputs(\n",
    "            thread_id=thread.id, run_id=run.id, tool_outputs=tool_responses\n",
    "        )\n",
    "\n",
    "        print(\"Function called successfully.\")\n",
    "    else:\n",
    "            print(\"Waiting for the Assistant to process...\")\n",
    "            time.sleep(5)"
   ]
  },
  {
   "cell_type": "markdown",
   "metadata": {},
   "source": [
    "## **Cleanup Resources**\n",
    "To avoid creating redundant resources and ensure a clean environment, this cell deletes the assistant, thread, and any other created resources. Run this cell at the end of your session to clean up.\n"
   ]
  },
  {
   "cell_type": "code",
   "execution_count": 60,
   "metadata": {},
   "outputs": [
    {
     "name": "stdout",
     "output_type": "stream",
     "text": [
      "AssistantDeleted(id='asst_0F1BeDTYLExyx8GfFpuJCrsT', deleted=True, object='assistant.deleted')\n"
     ]
    }
   ],
   "source": [
    "response = openai_client.beta.assistants.delete(assistant.id)\n",
    "print(response)\n",
    "\n",
    "# Optionally delete any other temporary files or datas\n",
    "# Note: Any uploaded files to OpenAI could also be cleaned up if needed\n"
   ]
  },
  {
   "cell_type": "markdown",
   "metadata": {},
   "source": [
    "----------------\n",
    "\n",
    "## Scratch Pad"
   ]
  },
  {
   "cell_type": "code",
   "execution_count": 61,
   "metadata": {},
   "outputs": [
    {
     "data": {
      "text/plain": [
       "'\\nimport time\\nfrom IPython.display import clear_output\\n\\nstart_time = time.time()\\n\\nstatus = run.status\\n\\nwhile status not in [\"completed\", \"cancelled\", \"expired\", \"failed\"]:\\n    time.sleep(5)\\n    run = openai_client.beta.threads.runs.retrieve(thread_id=thread.id,run_id=run.id)\\n    print(\"Elapsed time: {} minutes {} seconds\".format(int((time.time() - start_time) // 60), int((time.time() - start_time) % 60)))\\n    status = run.status\\n    print(f\\'Status: {status}\\')\\n    clear_output(wait=True)\\n\\nmessages = openai_client.beta.threads.messages.list(\\n  thread_id=thread.id\\n) \\n\\nprint(f\\'Status: {status}\\')\\nprint(\"Elapsed time: {} minutes {} seconds\".format(int((time.time() - start_time) // 60), int((time.time() - start_time) % 60)))\\nprint(messages.model_dump_json(indent=2))\\n'"
      ]
     },
     "execution_count": 61,
     "metadata": {},
     "output_type": "execute_result"
    }
   ],
   "source": [
    "\"\"\"\n",
    "import time\n",
    "from IPython.display import clear_output\n",
    "\n",
    "start_time = time.time()\n",
    "\n",
    "status = run.status\n",
    "\n",
    "while status not in [\"completed\", \"cancelled\", \"expired\", \"failed\"]:\n",
    "    time.sleep(5)\n",
    "    run = openai_client.beta.threads.runs.retrieve(thread_id=thread.id,run_id=run.id)\n",
    "    print(\"Elapsed time: {} minutes {} seconds\".format(int((time.time() - start_time) // 60), int((time.time() - start_time) % 60)))\n",
    "    status = run.status\n",
    "    print(f'Status: {status}')\n",
    "    clear_output(wait=True)\n",
    "\n",
    "messages = openai_client.beta.threads.messages.list(\n",
    "  thread_id=thread.id\n",
    ") \n",
    "\n",
    "print(f'Status: {status}')\n",
    "print(\"Elapsed time: {} minutes {} seconds\".format(int((time.time() - start_time) // 60), int((time.time() - start_time) % 60)))\n",
    "print(messages.model_dump_json(indent=2))\n",
    "\"\"\""
   ]
  },
  {
   "cell_type": "markdown",
   "metadata": {},
   "source": [
    "Everything after deployment --- everything else should be in notebook (data plane - private endpoint) --- before should not, its control plane (public only)\n",
    "\n",
    "1. Portal Creation for Deployment (note iteration two, bicep code??)\n",
    "2. Assistant Creation (API)\n",
    "    - code to do it not portal (delete for cleanup)\n",
    "3. Create Thread, Message, Thread run (instructs assistant to create messages) - wait for complete (look at SDK to do this), Listing Messages, Check history of the thread (will see my message, and one from assistant) first message response will be answer (POST/THREADS, POST/THREADS Messages, POST Threads thr)\n",
    "    - POST /threads\n",
    "    - POST /threads/:thread_id/messages\n",
    "    - POST /threads/:thread_id/runs\n",
    "    - GET /threads/:thread_id/runs/:run_id\n",
    "    - GET /threads/:thread_id/messages\n",
    "4. "
   ]
  }
 ],
 "metadata": {
  "kernelspec": {
   "display_name": ".env",
   "language": "python",
   "name": "python3"
  },
  "language_info": {
   "codemirror_mode": {
    "name": "ipython",
    "version": 3
   },
   "file_extension": ".py",
   "mimetype": "text/x-python",
   "name": "python",
   "nbconvert_exporter": "python",
   "pygments_lexer": "ipython3",
   "version": "3.12.7"
  }
 },
 "nbformat": 4,
 "nbformat_minor": 2
}
