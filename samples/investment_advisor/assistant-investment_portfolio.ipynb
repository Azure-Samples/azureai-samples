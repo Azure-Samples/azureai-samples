{
 "cells": [
  {
   "cell_type": "markdown",
   "metadata": {},
   "source": [
    "# **Investment Portfolio Management**"
   ]
  },
  {
   "cell_type": "markdown",
   "metadata": {},
   "source": [
    "## **About the scenario**\n",
    "This scenario demonstrates best practices in a data engineering context, where notebooks are used to orchestrate complex tasks involving real-time data fetching, computation, and report delivery. The notebook is modular, and secure, employing batch processing, error handling, and proper separation of concerns.\n",
    "\n",
    "In this scenario, we will:\n",
    "\n",
    "1. Ingest a CSV file containing the user’s investment portfolio.\n",
    "2. Fetch real-time stock prices via an API using *Function Calling*.\n",
    "3. Perform calculations on the portfolio, including total value and percentage changes, using *Code Interpreter*.\n",
    "4. Generate a detailed report summarizing the portfolio's performance.\n",
    "5. Save the report to Azure Blob Storage using *Function Calling*."
   ]
  },
  {
   "cell_type": "markdown",
   "metadata": {},
   "source": [
    "## **Time**\n",
    "You should expect to spend 10-15 minutes building and running this scenario. "
   ]
  },
  {
   "cell_type": "markdown",
   "metadata": {},
   "source": [
    "## **Before you begin**"
   ]
  },
  {
   "cell_type": "markdown",
   "metadata": {},
   "source": [
    "#### Step 1: Install required libraries\n",
    "Including a cell to install dependencies directly within a Jupyter notebook is a good practice because it ensures that all required packages are installed in the correct versions, making the notebook self-contained and reproducible. This approach helps other users or collaborators to set up the environment quickly and avoid potential issues related to missing or incompatible packages."
   ]
  },
  {
   "cell_type": "code",
   "execution_count": null,
   "metadata": {},
   "outputs": [
    {
     "name": "stdout",
     "output_type": "stream",
     "text": [
      "Requirement already satisfied: pandas==2.2.3 in c:\\developer\\repos\\github\\azure-ai-agents\\samples\\investment_advisor\\.venv\\lib\\site-packages (from -r ./requirements.txt (line 1)) (2.2.3)\n",
      "Requirement already satisfied: yfinance==0.2.48 in c:\\developer\\repos\\github\\azure-ai-agents\\samples\\investment_advisor\\.venv\\lib\\site-packages (from -r ./requirements.txt (line 2)) (0.2.48)\n",
      "Requirement already satisfied: openai==1.30.1 in c:\\developer\\repos\\github\\azure-ai-agents\\samples\\investment_advisor\\.venv\\lib\\site-packages (from -r ./requirements.txt (line 3)) (1.30.1)\n",
      "Requirement already satisfied: python-dotenv==1.0.1 in c:\\developer\\repos\\github\\azure-ai-agents\\samples\\investment_advisor\\.venv\\lib\\site-packages (from -r ./requirements.txt (line 4)) (1.0.1)\n",
      "Requirement already satisfied: numpy>=1.26.0 in c:\\developer\\repos\\github\\azure-ai-agents\\samples\\investment_advisor\\.venv\\lib\\site-packages (from pandas==2.2.3->-r ./requirements.txt (line 1)) (2.1.3)\n",
      "Requirement already satisfied: python-dateutil>=2.8.2 in c:\\developer\\repos\\github\\azure-ai-agents\\samples\\investment_advisor\\.venv\\lib\\site-packages (from pandas==2.2.3->-r ./requirements.txt (line 1)) (2.9.0.post0)\n",
      "Requirement already satisfied: pytz>=2020.1 in c:\\developer\\repos\\github\\azure-ai-agents\\samples\\investment_advisor\\.venv\\lib\\site-packages (from pandas==2.2.3->-r ./requirements.txt (line 1)) (2024.2)\n",
      "Requirement already satisfied: tzdata>=2022.7 in c:\\developer\\repos\\github\\azure-ai-agents\\samples\\investment_advisor\\.venv\\lib\\site-packages (from pandas==2.2.3->-r ./requirements.txt (line 1)) (2024.2)\n",
      "Requirement already satisfied: requests>=2.31 in c:\\developer\\repos\\github\\azure-ai-agents\\samples\\investment_advisor\\.venv\\lib\\site-packages (from yfinance==0.2.48->-r ./requirements.txt (line 2)) (2.32.3)\n",
      "Requirement already satisfied: multitasking>=0.0.7 in c:\\developer\\repos\\github\\azure-ai-agents\\samples\\investment_advisor\\.venv\\lib\\site-packages (from yfinance==0.2.48->-r ./requirements.txt (line 2)) (0.0.11)\n",
      "Requirement already satisfied: lxml>=4.9.1 in c:\\developer\\repos\\github\\azure-ai-agents\\samples\\investment_advisor\\.venv\\lib\\site-packages (from yfinance==0.2.48->-r ./requirements.txt (line 2)) (5.3.0)\n",
      "Requirement already satisfied: platformdirs>=2.0.0 in c:\\developer\\repos\\github\\azure-ai-agents\\samples\\investment_advisor\\.venv\\lib\\site-packages (from yfinance==0.2.48->-r ./requirements.txt (line 2)) (4.3.6)\n",
      "Requirement already satisfied: frozendict>=2.3.4 in c:\\developer\\repos\\github\\azure-ai-agents\\samples\\investment_advisor\\.venv\\lib\\site-packages (from yfinance==0.2.48->-r ./requirements.txt (line 2)) (2.4.6)\n",
      "Requirement already satisfied: peewee>=3.16.2 in c:\\developer\\repos\\github\\azure-ai-agents\\samples\\investment_advisor\\.venv\\lib\\site-packages (from yfinance==0.2.48->-r ./requirements.txt (line 2)) (3.17.8)\n",
      "Requirement already satisfied: beautifulsoup4>=4.11.1 in c:\\developer\\repos\\github\\azure-ai-agents\\samples\\investment_advisor\\.venv\\lib\\site-packages (from yfinance==0.2.48->-r ./requirements.txt (line 2)) (4.12.3)\n",
      "Requirement already satisfied: html5lib>=1.1 in c:\\developer\\repos\\github\\azure-ai-agents\\samples\\investment_advisor\\.venv\\lib\\site-packages (from yfinance==0.2.48->-r ./requirements.txt (line 2)) (1.1)\n",
      "Requirement already satisfied: anyio<5,>=3.5.0 in c:\\developer\\repos\\github\\azure-ai-agents\\samples\\investment_advisor\\.venv\\lib\\site-packages (from openai==1.30.1->-r ./requirements.txt (line 3)) (4.6.2.post1)\n",
      "Requirement already satisfied: distro<2,>=1.7.0 in c:\\developer\\repos\\github\\azure-ai-agents\\samples\\investment_advisor\\.venv\\lib\\site-packages (from openai==1.30.1->-r ./requirements.txt (line 3)) (1.9.0)\n",
      "Requirement already satisfied: httpx<1,>=0.23.0 in c:\\developer\\repos\\github\\azure-ai-agents\\samples\\investment_advisor\\.venv\\lib\\site-packages (from openai==1.30.1->-r ./requirements.txt (line 3)) (0.27.2)\n",
      "Requirement already satisfied: pydantic<3,>=1.9.0 in c:\\developer\\repos\\github\\azure-ai-agents\\samples\\investment_advisor\\.venv\\lib\\site-packages (from openai==1.30.1->-r ./requirements.txt (line 3)) (2.9.2)\n",
      "Requirement already satisfied: sniffio in c:\\developer\\repos\\github\\azure-ai-agents\\samples\\investment_advisor\\.venv\\lib\\site-packages (from openai==1.30.1->-r ./requirements.txt (line 3)) (1.3.1)\n",
      "Requirement already satisfied: tqdm>4 in c:\\developer\\repos\\github\\azure-ai-agents\\samples\\investment_advisor\\.venv\\lib\\site-packages (from openai==1.30.1->-r ./requirements.txt (line 3)) (4.67.0)\n",
      "Requirement already satisfied: typing-extensions<5,>=4.7 in c:\\developer\\repos\\github\\azure-ai-agents\\samples\\investment_advisor\\.venv\\lib\\site-packages (from openai==1.30.1->-r ./requirements.txt (line 3)) (4.12.2)\n",
      "Requirement already satisfied: idna>=2.8 in c:\\developer\\repos\\github\\azure-ai-agents\\samples\\investment_advisor\\.venv\\lib\\site-packages (from anyio<5,>=3.5.0->openai==1.30.1->-r ./requirements.txt (line 3)) (3.10)\n",
      "Requirement already satisfied: soupsieve>1.2 in c:\\developer\\repos\\github\\azure-ai-agents\\samples\\investment_advisor\\.venv\\lib\\site-packages (from beautifulsoup4>=4.11.1->yfinance==0.2.48->-r ./requirements.txt (line 2)) (2.6)\n",
      "Requirement already satisfied: six>=1.9 in c:\\developer\\repos\\github\\azure-ai-agents\\samples\\investment_advisor\\.venv\\lib\\site-packages (from html5lib>=1.1->yfinance==0.2.48->-r ./requirements.txt (line 2)) (1.16.0)\n",
      "Requirement already satisfied: webencodings in c:\\developer\\repos\\github\\azure-ai-agents\\samples\\investment_advisor\\.venv\\lib\\site-packages (from html5lib>=1.1->yfinance==0.2.48->-r ./requirements.txt (line 2)) (0.5.1)\n",
      "Requirement already satisfied: certifi in c:\\developer\\repos\\github\\azure-ai-agents\\samples\\investment_advisor\\.venv\\lib\\site-packages (from httpx<1,>=0.23.0->openai==1.30.1->-r ./requirements.txt (line 3)) (2024.8.30)\n",
      "Requirement already satisfied: httpcore==1.* in c:\\developer\\repos\\github\\azure-ai-agents\\samples\\investment_advisor\\.venv\\lib\\site-packages (from httpx<1,>=0.23.0->openai==1.30.1->-r ./requirements.txt (line 3)) (1.0.6)\n",
      "Requirement already satisfied: h11<0.15,>=0.13 in c:\\developer\\repos\\github\\azure-ai-agents\\samples\\investment_advisor\\.venv\\lib\\site-packages (from httpcore==1.*->httpx<1,>=0.23.0->openai==1.30.1->-r ./requirements.txt (line 3)) (0.14.0)\n",
      "Requirement already satisfied: annotated-types>=0.6.0 in c:\\developer\\repos\\github\\azure-ai-agents\\samples\\investment_advisor\\.venv\\lib\\site-packages (from pydantic<3,>=1.9.0->openai==1.30.1->-r ./requirements.txt (line 3)) (0.7.0)\n",
      "Requirement already satisfied: pydantic-core==2.23.4 in c:\\developer\\repos\\github\\azure-ai-agents\\samples\\investment_advisor\\.venv\\lib\\site-packages (from pydantic<3,>=1.9.0->openai==1.30.1->-r ./requirements.txt (line 3)) (2.23.4)\n",
      "Requirement already satisfied: charset-normalizer<4,>=2 in c:\\developer\\repos\\github\\azure-ai-agents\\samples\\investment_advisor\\.venv\\lib\\site-packages (from requests>=2.31->yfinance==0.2.48->-r ./requirements.txt (line 2)) (3.4.0)\n",
      "Requirement already satisfied: urllib3<3,>=1.21.1 in c:\\developer\\repos\\github\\azure-ai-agents\\samples\\investment_advisor\\.venv\\lib\\site-packages (from requests>=2.31->yfinance==0.2.48->-r ./requirements.txt (line 2)) (2.2.3)\n",
      "Requirement already satisfied: colorama in c:\\developer\\repos\\github\\azure-ai-agents\\samples\\investment_advisor\\.venv\\lib\\site-packages (from tqdm>4->openai==1.30.1->-r ./requirements.txt (line 3)) (0.4.6)\n",
      "Note: you may need to restart the kernel to use updated packages.\n"
     ]
    }
   ],
   "source": [
    "# Install the packages\n",
    "%pip install -r ./requirements.txt"
   ]
  },
  {
   "cell_type": "markdown",
   "metadata": {},
   "source": [
    "#### Step 2: Setting up the environment\n",
    "\n",
    "Before we begin, we'll load necessary environment variables from a `.env` file. These variables contain sensitive information such as API keys and endpoint URLs. Ensure your `.env` file is properly configured in the `.venv/.env` format. "
   ]
  },
  {
   "cell_type": "code",
   "execution_count": 202,
   "metadata": {},
   "outputs": [
    {
     "name": "stdout",
     "output_type": "stream",
     "text": [
      "Environment variables loaded successfully.\n"
     ]
    }
   ],
   "source": [
    "import os\n",
    "from dotenv import load_dotenv\n",
    "\n",
    "# Load environment variables from .env file\n",
    "load_dotenv(dotenv_path=\".venv/.env\")\n",
    "\n",
    "# Retrieve the secrets\n",
    "__AZURE_OPENAI_API_KEY = os.getenv(\"AZURE_OPENAI_API_KEY\")\n",
    "__AZURE_OPENAI_ENDPOINT = os.getenv(\"AZURE_OPENAI_ENDPOINT\")\n",
    "__AZURE_OPENAI_DEPLOYMENT = os.getenv(\"AZURE_OPENAI_DEPLOYMENT\")\n",
    "__AZURE_OPENAI_API_VERSION = os.getenv(\"AZURE_OPENAI_API_VERSION\")\n",
    "\n",
    "# Verify environment variables\n",
    "if not all([__AZURE_OPENAI_API_KEY, __AZURE_OPENAI_ENDPOINT, __AZURE_OPENAI_DEPLOYMENT, __AZURE_OPENAI_API_VERSION]):\n",
    "    raise EnvironmentError(\"One or more environment variables are missing. Please check the .env file.\")\n",
    "\n",
    "print(\"Environment variables loaded successfully.\")"
   ]
  },
  {
   "cell_type": "markdown",
   "metadata": {},
   "source": [
    "## **Azure OpenAI setup**"
   ]
  },
  {
   "cell_type": "markdown",
   "metadata": {},
   "source": [
    "#### Step 1: Initializing the Azure OpenAI Client\n",
    "\n",
    "Next, we’ll initialize the Azure OpenAI client. This client allows us to interact with Azure OpenAI's file management APIs. You’ll need your API key, endpoint, and API version, which we just loaded from the environment."
   ]
  },
  {
   "cell_type": "code",
   "execution_count": 203,
   "metadata": {},
   "outputs": [
    {
     "name": "stdout",
     "output_type": "stream",
     "text": [
      "AzureOpenAI client initialized.\n"
     ]
    }
   ],
   "source": [
    "from openai import AzureOpenAI, OpenAIError\n",
    "\n",
    "# Initialize the AzureOpenAI client\n",
    "try:\n",
    "    openai_client = AzureOpenAI(\n",
    "        api_key=__AZURE_OPENAI_API_KEY,\n",
    "        api_version=__AZURE_OPENAI_API_VERSION,\n",
    "        azure_endpoint=__AZURE_OPENAI_ENDPOINT\n",
    "    )\n",
    "    print(\"AzureOpenAI client initialized.\")\n",
    "except OpenAIError as e:\n",
    "    raise ConnectionError(f\"Failed to initialize AzureOpenAI client: {e}\")\n"
   ]
  },
  {
   "cell_type": "markdown",
   "metadata": {},
   "source": [
    "#### Step 2: Upload supporting file to Azure OpenAI deployment\n",
    "\n",
    "Now, we'll upload the `investment_portfolio.csv` file from the `\\data` directory to Azure OpenAI, ensuring any duplicates are removed beforehand. This process will handle the entire upload. The file is necessary for this scenario, but its contents can be modified as long as the file structure remains unchanged."
   ]
  },
  {
   "cell_type": "code",
   "execution_count": null,
   "metadata": {},
   "outputs": [
    {
     "name": "stdout",
     "output_type": "stream",
     "text": [
      "Deleted existing file: investment_portfolio.csv\n",
      "Uploaded file: investment_portfolio.csv\n"
     ]
    }
   ],
   "source": [
    "# Directory containing files to upload\n",
    "directory=\"data\"\n",
    "portfolio_file=\"investment_portfolio.csv\"\n",
    "\n",
    "# Check if the directory exists\n",
    "if not os.path.isdir(directory):\n",
    "    print(f\"Directory '{directory}' does not exist.\")\n",
    "    raise FileNotFoundError(f\"Directory '{directory}' does not exist.\")\n",
    "\n",
    "file_path = os.path.join(directory, portfolio_file)\n",
    "\n",
    "# Check if the file exists\n",
    "if not os.path.isfile(file_path):\n",
    "    print(f\"Skipping non-file item: {portfolio_file}\")\n",
    "\n",
    "try:\n",
    "    # Delete existing file on Azure if it has the same name and purpose\n",
    "    existing_files = openai_client.files.list()\n",
    "    for f in existing_files:\n",
    "        if f.filename == portfolio_file and f.purpose == \"assistants\":\n",
    "            openai_client.files.delete(file_id=f.id)\n",
    "            print(f\"Deleted existing file: {portfolio_file}\")\n",
    "\n",
    "    # Upload new file\n",
    "    with open(file_path, \"rb\") as file_data:\n",
    "        openai_client.files.create(file=file_data, purpose=\"assistants\")\n",
    "    print(f\"Uploaded file: {portfolio_file}\")\n",
    "\n",
    "except OpenAIError as e:\n",
    "    print(f\"Error processing file '{portfolio_file}': {e}\")\n",
    "except Exception as e:\n",
    "    print(f\"Unexpected error with file '{portfolio_file}': {e}\")"
   ]
  },
  {
   "cell_type": "markdown",
   "metadata": {},
   "source": [
    "## **Azure OpenAI Assistant**"
   ]
  },
  {
   "cell_type": "markdown",
   "metadata": {},
   "source": [
    "### Step 1: Define function for Assistant\n",
    "The `fetch_stock_price` function retrieves the stock data for a specified `ticker symbol` using the `yfinance` library, specifically pulling the latest data for the last trading day."
   ]
  },
  {
   "cell_type": "code",
   "execution_count": 228,
   "metadata": {},
   "outputs": [
    {
     "name": "stdout",
     "output_type": "stream",
     "text": [
      "Function defined successfully.\n"
     ]
    }
   ],
   "source": [
    "import yfinance as yf\n",
    "\n",
    "def fetch_stock_price(ticker_symbol):\n",
    "    \"\"\"\n",
    "    Fetch the latest stock price for a given ticker symbol.\n",
    "\n",
    "    Parameters:\n",
    "    - ticker_symbol (str): The ticker symbol of the stock to retrieve data for.\n",
    "\n",
    "    Returns:\n",
    "    - str: The closing price of the stock for the latest trading day, or an error message if data is unavailable.\n",
    "\n",
    "    Example:\n",
    "    >>> fetch_stock_price(\"AAPL\")\n",
    "    \"148.9\"\n",
    "    \"\"\"\n",
    "    \n",
    "    try:\n",
    "        # Fetch the stock's trading history for the last day\n",
    "        stock = yf.Ticker(ticker_symbol)\n",
    "        stock_data = stock.history(period=\"1d\")\n",
    "\n",
    "        # Check if the data is empty, indicating an invalid ticker or no data available\n",
    "        if stock_data.empty:\n",
    "            return f\"Error: No data found for ticker symbol: {ticker_symbol}\"\n",
    "\n",
    "        # Retrieve and return the latest closing price\n",
    "        latest_close_price = stock_data['Close'].iloc[-1]\n",
    "        return str(round(latest_close_price, 3))\n",
    "\n",
    "    except KeyError as e:\n",
    "        return f\"Error: Data missing for key: {e}. Verify the ticker symbol.\"\n",
    "\n",
    "    except Exception as e:\n",
    "        return f\"Error: Unexpected issue occurred - {type(e).__name__}: {e}\"\n",
    "    \n",
    "print(\"Function defined successfully.\")"
   ]
  },
  {
   "cell_type": "markdown",
   "metadata": {},
   "source": [
    "### Step 2: Define Function Calling tool for Assistant\n",
    "Create the `fetch_stock_price` function configuration to be used within the code interpreter. By adding this tool to the Assistant, we enable it to retrieve and interpret stock data when a user prompts it with related queries."
   ]
  },
  {
   "cell_type": "code",
   "execution_count": 206,
   "metadata": {},
   "outputs": [
    {
     "name": "stdout",
     "output_type": "stream",
     "text": [
      "Tools list defined successfully.\n"
     ]
    }
   ],
   "source": [
    "tools_list = [\n",
    "    {\"type\": \"code_interpreter\"},\n",
    "    {\n",
    "        \"type\": \"function\",\n",
    "        \"function\": {\n",
    "            \"name\": \"fetch_stock_price\",\n",
    "            \"description\": \"Retrieve the latest closing price of a stock using its ticker symbol.\",\n",
    "            \"parameters\": {\n",
    "                \"type\": \"object\",\n",
    "                \"properties\": {\"ticker_symbol\": {\"type\": \"string\", \"description\": \"The ticker symbol of the stock\"}},\n",
    "                \"required\": [\"ticker_symbol\"],\n",
    "            },\n",
    "        },\n",
    "    }\n",
    "]\n",
    "\n",
    "print(\"Tools list defined successfully.\")"
   ]
  },
  {
   "cell_type": "markdown",
   "metadata": {},
   "source": [
    "### Step 3: Creating the Investment Management Assistant\n",
    "In this step, we create an assistant equipped with specialized tools, including a code interpreter, to handle investment-related queries and utilize the previously defined function calls. This assistant will analyze the uploaded portfolio file and offer valuable insights."
   ]
  },
  {
   "cell_type": "code",
   "execution_count": 230,
   "metadata": {},
   "outputs": [
    {
     "name": "stdout",
     "output_type": "stream",
     "text": [
      "Assistant created successfully.\n"
     ]
    }
   ],
   "source": [
    "# Create the assistant with code interpreter enabled\n",
    "try:\n",
    "    assistant = openai_client.beta.assistants.create(\n",
    "        name=\"Investment Management Assistant\",\n",
    "        instructions=(\n",
    "            \"You are an expert investment analyst. \"\n",
    "            \"Use your knowledge base to answer questions about personal investment portfolio management.\"\n",
    "        ),\n",
    "        model=__AZURE_OPENAI_DEPLOYMENT,\n",
    "        tools=tools_list\n",
    "    )\n",
    "    print(\"Assistant created successfully.\")\n",
    "except OpenAIError as e:\n",
    "    print(\"Error creating assistant:\", e)"
   ]
  },
  {
   "cell_type": "markdown",
   "metadata": {},
   "source": [
    "## **Query Assistant**"
   ]
  },
  {
   "cell_type": "markdown",
   "metadata": {},
   "source": [
    "### Step 1: Starting a New Conversation Thread\n",
    "Let's create a new thread to handle user interactions. Each thread allows for a dedicated conversation with the assistant."
   ]
  },
  {
   "cell_type": "code",
   "execution_count": 208,
   "metadata": {},
   "outputs": [
    {
     "name": "stdout",
     "output_type": "stream",
     "text": [
      "Thread created: Thread(id='thread_5vg4RVr6m1PLLD5LwfNhdtMg', created_at=1731527292, metadata={}, object='thread', tool_resources=ToolResources(code_interpreter=None, file_search=None))\n"
     ]
    }
   ],
   "source": [
    "# Create a conversation thread\n",
    "try:\n",
    "    thread = openai_client.beta.threads.create()\n",
    "    print(\"Thread created:\", thread)\n",
    "except OpenAIError as e:\n",
    "    print(\"Error creating thread:\", e)"
   ]
  },
  {
   "cell_type": "markdown",
   "metadata": {},
   "source": [
    "### Step 2: Adding User Message\n",
    "In this step, we add a question to the thread. For this demonstration, we're asking which stock ticker has the most investment in the portfolio."
   ]
  },
  {
   "cell_type": "code",
   "execution_count": 209,
   "metadata": {},
   "outputs": [
    {
     "name": "stdout",
     "output_type": "stream",
     "text": [
      "User question added: Message(id='msg_JeT18F1yiXMnjQpDWEeUXHwE', assistant_id=None, attachments=[Attachment(file_id='assistant-cOAyVn8FSeCER5PL0ruwAOK9', tools=[CodeInterpreterTool(type='code_interpreter')])], completed_at=None, content=[TextContentBlock(text=Text(annotations=[], value='What is the latest closing price for MSFT? What is my total investment for MSFT as of today?'), type='text')], created_at=1731527292, incomplete_at=None, incomplete_details=None, metadata={}, object='thread.message', role='user', run_id=None, status=None, thread_id='thread_5vg4RVr6m1PLLD5LwfNhdtMg')\n"
     ]
    }
   ],
   "source": [
    "# Define the user question\n",
    "#prompt_content = \"What ticker symbol has the most stock? Which has the most investment?\"\n",
    "\n",
    "#prompt_content = \"What is the latest closing price of AAPL?\"\n",
    "\n",
    "prompt_content = \"What is the latest closing price for MSFT? What is my total investment for MSFT as of today?\"\n",
    "\n",
    "# Add the question to the thread\n",
    "try:\n",
    "    message = openai_client.beta.threads.messages.create(\n",
    "        thread_id=thread.id,\n",
    "        role=\"user\",\n",
    "        content=prompt_content,\n",
    "        attachments=[  # Add files by using the attachments parameter\n",
    "            {\"file_id\": portfolio_file.id, \"tools\": [{\"type\": \"code_interpreter\"}]}\n",
    "        ],\n",
    "    )\n",
    "    print(\"User question added:\", message)\n",
    "except OpenAIError as e:\n",
    "    print(\"Error adding user question:\", e)\n"
   ]
  },
  {
   "cell_type": "markdown",
   "metadata": {},
   "source": [
    "### Step 3: Running the Assistant\n",
    "Now that the assistant and thread are set up, we'll initiate the assistant's response process. This will analyze the user prompt and provide insights based on the investment portfolio data.\n"
   ]
  },
  {
   "cell_type": "code",
   "execution_count": 210,
   "metadata": {},
   "outputs": [
    {
     "name": "stdout",
     "output_type": "stream",
     "text": [
      "Run started: Run(id='run_emdA243wUC3jMMwwfywNcfWM', assistant_id='asst_dy9pQwPHiMh5iw2URC1eA5j8', cancelled_at=None, completed_at=None, created_at=1731527293, expires_at=1731527893, failed_at=None, incomplete_details=None, instructions='What is the latest closing price for MSFT? What is my total investment for MSFT as of today?', last_error=None, max_completion_tokens=None, max_prompt_tokens=None, metadata={}, model='gpt-4o', object='thread.run', required_action=None, response_format='auto', started_at=None, status='queued', thread_id='thread_5vg4RVr6m1PLLD5LwfNhdtMg', tool_choice='auto', tools=[CodeInterpreterTool(type='code_interpreter'), FunctionTool(function=FunctionDefinition(name='fetch_stock_price', description='Retrieve the latest closing price of a stock using its ticker symbol.', parameters={'type': 'object', 'properties': {'ticker_symbol': {'type': 'string', 'description': 'The ticker symbol of the stock'}}, 'required': ['ticker_symbol']}, strict=False), type='function')], truncation_strategy=TruncationStrategy(type='auto', last_messages=None), usage=None, temperature=1.0, top_p=1.0, tool_resources={}, parallel_tool_calls=True)\n"
     ]
    }
   ],
   "source": [
    "# Initiate the assistant's response\n",
    "try:\n",
    "    run = openai_client.beta.threads.runs.create(\n",
    "        thread_id=thread.id,\n",
    "        assistant_id=assistant.id,\n",
    "        instructions=prompt_content,\n",
    "    )\n",
    "    print(\"Run started:\", run)\n",
    "except OpenAIError as e:\n",
    "    print(\"Error starting run:\", e)"
   ]
  },
  {
   "cell_type": "markdown",
   "metadata": {},
   "source": [
    " Define the dictionary `available_functions` that maps function names to their corresponding implementations, in this case, fetch_stock_price"
   ]
  },
  {
   "cell_type": "code",
   "execution_count": 211,
   "metadata": {},
   "outputs": [],
   "source": [
    "available_functions = {\"fetch_stock_price\": fetch_stock_price}"
   ]
  },
  {
   "cell_type": "markdown",
   "metadata": {},
   "source": [
    "### Step 4: Monitor run status\n",
    "\n",
    "The assistant may take some time to analyze and respond. We'll use a polling loop to periodically check the assistant's status and retrieve the answer once it's available.\n",
    "Generally we use a loop to check the status and perform actions based on the outcome of each check. To understand the status actions more, lets simulate a loops. Click the next 4 cells multiple times to see the progress of the Assitant Run.\n",
    "Retrieves the current status of the OpenAI Assistant run. The status is printed in a formatted JSON string for clarity. Depending on the status of the run, *different actions are taken*."
   ]
  },
  {
   "cell_type": "markdown",
   "metadata": {},
   "source": [
    "*Status: Queued*\n",
    "What does this mean - probably wont use. but explain"
   ]
  },
  {
   "cell_type": "code",
   "execution_count": 221,
   "metadata": {},
   "outputs": [
    {
     "name": "stdout",
     "output_type": "stream",
     "text": [
      "Monitoring the run status...\n",
      "Current Status: completed\n"
     ]
    }
   ],
   "source": [
    "import json\n",
    "\n",
    "# Retrieve the run status\n",
    "run = openai_client.beta.threads.runs.retrieve(\n",
    "    thread_id=thread.id,\n",
    "    run_id=run.id\n",
    ")\n",
    "#print(run.model_dump_json(indent=4))\n",
    "\n",
    "\n",
    "if run.status in ('queued', 'in_progress'):\n",
    "    print(f\"Run this cell again to monitor the status.\\n Current Status: {run.status}\")\n",
    "else:\n",
    "    print(f\"Monitoring the run status...\\nCurrent Status: {run.status}\")"
   ]
  },
  {
   "cell_type": "markdown",
   "metadata": {},
   "source": [
    "#### Step 4a: Failed status\n",
    "\n",
    "IF the status is `failed` we will print the error message with relevant information to aid in troubleshooting."
   ]
  },
  {
   "cell_type": "code",
   "execution_count": 213,
   "metadata": {},
   "outputs": [
    {
     "name": "stdout",
     "output_type": "stream",
     "text": [
      "Assistant run has not failed...\n",
      "Navigate to and execute the 'queued' cell.\n"
     ]
    }
   ],
   "source": [
    "#print(run.model_dump_json(indent=4))\n",
    "\n",
    "if run.status == \"failed\":\n",
    "    print(\"Assistant run failed. Please try again.\")\n",
    "else:\n",
    "    print(f\"Assistant run has not failed...\\nNavigate to and execute the '{run.status}' cell.\")\n"
   ]
  },
  {
   "cell_type": "markdown",
   "metadata": {},
   "source": [
    "#### Step 4b: Requires Action status\n",
    "\n",
    "If the status is `requires_action`, first we need to check if the required action is to submit tool outputs and iterate over the tool calls, ensuring that the requested function exists in the available_functions dictionary. If the function exists, it is called with the provided arguments, and the response is stored. After processing all tool calls, we submit the tool outputs back to the OpenAI client."
   ]
  },
  {
   "cell_type": "code",
   "execution_count": 219,
   "metadata": {},
   "outputs": [
    {
     "name": "stdout",
     "output_type": "stream",
     "text": [
      "Function Calling ...\n",
      "Function 'fetch_stock_price' called successfully. \n",
      "Output: 426.48\n",
      "\n",
      "Results submitted successfully. Go back to the first cell, 'Monitor Run Status' and execute again.\n"
     ]
    }
   ],
   "source": [
    "if run.status == \"requires_action\":\n",
    "    print(\"Function Calling ...\")\n",
    "    tool_responses = []\n",
    "    if (\n",
    "        run.required_action.type == \"submit_tool_outputs\"\n",
    "        and run.required_action.submit_tool_outputs.tool_calls is not None\n",
    "    ):\n",
    "        tool_calls = run.required_action.submit_tool_outputs.tool_calls\n",
    "\n",
    "        for call in tool_calls:\n",
    "            if call.type == \"function\":\n",
    "                if call.function.name not in available_functions:\n",
    "                    raise Exception(\"Function requested by the model does not exist\")\n",
    "                function_to_call = available_functions[call.function.name]\n",
    "                tool_response = function_to_call(**json.loads(call.function.arguments))\n",
    "                tool_responses.append({\"tool_call_id\": call.id, \"output\": tool_response})\n",
    "                print(f\"Function '{call.function.name}' called successfully. \\nOutput: {tool_response}\\n\")\n",
    "\n",
    "    run = openai_client.beta.threads.runs.submit_tool_outputs(\n",
    "        thread_id=thread.id, run_id=run.id, tool_outputs=tool_responses\n",
    "    )\n",
    "\n",
    "    print(f\"Results submitted successfully. Go back to the first cell, 'Monitor Run Status' and execute again.\")\n",
    "else:\n",
    "    print(f\"Navigate to and execute the {run.status} cell.\")"
   ]
  },
  {
   "cell_type": "markdown",
   "metadata": {},
   "source": [
    "#### Step 4c: Completed status\n",
    "\n",
    "If the status is `completed`, we will fetch and print all messages in the thread, displaying the role and content of each message.The messages are printed in reverse order because messages in a thread are in FILO (First-In-Last-Out) order and in order to make the messages more conversational for ease of user reading, we must reverse the order."
   ]
  },
  {
   "cell_type": "code",
   "execution_count": 227,
   "metadata": {},
   "outputs": [
    {
     "name": "stdout",
     "output_type": "stream",
     "text": [
      "Run completed!\n",
      "\n",
      "MESSAGES\n",
      "\n",
      "Assistant: The latest closing price for MSFT (Microsoft) is $426.48.\n",
      "\n",
      "Now, I will calculate your total investment in MSFT. I will first inspect the contents of the file you uploaded.\n",
      "Assistant: The file contains information about your investments. Here are the relevant columns:\n",
      "- Symbol: The ticker symbol of the stock\n",
      "- Average_Cost: The average cost price of the stock\n",
      "- QTY: The quantity of the stock you own\n",
      "\n",
      "Let's calculate your total investment in MSFT as of today.\n",
      "Assistant: Your total investment in MSFT as of today is $127,944.00.\n"
     ]
    }
   ],
   "source": [
    "if run.status == \"completed\":\n",
    "    messages = openai_client.beta.threads.messages.list(thread_id=thread.id, order=\"asc\", after=message.id)\n",
    "\n",
    "    print(f'Run completed!\\n\\nMESSAGES\\n')\n",
    "\n",
    "    # Loop through messages and print content based on role\n",
    "    for msg in messages.data:\n",
    "        role = msg.role\n",
    "        content = msg.content[0].text.value\n",
    "        print(f\"{role.capitalize()}: {content}\")\n",
    "\n",
    "else:\n",
    "    print(f\"Navigate to and execute the {run.status} cell.\")\n",
    "\n"
   ]
  },
  {
   "cell_type": "markdown",
   "metadata": {},
   "source": [
    "#### Next Step / Let's refine \n",
    "Wrap in function - explain the function"
   ]
  },
  {
   "cell_type": "code",
   "execution_count": 216,
   "metadata": {},
   "outputs": [
    {
     "data": {
      "text/plain": [
       "'\\n\\nimport json\\nimport time\\n\\n\\navailable_functions = {\"fetch_stock_price\": fetch_stock_price}\\n\\nwhile True:\\n\\n    # Retrieve the run status\\n    run = openai_client.beta.threads.runs.retrieve(\\n        thread_id=thread.id,\\n        run_id=run.id\\n    )\\n    print(run.model_dump_json(indent=4))\\n\\n    if run.status == \"failed\":\\n         print(\"Assistant run failed. Please try again.\")\\n         break\\n    elif run.status == \"completed\":\\n        messages = openai_client.beta.threads.messages.list(thread_id=thread.id, order=\"asc\")\\n\\n        # Loop through messages and print content based on role\\n        for msg in messages.data:\\n            role = msg.role\\n            content = msg.content[0].text.value\\n            print(f\"{role.capitalize()}: {content}\")\\n        break\\n    elif run.status == \"requires_action\":\\n        print(\"Function Calling ...\")\\n        tool_responses = []\\n        if (\\n            run.required_action.type == \"submit_tool_outputs\"\\n            and run.required_action.submit_tool_outputs.tool_calls is not None\\n        ):\\n            tool_calls = run.required_action.submit_tool_outputs.tool_calls\\n\\n            for call in tool_calls:\\n                if call.type == \"function\":\\n                    if call.function.name not in available_functions:\\n                        raise Exception(\"Function requested by the model does not exist\")\\n                    function_to_call = available_functions[call.function.name]\\n                    tool_response = function_to_call(**json.loads(call.function.arguments))\\n                    tool_responses.append({\"tool_call_id\": call.id, \"output\": tool_response})\\n                    print(f\"Function \\'{call.function.name}\\' called successfully. \\nOutput: {tool_response}\\n\")\\n\\n        run = openai_client.beta.threads.runs.submit_tool_outputs(\\n            thread_id=thread.id, run_id=run.id, tool_outputs=tool_responses\\n        )\\n\\n        print(\"Function called successfully.\")\\n    else:\\n            print(\"Waiting for the Assistant to process...\")\\n            time.sleep(5)\\n'"
      ]
     },
     "execution_count": 216,
     "metadata": {},
     "output_type": "execute_result"
    }
   ],
   "source": [
    "\"\"\"\n",
    "\n",
    "import json\n",
    "import time\n",
    "\n",
    "\n",
    "available_functions = {\"fetch_stock_price\": fetch_stock_price}\n",
    "\n",
    "while True:\n",
    "\n",
    "    # Retrieve the run status\n",
    "    run = openai_client.beta.threads.runs.retrieve(\n",
    "        thread_id=thread.id,\n",
    "        run_id=run.id\n",
    "    )\n",
    "    print(run.model_dump_json(indent=4))\n",
    "\n",
    "    if run.status == \"failed\":\n",
    "         print(\"Assistant run failed. Please try again.\")\n",
    "         break\n",
    "    elif run.status == \"completed\":\n",
    "        messages = openai_client.beta.threads.messages.list(thread_id=thread.id, order=\"asc\")\n",
    "\n",
    "        # Loop through messages and print content based on role\n",
    "        for msg in messages.data:\n",
    "            role = msg.role\n",
    "            content = msg.content[0].text.value\n",
    "            print(f\"{role.capitalize()}: {content}\")\n",
    "        break\n",
    "    elif run.status == \"requires_action\":\n",
    "        print(\"Function Calling ...\")\n",
    "        tool_responses = []\n",
    "        if (\n",
    "            run.required_action.type == \"submit_tool_outputs\"\n",
    "            and run.required_action.submit_tool_outputs.tool_calls is not None\n",
    "        ):\n",
    "            tool_calls = run.required_action.submit_tool_outputs.tool_calls\n",
    "\n",
    "            for call in tool_calls:\n",
    "                if call.type == \"function\":\n",
    "                    if call.function.name not in available_functions:\n",
    "                        raise Exception(\"Function requested by the model does not exist\")\n",
    "                    function_to_call = available_functions[call.function.name]\n",
    "                    tool_response = function_to_call(**json.loads(call.function.arguments))\n",
    "                    tool_responses.append({\"tool_call_id\": call.id, \"output\": tool_response})\n",
    "                    print(f\"Function '{call.function.name}' called successfully. \\nOutput: {tool_response}\\n\")\n",
    "\n",
    "        run = openai_client.beta.threads.runs.submit_tool_outputs(\n",
    "            thread_id=thread.id, run_id=run.id, tool_outputs=tool_responses\n",
    "        )\n",
    "\n",
    "        print(\"Function called successfully.\")\n",
    "    else:\n",
    "            print(\"Waiting for the Assistant to process...\")\n",
    "            time.sleep(5)\n",
    "\"\"\""
   ]
  },
  {
   "cell_type": "markdown",
   "metadata": {},
   "source": [
    "#### More Examples using Function\n",
    "- one basic with image (uses CI)\n",
    "- one basic function calling "
   ]
  },
  {
   "cell_type": "markdown",
   "metadata": {},
   "source": [
    "### Wrap Up"
   ]
  },
  {
   "cell_type": "markdown",
   "metadata": {},
   "source": [
    "## **Cleanup Resources**\n",
    "To avoid creating redundant resources and ensure a clean environment, this cell deletes the assistant, thread, and any other created resources. Run this cell at the end of your session to clean up.\n"
   ]
  },
  {
   "cell_type": "code",
   "execution_count": 217,
   "metadata": {},
   "outputs": [],
   "source": [
    "#response = openai_client.beta.assistants.delete(assistant.id)\n",
    "#print(response)\n",
    "\n",
    "# Optionally delete any other temporary files or datas\n",
    "# Note: Any uploaded files to OpenAI could also be cleaned up if needed\n"
   ]
  }
 ],
 "metadata": {
  "kernelspec": {
   "display_name": ".venv",
   "language": "python",
   "name": "python3"
  },
  "language_info": {
   "codemirror_mode": {
    "name": "ipython",
    "version": 3
   },
   "file_extension": ".py",
   "mimetype": "text/x-python",
   "name": "python",
   "nbconvert_exporter": "python",
   "pygments_lexer": "ipython3",
   "version": "3.12.7"
  }
 },
 "nbformat": 4,
 "nbformat_minor": 2
}
